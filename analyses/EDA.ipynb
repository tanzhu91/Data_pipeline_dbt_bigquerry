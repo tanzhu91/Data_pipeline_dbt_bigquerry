{
 "cells": [
  {
   "cell_type": "code",
   "execution_count": 83,
   "id": "f03bc91f",
   "metadata": {},
   "outputs": [],
   "source": [
    "from sqlalchemy import create_engine\n",
    "import pandas as pd\n",
    "import matplotlib.pyplot as plt\n",
    "import seaborn as sns\n",
    "from google.oauth2 import service_account\n",
    "import plotly.express as px\n",
    "import warnings\n",
    "warnings.filterwarnings('ignore')\n",
    "sns.set()"
   ]
  },
  {
   "cell_type": "code",
   "execution_count": 2,
   "id": "5e83ed2c",
   "metadata": {},
   "outputs": [
    {
     "name": "stderr",
     "output_type": "stream",
     "text": [
      "C:\\Users\\tanju\\AppData\\Local\\Temp\\ipykernel_9784\\286740450.py:7: SADeprecationWarning: The dbapi() classmethod on dialect classes has been renamed to import_dbapi().  Implement an import_dbapi() classmethod directly on class <class 'pybigquery.sqlalchemy_bigquery.BigQueryDialect'> to remove this warning; the old .dbapi() classmethod may be maintained for backwards compatibility.\n",
      "  engine = create_engine(\n"
     ]
    }
   ],
   "source": [
    "# Path to your service account JSON file\n",
    "credentials = service_account.Credentials.from_service_account_file(\n",
    "    \"C:/Users/tanju/Desktop/possible-helix-452922-d1-820af3c2c7c5.json\"\n",
    ")\n",
    "\n",
    "project_id = \"possible-helix-452922-d1\"\n",
    "engine = create_engine(\n",
    "    f\"bigquery://{project_id}\",\n",
    "    credentials_path=\"C:/Users/tanju/Desktop/possible-helix-452922-d1-820af3c2c7c5.json\"\n",
    ")\n"
   ]
  },
  {
   "cell_type": "code",
   "execution_count": 33,
   "id": "fe821f4b",
   "metadata": {},
   "outputs": [],
   "source": [
    "query_1 = \"\"\"\n",
    "SELECT *\n",
    "FROM `possible-helix-452922-d1.dbt_tdereli.bike_data_prepped`\n",
    "LIMIT 10000\n",
    "\"\"\"\n",
    "\n",
    "\n",
    "df = pd.read_sql(query_1, engine)"
   ]
  },
  {
   "cell_type": "code",
   "execution_count": 34,
   "id": "21a25fdc",
   "metadata": {},
   "outputs": [],
   "source": [
    "query_2 = \"\"\"\n",
    "SELECT *\n",
    "FROM `possible-helix-452922-d1.dbt_tdereli.taxi_data_prepped`\n",
    "LIMIT 10000\n",
    "\"\"\"\n",
    "\n",
    "\n",
    "\n",
    "df_2 = pd.read_sql(query_2, engine)"
   ]
  },
  {
   "cell_type": "code",
   "execution_count": 35,
   "id": "c40ad00d",
   "metadata": {},
   "outputs": [
    {
     "data": {
      "text/html": [
       "<div>\n",
       "<style scoped>\n",
       "    .dataframe tbody tr th:only-of-type {\n",
       "        vertical-align: middle;\n",
       "    }\n",
       "\n",
       "    .dataframe tbody tr th {\n",
       "        vertical-align: top;\n",
       "    }\n",
       "\n",
       "    .dataframe thead th {\n",
       "        text-align: right;\n",
       "    }\n",
       "</style>\n",
       "<table border=\"1\" class=\"dataframe\">\n",
       "  <thead>\n",
       "    <tr style=\"text-align: right;\">\n",
       "      <th></th>\n",
       "      <th>tripduration</th>\n",
       "      <th>starttime</th>\n",
       "      <th>stoptime</th>\n",
       "      <th>start_station_id</th>\n",
       "      <th>start_station_name</th>\n",
       "      <th>start_station_latitude</th>\n",
       "      <th>start_station_longitude</th>\n",
       "      <th>end_station_id</th>\n",
       "      <th>end_station_name</th>\n",
       "      <th>end_station_latitude</th>\n",
       "      <th>end_station_longitude</th>\n",
       "      <th>bikeid</th>\n",
       "      <th>usertype</th>\n",
       "      <th>birth_year</th>\n",
       "      <th>gender</th>\n",
       "      <th>customer_plan</th>\n",
       "      <th>trip_duration_minutes</th>\n",
       "      <th>trip_duration_minutes_exact</th>\n",
       "    </tr>\n",
       "  </thead>\n",
       "  <tbody>\n",
       "    <tr>\n",
       "      <th>0</th>\n",
       "      <td>147</td>\n",
       "      <td>2016-03-21 14:53:40</td>\n",
       "      <td>2016-03-21 14:56:07</td>\n",
       "      <td>529</td>\n",
       "      <td>W 42 St &amp; 8 Ave</td>\n",
       "      <td>40.757570</td>\n",
       "      <td>-73.990985</td>\n",
       "      <td>3240</td>\n",
       "      <td>NYCBS Depot BAL - DYR</td>\n",
       "      <td>0.000000</td>\n",
       "      <td>0.000000</td>\n",
       "      <td>22747</td>\n",
       "      <td>Subscriber</td>\n",
       "      <td>1991</td>\n",
       "      <td>male</td>\n",
       "      <td></td>\n",
       "      <td>3</td>\n",
       "      <td>2.4500</td>\n",
       "    </tr>\n",
       "    <tr>\n",
       "      <th>1</th>\n",
       "      <td>4222</td>\n",
       "      <td>2017-09-16 12:47:44</td>\n",
       "      <td>2017-09-16 13:58:07</td>\n",
       "      <td>514</td>\n",
       "      <td>12 Ave &amp; W 40 St</td>\n",
       "      <td>40.760875</td>\n",
       "      <td>-74.002777</td>\n",
       "      <td>3480</td>\n",
       "      <td>Washington Street (Don't Use)</td>\n",
       "      <td>0.000000</td>\n",
       "      <td>0.000000</td>\n",
       "      <td>25904</td>\n",
       "      <td>Customer</td>\n",
       "      <td>1956</td>\n",
       "      <td>male</td>\n",
       "      <td></td>\n",
       "      <td>71</td>\n",
       "      <td>70.3667</td>\n",
       "    </tr>\n",
       "    <tr>\n",
       "      <th>2</th>\n",
       "      <td>259</td>\n",
       "      <td>2016-03-09 18:47:16</td>\n",
       "      <td>2016-03-09 18:51:36</td>\n",
       "      <td>447</td>\n",
       "      <td>8 Ave &amp; W 52 St</td>\n",
       "      <td>40.763707</td>\n",
       "      <td>-73.985162</td>\n",
       "      <td>3240</td>\n",
       "      <td>NYCBS Depot BAL - DYR</td>\n",
       "      <td>0.000000</td>\n",
       "      <td>0.000000</td>\n",
       "      <td>19261</td>\n",
       "      <td>Subscriber</td>\n",
       "      <td>1967</td>\n",
       "      <td>male</td>\n",
       "      <td></td>\n",
       "      <td>4</td>\n",
       "      <td>4.3167</td>\n",
       "    </tr>\n",
       "    <tr>\n",
       "      <th>3</th>\n",
       "      <td>151</td>\n",
       "      <td>2015-11-05 10:06:12</td>\n",
       "      <td>2015-11-05 10:08:43</td>\n",
       "      <td>311</td>\n",
       "      <td>Norfolk St &amp; Broome St</td>\n",
       "      <td>40.717227</td>\n",
       "      <td>-73.988021</td>\n",
       "      <td>3019</td>\n",
       "      <td>NYCBS Depot - DEL</td>\n",
       "      <td>40.716633</td>\n",
       "      <td>-73.981933</td>\n",
       "      <td>15091</td>\n",
       "      <td>Subscriber</td>\n",
       "      <td>1993</td>\n",
       "      <td>female</td>\n",
       "      <td></td>\n",
       "      <td>2</td>\n",
       "      <td>2.5167</td>\n",
       "    </tr>\n",
       "    <tr>\n",
       "      <th>4</th>\n",
       "      <td>271442</td>\n",
       "      <td>2015-12-18 18:46:06</td>\n",
       "      <td>2015-12-21 22:10:08</td>\n",
       "      <td>519</td>\n",
       "      <td>Pershing Square North</td>\n",
       "      <td>40.751873</td>\n",
       "      <td>-73.977706</td>\n",
       "      <td>3019</td>\n",
       "      <td>NYCBS Depot - DEL</td>\n",
       "      <td>40.716633</td>\n",
       "      <td>-73.981933</td>\n",
       "      <td>20773</td>\n",
       "      <td>Subscriber</td>\n",
       "      <td>1990</td>\n",
       "      <td>male</td>\n",
       "      <td></td>\n",
       "      <td>4524</td>\n",
       "      <td>4524.0333</td>\n",
       "    </tr>\n",
       "  </tbody>\n",
       "</table>\n",
       "</div>"
      ],
      "text/plain": [
       "   tripduration           starttime            stoptime  start_station_id  \\\n",
       "0           147 2016-03-21 14:53:40 2016-03-21 14:56:07               529   \n",
       "1          4222 2017-09-16 12:47:44 2017-09-16 13:58:07               514   \n",
       "2           259 2016-03-09 18:47:16 2016-03-09 18:51:36               447   \n",
       "3           151 2015-11-05 10:06:12 2015-11-05 10:08:43               311   \n",
       "4        271442 2015-12-18 18:46:06 2015-12-21 22:10:08               519   \n",
       "\n",
       "       start_station_name  start_station_latitude  start_station_longitude  \\\n",
       "0         W 42 St & 8 Ave               40.757570               -73.990985   \n",
       "1        12 Ave & W 40 St               40.760875               -74.002777   \n",
       "2         8 Ave & W 52 St               40.763707               -73.985162   \n",
       "3  Norfolk St & Broome St               40.717227               -73.988021   \n",
       "4   Pershing Square North               40.751873               -73.977706   \n",
       "\n",
       "   end_station_id               end_station_name  end_station_latitude  \\\n",
       "0            3240          NYCBS Depot BAL - DYR              0.000000   \n",
       "1            3480  Washington Street (Don't Use)              0.000000   \n",
       "2            3240          NYCBS Depot BAL - DYR              0.000000   \n",
       "3            3019              NYCBS Depot - DEL             40.716633   \n",
       "4            3019              NYCBS Depot - DEL             40.716633   \n",
       "\n",
       "   end_station_longitude  bikeid    usertype  birth_year  gender  \\\n",
       "0               0.000000   22747  Subscriber        1991    male   \n",
       "1               0.000000   25904    Customer        1956    male   \n",
       "2               0.000000   19261  Subscriber        1967    male   \n",
       "3             -73.981933   15091  Subscriber        1993  female   \n",
       "4             -73.981933   20773  Subscriber        1990    male   \n",
       "\n",
       "  customer_plan  trip_duration_minutes  trip_duration_minutes_exact  \n",
       "0                                    3                       2.4500  \n",
       "1                                   71                      70.3667  \n",
       "2                                    4                       4.3167  \n",
       "3                                    2                       2.5167  \n",
       "4                                 4524                    4524.0333  "
      ]
     },
     "execution_count": 35,
     "metadata": {},
     "output_type": "execute_result"
    }
   ],
   "source": [
    "df.head()"
   ]
  },
  {
   "cell_type": "code",
   "execution_count": 36,
   "id": "379a0281",
   "metadata": {},
   "outputs": [
    {
     "name": "stdout",
     "output_type": "stream",
     "text": [
      "<class 'pandas.core.frame.DataFrame'>\n",
      "RangeIndex: 10000 entries, 0 to 9999\n",
      "Data columns (total 18 columns):\n",
      " #   Column                       Non-Null Count  Dtype         \n",
      "---  ------                       --------------  -----         \n",
      " 0   tripduration                 10000 non-null  int64         \n",
      " 1   starttime                    10000 non-null  datetime64[ns]\n",
      " 2   stoptime                     10000 non-null  datetime64[ns]\n",
      " 3   start_station_id             10000 non-null  int64         \n",
      " 4   start_station_name           10000 non-null  object        \n",
      " 5   start_station_latitude       10000 non-null  float64       \n",
      " 6   start_station_longitude      10000 non-null  float64       \n",
      " 7   end_station_id               10000 non-null  int64         \n",
      " 8   end_station_name             10000 non-null  object        \n",
      " 9   end_station_latitude         10000 non-null  float64       \n",
      " 10  end_station_longitude        10000 non-null  float64       \n",
      " 11  bikeid                       10000 non-null  int64         \n",
      " 12  usertype                     10000 non-null  object        \n",
      " 13  birth_year                   10000 non-null  int64         \n",
      " 14  gender                       10000 non-null  object        \n",
      " 15  customer_plan                10000 non-null  object        \n",
      " 16  trip_duration_minutes        10000 non-null  int64         \n",
      " 17  trip_duration_minutes_exact  10000 non-null  float64       \n",
      "dtypes: datetime64[ns](2), float64(5), int64(6), object(5)\n",
      "memory usage: 1.4+ MB\n"
     ]
    }
   ],
   "source": [
    "df.info()"
   ]
  },
  {
   "cell_type": "code",
   "execution_count": 37,
   "id": "5eed305b",
   "metadata": {},
   "outputs": [
    {
     "data": {
      "text/plain": [
       "bikeid\n",
       "False    7022\n",
       "True     2978\n",
       "Name: count, dtype: int64"
      ]
     },
     "execution_count": 37,
     "metadata": {},
     "output_type": "execute_result"
    }
   ],
   "source": [
    "df['bikeid'].duplicated().value_counts()"
   ]
  },
  {
   "cell_type": "code",
   "execution_count": 38,
   "id": "527c70c0",
   "metadata": {},
   "outputs": [],
   "source": [
    "df_new = df.drop_duplicates(subset='bikeid')"
   ]
  },
  {
   "cell_type": "code",
   "execution_count": 39,
   "id": "a2802a9d",
   "metadata": {},
   "outputs": [
    {
     "name": "stdout",
     "output_type": "stream",
     "text": [
      "<class 'pandas.core.frame.DataFrame'>\n",
      "Index: 7022 entries, 0 to 9994\n",
      "Data columns (total 18 columns):\n",
      " #   Column                       Non-Null Count  Dtype         \n",
      "---  ------                       --------------  -----         \n",
      " 0   tripduration                 7022 non-null   int64         \n",
      " 1   starttime                    7022 non-null   datetime64[ns]\n",
      " 2   stoptime                     7022 non-null   datetime64[ns]\n",
      " 3   start_station_id             7022 non-null   int64         \n",
      " 4   start_station_name           7022 non-null   object        \n",
      " 5   start_station_latitude       7022 non-null   float64       \n",
      " 6   start_station_longitude      7022 non-null   float64       \n",
      " 7   end_station_id               7022 non-null   int64         \n",
      " 8   end_station_name             7022 non-null   object        \n",
      " 9   end_station_latitude         7022 non-null   float64       \n",
      " 10  end_station_longitude        7022 non-null   float64       \n",
      " 11  bikeid                       7022 non-null   int64         \n",
      " 12  usertype                     7022 non-null   object        \n",
      " 13  birth_year                   7022 non-null   int64         \n",
      " 14  gender                       7022 non-null   object        \n",
      " 15  customer_plan                7022 non-null   object        \n",
      " 16  trip_duration_minutes        7022 non-null   int64         \n",
      " 17  trip_duration_minutes_exact  7022 non-null   float64       \n",
      "dtypes: datetime64[ns](2), float64(5), int64(6), object(5)\n",
      "memory usage: 1.0+ MB\n"
     ]
    }
   ],
   "source": [
    "df_new.info()"
   ]
  },
  {
   "cell_type": "code",
   "execution_count": 40,
   "id": "0d4e4d10",
   "metadata": {},
   "outputs": [
    {
     "data": {
      "text/html": [
       "<div>\n",
       "<style scoped>\n",
       "    .dataframe tbody tr th:only-of-type {\n",
       "        vertical-align: middle;\n",
       "    }\n",
       "\n",
       "    .dataframe tbody tr th {\n",
       "        vertical-align: top;\n",
       "    }\n",
       "\n",
       "    .dataframe thead th {\n",
       "        text-align: right;\n",
       "    }\n",
       "</style>\n",
       "<table border=\"1\" class=\"dataframe\">\n",
       "  <thead>\n",
       "    <tr style=\"text-align: right;\">\n",
       "      <th></th>\n",
       "      <th>tripduration</th>\n",
       "      <th>starttime</th>\n",
       "      <th>stoptime</th>\n",
       "      <th>start_station_id</th>\n",
       "      <th>start_station_latitude</th>\n",
       "      <th>start_station_longitude</th>\n",
       "      <th>end_station_id</th>\n",
       "      <th>end_station_latitude</th>\n",
       "      <th>end_station_longitude</th>\n",
       "      <th>bikeid</th>\n",
       "      <th>birth_year</th>\n",
       "      <th>trip_duration_minutes</th>\n",
       "      <th>trip_duration_minutes_exact</th>\n",
       "    </tr>\n",
       "  </thead>\n",
       "  <tbody>\n",
       "    <tr>\n",
       "      <th>count</th>\n",
       "      <td>7022.000000</td>\n",
       "      <td>7022</td>\n",
       "      <td>7022</td>\n",
       "      <td>7022.000000</td>\n",
       "      <td>7022.000000</td>\n",
       "      <td>7022.000000</td>\n",
       "      <td>7022.000000</td>\n",
       "      <td>7022.000000</td>\n",
       "      <td>7022.000000</td>\n",
       "      <td>7022.000000</td>\n",
       "      <td>7022.000000</td>\n",
       "      <td>7022.000000</td>\n",
       "      <td>7022.000000</td>\n",
       "    </tr>\n",
       "    <tr>\n",
       "      <th>mean</th>\n",
       "      <td>892.572059</td>\n",
       "      <td>2016-05-11 01:02:23.616967424</td>\n",
       "      <td>2016-05-11 01:17:16.635392768</td>\n",
       "      <td>1022.583167</td>\n",
       "      <td>40.732145</td>\n",
       "      <td>-73.989848</td>\n",
       "      <td>746.539163</td>\n",
       "      <td>40.707753</td>\n",
       "      <td>-73.960628</td>\n",
       "      <td>22053.981914</td>\n",
       "      <td>1976.916548</td>\n",
       "      <td>14.890914</td>\n",
       "      <td>14.876201</td>\n",
       "    </tr>\n",
       "    <tr>\n",
       "      <th>min</th>\n",
       "      <td>64.000000</td>\n",
       "      <td>2013-07-01 07:52:10</td>\n",
       "      <td>2013-07-01 08:04:35</td>\n",
       "      <td>72.000000</td>\n",
       "      <td>40.661063</td>\n",
       "      <td>-74.017134</td>\n",
       "      <td>195.000000</td>\n",
       "      <td>0.000000</td>\n",
       "      <td>-74.017134</td>\n",
       "      <td>14529.000000</td>\n",
       "      <td>1885.000000</td>\n",
       "      <td>1.000000</td>\n",
       "      <td>1.066700</td>\n",
       "    </tr>\n",
       "    <tr>\n",
       "      <th>25%</th>\n",
       "      <td>390.000000</td>\n",
       "      <td>2015-03-30 09:28:45</td>\n",
       "      <td>2015-03-30 09:40:00</td>\n",
       "      <td>327.000000</td>\n",
       "      <td>40.714979</td>\n",
       "      <td>-74.002472</td>\n",
       "      <td>363.000000</td>\n",
       "      <td>40.708347</td>\n",
       "      <td>-74.010434</td>\n",
       "      <td>17588.750000</td>\n",
       "      <td>1969.000000</td>\n",
       "      <td>7.000000</td>\n",
       "      <td>6.500000</td>\n",
       "    </tr>\n",
       "    <tr>\n",
       "      <th>50%</th>\n",
       "      <td>652.000000</td>\n",
       "      <td>2016-07-06 08:32:45</td>\n",
       "      <td>2016-07-06 08:44:00</td>\n",
       "      <td>449.000000</td>\n",
       "      <td>40.732241</td>\n",
       "      <td>-73.990373</td>\n",
       "      <td>403.000000</td>\n",
       "      <td>40.725029</td>\n",
       "      <td>-73.990697</td>\n",
       "      <td>20778.500000</td>\n",
       "      <td>1979.000000</td>\n",
       "      <td>11.000000</td>\n",
       "      <td>10.866700</td>\n",
       "    </tr>\n",
       "    <tr>\n",
       "      <th>75%</th>\n",
       "      <td>1077.750000</td>\n",
       "      <td>2017-09-18 10:10:55.249999872</td>\n",
       "      <td>2017-09-18 10:16:44.249999872</td>\n",
       "      <td>534.000000</td>\n",
       "      <td>40.754666</td>\n",
       "      <td>-73.980144</td>\n",
       "      <td>520.000000</td>\n",
       "      <td>40.759923</td>\n",
       "      <td>-73.976485</td>\n",
       "      <td>26407.750000</td>\n",
       "      <td>1986.000000</td>\n",
       "      <td>18.000000</td>\n",
       "      <td>17.962525</td>\n",
       "    </tr>\n",
       "    <tr>\n",
       "      <th>max</th>\n",
       "      <td>271442.000000</td>\n",
       "      <td>2018-05-31 23:46:52.086000</td>\n",
       "      <td>2018-06-01 00:14:22.063000</td>\n",
       "      <td>3680.000000</td>\n",
       "      <td>40.807832</td>\n",
       "      <td>-73.918330</td>\n",
       "      <td>3663.000000</td>\n",
       "      <td>40.762814</td>\n",
       "      <td>0.000000</td>\n",
       "      <td>33655.000000</td>\n",
       "      <td>2000.000000</td>\n",
       "      <td>4524.000000</td>\n",
       "      <td>4524.033300</td>\n",
       "    </tr>\n",
       "    <tr>\n",
       "      <th>std</th>\n",
       "      <td>3375.864685</td>\n",
       "      <td>NaN</td>\n",
       "      <td>NaN</td>\n",
       "      <td>1190.097104</td>\n",
       "      <td>0.027474</td>\n",
       "      <td>0.015959</td>\n",
       "      <td>990.978763</td>\n",
       "      <td>0.842084</td>\n",
       "      <td>1.529271</td>\n",
       "      <td>5321.516087</td>\n",
       "      <td>11.850665</td>\n",
       "      <td>56.265906</td>\n",
       "      <td>56.264411</td>\n",
       "    </tr>\n",
       "  </tbody>\n",
       "</table>\n",
       "</div>"
      ],
      "text/plain": [
       "        tripduration                      starttime  \\\n",
       "count    7022.000000                           7022   \n",
       "mean      892.572059  2016-05-11 01:02:23.616967424   \n",
       "min        64.000000            2013-07-01 07:52:10   \n",
       "25%       390.000000            2015-03-30 09:28:45   \n",
       "50%       652.000000            2016-07-06 08:32:45   \n",
       "75%      1077.750000  2017-09-18 10:10:55.249999872   \n",
       "max    271442.000000     2018-05-31 23:46:52.086000   \n",
       "std      3375.864685                            NaN   \n",
       "\n",
       "                            stoptime  start_station_id  \\\n",
       "count                           7022       7022.000000   \n",
       "mean   2016-05-11 01:17:16.635392768       1022.583167   \n",
       "min              2013-07-01 08:04:35         72.000000   \n",
       "25%              2015-03-30 09:40:00        327.000000   \n",
       "50%              2016-07-06 08:44:00        449.000000   \n",
       "75%    2017-09-18 10:16:44.249999872        534.000000   \n",
       "max       2018-06-01 00:14:22.063000       3680.000000   \n",
       "std                              NaN       1190.097104   \n",
       "\n",
       "       start_station_latitude  start_station_longitude  end_station_id  \\\n",
       "count             7022.000000              7022.000000     7022.000000   \n",
       "mean                40.732145               -73.989848      746.539163   \n",
       "min                 40.661063               -74.017134      195.000000   \n",
       "25%                 40.714979               -74.002472      363.000000   \n",
       "50%                 40.732241               -73.990373      403.000000   \n",
       "75%                 40.754666               -73.980144      520.000000   \n",
       "max                 40.807832               -73.918330     3663.000000   \n",
       "std                  0.027474                 0.015959      990.978763   \n",
       "\n",
       "       end_station_latitude  end_station_longitude        bikeid   birth_year  \\\n",
       "count           7022.000000            7022.000000   7022.000000  7022.000000   \n",
       "mean              40.707753             -73.960628  22053.981914  1976.916548   \n",
       "min                0.000000             -74.017134  14529.000000  1885.000000   \n",
       "25%               40.708347             -74.010434  17588.750000  1969.000000   \n",
       "50%               40.725029             -73.990697  20778.500000  1979.000000   \n",
       "75%               40.759923             -73.976485  26407.750000  1986.000000   \n",
       "max               40.762814               0.000000  33655.000000  2000.000000   \n",
       "std                0.842084               1.529271   5321.516087    11.850665   \n",
       "\n",
       "       trip_duration_minutes  trip_duration_minutes_exact  \n",
       "count            7022.000000                  7022.000000  \n",
       "mean               14.890914                    14.876201  \n",
       "min                 1.000000                     1.066700  \n",
       "25%                 7.000000                     6.500000  \n",
       "50%                11.000000                    10.866700  \n",
       "75%                18.000000                    17.962525  \n",
       "max              4524.000000                  4524.033300  \n",
       "std                56.265906                    56.264411  "
      ]
     },
     "execution_count": 40,
     "metadata": {},
     "output_type": "execute_result"
    }
   ],
   "source": [
    "df_new.describe()"
   ]
  },
  {
   "cell_type": "code",
   "execution_count": 41,
   "id": "28ae4b58",
   "metadata": {},
   "outputs": [
    {
     "data": {
      "text/html": [
       "<div>\n",
       "<style scoped>\n",
       "    .dataframe tbody tr th:only-of-type {\n",
       "        vertical-align: middle;\n",
       "    }\n",
       "\n",
       "    .dataframe tbody tr th {\n",
       "        vertical-align: top;\n",
       "    }\n",
       "\n",
       "    .dataframe thead th {\n",
       "        text-align: right;\n",
       "    }\n",
       "</style>\n",
       "<table border=\"1\" class=\"dataframe\">\n",
       "  <thead>\n",
       "    <tr style=\"text-align: right;\">\n",
       "      <th></th>\n",
       "      <th>tripduration</th>\n",
       "      <th>starttime</th>\n",
       "      <th>stoptime</th>\n",
       "      <th>start_station_id</th>\n",
       "      <th>start_station_name</th>\n",
       "      <th>start_station_latitude</th>\n",
       "      <th>start_station_longitude</th>\n",
       "      <th>end_station_id</th>\n",
       "      <th>end_station_name</th>\n",
       "      <th>end_station_latitude</th>\n",
       "      <th>end_station_longitude</th>\n",
       "      <th>bikeid</th>\n",
       "      <th>usertype</th>\n",
       "      <th>birth_year</th>\n",
       "      <th>gender</th>\n",
       "      <th>customer_plan</th>\n",
       "      <th>trip_duration_minutes</th>\n",
       "      <th>trip_duration_minutes_exact</th>\n",
       "    </tr>\n",
       "  </thead>\n",
       "  <tbody>\n",
       "    <tr>\n",
       "      <th>0</th>\n",
       "      <td>147</td>\n",
       "      <td>2016-03-21 14:53:40</td>\n",
       "      <td>2016-03-21 14:56:07</td>\n",
       "      <td>529</td>\n",
       "      <td>W 42 St &amp; 8 Ave</td>\n",
       "      <td>40.757570</td>\n",
       "      <td>-73.990985</td>\n",
       "      <td>3240</td>\n",
       "      <td>NYCBS Depot BAL - DYR</td>\n",
       "      <td>0.000000</td>\n",
       "      <td>0.000000</td>\n",
       "      <td>22747</td>\n",
       "      <td>Subscriber</td>\n",
       "      <td>1991</td>\n",
       "      <td>male</td>\n",
       "      <td></td>\n",
       "      <td>3</td>\n",
       "      <td>2.4500</td>\n",
       "    </tr>\n",
       "    <tr>\n",
       "      <th>1</th>\n",
       "      <td>4222</td>\n",
       "      <td>2017-09-16 12:47:44</td>\n",
       "      <td>2017-09-16 13:58:07</td>\n",
       "      <td>514</td>\n",
       "      <td>12 Ave &amp; W 40 St</td>\n",
       "      <td>40.760875</td>\n",
       "      <td>-74.002777</td>\n",
       "      <td>3480</td>\n",
       "      <td>Washington Street (Don't Use)</td>\n",
       "      <td>0.000000</td>\n",
       "      <td>0.000000</td>\n",
       "      <td>25904</td>\n",
       "      <td>Customer</td>\n",
       "      <td>1956</td>\n",
       "      <td>male</td>\n",
       "      <td></td>\n",
       "      <td>71</td>\n",
       "      <td>70.3667</td>\n",
       "    </tr>\n",
       "    <tr>\n",
       "      <th>2</th>\n",
       "      <td>259</td>\n",
       "      <td>2016-03-09 18:47:16</td>\n",
       "      <td>2016-03-09 18:51:36</td>\n",
       "      <td>447</td>\n",
       "      <td>8 Ave &amp; W 52 St</td>\n",
       "      <td>40.763707</td>\n",
       "      <td>-73.985162</td>\n",
       "      <td>3240</td>\n",
       "      <td>NYCBS Depot BAL - DYR</td>\n",
       "      <td>0.000000</td>\n",
       "      <td>0.000000</td>\n",
       "      <td>19261</td>\n",
       "      <td>Subscriber</td>\n",
       "      <td>1967</td>\n",
       "      <td>male</td>\n",
       "      <td></td>\n",
       "      <td>4</td>\n",
       "      <td>4.3167</td>\n",
       "    </tr>\n",
       "    <tr>\n",
       "      <th>3</th>\n",
       "      <td>151</td>\n",
       "      <td>2015-11-05 10:06:12</td>\n",
       "      <td>2015-11-05 10:08:43</td>\n",
       "      <td>311</td>\n",
       "      <td>Norfolk St &amp; Broome St</td>\n",
       "      <td>40.717227</td>\n",
       "      <td>-73.988021</td>\n",
       "      <td>3019</td>\n",
       "      <td>NYCBS Depot - DEL</td>\n",
       "      <td>40.716633</td>\n",
       "      <td>-73.981933</td>\n",
       "      <td>15091</td>\n",
       "      <td>Subscriber</td>\n",
       "      <td>1993</td>\n",
       "      <td>female</td>\n",
       "      <td></td>\n",
       "      <td>2</td>\n",
       "      <td>2.5167</td>\n",
       "    </tr>\n",
       "    <tr>\n",
       "      <th>4</th>\n",
       "      <td>271442</td>\n",
       "      <td>2015-12-18 18:46:06</td>\n",
       "      <td>2015-12-21 22:10:08</td>\n",
       "      <td>519</td>\n",
       "      <td>Pershing Square North</td>\n",
       "      <td>40.751873</td>\n",
       "      <td>-73.977706</td>\n",
       "      <td>3019</td>\n",
       "      <td>NYCBS Depot - DEL</td>\n",
       "      <td>40.716633</td>\n",
       "      <td>-73.981933</td>\n",
       "      <td>20773</td>\n",
       "      <td>Subscriber</td>\n",
       "      <td>1990</td>\n",
       "      <td>male</td>\n",
       "      <td></td>\n",
       "      <td>4524</td>\n",
       "      <td>4524.0333</td>\n",
       "    </tr>\n",
       "  </tbody>\n",
       "</table>\n",
       "</div>"
      ],
      "text/plain": [
       "   tripduration           starttime            stoptime  start_station_id  \\\n",
       "0           147 2016-03-21 14:53:40 2016-03-21 14:56:07               529   \n",
       "1          4222 2017-09-16 12:47:44 2017-09-16 13:58:07               514   \n",
       "2           259 2016-03-09 18:47:16 2016-03-09 18:51:36               447   \n",
       "3           151 2015-11-05 10:06:12 2015-11-05 10:08:43               311   \n",
       "4        271442 2015-12-18 18:46:06 2015-12-21 22:10:08               519   \n",
       "\n",
       "       start_station_name  start_station_latitude  start_station_longitude  \\\n",
       "0         W 42 St & 8 Ave               40.757570               -73.990985   \n",
       "1        12 Ave & W 40 St               40.760875               -74.002777   \n",
       "2         8 Ave & W 52 St               40.763707               -73.985162   \n",
       "3  Norfolk St & Broome St               40.717227               -73.988021   \n",
       "4   Pershing Square North               40.751873               -73.977706   \n",
       "\n",
       "   end_station_id               end_station_name  end_station_latitude  \\\n",
       "0            3240          NYCBS Depot BAL - DYR              0.000000   \n",
       "1            3480  Washington Street (Don't Use)              0.000000   \n",
       "2            3240          NYCBS Depot BAL - DYR              0.000000   \n",
       "3            3019              NYCBS Depot - DEL             40.716633   \n",
       "4            3019              NYCBS Depot - DEL             40.716633   \n",
       "\n",
       "   end_station_longitude  bikeid    usertype  birth_year  gender  \\\n",
       "0               0.000000   22747  Subscriber        1991    male   \n",
       "1               0.000000   25904    Customer        1956    male   \n",
       "2               0.000000   19261  Subscriber        1967    male   \n",
       "3             -73.981933   15091  Subscriber        1993  female   \n",
       "4             -73.981933   20773  Subscriber        1990    male   \n",
       "\n",
       "  customer_plan  trip_duration_minutes  trip_duration_minutes_exact  \n",
       "0                                    3                       2.4500  \n",
       "1                                   71                      70.3667  \n",
       "2                                    4                       4.3167  \n",
       "3                                    2                       2.5167  \n",
       "4                                 4524                    4524.0333  "
      ]
     },
     "execution_count": 41,
     "metadata": {},
     "output_type": "execute_result"
    }
   ],
   "source": [
    "df_new.head()"
   ]
  },
  {
   "cell_type": "code",
   "execution_count": 42,
   "id": "6590d758",
   "metadata": {},
   "outputs": [
    {
     "data": {
      "text/plain": [
       "Index(['tripduration', 'starttime', 'stoptime', 'start_station_id',\n",
       "       'start_station_name', 'start_station_latitude',\n",
       "       'start_station_longitude', 'end_station_id', 'end_station_name',\n",
       "       'end_station_latitude', 'end_station_longitude', 'bikeid', 'usertype',\n",
       "       'birth_year', 'gender', 'customer_plan', 'trip_duration_minutes',\n",
       "       'trip_duration_minutes_exact'],\n",
       "      dtype='object')"
      ]
     },
     "execution_count": 42,
     "metadata": {},
     "output_type": "execute_result"
    }
   ],
   "source": [
    "df_new.columns"
   ]
  },
  {
   "cell_type": "code",
   "execution_count": 12,
   "id": "b02141cb",
   "metadata": {},
   "outputs": [
    {
     "name": "stderr",
     "output_type": "stream",
     "text": [
      "C:\\Users\\tanju\\AppData\\Local\\Temp\\ipykernel_17624\\2268066535.py:7: DeprecationWarning: *scattermapbox* is deprecated! Use *scattermap* instead. Learn more at: https://plotly.com/python/mapbox-to-maplibre/\n",
      "  go.Scattermapbox(\n",
      "C:\\Users\\tanju\\AppData\\Local\\Temp\\ipykernel_17624\\2268066535.py:17: DeprecationWarning: *scattermapbox* is deprecated! Use *scattermap* instead. Learn more at: https://plotly.com/python/mapbox-to-maplibre/\n",
      "  bikeid_labels = go.Scattermapbox(\n",
      "C:\\Users\\tanju\\AppData\\Local\\Temp\\ipykernel_17624\\2268066535.py:28: DeprecationWarning: *scattermapbox* is deprecated! Use *scattermap* instead. Learn more at: https://plotly.com/python/mapbox-to-maplibre/\n",
      "  start_points = go.Scattermapbox(\n",
      "C:\\Users\\tanju\\AppData\\Local\\Temp\\ipykernel_17624\\2268066535.py:36: DeprecationWarning: *scattermapbox* is deprecated! Use *scattermap* instead. Learn more at: https://plotly.com/python/mapbox-to-maplibre/\n",
      "  end_points = go.Scattermapbox(\n"
     ]
    },
    {
     "data": {
      "application/vnd.plotly.v1+json": {
       "config": {
        "plotlyServerURL": "https://plot.ly"
       },
       "data": [
        {
         "lat": [
          40.73454567,
          40.72903917
         ],
         "line": {
          "color": "blue",
          "width": 1
         },
         "lon": [
          -73.99074142,
          -73.99404649
         ],
         "mode": "lines",
         "showlegend": false,
         "type": "scattermapbox"
        },
        {
         "lat": [
          40.7361967,
          40.728846
         ],
         "line": {
          "color": "blue",
          "width": 1
         },
         "lon": [
          -74.00859207,
          -74.008591
         ],
         "mode": "lines",
         "showlegend": false,
         "type": "scattermapbox"
        },
        {
         "lat": [
          40.73223272,
          40.72917025
         ],
         "line": {
          "color": "blue",
          "width": 1
         },
         "lon": [
          -73.98889957,
          -73.99810231
         ],
         "mode": "lines",
         "showlegend": false,
         "type": "scattermapbox"
        },
        {
         "lat": [
          40.722103786686034,
          40.718822
         ],
         "line": {
          "color": "blue",
          "width": 1
         },
         "lon": [
          -73.99724900722504,
          -73.99596
         ],
         "mode": "lines",
         "showlegend": false,
         "type": "scattermapbox"
        },
        {
         "lat": [
          40.722103786686034,
          40.7262807
         ],
         "line": {
          "color": "blue",
          "width": 1
         },
         "lon": [
          -73.99724900722504,
          -73.98978041
         ],
         "mode": "lines",
         "showlegend": false,
         "type": "scattermapbox"
        },
        {
         "lat": [
          40.7172274,
          40.71739973
         ],
         "line": {
          "color": "blue",
          "width": 1
         },
         "lon": [
          -73.98802084,
          -73.98016555
         ],
         "mode": "lines",
         "showlegend": false,
         "type": "scattermapbox"
        },
        {
         "lat": [
          40.688226,
          40.6917823
         ],
         "line": {
          "color": "blue",
          "width": 1
         },
         "lon": [
          -73.979382,
          -73.9737299
         ],
         "mode": "lines",
         "showlegend": false,
         "type": "scattermapbox"
        },
        {
         "lat": [
          40.73047309,
          40.71559509
         ],
         "line": {
          "color": "blue",
          "width": 1
         },
         "lon": [
          -73.98672378,
          -73.9870295
         ],
         "mode": "lines",
         "showlegend": false,
         "type": "scattermapbox"
        },
        {
         "lat": [
          40.8067581,
          40.7997568
         ],
         "line": {
          "color": "blue",
          "width": 1
         },
         "lon": [
          -73.9607082,
          -73.9621128676
         ],
         "mode": "lines",
         "showlegend": false,
         "type": "scattermapbox"
        },
        {
         "lat": [
          40.75044999,
          40.73524276
         ],
         "line": {
          "color": "blue",
          "width": 1
         },
         "lon": [
          -73.99481051,
          -73.98758561
         ],
         "mode": "lines",
         "showlegend": false,
         "type": "scattermapbox"
        },
        {
         "lat": [
          40.749717753,
          40.739323
         ],
         "line": {
          "color": "blue",
          "width": 1
         },
         "lon": [
          -74.002950346,
          -74.008119
         ],
         "mode": "lines",
         "showlegend": false,
         "type": "scattermapbox"
        },
        {
         "lat": [
          40.7390169121,
          40.746647
         ],
         "line": {
          "color": "blue",
          "width": 1
         },
         "lon": [
          -74.0026376103,
          -73.993915
         ],
         "mode": "lines",
         "showlegend": false,
         "type": "scattermapbox"
        },
        {
         "lat": [
          40.74317449,
          40.71602118
         ],
         "line": {
          "color": "blue",
          "width": 1
         },
         "lon": [
          -74.00366443,
          -73.99974372
         ],
         "mode": "lines",
         "showlegend": false,
         "type": "scattermapbox"
        },
        {
         "lat": [
          40.71911552,
          40.71893904
         ],
         "line": {
          "color": "blue",
          "width": 1
         },
         "lon": [
          -74.00666661,
          -73.99266288
         ],
         "mode": "lines",
         "showlegend": false,
         "type": "scattermapbox"
        },
        {
         "lat": [
          40.75660359,
          40.72743423
         ],
         "line": {
          "color": "blue",
          "width": 1
         },
         "lon": [
          -73.9979009,
          -73.99379025
         ],
         "mode": "lines",
         "showlegend": false,
         "type": "scattermapbox"
        },
        {
         "lat": [
          40.74025878,
          40.736502
         ],
         "line": {
          "color": "blue",
          "width": 1
         },
         "lon": [
          -73.98409214,
          -73.97809472
         ],
         "mode": "lines",
         "showlegend": false,
         "type": "scattermapbox"
        },
        {
         "lat": [
          40.71069994631387,
          40.707873
         ],
         "line": {
          "color": "blue",
          "width": 1
         },
         "lon": [
          -74.00354146957397,
          -74.00167
         ],
         "mode": "lines",
         "showlegend": false,
         "type": "scattermapbox"
        },
        {
         "lat": [
          40.7462009,
          40.73143724085228
         ],
         "line": {
          "color": "blue",
          "width": 1
         },
         "lon": [
          -73.98855723,
          -73.99490341544151
         ],
         "mode": "lines",
         "showlegend": false,
         "type": "scattermapbox"
        },
        {
         "lat": [
          40.72405549,
          40.70862144
         ],
         "line": {
          "color": "blue",
          "width": 1
         },
         "lon": [
          -74.00965965,
          -74.00722156
         ],
         "mode": "lines",
         "showlegend": false,
         "type": "scattermapbox"
        },
        {
         "lat": [
          40.7746671,
          40.78839
         ],
         "line": {
          "color": "blue",
          "width": 1
         },
         "lon": [
          -73.98470567,
          -73.9747
         ],
         "mode": "lines",
         "showlegend": false,
         "type": "scattermapbox"
        },
        {
         "lat": [
          40.696192,
          40.69236178
         ],
         "line": {
          "color": "blue",
          "width": 1
         },
         "lon": [
          -73.991218,
          -73.98631746
         ],
         "mode": "lines",
         "showlegend": false,
         "type": "scattermapbox"
        },
        {
         "lat": [
          40.751551,
          40.8008363
         ],
         "line": {
          "color": "blue",
          "width": 1
         },
         "lon": [
          -73.993934,
          -73.9664492472
         ],
         "mode": "lines",
         "showlegend": false,
         "type": "scattermapbox"
        },
        {
         "lat": [
          40.7614376,
          40.75325964
         ],
         "line": {
          "color": "blue",
          "width": 1
         },
         "lon": [
          -73.9411265,
          -73.94335788
         ],
         "mode": "lines",
         "showlegend": false,
         "type": "scattermapbox"
        },
        {
         "lat": [
          40.77140426,
          40.75272201381188
         ],
         "line": {
          "color": "blue",
          "width": 1
         },
         "lon": [
          -73.9535166,
          -73.98123621940613
         ],
         "mode": "lines",
         "showlegend": false,
         "type": "scattermapbox"
        },
        {
         "lat": [
          40.76695317,
          40.7643971
         ],
         "line": {
          "color": "blue",
          "width": 1
         },
         "lon": [
          -73.98169333,
          -73.97371465
         ],
         "mode": "lines",
         "showlegend": false,
         "type": "scattermapbox"
        },
        {
         "lat": [
          40.71494807,
          40.74691959
         ],
         "line": {
          "color": "blue",
          "width": 1
         },
         "lon": [
          -74.00234482,
          -74.00451887
         ],
         "mode": "lines",
         "showlegend": false,
         "type": "scattermapbox"
        },
        {
         "lat": [
          40.72490985,
          40.70834698
         ],
         "line": {
          "color": "blue",
          "width": 1
         },
         "lon": [
          -74.00154702,
          -74.01713445
         ],
         "mode": "lines",
         "showlegend": false,
         "type": "scattermapbox"
        },
        {
         "lat": [
          40.76227205,
          40.7500727
         ],
         "line": {
          "color": "blue",
          "width": 1
         },
         "lon": [
          -73.98788205,
          -73.99839279
         ],
         "mode": "lines",
         "showlegend": false,
         "type": "scattermapbox"
        },
        {
         "lat": [
          40.70834698,
          40.70530954
         ],
         "line": {
          "color": "blue",
          "width": 1
         },
         "lon": [
          -74.01713445,
          -74.00612572
         ],
         "mode": "lines",
         "showlegend": false,
         "type": "scattermapbox"
        },
        {
         "lat": [
          40.69991755,
          40.68962188790333
         ],
         "line": {
          "color": "blue",
          "width": 1
         },
         "lon": [
          -73.98971773,
          -73.98304268717766
         ],
         "mode": "lines",
         "showlegend": false,
         "type": "scattermapbox"
        },
        {
         "lat": [
          40.73223272,
          40.72917025
         ],
         "line": {
          "color": "blue",
          "width": 1
         },
         "lon": [
          -73.98889957,
          -73.99810231
         ],
         "mode": "lines",
         "showlegend": false,
         "type": "scattermapbox"
        },
        {
         "lat": [
          40.71605866,
          40.72229346
         ],
         "line": {
          "color": "blue",
          "width": 1
         },
         "lon": [
          -73.99190759,
          -73.99147535
         ],
         "mode": "lines",
         "showlegend": false,
         "type": "scattermapbox"
        },
        {
         "lat": [
          40.75255434,
          40.75097711
         ],
         "line": {
          "color": "blue",
          "width": 1
         },
         "lon": [
          -73.97282625,
          -73.98765428
         ],
         "mode": "lines",
         "showlegend": false,
         "type": "scattermapbox"
        },
        {
         "lat": [
          40.71870987,
          40.71273266
         ],
         "line": {
          "color": "blue",
          "width": 1
         },
         "lon": [
          -74.0090009,
          -74.0046073
         ],
         "mode": "lines",
         "showlegend": false,
         "type": "scattermapbox"
        },
        {
         "lat": [
          40.7489006,
          40.7381765
         ],
         "line": {
          "color": "blue",
          "width": 1
         },
         "lon": [
          -73.97604882,
          -73.97738662
         ],
         "mode": "lines",
         "showlegend": false,
         "type": "scattermapbox"
        },
        {
         "lat": [
          40.76915505,
          40.7746671
         ],
         "line": {
          "color": "blue",
          "width": 1
         },
         "lon": [
          -73.98191841,
          -73.98470567
         ],
         "mode": "lines",
         "showlegend": false,
         "type": "scattermapbox"
        },
        {
         "lat": [
          40.72082834,
          40.71406667
         ],
         "line": {
          "color": "blue",
          "width": 1
         },
         "lon": [
          -73.97793172,
          -73.99293911
         ],
         "mode": "lines",
         "showlegend": false,
         "type": "scattermapbox"
        },
        {
         "lat": [
          40.73028666,
          40.73049393
         ],
         "line": {
          "color": "blue",
          "width": 1
         },
         "lon": [
          -73.9907647,
          -73.9957214
         ],
         "mode": "lines",
         "showlegend": false,
         "type": "scattermapbox"
        },
        {
         "lat": [
          40.73971301,
          40.74096374
         ],
         "line": {
          "color": "blue",
          "width": 1
         },
         "lon": [
          -73.99456405,
          -73.98602213
         ],
         "mode": "lines",
         "showlegend": false,
         "type": "scattermapbox"
        },
        {
         "lat": [
          40.73221853,
          40.736502
         ],
         "line": {
          "color": "blue",
          "width": 1
         },
         "lon": [
          -73.98165557,
          -73.97809472
         ],
         "mode": "lines",
         "showlegend": false,
         "type": "scattermapbox"
        },
        {
         "lat": [
          40.76019252,
          40.74394314
         ],
         "line": {
          "color": "blue",
          "width": 1
         },
         "lon": [
          -73.9912551,
          -73.97966069
         ],
         "mode": "lines",
         "showlegend": false,
         "type": "scattermapbox"
        },
        {
         "lat": [
          40.71729,
          40.72368361
         ],
         "line": {
          "color": "blue",
          "width": 1
         },
         "lon": [
          -73.996375,
          -73.97574813
         ],
         "mode": "lines",
         "showlegend": false,
         "type": "scattermapbox"
        },
        {
         "lat": [
          40.739445,
          40.73226398
         ],
         "line": {
          "color": "blue",
          "width": 1
         },
         "lon": [
          -73.976806,
          -73.99852205
         ],
         "mode": "lines",
         "showlegend": false,
         "type": "scattermapbox"
        },
        {
         "lat": [
          40.7277140777778,
          40.711512
         ],
         "line": {
          "color": "blue",
          "width": 1
         },
         "lon": [
          -74.01129573583603,
          -74.015756
         ],
         "mode": "lines",
         "showlegend": false,
         "type": "scattermapbox"
        },
        {
         "lat": [
          40.752062307,
          40.74765947
         ],
         "line": {
          "color": "blue",
          "width": 1
         },
         "lon": [
          -73.9816324043,
          -73.98490707
         ],
         "mode": "lines",
         "showlegend": false,
         "type": "scattermapbox"
        },
        {
         "lat": [
          40.71273266,
          40.71291224
         ],
         "line": {
          "color": "blue",
          "width": 1
         },
         "lon": [
          -74.0046073,
          -74.01020234
         ],
         "mode": "lines",
         "showlegend": false,
         "type": "scattermapbox"
        },
        {
         "lat": [
          40.749156,
          40.74765947
         ],
         "line": {
          "color": "blue",
          "width": 1
         },
         "lon": [
          -73.9916,
          -73.98490707
         ],
         "mode": "lines",
         "showlegend": false,
         "type": "scattermapbox"
        },
        {
         "lat": [
          40.73971301,
          40.733812191966315
         ],
         "line": {
          "color": "blue",
          "width": 1
         },
         "lon": [
          -73.99456405,
          -73.98054420948029
         ],
         "mode": "lines",
         "showlegend": false,
         "type": "scattermapbox"
        },
        {
         "lat": [
          40.7656251,
          40.7557327
         ],
         "line": {
          "color": "blue",
          "width": 1
         },
         "lon": [
          -73.9136695,
          -73.9236611
         ],
         "mode": "lines",
         "showlegend": false,
         "type": "scattermapbox"
        },
        {
         "lat": [
          40.75149263,
          40.73935542
         ],
         "line": {
          "color": "blue",
          "width": 1
         },
         "lon": [
          -73.97798848,
          -73.99931783
         ],
         "mode": "lines",
         "showlegend": false,
         "type": "scattermapbox"
        },
        {
         "lat": [
          40.756014,
          40.75038009
         ],
         "line": {
          "color": "blue",
          "width": 1
         },
         "lon": [
          -73.967416,
          -73.98338988
         ],
         "mode": "lines",
         "showlegend": false,
         "type": "scattermapbox"
        },
        {
         "lat": [
          40.73649403,
          40.73587678
         ],
         "line": {
          "color": "blue",
          "width": 1
         },
         "lon": [
          -73.99704374,
          -73.98205027
         ],
         "mode": "lines",
         "showlegend": false,
         "type": "scattermapbox"
        },
        {
         "lat": [
          40.711066,
          40.74290902
         ],
         "line": {
          "color": "blue",
          "width": 1
         },
         "lon": [
          -74.009447,
          -73.97706058
         ],
         "mode": "lines",
         "showlegend": false,
         "type": "scattermapbox"
        },
        {
         "lat": [
          40.69221589,
          40.6917823
         ],
         "line": {
          "color": "blue",
          "width": 1
         },
         "lon": [
          -73.9842844,
          -73.9737299
         ],
         "mode": "lines",
         "showlegend": false,
         "type": "scattermapbox"
        },
        {
         "lat": [
          40.69363137,
          40.68676793
         ],
         "line": {
          "color": "blue",
          "width": 1
         },
         "lon": [
          -73.96223558,
          -73.95928168
         ],
         "mode": "lines",
         "showlegend": false,
         "type": "scattermapbox"
        },
        {
         "lat": [
          40.76915505,
          40.768254
         ],
         "line": {
          "color": "blue",
          "width": 1
         },
         "lon": [
          -73.98191841,
          -73.988639
         ],
         "mode": "lines",
         "showlegend": false,
         "type": "scattermapbox"
        },
        {
         "lat": [
          40.8082,
          40.77140426
         ],
         "line": {
          "color": "blue",
          "width": 1
         },
         "lon": [
          -73.9641,
          -73.9535166
         ],
         "mode": "lines",
         "showlegend": false,
         "type": "scattermapbox"
        },
        {
         "lat": [
          40.74173969,
          40.73587678
         ],
         "line": {
          "color": "blue",
          "width": 1
         },
         "lon": [
          -73.99415556,
          -73.98205027
         ],
         "mode": "lines",
         "showlegend": false,
         "type": "scattermapbox"
        },
        {
         "lat": [
          40.734232,
          40.72299208
         ],
         "line": {
          "color": "blue",
          "width": 1
         },
         "lon": [
          -73.986923,
          -73.97995466
         ],
         "mode": "lines",
         "showlegend": false,
         "type": "scattermapbox"
        },
        {
         "lat": [
          40.73781509,
          40.7208736
         ],
         "line": {
          "color": "blue",
          "width": 1
         },
         "lon": [
          -73.99994661,
          -73.98085795
         ],
         "mode": "lines",
         "showlegend": false,
         "type": "scattermapbox"
        },
        {
         "lat": [
          40.76344058,
          40.75992262
         ],
         "line": {
          "color": "blue",
          "width": 1
         },
         "lon": [
          -73.98268129,
          -73.97648516
         ],
         "mode": "lines",
         "showlegend": false,
         "type": "scattermapbox"
        },
        {
         "lat": [
          40.735238,
          40.70706456
         ],
         "line": {
          "color": "blue",
          "width": 1
         },
         "lon": [
          -74.000271,
          -74.00731853
         ],
         "mode": "lines",
         "showlegend": false,
         "type": "scattermapbox"
        },
        {
         "lat": [
          40.73543934,
          40.70530954
         ],
         "line": {
          "color": "blue",
          "width": 1
         },
         "lon": [
          -73.99453948,
          -74.00612572
         ],
         "mode": "lines",
         "showlegend": false,
         "type": "scattermapbox"
        },
        {
         "lat": [
          40.72082834,
          40.72456089
         ],
         "line": {
          "color": "blue",
          "width": 1
         },
         "lon": [
          -73.97793172,
          -73.99565293
         ],
         "mode": "lines",
         "showlegend": false,
         "type": "scattermapbox"
        },
        {
         "lat": [
          40.76440023,
          40.76500525
         ],
         "line": {
          "color": "blue",
          "width": 1
         },
         "lon": [
          -73.96648977,
          -73.95818491
         ],
         "mode": "lines",
         "showlegend": false,
         "type": "scattermapbox"
        },
        {
         "lat": [
          40.71893904,
          40.72430527250332
         ],
         "line": {
          "color": "blue",
          "width": 1
         },
         "lon": [
          -73.99266288,
          -73.99600982666016
         ],
         "mode": "lines",
         "showlegend": false,
         "type": "scattermapbox"
        },
        {
         "lat": [
          40.74345335,
          40.71911552
         ],
         "line": {
          "color": "blue",
          "width": 1
         },
         "lon": [
          -74.00004031,
          -74.00666661
         ],
         "mode": "lines",
         "showlegend": false,
         "type": "scattermapbox"
        },
        {
         "lat": [
          40.7149787,
          40.71273266
         ],
         "line": {
          "color": "blue",
          "width": 1
         },
         "lon": [
          -74.013012,
          -74.0046073
         ],
         "mode": "lines",
         "showlegend": false,
         "type": "scattermapbox"
        },
        {
         "lat": [
          40.696192,
          40.71273266
         ],
         "line": {
          "color": "blue",
          "width": 1
         },
         "lon": [
          -73.991218,
          -74.0046073
         ],
         "mode": "lines",
         "showlegend": false,
         "type": "scattermapbox"
        },
        {
         "lat": [
          40.76695317,
          40.76340613
         ],
         "line": {
          "color": "blue",
          "width": 1
         },
         "lon": [
          -73.98169333,
          -73.97722479
         ],
         "mode": "lines",
         "showlegend": false,
         "type": "scattermapbox"
        },
        {
         "lat": [
          40.75513557,
          40.75299641
         ],
         "line": {
          "color": "blue",
          "width": 1
         },
         "lon": [
          -73.98658032,
          -73.98721619
         ],
         "mode": "lines",
         "showlegend": false,
         "type": "scattermapbox"
        },
        {
         "lat": [
          40.71219906,
          40.71427487
         ],
         "line": {
          "color": "blue",
          "width": 1
         },
         "lon": [
          -73.97948148,
          -73.98990025
         ],
         "mode": "lines",
         "showlegend": false,
         "type": "scattermapbox"
        },
        {
         "lat": [
          40.73143724085228,
          40.72217444
         ],
         "line": {
          "color": "blue",
          "width": 1
         },
         "lon": [
          -73.99490341544151,
          -73.98368779
         ],
         "mode": "lines",
         "showlegend": false,
         "type": "scattermapbox"
        },
        {
         "lat": [
          40.7403432,
          40.73587678
         ],
         "line": {
          "color": "blue",
          "width": 1
         },
         "lon": [
          -73.98955109,
          -73.98205027
         ],
         "mode": "lines",
         "showlegend": false,
         "type": "scattermapbox"
        },
        {
         "lat": [
          40.78472675,
          40.7643971
         ],
         "line": {
          "color": "blue",
          "width": 1
         },
         "lon": [
          -73.96961715,
          -73.97371465
         ],
         "mode": "lines",
         "showlegend": false,
         "type": "scattermapbox"
        },
        {
         "lat": [
          40.72706363348306,
          40.73143724085228
         ],
         "line": {
          "color": "blue",
          "width": 1
         },
         "lon": [
          -73.99662137031554,
          -73.99490341544151
         ],
         "mode": "lines",
         "showlegend": false,
         "type": "scattermapbox"
        },
        {
         "lat": [
          40.752165280621966,
          40.70862144
         ],
         "line": {
          "color": "blue",
          "width": 1
         },
         "lon": [
          -73.97992193698882,
          -74.00722156
         ],
         "mode": "lines",
         "showlegend": false,
         "type": "scattermapbox"
        },
        {
         "lat": [
          40.71625008,
          40.71911552
         ],
         "line": {
          "color": "blue",
          "width": 1
         },
         "lon": [
          -74.0091059,
          -74.00666661
         ],
         "mode": "lines",
         "showlegend": false,
         "type": "scattermapbox"
        },
        {
         "lat": [
          40.69102925677968,
          40.69102925677968
         ],
         "line": {
          "color": "blue",
          "width": 1
         },
         "lon": [
          -73.99183362722397,
          -73.99183362722397
         ],
         "mode": "lines",
         "showlegend": false,
         "type": "scattermapbox"
        },
        {
         "lat": [
          40.795,
          40.73224119
         ],
         "line": {
          "color": "blue",
          "width": 1
         },
         "lon": [
          -73.9645,
          -74.00026394
         ],
         "mode": "lines",
         "showlegend": false,
         "type": "scattermapbox"
        },
        {
         "lat": [
          40.76727216,
          40.74487634
         ],
         "line": {
          "color": "blue",
          "width": 1
         },
         "lon": [
          -73.99392888,
          -73.99529885
         ],
         "mode": "lines",
         "showlegend": false,
         "type": "scattermapbox"
        },
        {
         "lat": [
          40.79017948095081,
          40.802692
         ],
         "line": {
          "color": "blue",
          "width": 1
         },
         "lon": [
          -73.97288918495178,
          -73.96295
         ],
         "mode": "lines",
         "showlegend": false,
         "type": "scattermapbox"
        },
        {
         "lat": [
          40.73221853,
          40.736502
         ],
         "line": {
          "color": "blue",
          "width": 1
         },
         "lon": [
          -73.98165557,
          -73.97809472
         ],
         "mode": "lines",
         "showlegend": false,
         "type": "scattermapbox"
        },
        {
         "lat": [
          40.73971301,
          40.72502876
         ],
         "line": {
          "color": "blue",
          "width": 1
         },
         "lon": [
          -73.99456405,
          -73.99069656
         ],
         "mode": "lines",
         "showlegend": false,
         "type": "scattermapbox"
        },
        {
         "lat": [
          40.77862688,
          40.78112229934166
         ],
         "line": {
          "color": "blue",
          "width": 1
         },
         "lon": [
          -73.95772073,
          -73.94965589046478
         ],
         "mode": "lines",
         "showlegend": false,
         "type": "scattermapbox"
        },
        {
         "lat": [
          40.74734825,
          40.73524276
         ],
         "line": {
          "color": "blue",
          "width": 1
         },
         "lon": [
          -73.99723551,
          -73.98758561
         ],
         "mode": "lines",
         "showlegend": false,
         "type": "scattermapbox"
        },
        {
         "lat": [
          40.73704984,
          40.7454973
         ],
         "line": {
          "color": "blue",
          "width": 1
         },
         "lon": [
          -73.99009296,
          -74.00197139
         ],
         "mode": "lines",
         "showlegend": false,
         "type": "scattermapbox"
        },
        {
         "lat": [
          40.73935542,
          40.74206539
         ],
         "line": {
          "color": "blue",
          "width": 1
         },
         "lon": [
          -73.99931783,
          -74.00443172
         ],
         "mode": "lines",
         "showlegend": false,
         "type": "scattermapbox"
        },
        {
         "lat": [
          40.72243797,
          40.74195138
         ],
         "line": {
          "color": "blue",
          "width": 1
         },
         "lon": [
          -74.00566443,
          -74.00803013
         ],
         "mode": "lines",
         "showlegend": false,
         "type": "scattermapbox"
        },
        {
         "lat": [
          40.72228087,
          40.72066442
         ],
         "line": {
          "color": "blue",
          "width": 1
         },
         "lon": [
          -73.97668709,
          -73.98517977
         ],
         "mode": "lines",
         "showlegend": false,
         "type": "scattermapbox"
        },
        {
         "lat": [
          40.72621788,
          40.734232
         ],
         "line": {
          "color": "blue",
          "width": 1
         },
         "lon": [
          -73.98379855,
          -73.986923
         ],
         "mode": "lines",
         "showlegend": false,
         "type": "scattermapbox"
        },
        {
         "lat": [
          40.714215,
          40.71173107
         ],
         "line": {
          "color": "blue",
          "width": 1
         },
         "lon": [
          -73.981346,
          -73.99193043
         ],
         "mode": "lines",
         "showlegend": false,
         "type": "scattermapbox"
        },
        {
         "lat": [
          40.69089272,
          40.69512845
         ],
         "line": {
          "color": "blue",
          "width": 1
         },
         "lon": [
          -73.99612349,
          -73.99595065
         ],
         "mode": "lines",
         "showlegend": false,
         "type": "scattermapbox"
        },
        {
         "lat": [
          40.7037992,
          40.71269042
         ],
         "line": {
          "color": "blue",
          "width": 1
         },
         "lon": [
          -74.00838676,
          -73.98776323
         ],
         "mode": "lines",
         "showlegend": false,
         "type": "scattermapbox"
        },
        {
         "lat": [
          40.71748752,
          40.71602118
         ],
         "line": {
          "color": "blue",
          "width": 1
         },
         "lon": [
          -74.0104554,
          -73.99974372
         ],
         "mode": "lines",
         "showlegend": false,
         "type": "scattermapbox"
        },
        {
         "lat": [
          40.7882213,
          40.77163851
         ],
         "line": {
          "color": "blue",
          "width": 1
         },
         "lon": [
          -73.97041561,
          -73.98261428
         ],
         "mode": "lines",
         "showlegend": false,
         "type": "scattermapbox"
        },
        {
         "lat": [
          40.72679454,
          40.74475148
         ],
         "line": {
          "color": "blue",
          "width": 1
         },
         "lon": [
          -73.99695094,
          -73.99915362
         ],
         "mode": "lines",
         "showlegend": false,
         "type": "scattermapbox"
        },
        {
         "lat": [
          40.74780373,
          40.73331967
         ],
         "line": {
          "color": "blue",
          "width": 1
         },
         "lon": [
          -73.9734419,
          -73.99510132
         ],
         "mode": "lines",
         "showlegend": false,
         "type": "scattermapbox"
        },
        {
         "lat": [
          40.73047309,
          40.7423543
         ],
         "line": {
          "color": "blue",
          "width": 1
         },
         "lon": [
          -73.98672378,
          -73.98915076
         ],
         "mode": "lines",
         "showlegend": false,
         "type": "scattermapbox"
        },
        {
         "lat": [
          40.70823502,
          40.71146364
         ],
         "line": {
          "color": "blue",
          "width": 1
         },
         "lon": [
          -74.00530063,
          -74.00552427
         ],
         "mode": "lines",
         "showlegend": false,
         "type": "scattermapbox"
        },
        {
         "lat": [
          40.72779126,
          40.73314259
         ],
         "line": {
          "color": "blue",
          "width": 1
         },
         "lon": [
          -73.98564945,
          -73.97573881
         ],
         "mode": "lines",
         "showlegend": false,
         "type": "scattermapbox"
        },
        {
         "lat": [
          40.72165481,
          40.71473993
         ],
         "line": {
          "color": "blue",
          "width": 1
         },
         "lon": [
          -74.00234737,
          -74.00910627
         ],
         "mode": "lines",
         "showlegend": false,
         "type": "scattermapbox"
        },
        {
         "lat": [
          40.744219,
          40.72706363348306
         ],
         "line": {
          "color": "blue",
          "width": 1
         },
         "lon": [
          -73.97121214,
          -73.99662137031554
         ],
         "mode": "lines",
         "showlegend": false,
         "type": "scattermapbox"
        },
        {
         "lat": [
          40.713126,
          40.722055
         ],
         "line": {
          "color": "blue",
          "width": 1
         },
         "lon": [
          -73.984844,
          -73.989111
         ],
         "mode": "lines",
         "showlegend": false,
         "type": "scattermapbox"
        },
        {
         "lat": [
          40.74144387,
          40.73226398
         ],
         "line": {
          "color": "blue",
          "width": 1
         },
         "lon": [
          -73.97536082,
          -73.99852205
         ],
         "mode": "lines",
         "showlegend": false,
         "type": "scattermapbox"
        },
        {
         "lat": [
          40.70122128,
          40.7037992
         ],
         "line": {
          "color": "blue",
          "width": 1
         },
         "lon": [
          -74.01234218,
          -74.00838676
         ],
         "mode": "lines",
         "showlegend": false,
         "type": "scattermapbox"
        },
        {
         "lat": [
          40.77163851,
          40.76344058
         ],
         "line": {
          "color": "blue",
          "width": 1
         },
         "lon": [
          -73.98261428,
          -73.98268129
         ],
         "mode": "lines",
         "showlegend": false,
         "type": "scattermapbox"
        },
        {
         "lat": [
          40.71748752,
          40.73401143
         ],
         "line": {
          "color": "blue",
          "width": 1
         },
         "lon": [
          -74.0104554,
          -74.00293877
         ],
         "mode": "lines",
         "showlegend": false,
         "type": "scattermapbox"
        },
        {
         "lat": [
          40.72743423,
          40.71910537
         ],
         "line": {
          "color": "blue",
          "width": 1
         },
         "lon": [
          -73.99379025,
          -73.99973337
         ],
         "mode": "lines",
         "showlegend": false,
         "type": "scattermapbox"
        },
        {
         "lat": [
          40.666287,
          40.668127
         ],
         "line": {
          "color": "blue",
          "width": 1
         },
         "lon": [
          -73.98895053,
          -73.98377641
         ],
         "mode": "lines",
         "showlegend": false,
         "type": "scattermapbox"
        },
        {
         "lat": [
          40.692418292578466,
          40.692418292578466
         ],
         "line": {
          "color": "blue",
          "width": 1
         },
         "lon": [
          -73.98949474096298,
          -73.98949474096298
         ],
         "mode": "lines",
         "showlegend": false,
         "type": "scattermapbox"
        },
        {
         "lat": [
          40.7153379,
          40.73401143
         ],
         "line": {
          "color": "blue",
          "width": 1
         },
         "lon": [
          -74.01658354,
          -74.00293877
         ],
         "mode": "lines",
         "showlegend": false,
         "type": "scattermapbox"
        },
        {
         "lat": [
          40.73331967,
          40.73223272
         ],
         "line": {
          "color": "blue",
          "width": 1
         },
         "lon": [
          -73.99510132,
          -73.98889957
         ],
         "mode": "lines",
         "showlegend": false,
         "type": "scattermapbox"
        },
        {
         "lat": [
          40.716887,
          40.7190095
         ],
         "line": {
          "color": "blue",
          "width": 1
         },
         "lon": [
          -73.963198,
          -73.95852515
         ],
         "mode": "lines",
         "showlegend": false,
         "type": "scattermapbox"
        },
        {
         "lat": [
          40.72710258,
          40.74394314
         ],
         "line": {
          "color": "blue",
          "width": 1
         },
         "lon": [
          -74.00297088,
          -73.97966069
         ],
         "mode": "lines",
         "showlegend": false,
         "type": "scattermapbox"
        },
        {
         "lat": [
          40.711512,
          40.70463334
         ],
         "line": {
          "color": "blue",
          "width": 1
         },
         "lon": [
          -74.015756,
          -74.01361706
         ],
         "mode": "lines",
         "showlegend": false,
         "type": "scattermapbox"
        },
        {
         "lat": [
          40.71076228,
          40.71291224
         ],
         "line": {
          "color": "blue",
          "width": 1
         },
         "lon": [
          -73.99400398,
          -74.01020234
         ],
         "mode": "lines",
         "showlegend": false,
         "type": "scattermapbox"
        },
        {
         "lat": [
          40.76302594280519,
          40.75513557
         ],
         "line": {
          "color": "blue",
          "width": 1
         },
         "lon": [
          -73.97209525108337,
          -73.98658032
         ],
         "mode": "lines",
         "showlegend": false,
         "type": "scattermapbox"
        },
        {
         "lat": [
          40.73912601,
          40.76309387270797
         ],
         "line": {
          "color": "blue",
          "width": 1
         },
         "lon": [
          -73.97973776,
          -73.9783501625061
         ],
         "mode": "lines",
         "showlegend": false,
         "type": "scattermapbox"
        },
        {
         "lat": [
          40.75640548,
          40.72405549
         ],
         "line": {
          "color": "blue",
          "width": 1
         },
         "lon": [
          -73.9900262,
          -74.00965965
         ],
         "mode": "lines",
         "showlegend": false,
         "type": "scattermapbox"
        },
        {
         "lat": [
          40.74025878,
          40.746647
         ],
         "line": {
          "color": "blue",
          "width": 1
         },
         "lon": [
          -73.98409214,
          -73.993915
         ],
         "mode": "lines",
         "showlegend": false,
         "type": "scattermapbox"
        },
        {
         "lat": [
          40.70510918,
          40.71928
         ],
         "line": {
          "color": "blue",
          "width": 1
         },
         "lon": [
          -73.94407279,
          -73.94861
         ],
         "mode": "lines",
         "showlegend": false,
         "type": "scattermapbox"
        },
        {
         "lat": [
          40.72405549,
          40.72243797
         ],
         "line": {
          "color": "blue",
          "width": 1
         },
         "lon": [
          -74.00965965,
          -74.00566443
         ],
         "mode": "lines",
         "showlegend": false,
         "type": "scattermapbox"
        },
        {
         "lat": [
          40.733812191966315,
          40.728846
         ],
         "line": {
          "color": "blue",
          "width": 1
         },
         "lon": [
          -73.98054420948029,
          -74.008591
         ],
         "mode": "lines",
         "showlegend": false,
         "type": "scattermapbox"
        },
        {
         "lat": [
          40.7190095,
          40.70827295
         ],
         "line": {
          "color": "blue",
          "width": 1
         },
         "lon": [
          -73.95852515,
          -73.96834101
         ],
         "mode": "lines",
         "showlegend": false,
         "type": "scattermapbox"
        },
        {
         "lat": [
          40.69878,
          40.69383
         ],
         "line": {
          "color": "blue",
          "width": 1
         },
         "lon": [
          -73.99712,
          -73.990539
         ],
         "mode": "lines",
         "showlegend": false,
         "type": "scattermapbox"
        },
        {
         "lat": [
          40.70277159,
          40.72368361
         ],
         "line": {
          "color": "blue",
          "width": 1
         },
         "lon": [
          -73.99383605,
          -73.97574813
         ],
         "mode": "lines",
         "showlegend": false,
         "type": "scattermapbox"
        },
        {
         "lat": [
          40.7381765,
          40.72743423
         ],
         "line": {
          "color": "blue",
          "width": 1
         },
         "lon": [
          -73.97738662,
          -73.99379025
         ],
         "mode": "lines",
         "showlegend": false,
         "type": "scattermapbox"
        },
        {
         "lat": [
          40.68900443,
          40.6765304
         ],
         "line": {
          "color": "blue",
          "width": 1
         },
         "lon": [
          -73.96023854,
          -73.97846879
         ],
         "mode": "lines",
         "showlegend": false,
         "type": "scattermapbox"
        },
        {
         "lat": [
          40.72405549,
          40.72917025
         ],
         "line": {
          "color": "blue",
          "width": 1
         },
         "lon": [
          -74.00965965,
          -73.99810231
         ],
         "mode": "lines",
         "showlegend": false,
         "type": "scattermapbox"
        },
        {
         "lat": [
          40.7361967,
          40.73172428
         ],
         "line": {
          "color": "blue",
          "width": 1
         },
         "lon": [
          -74.00859207,
          -74.00674436
         ],
         "mode": "lines",
         "showlegend": false,
         "type": "scattermapbox"
        },
        {
         "lat": [
          40.75320159,
          40.76019252
         ],
         "line": {
          "color": "blue",
          "width": 1
         },
         "lon": [
          -73.9779874,
          -73.9912551
         ],
         "mode": "lines",
         "showlegend": false,
         "type": "scattermapbox"
        },
        {
         "lat": [
          40.75255434,
          40.734232
         ],
         "line": {
          "color": "blue",
          "width": 1
         },
         "lon": [
          -73.97282625,
          -73.986923
         ],
         "mode": "lines",
         "showlegend": false,
         "type": "scattermapbox"
        },
        {
         "lat": [
          40.75019995,
          40.74286877312112
         ],
         "line": {
          "color": "blue",
          "width": 1
         },
         "lon": [
          -73.99093085,
          -73.98918628692627
         ],
         "mode": "lines",
         "showlegend": false,
         "type": "scattermapbox"
        },
        {
         "lat": [
          40.71269042,
          40.72229346
         ],
         "line": {
          "color": "blue",
          "width": 1
         },
         "lon": [
          -73.98776323,
          -73.99147535
         ],
         "mode": "lines",
         "showlegend": false,
         "type": "scattermapbox"
        },
        {
         "lat": [
          40.75992262,
          40.75455731
         ],
         "line": {
          "color": "blue",
          "width": 1
         },
         "lon": [
          -73.97648516,
          -73.96592976
         ],
         "mode": "lines",
         "showlegend": false,
         "type": "scattermapbox"
        },
        {
         "lat": [
          40.728048571362606,
          40.73261787
         ],
         "line": {
          "color": "blue",
          "width": 1
         },
         "lon": [
          -73.97881150245667,
          -73.99158043
         ],
         "mode": "lines",
         "showlegend": false,
         "type": "scattermapbox"
        },
        {
         "lat": [
          40.7779453,
          40.7806284
         ],
         "line": {
          "color": "blue",
          "width": 1
         },
         "lon": [
          -73.946041,
          -73.9521667
         ],
         "mode": "lines",
         "showlegend": false,
         "type": "scattermapbox"
        },
        {
         "lat": [
          40.75527307,
          40.75097711
         ],
         "line": {
          "color": "blue",
          "width": 1
         },
         "lon": [
          -73.98316936,
          -73.98765428
         ],
         "mode": "lines",
         "showlegend": false,
         "type": "scattermapbox"
        },
        {
         "lat": [
          40.72243797,
          40.73532427
         ],
         "line": {
          "color": "blue",
          "width": 1
         },
         "lon": [
          -74.00566443,
          -73.99800419
         ],
         "mode": "lines",
         "showlegend": false,
         "type": "scattermapbox"
        },
        {
         "lat": [
          40.7489006,
          40.759107
         ],
         "line": {
          "color": "blue",
          "width": 1
         },
         "lon": [
          -73.97604882,
          -73.959223
         ],
         "mode": "lines",
         "showlegend": false,
         "type": "scattermapbox"
        },
        {
         "lat": [
          40.7612274,
          40.75645824
         ],
         "line": {
          "color": "blue",
          "width": 1
         },
         "lon": [
          -73.96094022,
          -73.99372222
         ],
         "mode": "lines",
         "showlegend": false,
         "type": "scattermapbox"
        },
        {
         "lat": [
          40.7423543,
          40.73226398
         ],
         "line": {
          "color": "blue",
          "width": 1
         },
         "lon": [
          -73.98915076,
          -73.99852205
         ],
         "mode": "lines",
         "showlegend": false,
         "type": "scattermapbox"
        },
        {
         "lat": [
          40.7801839724239,
          40.77896784
         ],
         "line": {
          "color": "blue",
          "width": 1
         },
         "lon": [
          -73.97728532552719,
          -73.97374737
         ],
         "mode": "lines",
         "showlegend": false,
         "type": "scattermapbox"
        },
        {
         "lat": [
          40.76695317,
          40.7423543
         ],
         "line": {
          "color": "blue",
          "width": 1
         },
         "lon": [
          -73.98169333,
          -73.98915076
         ],
         "mode": "lines",
         "showlegend": false,
         "type": "scattermapbox"
        },
        {
         "lat": [
          40.7172274,
          40.71427487
         ],
         "line": {
          "color": "blue",
          "width": 1
         },
         "lon": [
          -73.98802084,
          -73.98990025
         ],
         "mode": "lines",
         "showlegend": false,
         "type": "scattermapbox"
        },
        {
         "lat": [
          40.72228087,
          40.73649403
         ],
         "line": {
          "color": "blue",
          "width": 1
         },
         "lon": [
          -73.97668709,
          -73.99704374
         ],
         "mode": "lines",
         "showlegend": false,
         "type": "scattermapbox"
        },
        {
         "lat": [
          40.73726186,
          40.72165481
         ],
         "line": {
          "color": "blue",
          "width": 1
         },
         "lon": [
          -73.99238967,
          -74.00234737
         ],
         "mode": "lines",
         "showlegend": false,
         "type": "scattermapbox"
        },
        {
         "lat": [
          40.692418292578466,
          40.68680820503432
         ],
         "line": {
          "color": "blue",
          "width": 1
         },
         "lon": [
          -73.98949474096298,
          -73.98036181926727
         ],
         "mode": "lines",
         "showlegend": false,
         "type": "scattermapbox"
        },
        {
         "lat": [
          40.73020660529954,
          40.72953837
         ],
         "line": {
          "color": "blue",
          "width": 1
         },
         "lon": [
          -73.99102628231049,
          -73.98426726
         ],
         "mode": "lines",
         "showlegend": false,
         "type": "scattermapbox"
        },
        {
         "lat": [
          40.68488,
          40.6814598
         ],
         "line": {
          "color": "blue",
          "width": 1
         },
         "lon": [
          -73.96304,
          -73.934903
         ],
         "mode": "lines",
         "showlegend": false,
         "type": "scattermapbox"
        },
        {
         "lat": [
          40.728145,
          40.73401143
         ],
         "line": {
          "color": "blue",
          "width": 1
         },
         "lon": [
          -73.990214,
          -74.00293877
         ],
         "mode": "lines",
         "showlegend": false,
         "type": "scattermapbox"
        },
        {
         "lat": [
          40.75022392,
          40.75206862
         ],
         "line": {
          "color": "blue",
          "width": 1
         },
         "lon": [
          -73.97121414,
          -73.96784384
         ],
         "mode": "lines",
         "showlegend": false,
         "type": "scattermapbox"
        },
        {
         "lat": [
          40.7505853470215,
          40.7454973
         ],
         "line": {
          "color": "blue",
          "width": 1
         },
         "lon": [
          -73.9946848154068,
          -74.00197139
         ],
         "mode": "lines",
         "showlegend": false,
         "type": "scattermapbox"
        },
        {
         "lat": [
          40.73314259,
          40.73221853
         ],
         "line": {
          "color": "blue",
          "width": 1
         },
         "lon": [
          -73.97573881,
          -73.98165557
         ],
         "mode": "lines",
         "showlegend": false,
         "type": "scattermapbox"
        },
        {
         "lat": [
          40.751396,
          40.78839
         ],
         "line": {
          "color": "blue",
          "width": 1
         },
         "lon": [
          -74.005226,
          -73.9747
         ],
         "mode": "lines",
         "showlegend": false,
         "type": "scattermapbox"
        },
        {
         "lat": [
          40.73049393,
          40.74238787
         ],
         "line": {
          "color": "blue",
          "width": 1
         },
         "lon": [
          -73.9957214,
          -73.99726235
         ],
         "mode": "lines",
         "showlegend": false,
         "type": "scattermapbox"
        },
        {
         "lat": [
          40.7919557,
          40.795346
         ],
         "line": {
          "color": "blue",
          "width": 1
         },
         "lon": [
          -73.968087,
          -73.96186
         ],
         "mode": "lines",
         "showlegend": false,
         "type": "scattermapbox"
        },
        {
         "lat": [
          40.74487634,
          40.73047309
         ],
         "line": {
          "color": "blue",
          "width": 1
         },
         "lon": [
          -73.99529885,
          -73.98672378
         ],
         "mode": "lines",
         "showlegend": false,
         "type": "scattermapbox"
        },
        {
         "lat": [
          40.73971301,
          40.735367055605394
         ],
         "line": {
          "color": "blue",
          "width": 1
         },
         "lon": [
          -73.99456405,
          -73.98797392845154
         ],
         "mode": "lines",
         "showlegend": false,
         "type": "scattermapbox"
        },
        {
         "lat": [
          40.74780373,
          40.73912601
         ],
         "line": {
          "color": "blue",
          "width": 1
         },
         "lon": [
          -73.9734419,
          -73.97973776
         ],
         "mode": "lines",
         "showlegend": false,
         "type": "scattermapbox"
        },
        {
         "lat": [
          40.74290902,
          40.74144387
         ],
         "line": {
          "color": "blue",
          "width": 1
         },
         "lon": [
          -73.97706058,
          -73.97536082
         ],
         "mode": "lines",
         "showlegend": false,
         "type": "scattermapbox"
        },
        {
         "lat": [
          40.73935542,
          40.735367055605394
         ],
         "line": {
          "color": "blue",
          "width": 1
         },
         "lon": [
          -73.99931783,
          -73.98797392845154
         ],
         "mode": "lines",
         "showlegend": false,
         "type": "scattermapbox"
        },
        {
         "lat": [
          40.714215,
          40.72229346
         ],
         "line": {
          "color": "blue",
          "width": 1
         },
         "lon": [
          -73.981346,
          -73.99147535
         ],
         "mode": "lines",
         "showlegend": false,
         "type": "scattermapbox"
        },
        {
         "lat": [
          40.6610633719006,
          40.668127
         ],
         "line": {
          "color": "blue",
          "width": 1
         },
         "lon": [
          -73.97945255041122,
          -73.98377641
         ],
         "mode": "lines",
         "showlegend": false,
         "type": "scattermapbox"
        },
        {
         "lat": [
          40.70569254,
          40.74206539
         ],
         "line": {
          "color": "blue",
          "width": 1
         },
         "lon": [
          -74.01677685,
          -74.00443172
         ],
         "mode": "lines",
         "showlegend": false,
         "type": "scattermapbox"
        },
        {
         "lat": [
          40.666287,
          40.668603
         ],
         "line": {
          "color": "blue",
          "width": 1
         },
         "lon": [
          -73.98895053,
          -73.9904394
         ],
         "mode": "lines",
         "showlegend": false,
         "type": "scattermapbox"
        },
        {
         "lat": [
          40.6711978,
          40.668127
         ],
         "line": {
          "color": "blue",
          "width": 1
         },
         "lon": [
          -73.97484126,
          -73.98377641
         ],
         "mode": "lines",
         "showlegend": false,
         "type": "scattermapbox"
        },
        {
         "lat": [
          40.7454973,
          40.74294891660091
         ],
         "line": {
          "color": "blue",
          "width": 1
         },
         "lon": [
          -74.00197139,
          -74.00413691997528
         ],
         "mode": "lines",
         "showlegend": false,
         "type": "scattermapbox"
        },
        {
         "lat": [
          40.74025878,
          40.736502
         ],
         "line": {
          "color": "blue",
          "width": 1
         },
         "lon": [
          -73.98409214,
          -73.97809472
         ],
         "mode": "lines",
         "showlegend": false,
         "type": "scattermapbox"
        },
        {
         "lat": [
          40.72165481,
          40.74691959
         ],
         "line": {
          "color": "blue",
          "width": 1
         },
         "lon": [
          -74.00234737,
          -74.00451887
         ],
         "mode": "lines",
         "showlegend": false,
         "type": "scattermapbox"
        },
        {
         "lat": [
          40.72405549,
          40.728846
         ],
         "line": {
          "color": "blue",
          "width": 1
         },
         "lon": [
          -74.00965965,
          -74.008591
         ],
         "mode": "lines",
         "showlegend": false,
         "type": "scattermapbox"
        },
        {
         "lat": [
          40.734232,
          40.74025878
         ],
         "line": {
          "color": "blue",
          "width": 1
         },
         "lon": [
          -73.986923,
          -73.98409214
         ],
         "mode": "lines",
         "showlegend": false,
         "type": "scattermapbox"
        },
        {
         "lat": [
          40.72580614,
          40.71427487
         ],
         "line": {
          "color": "blue",
          "width": 1
         },
         "lon": [
          -73.97422494,
          -73.98990025
         ],
         "mode": "lines",
         "showlegend": false,
         "type": "scattermapbox"
        },
        {
         "lat": [
          40.71748752,
          40.72405549
         ],
         "line": {
          "color": "blue",
          "width": 1
         },
         "lon": [
          -74.0104554,
          -74.00965965
         ],
         "mode": "lines",
         "showlegend": false,
         "type": "scattermapbox"
        },
        {
         "lat": [
          40.73047309,
          40.72580614
         ],
         "line": {
          "color": "blue",
          "width": 1
         },
         "lon": [
          -73.98672378,
          -73.97422494
         ],
         "mode": "lines",
         "showlegend": false,
         "type": "scattermapbox"
        },
        {
         "lat": [
          40.76344058,
          40.7606597
         ],
         "line": {
          "color": "blue",
          "width": 1
         },
         "lon": [
          -73.98268129,
          -73.98042047
         ],
         "mode": "lines",
         "showlegend": false,
         "type": "scattermapbox"
        },
        {
         "lat": [
          40.72217444,
          40.72917025
         ],
         "line": {
          "color": "blue",
          "width": 1
         },
         "lon": [
          -73.98368779,
          -73.99810231
         ],
         "mode": "lines",
         "showlegend": false,
         "type": "scattermapbox"
        },
        {
         "lat": [
          40.71625008,
          40.71911552
         ],
         "line": {
          "color": "blue",
          "width": 1
         },
         "lon": [
          -74.0091059,
          -74.00666661
         ],
         "mode": "lines",
         "showlegend": false,
         "type": "scattermapbox"
        },
        {
         "lat": [
          40.77862688,
          40.77140426
         ],
         "line": {
          "color": "blue",
          "width": 1
         },
         "lon": [
          -73.95772073,
          -73.9535166
         ],
         "mode": "lines",
         "showlegend": false,
         "type": "scattermapbox"
        },
        {
         "lat": [
          40.73726186,
          40.74290902
         ],
         "line": {
          "color": "blue",
          "width": 1
         },
         "lon": [
          -73.99238967,
          -73.97706058
         ],
         "mode": "lines",
         "showlegend": false,
         "type": "scattermapbox"
        },
        {
         "lat": [
          40.75019995,
          40.75510267
         ],
         "line": {
          "color": "blue",
          "width": 1
         },
         "lon": [
          -73.99093085,
          -73.97498696
         ],
         "mode": "lines",
         "showlegend": false,
         "type": "scattermapbox"
        },
        {
         "lat": [
          40.74901271,
          40.76344058
         ],
         "line": {
          "color": "blue",
          "width": 1
         },
         "lon": [
          -73.98848395,
          -73.98268129
         ],
         "mode": "lines",
         "showlegend": false,
         "type": "scattermapbox"
        },
        {
         "lat": [
          40.7770575,
          40.76269882
         ],
         "line": {
          "color": "blue",
          "width": 1
         },
         "lon": [
          -73.97898475,
          -73.99301222
         ],
         "mode": "lines",
         "showlegend": false,
         "type": "scattermapbox"
        },
        {
         "lat": [
          40.72740794,
          40.72299208
         ],
         "line": {
          "color": "blue",
          "width": 1
         },
         "lon": [
          -73.98142006,
          -73.97995466
         ],
         "mode": "lines",
         "showlegend": false,
         "type": "scattermapbox"
        },
        {
         "lat": [
          40.73047747,
          40.73781509
         ],
         "line": {
          "color": "blue",
          "width": 1
         },
         "lon": [
          -73.99906065,
          -73.99994661
         ],
         "mode": "lines",
         "showlegend": false,
         "type": "scattermapbox"
        },
        {
         "lat": [
          40.735238,
          40.70569254
         ],
         "line": {
          "color": "blue",
          "width": 1
         },
         "lon": [
          -74.000271,
          -74.01677685
         ],
         "mode": "lines",
         "showlegend": false,
         "type": "scattermapbox"
        },
        {
         "lat": [
          40.71774592,
          40.72557
         ],
         "line": {
          "color": "blue",
          "width": 1
         },
         "lon": [
          -73.95600096,
          -73.94434
         ],
         "mode": "lines",
         "showlegend": false,
         "type": "scattermapbox"
        },
        {
         "lat": [
          40.7462009,
          40.75466591
         ],
         "line": {
          "color": "blue",
          "width": 1
         },
         "lon": [
          -73.98855723,
          -73.99138152
         ],
         "mode": "lines",
         "showlegend": false,
         "type": "scattermapbox"
        },
        {
         "lat": [
          40.74731,
          40.74718234
         ],
         "line": {
          "color": "blue",
          "width": 1
         },
         "lon": [
          -73.95451,
          -73.9432635
         ],
         "mode": "lines",
         "showlegend": false,
         "type": "scattermapbox"
        },
        {
         "lat": [
          40.75018156325683,
          40.742753828659026
         ],
         "line": {
          "color": "blue",
          "width": 1
         },
         "lon": [
          -74.00218427181244,
          -74.00747358798981
         ],
         "mode": "lines",
         "showlegend": false,
         "type": "scattermapbox"
        },
        {
         "lat": [
          40.72521311,
          40.72368361
         ],
         "line": {
          "color": "blue",
          "width": 1
         },
         "lon": [
          -73.97768752,
          -73.97574813
         ],
         "mode": "lines",
         "showlegend": false,
         "type": "scattermapbox"
        },
        {
         "lat": [
          40.6704922,
          40.6703837
         ],
         "line": {
          "color": "blue",
          "width": 1
         },
         "lon": [
          -73.98541675,
          -73.97839676
         ],
         "mode": "lines",
         "showlegend": false,
         "type": "scattermapbox"
        },
        {
         "lat": [
          40.71870987,
          40.71911552
         ],
         "line": {
          "color": "blue",
          "width": 1
         },
         "lon": [
          -74.0090009,
          -74.00666661
         ],
         "mode": "lines",
         "showlegend": false,
         "type": "scattermapbox"
        },
        {
         "lat": [
          40.774405455003,
          40.75892386377695
         ],
         "line": {
          "color": "blue",
          "width": 1
         },
         "lon": [
          -73.96175265312193,
          -73.96226227283478
         ],
         "mode": "lines",
         "showlegend": false,
         "type": "scattermapbox"
        },
        {
         "lat": [
          40.72923649910006,
          40.72490985
         ],
         "line": {
          "color": "blue",
          "width": 1
         },
         "lon": [
          -73.99086803197861,
          -74.00154702
         ],
         "mode": "lines",
         "showlegend": false,
         "type": "scattermapbox"
        },
        {
         "lat": [
          40.72955361,
          40.73223272
         ],
         "line": {
          "color": "blue",
          "width": 1
         },
         "lon": [
          -73.98057249,
          -73.98889957
         ],
         "mode": "lines",
         "showlegend": false,
         "type": "scattermapbox"
        },
        {
         "lat": [
          40.73971301,
          40.73314259
         ],
         "line": {
          "color": "blue",
          "width": 1
         },
         "lon": [
          -73.99456405,
          -73.97573881
         ],
         "mode": "lines",
         "showlegend": false,
         "type": "scattermapbox"
        },
        {
         "lat": [
          40.72405549,
          40.71542197
         ],
         "line": {
          "color": "blue",
          "width": 1
         },
         "lon": [
          -74.00965965,
          -74.01121978
         ],
         "mode": "lines",
         "showlegend": false,
         "type": "scattermapbox"
        },
        {
         "lat": [
          40.73226398,
          40.7262807
         ],
         "line": {
          "color": "blue",
          "width": 1
         },
         "lon": [
          -73.99852205,
          -73.98978041
         ],
         "mode": "lines",
         "showlegend": false,
         "type": "scattermapbox"
        },
        {
         "lat": [
          40.71754834,
          40.71413089
         ],
         "line": {
          "color": "blue",
          "width": 1
         },
         "lon": [
          -74.01322069,
          -73.9970468
         ],
         "mode": "lines",
         "showlegend": false,
         "type": "scattermapbox"
        },
        {
         "lat": [
          40.751551,
          40.7489006
         ],
         "line": {
          "color": "blue",
          "width": 1
         },
         "lon": [
          -73.993934,
          -73.97604882
         ],
         "mode": "lines",
         "showlegend": false,
         "type": "scattermapbox"
        },
        {
         "lat": [
          40.73704984,
          40.74444921
         ],
         "line": {
          "color": "blue",
          "width": 1
         },
         "lon": [
          -73.99009296,
          -73.98303529
         ],
         "mode": "lines",
         "showlegend": false,
         "type": "scattermapbox"
        },
        {
         "lat": [
          40.728048571362606,
          40.72951496224949
         ],
         "line": {
          "color": "blue",
          "width": 1
         },
         "lon": [
          -73.97881150245667,
          -73.99075269699097
         ],
         "mode": "lines",
         "showlegend": false,
         "type": "scattermapbox"
        },
        {
         "lat": [
          40.72706363348306,
          40.73143724085228
         ],
         "line": {
          "color": "blue",
          "width": 1
         },
         "lon": [
          -73.99662137031554,
          -73.99490341544151
         ],
         "mode": "lines",
         "showlegend": false,
         "type": "scattermapbox"
        },
        {
         "lat": [
          40.76584941,
          40.76669671
         ],
         "line": {
          "color": "blue",
          "width": 1
         },
         "lon": [
          -73.98690506,
          -73.99061728
         ],
         "mode": "lines",
         "showlegend": false,
         "type": "scattermapbox"
        },
        {
         "lat": [
          40.74854862,
          40.74025878
         ],
         "line": {
          "color": "blue",
          "width": 1
         },
         "lon": [
          -73.98808416,
          -73.98409214
         ],
         "mode": "lines",
         "showlegend": false,
         "type": "scattermapbox"
        },
        {
         "lat": [
          40.76590936,
          40.78472675
         ],
         "line": {
          "color": "blue",
          "width": 1
         },
         "lon": [
          -73.97634151,
          -73.96961715
         ],
         "mode": "lines",
         "showlegend": false,
         "type": "scattermapbox"
        },
        {
         "lat": [
          40.76915505,
          40.774405455003
         ],
         "line": {
          "color": "blue",
          "width": 1
         },
         "lon": [
          -73.98191841,
          -73.96175265312193
         ],
         "mode": "lines",
         "showlegend": false,
         "type": "scattermapbox"
        },
        {
         "lat": [
          40.75968085,
          40.75992262
         ],
         "line": {
          "color": "blue",
          "width": 1
         },
         "lon": [
          -73.97031366,
          -73.97648516
         ],
         "mode": "lines",
         "showlegend": false,
         "type": "scattermapbox"
        },
        {
         "lat": [
          40.7817212,
          40.76663814
         ],
         "line": {
          "color": "blue",
          "width": 1
         },
         "lon": [
          -73.94594,
          -73.95348296
         ],
         "mode": "lines",
         "showlegend": false,
         "type": "scattermapbox"
        },
        {
         "lat": [
          40.7568001,
          40.76019252
         ],
         "line": {
          "color": "blue",
          "width": 1
         },
         "lon": [
          -73.98291153,
          -73.9912551
         ],
         "mode": "lines",
         "showlegend": false,
         "type": "scattermapbox"
        },
        {
         "lat": [
          40.73143724085228,
          40.7284186
         ],
         "line": {
          "color": "blue",
          "width": 1
         },
         "lon": [
          -73.99490341544151,
          -73.98713956
         ],
         "mode": "lines",
         "showlegend": false,
         "type": "scattermapbox"
        },
        {
         "lat": [
          40.72456089,
          40.72467721
         ],
         "line": {
          "color": "blue",
          "width": 1
         },
         "lon": [
          -73.99565293,
          -73.98783413
         ],
         "mode": "lines",
         "showlegend": false,
         "type": "scattermapbox"
        },
        {
         "lat": [
          40.7867947,
          40.77163851
         ],
         "line": {
          "color": "blue",
          "width": 1
         },
         "lon": [
          -73.977112,
          -73.98261428
         ],
         "mode": "lines",
         "showlegend": false,
         "type": "scattermapbox"
        },
        {
         "lat": [
          40.778301,
          40.804213
         ],
         "line": {
          "color": "blue",
          "width": 1
         },
         "lon": [
          -73.9488134,
          -73.96699104
         ],
         "mode": "lines",
         "showlegend": false,
         "type": "scattermapbox"
        },
        {
         "lat": [
          40.74475148,
          40.73781509
         ],
         "line": {
          "color": "blue",
          "width": 1
         },
         "lon": [
          -73.99915362,
          -73.99994661
         ],
         "mode": "lines",
         "showlegend": false,
         "type": "scattermapbox"
        },
        {
         "lat": [
          40.73038599,
          40.701907
         ],
         "line": {
          "color": "blue",
          "width": 1
         },
         "lon": [
          -74.00214988,
          -74.013942
         ],
         "mode": "lines",
         "showlegend": false,
         "type": "scattermapbox"
        },
        {
         "lat": [
          40.69766564,
          40.7047177
         ],
         "line": {
          "color": "blue",
          "width": 1
         },
         "lon": [
          -73.98476437,
          -74.00926027
         ],
         "mode": "lines",
         "showlegend": false,
         "type": "scattermapbox"
        },
        {
         "lat": [
          40.73704984,
          40.72405549
         ],
         "line": {
          "color": "blue",
          "width": 1
         },
         "lon": [
          -73.99009296,
          -74.00965965
         ],
         "mode": "lines",
         "showlegend": false,
         "type": "scattermapbox"
        },
        {
         "lat": [
          40.73624527,
          40.73726186
         ],
         "line": {
          "color": "blue",
          "width": 1
         },
         "lon": [
          -73.98473765,
          -73.99238967
         ],
         "mode": "lines",
         "showlegend": false,
         "type": "scattermapbox"
        },
        {
         "lat": [
          40.71748752,
          40.74334935
         ],
         "line": {
          "color": "blue",
          "width": 1
         },
         "lon": [
          -74.0104554,
          -74.00681753
         ],
         "mode": "lines",
         "showlegend": false,
         "type": "scattermapbox"
        },
        {
         "lat": [
          40.7575699,
          40.75992262
         ],
         "line": {
          "color": "blue",
          "width": 1
         },
         "lon": [
          -73.99098507,
          -73.97648516
         ],
         "mode": "lines",
         "showlegend": false,
         "type": "scattermapbox"
        },
        {
         "lat": [
          40.72679454,
          40.73172428
         ],
         "line": {
          "color": "blue",
          "width": 1
         },
         "lon": [
          -73.99695094,
          -74.00674436
         ],
         "mode": "lines",
         "showlegend": false,
         "type": "scattermapbox"
        },
        {
         "lat": [
          40.69165183,
          40.69165183
         ],
         "line": {
          "color": "blue",
          "width": 1
         },
         "lon": [
          -73.9999786,
          -73.9999786
         ],
         "mode": "lines",
         "showlegend": false,
         "type": "scattermapbox"
        },
        {
         "lat": [
          40.72019576,
          40.71406667
         ],
         "line": {
          "color": "blue",
          "width": 1
         },
         "lon": [
          -73.98997825,
          -73.99293911
         ],
         "mode": "lines",
         "showlegend": false,
         "type": "scattermapbox"
        },
        {
         "lat": [
          40.72317958,
          40.74901271
         ],
         "line": {
          "color": "blue",
          "width": 1
         },
         "lon": [
          -73.99480012,
          -73.98848395
         ],
         "mode": "lines",
         "showlegend": false,
         "type": "scattermapbox"
        },
        {
         "lat": [
          40.73047747,
          40.73649403
         ],
         "line": {
          "color": "blue",
          "width": 1
         },
         "lon": [
          -73.99906065,
          -73.99704374
         ],
         "mode": "lines",
         "showlegend": false,
         "type": "scattermapbox"
        },
        {
         "lat": [
          40.751873,
          40.75527307
         ],
         "line": {
          "color": "blue",
          "width": 1
         },
         "lon": [
          -73.977706,
          -73.98316936
         ],
         "mode": "lines",
         "showlegend": false,
         "type": "scattermapbox"
        },
        {
         "lat": [
          40.7462009,
          40.7047177
         ],
         "line": {
          "color": "blue",
          "width": 1
         },
         "lon": [
          -73.98855723,
          -74.00926027
         ],
         "mode": "lines",
         "showlegend": false,
         "type": "scattermapbox"
        },
        {
         "lat": [
          40.75019995,
          40.752062307
         ],
         "line": {
          "color": "blue",
          "width": 1
         },
         "lon": [
          -73.99093085,
          -73.9816324043
         ],
         "mode": "lines",
         "showlegend": false,
         "type": "scattermapbox"
        },
        {
         "lat": [
          40.73971301,
          40.735238
         ],
         "line": {
          "color": "blue",
          "width": 1
         },
         "lon": [
          -73.99456405,
          -74.000271
         ],
         "mode": "lines",
         "showlegend": false,
         "type": "scattermapbox"
        },
        {
         "lat": [
          40.71273266,
          40.69512845
         ],
         "line": {
          "color": "blue",
          "width": 1
         },
         "lon": [
          -74.0046073,
          -73.99595065
         ],
         "mode": "lines",
         "showlegend": false,
         "type": "scattermapbox"
        },
        {
         "lat": [
          40.70924826276157,
          40.70538077
         ],
         "line": {
          "color": "blue",
          "width": 1
         },
         "lon": [
          -73.96063148975372,
          -73.94976519
         ],
         "mode": "lines",
         "showlegend": false,
         "type": "scattermapbox"
        },
        {
         "lat": [
          40.72903917,
          40.735367055605394
         ],
         "line": {
          "color": "blue",
          "width": 1
         },
         "lon": [
          -73.99404649,
          -73.98797392845154
         ],
         "mode": "lines",
         "showlegend": false,
         "type": "scattermapbox"
        },
        {
         "lat": [
          40.71754834,
          40.71219906
         ],
         "line": {
          "color": "blue",
          "width": 1
         },
         "lon": [
          -74.01322069,
          -73.97948148
         ],
         "mode": "lines",
         "showlegend": false,
         "type": "scattermapbox"
        },
        {
         "lat": [
          40.746647,
          40.751581
         ],
         "line": {
          "color": "blue",
          "width": 1
         },
         "lon": [
          -73.993915,
          -73.97791
         ],
         "mode": "lines",
         "showlegend": false,
         "type": "scattermapbox"
        },
        {
         "lat": [
          40.728145,
          40.733812191966315
         ],
         "line": {
          "color": "blue",
          "width": 1
         },
         "lon": [
          -73.990214,
          -73.98054420948029
         ],
         "mode": "lines",
         "showlegend": false,
         "type": "scattermapbox"
        },
        {
         "lat": [
          40.68382604,
          40.69236178
         ],
         "line": {
          "color": "blue",
          "width": 1
         },
         "lon": [
          -73.97632328,
          -73.98631746
         ],
         "mode": "lines",
         "showlegend": false,
         "type": "scattermapbox"
        },
        {
         "lat": [
          40.76370739,
          40.76228826
         ],
         "line": {
          "color": "blue",
          "width": 1
         },
         "lon": [
          -73.9851615,
          -73.98336183
         ],
         "mode": "lines",
         "showlegend": false,
         "type": "scattermapbox"
        },
        {
         "lat": [
          40.73047309,
          40.77573034
         ],
         "line": {
          "color": "blue",
          "width": 1
         },
         "lon": [
          -73.98672378,
          -73.9567526
         ],
         "mode": "lines",
         "showlegend": false,
         "type": "scattermapbox"
        },
        {
         "lat": [
          40.73704984,
          40.7457121
         ],
         "line": {
          "color": "blue",
          "width": 1
         },
         "lon": [
          -73.99009296,
          -73.98194829
         ],
         "mode": "lines",
         "showlegend": false,
         "type": "scattermapbox"
        },
        {
         "lat": [
          40.736502,
          40.74311555376486
         ],
         "line": {
          "color": "blue",
          "width": 1
         },
         "lon": [
          -73.97809472,
          -73.98215353488922
         ],
         "mode": "lines",
         "showlegend": false,
         "type": "scattermapbox"
        },
        {
         "lat": [
          40.78839,
          40.7801839724239
         ],
         "line": {
          "color": "blue",
          "width": 1
         },
         "lon": [
          -73.9747,
          -73.97728532552719
         ],
         "mode": "lines",
         "showlegend": false,
         "type": "scattermapbox"
        },
        {
         "lat": [
          40.7277140777778,
          40.71219906
         ],
         "line": {
          "color": "blue",
          "width": 1
         },
         "lon": [
          -74.01129573583603,
          -73.97948148
         ],
         "mode": "lines",
         "showlegend": false,
         "type": "scattermapbox"
        },
        {
         "lat": [
          40.7779453,
          40.77801203
         ],
         "line": {
          "color": "blue",
          "width": 1
         },
         "lon": [
          -73.946041,
          -73.95407149
         ],
         "mode": "lines",
         "showlegend": false,
         "type": "scattermapbox"
        },
        {
         "lat": [
          40.73221853,
          40.71893904
         ],
         "line": {
          "color": "blue",
          "width": 1
         },
         "lon": [
          -73.98165557,
          -73.99266288
         ],
         "mode": "lines",
         "showlegend": false,
         "type": "scattermapbox"
        },
        {
         "lat": [
          40.7153379,
          40.71291224
         ],
         "line": {
          "color": "blue",
          "width": 1
         },
         "lon": [
          -74.01658354,
          -74.01020234
         ],
         "mode": "lines",
         "showlegend": false,
         "type": "scattermapbox"
        },
        {
         "lat": [
          40.71307916,
          40.70281858
         ],
         "line": {
          "color": "blue",
          "width": 1
         },
         "lon": [
          -73.99851193,
          -73.98765762
         ],
         "mode": "lines",
         "showlegend": false,
         "type": "scattermapbox"
        },
        {
         "lat": [
          40.72951496224949,
          40.73221853
         ],
         "line": {
          "color": "blue",
          "width": 1
         },
         "lon": [
          -73.99075269699097,
          -73.98165557
         ],
         "mode": "lines",
         "showlegend": false,
         "type": "scattermapbox"
        },
        {
         "lat": [
          40.72456089,
          40.73172428
         ],
         "line": {
          "color": "blue",
          "width": 1
         },
         "lon": [
          -73.99565293,
          -74.00674436
         ],
         "mode": "lines",
         "showlegend": false,
         "type": "scattermapbox"
        },
        {
         "lat": [
          40.72903917,
          40.73652889
         ],
         "line": {
          "color": "blue",
          "width": 1
         },
         "lon": [
          -73.99404649,
          -74.00618026
         ],
         "mode": "lines",
         "showlegend": false,
         "type": "scattermapbox"
        },
        {
         "lat": [
          40.6809591,
          40.69239502
         ],
         "line": {
          "color": "blue",
          "width": 1
         },
         "lon": [
          -73.99905709,
          -73.99337909
         ],
         "mode": "lines",
         "showlegend": false,
         "type": "scattermapbox"
        },
        {
         "lat": [
          40.73454567,
          40.72229346
         ],
         "line": {
          "color": "blue",
          "width": 1
         },
         "lon": [
          -73.99074142,
          -73.99147535
         ],
         "mode": "lines",
         "showlegend": false,
         "type": "scattermapbox"
        },
        {
         "lat": [
          40.7933718,
          40.77118287540658
         ],
         "line": {
          "color": "blue",
          "width": 1
         },
         "lon": [
          -73.97685115,
          -73.96409422159195
         ],
         "mode": "lines",
         "showlegend": false,
         "type": "scattermapbox"
        },
        {
         "lat": [
          40.72521311,
          40.74734825
         ],
         "line": {
          "color": "blue",
          "width": 1
         },
         "lon": [
          -73.97768752,
          -73.99723551
         ],
         "mode": "lines",
         "showlegend": false,
         "type": "scattermapbox"
        },
        {
         "lat": [
          40.7869946,
          40.76471851944339
         ],
         "line": {
          "color": "blue",
          "width": 1
         },
         "lon": [
          -73.94164802,
          -73.96222069859505
         ],
         "mode": "lines",
         "showlegend": false,
         "type": "scattermapbox"
        },
        {
         "lat": [
          40.746647,
          40.73401143
         ],
         "line": {
          "color": "blue",
          "width": 1
         },
         "lon": [
          -73.993915,
          -74.00293877
         ],
         "mode": "lines",
         "showlegend": false,
         "type": "scattermapbox"
        },
        {
         "lat": [
          40.7153379,
          40.70834698
         ],
         "line": {
          "color": "blue",
          "width": 1
         },
         "lon": [
          -74.01658354,
          -74.01713445
         ],
         "mode": "lines",
         "showlegend": false,
         "type": "scattermapbox"
        },
        {
         "lat": [
          40.74780373,
          40.74144387
         ],
         "line": {
          "color": "blue",
          "width": 1
         },
         "lon": [
          -73.9734419,
          -73.97536082
         ],
         "mode": "lines",
         "showlegend": false,
         "type": "scattermapbox"
        },
        {
         "lat": [
          40.74173969,
          40.722055
         ],
         "line": {
          "color": "blue",
          "width": 1
         },
         "lon": [
          -73.99415556,
          -73.989111
         ],
         "mode": "lines",
         "showlegend": false,
         "type": "scattermapbox"
        },
        {
         "lat": [
          40.6746957,
          40.6747055
         ],
         "line": {
          "color": "blue",
          "width": 1
         },
         "lon": [
          -73.99785768,
          -74.0075572
         ],
         "mode": "lines",
         "showlegend": false,
         "type": "scattermapbox"
        },
        {
         "lat": [
          40.71406667,
          40.71622644
         ],
         "line": {
          "color": "blue",
          "width": 1
         },
         "lon": [
          -73.99293911,
          -73.98261206
         ],
         "mode": "lines",
         "showlegend": false,
         "type": "scattermapbox"
        },
        {
         "lat": [
          40.72740794,
          40.71926081
         ],
         "line": {
          "color": "blue",
          "width": 1
         },
         "lon": [
          -73.98142006,
          -73.98178024
         ],
         "mode": "lines",
         "showlegend": false,
         "type": "scattermapbox"
        },
        {
         "lat": [
          40.74475148,
          40.736502
         ],
         "line": {
          "color": "blue",
          "width": 1
         },
         "lon": [
          -73.99915362,
          -73.97809472
         ],
         "mode": "lines",
         "showlegend": false,
         "type": "scattermapbox"
        },
        {
         "lat": [
          40.722055,
          40.70870368
         ],
         "line": {
          "color": "blue",
          "width": 1
         },
         "lon": [
          -73.989111,
          -73.9448625
         ],
         "mode": "lines",
         "showlegend": false,
         "type": "scattermapbox"
        },
        {
         "lat": [
          40.69573398,
          40.69239502
         ],
         "line": {
          "color": "blue",
          "width": 1
         },
         "lon": [
          -73.97129668,
          -73.99337909
         ],
         "mode": "lines",
         "showlegend": false,
         "type": "scattermapbox"
        },
        {
         "lat": [
          40.73028666,
          40.77682863439968
         ],
         "line": {
          "color": "blue",
          "width": 1
         },
         "lon": [
          -73.9907647,
          -73.96388769149779
         ],
         "mode": "lines",
         "showlegend": false,
         "type": "scattermapbox"
        },
        {
         "lat": [
          40.73224119,
          40.76663814
         ],
         "line": {
          "color": "blue",
          "width": 1
         },
         "lon": [
          -74.00026394,
          -73.95348296
         ],
         "mode": "lines",
         "showlegend": false,
         "type": "scattermapbox"
        },
        {
         "lat": [
          40.76095756,
          40.746524
         ],
         "line": {
          "color": "blue",
          "width": 1
         },
         "lon": [
          -73.96724467,
          -73.977885
         ],
         "mode": "lines",
         "showlegend": false,
         "type": "scattermapbox"
        },
        {
         "lat": [
          40.71117444,
          40.72229346
         ],
         "line": {
          "color": "blue",
          "width": 1
         },
         "lon": [
          -73.99682619,
          -73.99147535
         ],
         "mode": "lines",
         "showlegend": false,
         "type": "scattermapbox"
        },
        {
         "lat": [
          40.72229346,
          40.72456089
         ],
         "line": {
          "color": "blue",
          "width": 1
         },
         "lon": [
          -73.99147535,
          -73.99565293
         ],
         "mode": "lines",
         "showlegend": false,
         "type": "scattermapbox"
        },
        {
         "lat": [
          40.72706363348306,
          40.73543934
         ],
         "line": {
          "color": "blue",
          "width": 1
         },
         "lon": [
          -73.99662137031554,
          -73.99453948
         ],
         "mode": "lines",
         "showlegend": false,
         "type": "scattermapbox"
        },
        {
         "lat": [
          40.71774592,
          40.72557
         ],
         "line": {
          "color": "blue",
          "width": 1
         },
         "lon": [
          -73.95600096,
          -73.94434
         ],
         "mode": "lines",
         "showlegend": false,
         "type": "scattermapbox"
        },
        {
         "lat": [
          40.73143724085228,
          40.73172428
         ],
         "line": {
          "color": "blue",
          "width": 1
         },
         "lon": [
          -73.99490341544151,
          -74.00674436
         ],
         "mode": "lines",
         "showlegend": false,
         "type": "scattermapbox"
        },
        {
         "lat": [
          40.689888,
          40.68981035
         ],
         "line": {
          "color": "blue",
          "width": 1
         },
         "lon": [
          -73.981013,
          -73.97493121
         ],
         "mode": "lines",
         "showlegend": false,
         "type": "scattermapbox"
        },
        {
         "lat": [
          40.73331967,
          40.7361967
         ],
         "line": {
          "color": "blue",
          "width": 1
         },
         "lon": [
          -73.99510132,
          -74.00859207
         ],
         "mode": "lines",
         "showlegend": false,
         "type": "scattermapbox"
        },
        {
         "lat": [
          40.72228087,
          40.72228087
         ],
         "line": {
          "color": "blue",
          "width": 1
         },
         "lon": [
          -73.97668709,
          -73.97668709
         ],
         "mode": "lines",
         "showlegend": false,
         "type": "scattermapbox"
        },
        {
         "lat": [
          40.6686627,
          40.6776147
         ],
         "line": {
          "color": "blue",
          "width": 1
         },
         "lon": [
          -73.97988067,
          -73.97324283
         ],
         "mode": "lines",
         "showlegend": false,
         "type": "scattermapbox"
        },
        {
         "lat": [
          40.75255434,
          40.736502
         ],
         "line": {
          "color": "blue",
          "width": 1
         },
         "lon": [
          -73.97282625,
          -73.97809472
         ],
         "mode": "lines",
         "showlegend": false,
         "type": "scattermapbox"
        },
        {
         "lat": [
          40.804213,
          40.778301
         ],
         "line": {
          "color": "blue",
          "width": 1
         },
         "lon": [
          -73.96699104,
          -73.9488134
         ],
         "mode": "lines",
         "showlegend": false,
         "type": "scattermapbox"
        },
        {
         "lat": [
          40.7454973,
          40.74334935
         ],
         "line": {
          "color": "blue",
          "width": 1
         },
         "lon": [
          -74.00197139,
          -74.00681753
         ],
         "mode": "lines",
         "showlegend": false,
         "type": "scattermapbox"
        },
        {
         "lat": [
          40.749156,
          40.76068327096592
         ],
         "line": {
          "color": "blue",
          "width": 1
         },
         "lon": [
          -73.9916,
          -73.9845272898674
         ],
         "mode": "lines",
         "showlegend": false,
         "type": "scattermapbox"
        },
        {
         "lat": [
          40.72710258,
          40.72710258
         ],
         "line": {
          "color": "blue",
          "width": 1
         },
         "lon": [
          -74.00297088,
          -74.00297088
         ],
         "mode": "lines",
         "showlegend": false,
         "type": "scattermapbox"
        },
        {
         "lat": [
          40.754120810779256,
          40.76269882
         ],
         "line": {
          "color": "blue",
          "width": 1
         },
         "lon": [
          -73.98025184869766,
          -73.99301222
         ],
         "mode": "lines",
         "showlegend": false,
         "type": "scattermapbox"
        },
        {
         "lat": [
          40.72490985,
          40.70834698
         ],
         "line": {
          "color": "blue",
          "width": 1
         },
         "lon": [
          -74.00154702,
          -74.01713445
         ],
         "mode": "lines",
         "showlegend": false,
         "type": "scattermapbox"
        },
        {
         "lat": [
          40.71729,
          40.71413089
         ],
         "line": {
          "color": "blue",
          "width": 1
         },
         "lon": [
          -73.996375,
          -73.9970468
         ],
         "mode": "lines",
         "showlegend": false,
         "type": "scattermapbox"
        },
        {
         "lat": [
          40.75510267,
          40.75898481399634
         ],
         "line": {
          "color": "blue",
          "width": 1
         },
         "lon": [
          -73.97498696,
          -73.99379968643188
         ],
         "mode": "lines",
         "showlegend": false,
         "type": "scattermapbox"
        },
        {
         "lat": [
          40.7451677,
          40.74395411
         ],
         "line": {
          "color": "blue",
          "width": 1
         },
         "lon": [
          -73.98683077,
          -73.99144871
         ],
         "mode": "lines",
         "showlegend": false,
         "type": "scattermapbox"
        },
        {
         "lat": [
          40.7390169121,
          40.73535398
         ],
         "line": {
          "color": "blue",
          "width": 1
         },
         "lon": [
          -74.0026376103,
          -74.00483091
         ],
         "mode": "lines",
         "showlegend": false,
         "type": "scattermapbox"
        },
        {
         "lat": [
          40.66514681533792,
          40.68415748
         ],
         "line": {
          "color": "blue",
          "width": 1
         },
         "lon": [
          -73.97637605667114,
          -73.96922273
         ],
         "mode": "lines",
         "showlegend": false,
         "type": "scattermapbox"
        },
        {
         "lat": [
          40.75500254,
          40.768254
         ],
         "line": {
          "color": "blue",
          "width": 1
         },
         "lon": [
          -73.98014437,
          -73.988639
         ],
         "mode": "lines",
         "showlegend": false,
         "type": "scattermapbox"
        },
        {
         "lat": [
          40.72740794,
          40.7172274
         ],
         "line": {
          "color": "blue",
          "width": 1
         },
         "lon": [
          -73.98142006,
          -73.98802084
         ],
         "mode": "lines",
         "showlegend": false,
         "type": "scattermapbox"
        },
        {
         "lat": [
          40.69512845,
          40.70277159
         ],
         "line": {
          "color": "blue",
          "width": 1
         },
         "lon": [
          -73.99595065,
          -73.99383605
         ],
         "mode": "lines",
         "showlegend": false,
         "type": "scattermapbox"
        },
        {
         "lat": [
          40.76500525,
          40.744023
         ],
         "line": {
          "color": "blue",
          "width": 1
         },
         "lon": [
          -73.95818491,
          -73.976056
         ],
         "mode": "lines",
         "showlegend": false,
         "type": "scattermapbox"
        },
        {
         "lat": [
          40.7284186,
          40.72917025
         ],
         "line": {
          "color": "blue",
          "width": 1
         },
         "lon": [
          -73.98713956,
          -73.99810231
         ],
         "mode": "lines",
         "showlegend": false,
         "type": "scattermapbox"
        },
        {
         "lat": [
          40.73223272,
          40.73912601
         ],
         "line": {
          "color": "blue",
          "width": 1
         },
         "lon": [
          -73.98889957,
          -73.97973776
         ],
         "mode": "lines",
         "showlegend": false,
         "type": "scattermapbox"
        },
        {
         "lat": [
          40.76703432309872,
          40.7770575
         ],
         "line": {
          "color": "blue",
          "width": 1
         },
         "lon": [
          -73.95622730255127,
          -73.97898475
         ],
         "mode": "lines",
         "showlegend": false,
         "type": "scattermapbox"
        },
        {
         "lat": [
          40.76584941,
          40.76009437
         ],
         "line": {
          "color": "blue",
          "width": 1
         },
         "lon": [
          -73.98690506,
          -73.99461843
         ],
         "mode": "lines",
         "showlegend": false,
         "type": "scattermapbox"
        },
        {
         "lat": [
          40.73020660529954,
          40.74395411
         ],
         "line": {
          "color": "blue",
          "width": 1
         },
         "lon": [
          -73.99102628231049,
          -73.99144871
         ],
         "mode": "lines",
         "showlegend": false,
         "type": "scattermapbox"
        },
        {
         "lat": [
          40.75645824,
          40.74206539
         ],
         "line": {
          "color": "blue",
          "width": 1
         },
         "lon": [
          -73.99372222,
          -74.00443172
         ],
         "mode": "lines",
         "showlegend": false,
         "type": "scattermapbox"
        },
        {
         "lat": [
          40.72743423,
          40.74290902
         ],
         "line": {
          "color": "blue",
          "width": 1
         },
         "lon": [
          -73.99379025,
          -73.97706058
         ],
         "mode": "lines",
         "showlegend": false,
         "type": "scattermapbox"
        },
        {
         "lat": [
          40.69165183,
          40.70853074
         ],
         "line": {
          "color": "blue",
          "width": 1
         },
         "lon": [
          -73.9999786,
          -73.96408963
         ],
         "mode": "lines",
         "showlegend": false,
         "type": "scattermapbox"
        },
        {
         "lat": [
          40.77966809007312,
          40.78499979
         ],
         "line": {
          "color": "blue",
          "width": 1
         },
         "lon": [
          -73.98093044757842,
          -73.97283406
         ],
         "mode": "lines",
         "showlegend": false,
         "type": "scattermapbox"
        },
        {
         "lat": [
          40.74475148,
          40.74475148
         ],
         "line": {
          "color": "blue",
          "width": 1
         },
         "lon": [
          -73.99915362,
          -73.99915362
         ],
         "mode": "lines",
         "showlegend": false,
         "type": "scattermapbox"
        },
        {
         "lat": [
          40.76584941,
          40.76009437
         ],
         "line": {
          "color": "blue",
          "width": 1
         },
         "lon": [
          -73.98690506,
          -73.99461843
         ],
         "mode": "lines",
         "showlegend": false,
         "type": "scattermapbox"
        },
        {
         "lat": [
          40.73172428,
          40.73047747
         ],
         "line": {
          "color": "blue",
          "width": 1
         },
         "lon": [
          -74.00674436,
          -73.99906065
         ],
         "mode": "lines",
         "showlegend": false,
         "type": "scattermapbox"
        },
        {
         "lat": [
          40.8013434,
          40.78057799010334
         ],
         "line": {
          "color": "blue",
          "width": 1
         },
         "lon": [
          -73.9711457439,
          -73.98562431335449
         ],
         "mode": "lines",
         "showlegend": false,
         "type": "scattermapbox"
        },
        {
         "lat": [
          40.68312489,
          40.6750705
         ],
         "line": {
          "color": "blue",
          "width": 1
         },
         "lon": [
          -73.97895137,
          -73.98775226
         ],
         "mode": "lines",
         "showlegend": false,
         "type": "scattermapbox"
        },
        {
         "lat": [
          40.7505853470215,
          40.7734066
         ],
         "line": {
          "color": "blue",
          "width": 1
         },
         "lon": [
          -73.9946848154068,
          -73.97782542
         ],
         "mode": "lines",
         "showlegend": false,
         "type": "scattermapbox"
        },
        {
         "lat": [
          40.74487634,
          40.73827428
         ],
         "line": {
          "color": "blue",
          "width": 1
         },
         "lon": [
          -73.99529885,
          -73.98751968
         ],
         "mode": "lines",
         "showlegend": false,
         "type": "scattermapbox"
        },
        {
         "lat": [
          40.76095756,
          40.78414472
         ],
         "line": {
          "color": "blue",
          "width": 1
         },
         "lon": [
          -73.96724467,
          -73.98362492
         ],
         "mode": "lines",
         "showlegend": false,
         "type": "scattermapbox"
        },
        {
         "lat": [
          40.76663814,
          40.75455731
         ],
         "line": {
          "color": "blue",
          "width": 1
         },
         "lon": [
          -73.95348296,
          -73.96592976
         ],
         "mode": "lines",
         "showlegend": false,
         "type": "scattermapbox"
        },
        {
         "lat": [
          40.751551,
          40.75645824
         ],
         "line": {
          "color": "blue",
          "width": 1
         },
         "lon": [
          -73.993934,
          -73.99372222
         ],
         "mode": "lines",
         "showlegend": false,
         "type": "scattermapbox"
        },
        {
         "lat": [
          40.72521311,
          40.735238
         ],
         "line": {
          "color": "blue",
          "width": 1
         },
         "lon": [
          -73.97768752,
          -74.000271
         ],
         "mode": "lines",
         "showlegend": false,
         "type": "scattermapbox"
        },
        {
         "lat": [
          40.744219,
          40.739445
         ],
         "line": {
          "color": "blue",
          "width": 1
         },
         "lon": [
          -73.97121214,
          -73.976806
         ],
         "mode": "lines",
         "showlegend": false,
         "type": "scattermapbox"
        },
        {
         "lat": [
          40.73971301,
          40.74475148
         ],
         "line": {
          "color": "blue",
          "width": 1
         },
         "lon": [
          -73.99456405,
          -73.99915362
         ],
         "mode": "lines",
         "showlegend": false,
         "type": "scattermapbox"
        },
        {
         "lat": [
          40.76915505,
          40.70530954
         ],
         "line": {
          "color": "blue",
          "width": 1
         },
         "lon": [
          -73.98191841,
          -74.00612572
         ],
         "mode": "lines",
         "showlegend": false,
         "type": "scattermapbox"
        },
        {
         "lat": [
          40.756913,
          40.7647
         ],
         "line": {
          "color": "blue",
          "width": 1
         },
         "lon": [
          -73.921631,
          -73.9240312
         ],
         "mode": "lines",
         "showlegend": false,
         "type": "scattermapbox"
        },
        {
         "lat": [
          40.75466591,
          40.74206539
         ],
         "line": {
          "color": "blue",
          "width": 1
         },
         "lon": [
          -73.99138152,
          -74.00443172
         ],
         "mode": "lines",
         "showlegend": false,
         "type": "scattermapbox"
        },
        {
         "lat": [
          40.736502,
          40.73331967
         ],
         "line": {
          "color": "blue",
          "width": 1
         },
         "lon": [
          -73.97809472,
          -73.99510132
         ],
         "mode": "lines",
         "showlegend": false,
         "type": "scattermapbox"
        },
        {
         "lat": [
          40.7403432,
          40.73624527
         ],
         "line": {
          "color": "blue",
          "width": 1
         },
         "lon": [
          -73.98955109,
          -73.98473765
         ],
         "mode": "lines",
         "showlegend": false,
         "type": "scattermapbox"
        },
        {
         "lat": [
          40.76087502,
          40.73827428
         ],
         "line": {
          "color": "blue",
          "width": 1
         },
         "lon": [
          -74.00277668,
          -73.98751968
         ],
         "mode": "lines",
         "showlegend": false,
         "type": "scattermapbox"
        },
        {
         "lat": [
          40.72903917,
          40.73223272
         ],
         "line": {
          "color": "blue",
          "width": 1
         },
         "lon": [
          -73.99404649,
          -73.98889957
         ],
         "mode": "lines",
         "showlegend": false,
         "type": "scattermapbox"
        },
        {
         "lat": [
          40.74395411,
          40.7454973
         ],
         "line": {
          "color": "blue",
          "width": 1
         },
         "lon": [
          -73.99144871,
          -74.00197139
         ],
         "mode": "lines",
         "showlegend": false,
         "type": "scattermapbox"
        },
        {
         "lat": [
          40.805973,
          40.795346
         ],
         "line": {
          "color": "blue",
          "width": 1
         },
         "lon": [
          -73.964928,
          -73.96186
         ],
         "mode": "lines",
         "showlegend": false,
         "type": "scattermapbox"
        },
        {
         "lat": [
          40.72903917,
          40.72362738
         ],
         "line": {
          "color": "blue",
          "width": 1
         },
         "lon": [
          -73.99404649,
          -73.99949601
         ],
         "mode": "lines",
         "showlegend": false,
         "type": "scattermapbox"
        },
        {
         "lat": [
          40.752416,
          40.74444921
         ],
         "line": {
          "color": "blue",
          "width": 1
         },
         "lon": [
          -73.97837,
          -73.98303529
         ],
         "mode": "lines",
         "showlegend": false,
         "type": "scattermapbox"
        },
        {
         "lat": [
          40.6686273,
          40.68312489
         ],
         "line": {
          "color": "blue",
          "width": 1
         },
         "lon": [
          -73.98700053,
          -73.97895137
         ],
         "mode": "lines",
         "showlegend": false,
         "type": "scattermapbox"
        },
        {
         "lat": [
          40.681990442707026,
          40.68506807308177
         ],
         "line": {
          "color": "blue",
          "width": 1
         },
         "lon": [
          -73.99079024791718,
          -73.97790759801863
         ],
         "mode": "lines",
         "showlegend": false,
         "type": "scattermapbox"
        },
        {
         "lat": [
          40.70530954,
          40.72621788
         ],
         "line": {
          "color": "blue",
          "width": 1
         },
         "lon": [
          -74.00612572,
          -73.98379855
         ],
         "mode": "lines",
         "showlegend": false,
         "type": "scattermapbox"
        },
        {
         "lat": [
          40.71739973,
          40.71406667
         ],
         "line": {
          "color": "blue",
          "width": 1
         },
         "lon": [
          -73.98016555,
          -73.99293911
         ],
         "mode": "lines",
         "showlegend": false,
         "type": "scattermapbox"
        },
        {
         "lat": [
          40.75255434,
          40.75323098
         ],
         "line": {
          "color": "blue",
          "width": 1
         },
         "lon": [
          -73.97282625,
          -73.97032517
         ],
         "mode": "lines",
         "showlegend": false,
         "type": "scattermapbox"
        },
        {
         "lat": [
          40.72362738,
          40.7208736
         ],
         "line": {
          "color": "blue",
          "width": 1
         },
         "lon": [
          -73.99949601,
          -73.98085795
         ],
         "mode": "lines",
         "showlegend": false,
         "type": "scattermapbox"
        },
        {
         "lat": [
          40.71748752,
          40.70463334
         ],
         "line": {
          "color": "blue",
          "width": 1
         },
         "lon": [
          -74.0104554,
          -74.01361706
         ],
         "mode": "lines",
         "showlegend": false,
         "type": "scattermapbox"
        },
        {
         "lat": [
          40.72938685,
          40.73726186
         ],
         "line": {
          "color": "blue",
          "width": 1
         },
         "lon": [
          -73.97772429,
          -73.99238967
         ],
         "mode": "lines",
         "showlegend": false,
         "type": "scattermapbox"
        },
        {
         "lat": [
          40.74475148,
          40.73587678
         ],
         "line": {
          "color": "blue",
          "width": 1
         },
         "lon": [
          -73.99915362,
          -73.98205027
         ],
         "mode": "lines",
         "showlegend": false,
         "type": "scattermapbox"
        },
        {
         "lat": [
          40.75320159,
          40.74147286
         ],
         "line": {
          "color": "blue",
          "width": 1
         },
         "lon": [
          -73.9779874,
          -73.98320928
         ],
         "mode": "lines",
         "showlegend": false,
         "type": "scattermapbox"
        },
        {
         "lat": [
          40.74290902,
          40.7462009
         ],
         "line": {
          "color": "blue",
          "width": 1
         },
         "lon": [
          -73.97706058,
          -73.98855723
         ],
         "mode": "lines",
         "showlegend": false,
         "type": "scattermapbox"
        },
        {
         "lat": [
          40.714215,
          40.70530954
         ],
         "line": {
          "color": "blue",
          "width": 1
         },
         "lon": [
          -73.981346,
          -74.00612572
         ],
         "mode": "lines",
         "showlegend": false,
         "type": "scattermapbox"
        },
        {
         "lat": [
          40.72165481,
          40.7462009
         ],
         "line": {
          "color": "blue",
          "width": 1
         },
         "lon": [
          -74.00234737,
          -73.98855723
         ],
         "mode": "lines",
         "showlegend": false,
         "type": "scattermapbox"
        },
        {
         "lat": [
          40.72217444,
          40.71782143
         ],
         "line": {
          "color": "blue",
          "width": 1
         },
         "lon": [
          -73.98368779,
          -73.97628939
         ],
         "mode": "lines",
         "showlegend": false,
         "type": "scattermapbox"
        },
        {
         "lat": [
          40.76695317,
          40.75455731
         ],
         "line": {
          "color": "blue",
          "width": 1
         },
         "lon": [
          -73.98169333,
          -73.96592976
         ],
         "mode": "lines",
         "showlegend": false,
         "type": "scattermapbox"
        },
        {
         "lat": [
          40.71910537,
          40.72779126
         ],
         "line": {
          "color": "blue",
          "width": 1
         },
         "lon": [
          -73.99973337,
          -73.98564945
         ],
         "mode": "lines",
         "showlegend": false,
         "type": "scattermapbox"
        },
        {
         "lat": [
          40.751873,
          40.768254
         ],
         "line": {
          "color": "blue",
          "width": 1
         },
         "lon": [
          -73.977706,
          -73.988639
         ],
         "mode": "lines",
         "showlegend": false,
         "type": "scattermapbox"
        },
        {
         "lat": [
          40.75018156325683,
          40.74238787
         ],
         "line": {
          "color": "blue",
          "width": 1
         },
         "lon": [
          -74.00218427181244,
          -73.99726235
         ],
         "mode": "lines",
         "showlegend": false,
         "type": "scattermapbox"
        },
        {
         "lat": [
          40.76095756,
          40.73587678
         ],
         "line": {
          "color": "blue",
          "width": 1
         },
         "lon": [
          -73.96724467,
          -73.98205027
         ],
         "mode": "lines",
         "showlegend": false,
         "type": "scattermapbox"
        },
        {
         "lat": [
          40.71602118,
          40.7047177
         ],
         "line": {
          "color": "blue",
          "width": 1
         },
         "lon": [
          -73.99974372,
          -74.00926027
         ],
         "mode": "lines",
         "showlegend": false,
         "type": "scattermapbox"
        },
        {
         "lat": [
          40.8109494,
          40.8067581
         ],
         "line": {
          "color": "blue",
          "width": 1
         },
         "lon": [
          -73.9634,
          -73.9607082
         ],
         "mode": "lines",
         "showlegend": false,
         "type": "scattermapbox"
        },
        {
         "lat": [
          40.71406667,
          40.73314259
         ],
         "line": {
          "color": "blue",
          "width": 1
         },
         "lon": [
          -73.99293911,
          -73.97573881
         ],
         "mode": "lines",
         "showlegend": false,
         "type": "scattermapbox"
        },
        {
         "lat": [
          40.75527307,
          40.77632142182271
         ],
         "line": {
          "color": "blue",
          "width": 1
         },
         "lon": [
          -73.98316936,
          -73.96427392959595
         ],
         "mode": "lines",
         "showlegend": false,
         "type": "scattermapbox"
        },
        {
         "lat": [
          40.7262807,
          40.75206862
         ],
         "line": {
          "color": "blue",
          "width": 1
         },
         "lon": [
          -73.98978041,
          -73.96784384
         ],
         "mode": "lines",
         "showlegend": false,
         "type": "scattermapbox"
        },
        {
         "lat": [
          40.68382604,
          40.68676793
         ],
         "line": {
          "color": "blue",
          "width": 1
         },
         "lon": [
          -73.97632328,
          -73.95928168
         ],
         "mode": "lines",
         "showlegend": false,
         "type": "scattermapbox"
        },
        {
         "lat": [
          40.72679454,
          40.73172428
         ],
         "line": {
          "color": "blue",
          "width": 1
         },
         "lon": [
          -73.99695094,
          -74.00674436
         ],
         "mode": "lines",
         "showlegend": false,
         "type": "scattermapbox"
        },
        {
         "lat": [
          40.75019995,
          40.7423543
         ],
         "line": {
          "color": "blue",
          "width": 1
         },
         "lon": [
          -73.99093085,
          -73.98915076
         ],
         "mode": "lines",
         "showlegend": false,
         "type": "scattermapbox"
        },
        {
         "lat": [
          40.72743423,
          40.7262807
         ],
         "line": {
          "color": "blue",
          "width": 1
         },
         "lon": [
          -73.99379025,
          -73.98978041
         ],
         "mode": "lines",
         "showlegend": false,
         "type": "scattermapbox"
        },
        {
         "lat": [
          40.75640548,
          40.74025878
         ],
         "line": {
          "color": "blue",
          "width": 1
         },
         "lon": [
          -73.9900262,
          -73.98409214
         ],
         "mode": "lines",
         "showlegend": false,
         "type": "scattermapbox"
        },
        {
         "lat": [
          40.72903917,
          40.69236178
         ],
         "line": {
          "color": "blue",
          "width": 1
         },
         "lon": [
          -73.99404649,
          -73.98631746
         ],
         "mode": "lines",
         "showlegend": false,
         "type": "scattermapbox"
        },
        {
         "lat": [
          40.75455731,
          40.7606597
         ],
         "line": {
          "color": "blue",
          "width": 1
         },
         "lon": [
          -73.96592976,
          -73.98042047
         ],
         "mode": "lines",
         "showlegend": false,
         "type": "scattermapbox"
        },
        {
         "lat": [
          40.72873888,
          40.74317449
         ],
         "line": {
          "color": "blue",
          "width": 1
         },
         "lon": [
          -74.00748842,
          -74.00366443
         ],
         "mode": "lines",
         "showlegend": false,
         "type": "scattermapbox"
        },
        {
         "lat": [
          40.72710258,
          40.73401143
         ],
         "line": {
          "color": "blue",
          "width": 1
         },
         "lon": [
          -74.00297088,
          -74.00293877
         ],
         "mode": "lines",
         "showlegend": false,
         "type": "scattermapbox"
        },
        {
         "lat": [
          40.72917025,
          40.73223272
         ],
         "line": {
          "color": "blue",
          "width": 1
         },
         "lon": [
          -73.99810231,
          -73.98889957
         ],
         "mode": "lines",
         "showlegend": false,
         "type": "scattermapbox"
        },
        {
         "lat": [
          40.72521311,
          40.73649403
         ],
         "line": {
          "color": "blue",
          "width": 1
         },
         "lon": [
          -73.97768752,
          -73.99704374
         ],
         "mode": "lines",
         "showlegend": false,
         "type": "scattermapbox"
        },
        {
         "lat": [
          40.7390169121,
          40.74487634
         ],
         "line": {
          "color": "blue",
          "width": 1
         },
         "lon": [
          -74.0026376103,
          -73.99529885
         ],
         "mode": "lines",
         "showlegend": false,
         "type": "scattermapbox"
        },
        {
         "lat": [
          40.7652654,
          40.74937024193277
         ],
         "line": {
          "color": "blue",
          "width": 1
         },
         "lon": [
          -73.98192338,
          -73.99923384189606
         ],
         "mode": "lines",
         "showlegend": false,
         "type": "scattermapbox"
        },
        {
         "lat": [
          40.752416,
          40.7643971
         ],
         "line": {
          "color": "blue",
          "width": 1
         },
         "lon": [
          -73.97837,
          -73.97371465
         ],
         "mode": "lines",
         "showlegend": false,
         "type": "scattermapbox"
        },
        {
         "lat": [
          40.76340613,
          40.744219
         ],
         "line": {
          "color": "blue",
          "width": 1
         },
         "lon": [
          -73.97722479,
          -73.97121214
         ],
         "mode": "lines",
         "showlegend": false,
         "type": "scattermapbox"
        },
        {
         "lat": [
          40.73649403,
          40.7457121
         ],
         "line": {
          "color": "blue",
          "width": 1
         },
         "lon": [
          -73.99704374,
          -73.98194829
         ],
         "mode": "lines",
         "showlegend": false,
         "type": "scattermapbox"
        },
        {
         "lat": [
          40.75645824,
          40.75645824
         ],
         "line": {
          "color": "blue",
          "width": 1
         },
         "lon": [
          -73.99372222,
          -73.99372222
         ],
         "mode": "lines",
         "showlegend": false,
         "type": "scattermapbox"
        },
        {
         "lat": [
          40.70706456,
          40.7037992
         ],
         "line": {
          "color": "blue",
          "width": 1
         },
         "lon": [
          -74.00731853,
          -74.00838676
         ],
         "mode": "lines",
         "showlegend": false,
         "type": "scattermapbox"
        },
        {
         "lat": [
          40.72706363348306,
          40.73223272
         ],
         "line": {
          "color": "blue",
          "width": 1
         },
         "lon": [
          -73.99662137031554,
          -73.98889957
         ],
         "mode": "lines",
         "showlegend": false,
         "type": "scattermapbox"
        },
        {
         "lat": [
          40.714851505262516,
          40.72165481
         ],
         "line": {
          "color": "blue",
          "width": 1
         },
         "lon": [
          -74.01122331619263,
          -74.00234737
         ],
         "mode": "lines",
         "showlegend": false,
         "type": "scattermapbox"
        },
        {
         "lat": [
          40.71542197,
          40.72405549
         ],
         "line": {
          "color": "blue",
          "width": 1
         },
         "lon": [
          -74.01121978,
          -74.00965965
         ],
         "mode": "lines",
         "showlegend": false,
         "type": "scattermapbox"
        },
        {
         "lat": [
          40.74232744,
          40.73232194
         ],
         "line": {
          "color": "blue",
          "width": 1
         },
         "lon": [
          -73.95411749,
          -73.9550858
         ],
         "mode": "lines",
         "showlegend": false,
         "type": "scattermapbox"
        },
        {
         "lat": [
          40.696192,
          40.69991755
         ],
         "line": {
          "color": "blue",
          "width": 1
         },
         "lon": [
          -73.991218,
          -73.98971773
         ],
         "mode": "lines",
         "showlegend": false,
         "type": "scattermapbox"
        },
        {
         "lat": [
          40.8013434,
          40.77966809007312
         ],
         "line": {
          "color": "blue",
          "width": 1
         },
         "lon": [
          -73.9711457439,
          -73.98093044757842
         ],
         "mode": "lines",
         "showlegend": false,
         "type": "scattermapbox"
        },
        {
         "lat": [
          40.73223272,
          40.72903917
         ],
         "line": {
          "color": "blue",
          "width": 1
         },
         "lon": [
          -73.98889957,
          -73.99404649
         ],
         "mode": "lines",
         "showlegend": false,
         "type": "scattermapbox"
        },
        {
         "lat": [
          40.73047747,
          40.70463334
         ],
         "line": {
          "color": "blue",
          "width": 1
         },
         "lon": [
          -73.99906065,
          -74.01361706
         ],
         "mode": "lines",
         "showlegend": false,
         "type": "scattermapbox"
        },
        {
         "lat": [
          40.72903917,
          40.72019576
         ],
         "line": {
          "color": "blue",
          "width": 1
         },
         "lon": [
          -73.99404649,
          -73.98997825
         ],
         "mode": "lines",
         "showlegend": false,
         "type": "scattermapbox"
        },
        {
         "lat": [
          40.73401143,
          40.72453734
         ],
         "line": {
          "color": "blue",
          "width": 1
         },
         "lon": [
          -74.00293877,
          -73.98185424
         ],
         "mode": "lines",
         "showlegend": false,
         "type": "scattermapbox"
        },
        {
         "lat": [
          40.72903917,
          40.7284186
         ],
         "line": {
          "color": "blue",
          "width": 1
         },
         "lon": [
          -73.99404649,
          -73.98713956
         ],
         "mode": "lines",
         "showlegend": false,
         "type": "scattermapbox"
        },
        {
         "lat": [
          40.73454567,
          40.72521311
         ],
         "line": {
          "color": "blue",
          "width": 1
         },
         "lon": [
          -73.99074142,
          -73.97768752
         ],
         "mode": "lines",
         "showlegend": false,
         "type": "scattermapbox"
        },
        {
         "lat": [
          40.8120562,
          40.8143256
         ],
         "line": {
          "color": "blue",
          "width": 1
         },
         "lon": [
          -73.9612547,
          -73.9590255
         ],
         "mode": "lines",
         "showlegend": false,
         "type": "scattermapbox"
        },
        {
         "lat": [
          40.7381765,
          40.73226398
         ],
         "line": {
          "color": "blue",
          "width": 1
         },
         "lon": [
          -73.97738662,
          -73.99852205
         ],
         "mode": "lines",
         "showlegend": false,
         "type": "scattermapbox"
        },
        {
         "lat": [
          40.71427487,
          40.713126
         ],
         "line": {
          "color": "blue",
          "width": 1
         },
         "lon": [
          -73.98990025,
          -73.984844
         ],
         "mode": "lines",
         "showlegend": false,
         "type": "scattermapbox"
        },
        {
         "lat": [
          40.75500254,
          40.75255434
         ],
         "line": {
          "color": "blue",
          "width": 1
         },
         "lon": [
          -73.98014437,
          -73.97282625
         ],
         "mode": "lines",
         "showlegend": false,
         "type": "scattermapbox"
        },
        {
         "lat": [
          40.73454567,
          40.73649403
         ],
         "line": {
          "color": "blue",
          "width": 1
         },
         "lon": [
          -73.99074142,
          -73.99704374
         ],
         "mode": "lines",
         "showlegend": false,
         "type": "scattermapbox"
        },
        {
         "lat": [
          40.79127,
          40.75513557
         ],
         "line": {
          "color": "blue",
          "width": 1
         },
         "lon": [
          -73.964839,
          -73.98658032
         ],
         "mode": "lines",
         "showlegend": false,
         "type": "scattermapbox"
        },
        {
         "lat": [
          40.722103786686034,
          40.74937024193277
         ],
         "line": {
          "color": "blue",
          "width": 1
         },
         "lon": [
          -73.99724900722504,
          -73.99923384189606
         ],
         "mode": "lines",
         "showlegend": false,
         "type": "scattermapbox"
        },
        {
         "lat": [
          40.70463334,
          40.70834698
         ],
         "line": {
          "color": "blue",
          "width": 1
         },
         "lon": [
          -74.01361706,
          -74.01713445
         ],
         "mode": "lines",
         "showlegend": false,
         "type": "scattermapbox"
        },
        {
         "lat": [
          40.7172274,
          40.72467721
         ],
         "line": {
          "color": "blue",
          "width": 1
         },
         "lon": [
          -73.98802084,
          -73.98783413
         ],
         "mode": "lines",
         "showlegend": false,
         "type": "scattermapbox"
        },
        {
         "lat": [
          40.72317958,
          40.72066442
         ],
         "line": {
          "color": "blue",
          "width": 1
         },
         "lon": [
          -73.99480012,
          -73.98517977
         ],
         "mode": "lines",
         "showlegend": false,
         "type": "scattermapbox"
        },
        {
         "lat": [
          40.695065,
          40.69760127
         ],
         "line": {
          "color": "blue",
          "width": 1
         },
         "lon": [
          -73.987167,
          -73.99344559
         ],
         "mode": "lines",
         "showlegend": false,
         "type": "scattermapbox"
        },
        {
         "lat": [
          40.73971301,
          40.751581
         ],
         "line": {
          "color": "blue",
          "width": 1
         },
         "lon": [
          -73.99456405,
          -73.97791
         ],
         "mode": "lines",
         "showlegend": false,
         "type": "scattermapbox"
        },
        {
         "lat": [
          40.73535398,
          40.73649403
         ],
         "line": {
          "color": "blue",
          "width": 1
         },
         "lon": [
          -74.00483091,
          -73.99704374
         ],
         "mode": "lines",
         "showlegend": false,
         "type": "scattermapbox"
        },
        {
         "lat": [
          40.76228826,
          40.7652654
         ],
         "line": {
          "color": "blue",
          "width": 1
         },
         "lon": [
          -73.98336183,
          -73.98192338
         ],
         "mode": "lines",
         "showlegend": false,
         "type": "scattermapbox"
        },
        {
         "lat": [
          40.74238787,
          40.734232
         ],
         "line": {
          "color": "blue",
          "width": 1
         },
         "lon": [
          -73.99726235,
          -73.986923
         ],
         "mode": "lines",
         "showlegend": false,
         "type": "scattermapbox"
        },
        {
         "lat": [
          40.6704836,
          40.6705135
         ],
         "line": {
          "color": "blue",
          "width": 1
         },
         "lon": [
          -73.98208968,
          -73.98876585
         ],
         "mode": "lines",
         "showlegend": false,
         "type": "scattermapbox"
        },
        {
         "lat": [
          40.7457121,
          40.6902375
         ],
         "line": {
          "color": "blue",
          "width": 1
         },
         "lon": [
          -73.98194829,
          -73.99203074
         ],
         "mode": "lines",
         "showlegend": false,
         "type": "scattermapbox"
        },
        {
         "lat": [
          40.73704984,
          40.72217444
         ],
         "line": {
          "color": "blue",
          "width": 1
         },
         "lon": [
          -73.99009296,
          -73.98368779
         ],
         "mode": "lines",
         "showlegend": false,
         "type": "scattermapbox"
        },
        {
         "lat": [
          40.72110063,
          40.71748752
         ],
         "line": {
          "color": "blue",
          "width": 1
         },
         "lon": [
          -73.9919254,
          -74.0104554
         ],
         "mode": "lines",
         "showlegend": false,
         "type": "scattermapbox"
        },
        {
         "lat": [
          40.75724567911726,
          40.75510267
         ],
         "line": {
          "color": "blue",
          "width": 1
         },
         "lon": [
          -73.97805914282799,
          -73.97498696
         ],
         "mode": "lines",
         "showlegend": false,
         "type": "scattermapbox"
        },
        {
         "lat": [
          40.73524276,
          40.7262807
         ],
         "line": {
          "color": "blue",
          "width": 1
         },
         "lon": [
          -73.98758561,
          -73.98978041
         ],
         "mode": "lines",
         "showlegend": false,
         "type": "scattermapbox"
        },
        {
         "lat": [
          40.75018156325683,
          40.74294891660091
         ],
         "line": {
          "color": "blue",
          "width": 1
         },
         "lon": [
          -74.00218427181244,
          -74.00413691997528
         ],
         "mode": "lines",
         "showlegend": false,
         "type": "scattermapbox"
        },
        {
         "lat": [
          40.73261787,
          40.72710258
         ],
         "line": {
          "color": "blue",
          "width": 1
         },
         "lon": [
          -73.99158043,
          -74.00297088
         ],
         "mode": "lines",
         "showlegend": false,
         "type": "scattermapbox"
        },
        {
         "lat": [
          40.8021174,
          40.70365182
         ],
         "line": {
          "color": "blue",
          "width": 1
         },
         "lon": [
          -73.9681805305,
          -74.01167797
         ],
         "mode": "lines",
         "showlegend": false,
         "type": "scattermapbox"
        },
        {
         "lat": [
          40.77492513,
          40.76019252
         ],
         "line": {
          "color": "blue",
          "width": 1
         },
         "lon": [
          -73.98266566,
          -73.9912551
         ],
         "mode": "lines",
         "showlegend": false,
         "type": "scattermapbox"
        },
        {
         "lat": [
          40.7575699,
          40.75510267
         ],
         "line": {
          "color": "blue",
          "width": 1
         },
         "lon": [
          -73.99098507,
          -73.97498696
         ],
         "mode": "lines",
         "showlegend": false,
         "type": "scattermapbox"
        },
        {
         "lat": [
          40.7462009,
          40.73261787
         ],
         "line": {
          "color": "blue",
          "width": 1
         },
         "lon": [
          -73.98855723,
          -73.99158043
         ],
         "mode": "lines",
         "showlegend": false,
         "type": "scattermapbox"
        },
        {
         "lat": [
          40.72903917,
          40.72502876
         ],
         "line": {
          "color": "blue",
          "width": 1
         },
         "lon": [
          -73.99404649,
          -73.99069656
         ],
         "mode": "lines",
         "showlegend": false,
         "type": "scattermapbox"
        },
        {
         "lat": [
          40.751873,
          40.71602118
         ],
         "line": {
          "color": "blue",
          "width": 1
         },
         "lon": [
          -73.977706,
          -73.99974372
         ],
         "mode": "lines",
         "showlegend": false,
         "type": "scattermapbox"
        },
        {
         "lat": [
          40.7390169121,
          40.73652889
         ],
         "line": {
          "color": "blue",
          "width": 1
         },
         "lon": [
          -74.0026376103,
          -74.00618026
         ],
         "mode": "lines",
         "showlegend": false,
         "type": "scattermapbox"
        },
        {
         "lat": [
          40.73172428,
          40.72405549
         ],
         "line": {
          "color": "blue",
          "width": 1
         },
         "lon": [
          -74.00674436,
          -74.00965965
         ],
         "mode": "lines",
         "showlegend": false,
         "type": "scattermapbox"
        },
        {
         "lat": [
          40.711066,
          40.71069994631387
         ],
         "line": {
          "color": "blue",
          "width": 1
         },
         "lon": [
          -74.009447,
          -74.00354146957397
         ],
         "mode": "lines",
         "showlegend": false,
         "type": "scattermapbox"
        },
        {
         "lat": [
          40.74395411,
          40.7652654
         ],
         "line": {
          "color": "blue",
          "width": 1
         },
         "lon": [
          -73.99144871,
          -73.98192338
         ],
         "mode": "lines",
         "showlegend": false,
         "type": "scattermapbox"
        },
        {
         "lat": [
          40.73172428,
          40.73649403
         ],
         "line": {
          "color": "blue",
          "width": 1
         },
         "lon": [
          -74.00674436,
          -73.99704374
         ],
         "mode": "lines",
         "showlegend": false,
         "type": "scattermapbox"
        },
        {
         "lat": [
          40.73492695,
          40.71748752
         ],
         "line": {
          "color": "blue",
          "width": 1
         },
         "lon": [
          -73.99200509,
          -74.0104554
         ],
         "mode": "lines",
         "showlegend": false,
         "type": "scattermapbox"
        },
        {
         "lat": [
          40.7172274,
          40.74780373
         ],
         "line": {
          "color": "blue",
          "width": 1
         },
         "lon": [
          -73.98802084,
          -73.9734419
         ],
         "mode": "lines",
         "showlegend": false,
         "type": "scattermapbox"
        },
        {
         "lat": [
          40.75660359,
          40.75660359
         ],
         "line": {
          "color": "blue",
          "width": 1
         },
         "lon": [
          -73.9979009,
          -73.9979009
         ],
         "mode": "lines",
         "showlegend": false,
         "type": "scattermapbox"
        },
        {
         "lat": [
          40.7568001,
          40.75968085
         ],
         "line": {
          "color": "blue",
          "width": 1
         },
         "lon": [
          -73.98291153,
          -73.97031366
         ],
         "mode": "lines",
         "showlegend": false,
         "type": "scattermapbox"
        },
        {
         "lat": [
          40.72082834,
          40.72467721
         ],
         "line": {
          "color": "blue",
          "width": 1
         },
         "lon": [
          -73.97793172,
          -73.98783413
         ],
         "mode": "lines",
         "showlegend": false,
         "type": "scattermapbox"
        },
        {
         "lat": [
          40.7381765,
          40.7457121
         ],
         "line": {
          "color": "blue",
          "width": 1
         },
         "lon": [
          -73.97738662,
          -73.98194829
         ],
         "mode": "lines",
         "showlegend": false,
         "type": "scattermapbox"
        },
        {
         "lat": [
          40.69383,
          40.68981035
         ],
         "line": {
          "color": "blue",
          "width": 1
         },
         "lon": [
          -73.990539,
          -73.97493121
         ],
         "mode": "lines",
         "showlegend": false,
         "type": "scattermapbox"
        },
        {
         "lat": [
          40.75255434,
          40.73543934
         ],
         "line": {
          "color": "blue",
          "width": 1
         },
         "lon": [
          -73.97282625,
          -73.99453948
         ],
         "mode": "lines",
         "showlegend": false,
         "type": "scattermapbox"
        },
        {
         "lat": [
          40.70905623,
          40.70355377
         ],
         "line": {
          "color": "blue",
          "width": 1
         },
         "lon": [
          -74.01043382,
          -74.00670227
         ],
         "mode": "lines",
         "showlegend": false,
         "type": "scattermapbox"
        },
        {
         "lat": [
          40.74025878,
          40.744023
         ],
         "line": {
          "color": "blue",
          "width": 1
         },
         "lon": [
          -73.98409214,
          -73.976056
         ],
         "mode": "lines",
         "showlegend": false,
         "type": "scattermapbox"
        },
        {
         "lat": [
          40.72917025,
          40.7262807
         ],
         "line": {
          "color": "blue",
          "width": 1
         },
         "lon": [
          -73.99810231,
          -73.98978041
         ],
         "mode": "lines",
         "showlegend": false,
         "type": "scattermapbox"
        },
        {
         "lat": [
          40.70224,
          40.68926942
         ],
         "line": {
          "color": "blue",
          "width": 1
         },
         "lon": [
          -73.982578,
          -73.98912867
         ],
         "mode": "lines",
         "showlegend": false,
         "type": "scattermapbox"
        },
        {
         "lat": [
          40.71450451,
          40.71291224
         ],
         "line": {
          "color": "blue",
          "width": 1
         },
         "lon": [
          -74.00562789,
          -74.01020234
         ],
         "mode": "lines",
         "showlegend": false,
         "type": "scattermapbox"
        },
        {
         "lat": [
          40.692418292578466,
          40.69327018
         ],
         "line": {
          "color": "blue",
          "width": 1
         },
         "lon": [
          -73.98949474096298,
          -73.97703874
         ],
         "mode": "lines",
         "showlegend": false,
         "type": "scattermapbox"
        },
        {
         "lat": [
          40.73704984,
          40.72580614
         ],
         "line": {
          "color": "blue",
          "width": 1
         },
         "lon": [
          -73.99009296,
          -73.97422494
         ],
         "mode": "lines",
         "showlegend": false,
         "type": "scattermapbox"
        },
        {
         "lat": [
          40.74966,
          40.75325964
         ],
         "line": {
          "color": "blue",
          "width": 1
         },
         "lon": [
          -73.9521,
          -73.94335788
         ],
         "mode": "lines",
         "showlegend": false,
         "type": "scattermapbox"
        },
        {
         "lat": [
          40.70955958,
          40.70862144
         ],
         "line": {
          "color": "blue",
          "width": 1
         },
         "lon": [
          -74.00653609,
          -74.00722156
         ],
         "mode": "lines",
         "showlegend": false,
         "type": "scattermapbox"
        },
        {
         "lat": [
          40.7153379,
          40.746647
         ],
         "line": {
          "color": "blue",
          "width": 1
         },
         "lon": [
          -74.01658354,
          -73.993915
         ],
         "mode": "lines",
         "showlegend": false,
         "type": "scattermapbox"
        },
        {
         "lat": [
          40.7682,
          40.7711528
         ],
         "line": {
          "color": "blue",
          "width": 1
         },
         "lon": [
          -73.9322662,
          -73.9170074
         ],
         "mode": "lines",
         "showlegend": false,
         "type": "scattermapbox"
        },
        {
         "lat": [
          40.75097711,
          40.75666
         ],
         "line": {
          "color": "blue",
          "width": 1
         },
         "lon": [
          -73.98765428,
          -73.976684
         ],
         "mode": "lines",
         "showlegend": false,
         "type": "scattermapbox"
        },
        {
         "lat": [
          40.7575699,
          40.75513557
         ],
         "line": {
          "color": "blue",
          "width": 1
         },
         "lon": [
          -73.99098507,
          -73.98658032
         ],
         "mode": "lines",
         "showlegend": false,
         "type": "scattermapbox"
        },
        {
         "lat": [
          40.7284186,
          40.7262807
         ],
         "line": {
          "color": "blue",
          "width": 1
         },
         "lon": [
          -73.98713956,
          -73.98978041
         ],
         "mode": "lines",
         "showlegend": false,
         "type": "scattermapbox"
        },
        {
         "lat": [
          40.71076228,
          40.71117444
         ],
         "line": {
          "color": "blue",
          "width": 1
         },
         "lon": [
          -73.99400398,
          -73.99682619
         ],
         "mode": "lines",
         "showlegend": false,
         "type": "scattermapbox"
        },
        {
         "lat": [
          40.74144387,
          40.734232
         ],
         "line": {
          "color": "blue",
          "width": 1
         },
         "lon": [
          -73.97536082,
          -73.986923
         ],
         "mode": "lines",
         "showlegend": false,
         "type": "scattermapbox"
        },
        {
         "lat": [
          40.67890679,
          40.68900443
         ],
         "line": {
          "color": "blue",
          "width": 1
         },
         "lon": [
          -73.94142771,
          -73.96023854
         ],
         "mode": "lines",
         "showlegend": false,
         "type": "scattermapbox"
        },
        {
         "lat": [
          40.74147286,
          40.72621788
         ],
         "line": {
          "color": "blue",
          "width": 1
         },
         "lon": [
          -73.98320928,
          -73.98379855
         ],
         "mode": "lines",
         "showlegend": false,
         "type": "scattermapbox"
        },
        {
         "lat": [
          40.683048,
          40.72179134
         ],
         "line": {
          "color": "blue",
          "width": 1
         },
         "lon": [
          -73.964915,
          -73.9504154
         ],
         "mode": "lines",
         "showlegend": false,
         "type": "scattermapbox"
        },
        {
         "lat": [
          40.76269882,
          40.7575699
         ],
         "line": {
          "color": "blue",
          "width": 1
         },
         "lon": [
          -73.99301222,
          -73.99098507
         ],
         "mode": "lines",
         "showlegend": false,
         "type": "scattermapbox"
        },
        {
         "lat": [
          40.76663814,
          40.751581
         ],
         "line": {
          "color": "blue",
          "width": 1
         },
         "lon": [
          -73.95348296,
          -73.97791
         ],
         "mode": "lines",
         "showlegend": false,
         "type": "scattermapbox"
        },
        {
         "lat": [
          40.78307,
          40.77282817
         ],
         "line": {
          "color": "blue",
          "width": 1
         },
         "lon": [
          -73.95939,
          -73.96685276
         ],
         "mode": "lines",
         "showlegend": false,
         "type": "scattermapbox"
        },
        {
         "lat": [
          40.75828065,
          40.78275
         ],
         "line": {
          "color": "blue",
          "width": 1
         },
         "lon": [
          -73.97069431,
          -73.97137
         ],
         "mode": "lines",
         "showlegend": false,
         "type": "scattermapbox"
        },
        {
         "lat": [
          40.711512,
          40.73172428
         ],
         "line": {
          "color": "blue",
          "width": 1
         },
         "lon": [
          -74.015756,
          -74.00674436
         ],
         "mode": "lines",
         "showlegend": false,
         "type": "scattermapbox"
        },
        {
         "lat": [
          40.68676793,
          40.69331716
         ],
         "line": {
          "color": "blue",
          "width": 1
         },
         "lon": [
          -73.95928168,
          -73.95381995
         ],
         "mode": "lines",
         "showlegend": false,
         "type": "scattermapbox"
        },
        {
         "lat": [
          40.751551,
          40.76727216
         ],
         "line": {
          "color": "blue",
          "width": 1
         },
         "lon": [
          -73.993934,
          -73.99392888
         ],
         "mode": "lines",
         "showlegend": false,
         "type": "scattermapbox"
        },
        {
         "lat": [
          40.744023,
          40.74025878
         ],
         "line": {
          "color": "blue",
          "width": 1
         },
         "lon": [
          -73.976056,
          -73.98409214
         ],
         "mode": "lines",
         "showlegend": false,
         "type": "scattermapbox"
        },
        {
         "lat": [
          40.7867947,
          40.77118287540658
         ],
         "line": {
          "color": "blue",
          "width": 1
         },
         "lon": [
          -73.977112,
          -73.96409422159195
         ],
         "mode": "lines",
         "showlegend": false,
         "type": "scattermapbox"
        },
        {
         "lat": [
          40.736502,
          40.72066442
         ],
         "line": {
          "color": "blue",
          "width": 1
         },
         "lon": [
          -73.97809472,
          -73.98517977
         ],
         "mode": "lines",
         "showlegend": false,
         "type": "scattermapbox"
        },
        {
         "lat": [
          40.749717753,
          40.74395411
         ],
         "line": {
          "color": "blue",
          "width": 1
         },
         "lon": [
          -74.002950346,
          -73.99144871
         ],
         "mode": "lines",
         "showlegend": false,
         "type": "scattermapbox"
        },
        {
         "lat": [
          40.69512845,
          40.69512845
         ],
         "line": {
          "color": "blue",
          "width": 1
         },
         "lon": [
          -73.99595065,
          -73.99595065
         ],
         "mode": "lines",
         "showlegend": false,
         "type": "scattermapbox"
        },
        {
         "lat": [
          40.7652654,
          40.7575699
         ],
         "line": {
          "color": "blue",
          "width": 1
         },
         "lon": [
          -73.98192338,
          -73.99098507
         ],
         "mode": "lines",
         "showlegend": false,
         "type": "scattermapbox"
        },
        {
         "lat": [
          40.69196566,
          40.69608941
         ],
         "line": {
          "color": "blue",
          "width": 1
         },
         "lon": [
          -73.9813018,
          -73.97803415
         ],
         "mode": "lines",
         "showlegend": false,
         "type": "scattermapbox"
        },
        {
         "lat": [
          40.74173969,
          40.76341379
         ],
         "line": {
          "color": "blue",
          "width": 1
         },
         "lon": [
          -73.99415556,
          -73.99667444
         ],
         "mode": "lines",
         "showlegend": false,
         "type": "scattermapbox"
        },
        {
         "lat": [
          40.7381765,
          40.73221853
         ],
         "line": {
          "color": "blue",
          "width": 1
         },
         "lon": [
          -73.97738662,
          -73.98165557
         ],
         "mode": "lines",
         "showlegend": false,
         "type": "scattermapbox"
        },
        {
         "lat": [
          40.78472675,
          40.790261
         ],
         "line": {
          "color": "blue",
          "width": 1
         },
         "lon": [
          -73.96961715,
          -73.977131
         ],
         "mode": "lines",
         "showlegend": false,
         "type": "scattermapbox"
        },
        {
         "lat": [
          40.72405549,
          40.714851505262516
         ],
         "line": {
          "color": "blue",
          "width": 1
         },
         "lon": [
          -74.00965965,
          -74.01122331619263
         ],
         "mode": "lines",
         "showlegend": false,
         "type": "scattermapbox"
        },
        {
         "lat": [
          40.72066442,
          40.71939226
         ],
         "line": {
          "color": "blue",
          "width": 1
         },
         "lon": [
          -73.98517977,
          -74.00247214
         ],
         "mode": "lines",
         "showlegend": false,
         "type": "scattermapbox"
        },
        {
         "lat": [
          40.72299208,
          40.70355377
         ],
         "line": {
          "color": "blue",
          "width": 1
         },
         "lon": [
          -73.97995466,
          -74.00670227
         ],
         "mode": "lines",
         "showlegend": false,
         "type": "scattermapbox"
        },
        {
         "lat": [
          40.74487634,
          40.74691959
         ],
         "line": {
          "color": "blue",
          "width": 1
         },
         "lon": [
          -73.99529885,
          -74.00451887
         ],
         "mode": "lines",
         "showlegend": false,
         "type": "scattermapbox"
        },
        {
         "lat": [
          40.75320159,
          40.73416059
         ],
         "line": {
          "color": "blue",
          "width": 1
         },
         "lon": [
          -73.9779874,
          -73.98024289
         ],
         "mode": "lines",
         "showlegend": false,
         "type": "scattermapbox"
        },
        {
         "lat": [
          40.70706456,
          40.70834698
         ],
         "line": {
          "color": "blue",
          "width": 1
         },
         "lon": [
          -74.00731853,
          -74.01713445
         ],
         "mode": "lines",
         "showlegend": false,
         "type": "scattermapbox"
        },
        {
         "lat": [
          40.7262807,
          40.70355377
         ],
         "line": {
          "color": "blue",
          "width": 1
         },
         "lon": [
          -73.98978041,
          -74.00670227
         ],
         "mode": "lines",
         "showlegend": false,
         "type": "scattermapbox"
        },
        {
         "lat": [
          40.76020258,
          40.75323098
         ],
         "line": {
          "color": "blue",
          "width": 1
         },
         "lon": [
          -73.96478473,
          -73.97032517
         ],
         "mode": "lines",
         "showlegend": false,
         "type": "scattermapbox"
        },
        {
         "lat": [
          40.6662078,
          40.666287
         ],
         "line": {
          "color": "blue",
          "width": 1
         },
         "lon": [
          -73.98199886,
          -73.98895053
         ],
         "mode": "lines",
         "showlegend": false,
         "type": "scattermapbox"
        },
        {
         "lat": [
          40.76663814,
          40.76312584
         ],
         "line": {
          "color": "blue",
          "width": 1
         },
         "lon": [
          -73.95348296,
          -73.96526895
         ],
         "mode": "lines",
         "showlegend": false,
         "type": "scattermapbox"
        },
        {
         "lat": [
          40.70538077,
          40.69539817
         ],
         "line": {
          "color": "blue",
          "width": 1
         },
         "lon": [
          -73.94976519,
          -73.94954908
         ],
         "mode": "lines",
         "showlegend": false,
         "type": "scattermapbox"
        },
        {
         "lat": [
          40.76019252,
          40.74238787
         ],
         "line": {
          "color": "blue",
          "width": 1
         },
         "lon": [
          -73.9912551,
          -73.99726235
         ],
         "mode": "lines",
         "showlegend": false,
         "type": "scattermapbox"
        },
        {
         "lat": [
          40.73492695,
          40.72710258
         ],
         "line": {
          "color": "blue",
          "width": 1
         },
         "lon": [
          -73.99200509,
          -74.00297088
         ],
         "mode": "lines",
         "showlegend": false,
         "type": "scattermapbox"
        },
        {
         "lat": [
          40.75640548,
          40.74317449
         ],
         "line": {
          "color": "blue",
          "width": 1
         },
         "lon": [
          -73.9900262,
          -74.00366443
         ],
         "mode": "lines",
         "showlegend": false,
         "type": "scattermapbox"
        },
        {
         "lat": [
          40.76915505,
          40.7691572
         ],
         "line": {
          "color": "blue",
          "width": 1
         },
         "lon": [
          -73.98191841,
          -73.96703464
         ],
         "mode": "lines",
         "showlegend": false,
         "type": "scattermapbox"
        },
        {
         "lat": [
          40.71602118,
          40.75323098
         ],
         "line": {
          "color": "blue",
          "width": 1
         },
         "lon": [
          -73.99974372,
          -73.97032517
         ],
         "mode": "lines",
         "showlegend": false,
         "type": "scattermapbox"
        },
        {
         "lat": [
          40.72903917,
          40.72740794
         ],
         "line": {
          "color": "blue",
          "width": 1
         },
         "lon": [
          -73.99404649,
          -73.98142006
         ],
         "mode": "lines",
         "showlegend": false,
         "type": "scattermapbox"
        },
        {
         "lat": [
          40.72368361,
          40.72228087
         ],
         "line": {
          "color": "blue",
          "width": 1
         },
         "lon": [
          -73.97574813,
          -73.97668709
         ],
         "mode": "lines",
         "showlegend": false,
         "type": "scattermapbox"
        },
        {
         "lat": [
          40.75992262,
          40.7489006
         ],
         "line": {
          "color": "blue",
          "width": 1
         },
         "lon": [
          -73.97648516,
          -73.97604882
         ],
         "mode": "lines",
         "showlegend": false,
         "type": "scattermapbox"
        },
        {
         "lat": [
          40.74311555376486,
          40.73331967
         ],
         "line": {
          "color": "blue",
          "width": 1
         },
         "lon": [
          -73.98215353488922,
          -73.99510132
         ],
         "mode": "lines",
         "showlegend": false,
         "type": "scattermapbox"
        },
        {
         "lat": [
          40.7403432,
          40.73543934
         ],
         "line": {
          "color": "blue",
          "width": 1
         },
         "lon": [
          -73.98955109,
          -73.99453948
         ],
         "mode": "lines",
         "showlegend": false,
         "type": "scattermapbox"
        },
        {
         "lat": [
          40.72502876,
          40.73224119
         ],
         "line": {
          "color": "blue",
          "width": 1
         },
         "lon": [
          -73.99069656,
          -74.00026394
         ],
         "mode": "lines",
         "showlegend": false,
         "type": "scattermapbox"
        },
        {
         "lat": [
          40.741021509002664,
          40.735367055605394
         ],
         "line": {
          "color": "blue",
          "width": 1
         },
         "lon": [
          -74.001384973526,
          -73.98797392845154
         ],
         "mode": "lines",
         "showlegend": false,
         "type": "scattermapbox"
        },
        {
         "lat": [
          40.77518615,
          40.761628
         ],
         "line": {
          "color": "blue",
          "width": 1
         },
         "lon": [
          -73.94446054,
          -73.972924
         ],
         "mode": "lines",
         "showlegend": false,
         "type": "scattermapbox"
        },
        {
         "lat": [
          40.76030096,
          40.7937704
         ],
         "line": {
          "color": "blue",
          "width": 1
         },
         "lon": [
          -73.99884222,
          -73.971888
         ],
         "mode": "lines",
         "showlegend": false,
         "type": "scattermapbox"
        },
        {
         "lat": [
          40.69878,
          40.70277159
         ],
         "line": {
          "color": "blue",
          "width": 1
         },
         "lon": [
          -73.99712,
          -73.99383605
         ],
         "mode": "lines",
         "showlegend": false,
         "type": "scattermapbox"
        },
        {
         "lat": [
          40.751396,
          40.7867947
         ],
         "line": {
          "color": "blue",
          "width": 1
         },
         "lon": [
          -74.005226,
          -73.977112
         ],
         "mode": "lines",
         "showlegend": false,
         "type": "scattermapbox"
        },
        {
         "lat": [
          40.75660359,
          40.72453734
         ],
         "line": {
          "color": "blue",
          "width": 1
         },
         "lon": [
          -73.9979009,
          -73.98185424
         ],
         "mode": "lines",
         "showlegend": false,
         "type": "scattermapbox"
        },
        {
         "lat": [
          40.70355377,
          40.7037992
         ],
         "line": {
          "color": "blue",
          "width": 1
         },
         "lon": [
          -74.00670227,
          -74.00838676
         ],
         "mode": "lines",
         "showlegend": false,
         "type": "scattermapbox"
        },
        {
         "lat": [
          40.73726186,
          40.7284186
         ],
         "line": {
          "color": "blue",
          "width": 1
         },
         "lon": [
          -73.99238967,
          -73.98713956
         ],
         "mode": "lines",
         "showlegend": false,
         "type": "scattermapbox"
        },
        {
         "lat": [
          40.76370739,
          40.72490985
         ],
         "line": {
          "color": "blue",
          "width": 1
         },
         "lon": [
          -73.9851615,
          -74.00154702
         ],
         "mode": "lines",
         "showlegend": false,
         "type": "scattermapbox"
        },
        {
         "lat": [
          40.73524276,
          40.72317958
         ],
         "line": {
          "color": "blue",
          "width": 1
         },
         "lon": [
          -73.98758561,
          -73.99480012
         ],
         "mode": "lines",
         "showlegend": false,
         "type": "scattermapbox"
        },
        {
         "lat": [
          40.713126,
          40.714215
         ],
         "line": {
          "color": "blue",
          "width": 1
         },
         "lon": [
          -73.984844,
          -73.981346
         ],
         "mode": "lines",
         "showlegend": false,
         "type": "scattermapbox"
        },
        {
         "lat": [
          40.71893904,
          40.71173107
         ],
         "line": {
          "color": "blue",
          "width": 1
         },
         "lon": [
          -73.99266288,
          -73.99193043
         ],
         "mode": "lines",
         "showlegend": false,
         "type": "scattermapbox"
        },
        {
         "lat": [
          40.76584941,
          40.75510267
         ],
         "line": {
          "color": "blue",
          "width": 1
         },
         "lon": [
          -73.98690506,
          -73.97498696
         ],
         "mode": "lines",
         "showlegend": false,
         "type": "scattermapbox"
        },
        {
         "lat": [
          40.72903917,
          40.72951496224949
         ],
         "line": {
          "color": "blue",
          "width": 1
         },
         "lon": [
          -73.99404649,
          -73.99075269699097
         ],
         "mode": "lines",
         "showlegend": false,
         "type": "scattermapbox"
        },
        {
         "lat": [
          40.72903917,
          40.71870987
         ],
         "line": {
          "color": "blue",
          "width": 1
         },
         "lon": [
          -73.99404649,
          -74.0090009
         ],
         "mode": "lines",
         "showlegend": false,
         "type": "scattermapbox"
        },
        {
         "lat": [
          40.75929124,
          40.761628
         ],
         "line": {
          "color": "blue",
          "width": 1
         },
         "lon": [
          -73.98859651,
          -73.972924
         ],
         "mode": "lines",
         "showlegend": false,
         "type": "scattermapbox"
        },
        {
         "lat": [
          40.73143724085228,
          40.73543934
         ],
         "line": {
          "color": "blue",
          "width": 1
         },
         "lon": [
          -73.99490341544151,
          -73.99453948
         ],
         "mode": "lines",
         "showlegend": false,
         "type": "scattermapbox"
        },
        {
         "lat": [
          40.7031724,
          40.71907891179564
         ],
         "line": {
          "color": "blue",
          "width": 1
         },
         "lon": [
          -73.940636,
          -73.94223690032959
         ],
         "mode": "lines",
         "showlegend": false,
         "type": "scattermapbox"
        },
        {
         "lat": [
          40.72082834,
          40.72456089
         ],
         "line": {
          "color": "blue",
          "width": 1
         },
         "lon": [
          -73.97793172,
          -73.99565293
         ],
         "mode": "lines",
         "showlegend": false,
         "type": "scattermapbox"
        },
        {
         "lat": [
          40.7454973,
          40.75594159
         ],
         "line": {
          "color": "blue",
          "width": 1
         },
         "lon": [
          -74.00197139,
          -74.0021163
         ],
         "mode": "lines",
         "showlegend": false,
         "type": "scattermapbox"
        },
        {
         "lat": [
          40.73543934,
          40.72917025
         ],
         "line": {
          "color": "blue",
          "width": 1
         },
         "lon": [
          -73.99453948,
          -73.99810231
         ],
         "mode": "lines",
         "showlegend": false,
         "type": "scattermapbox"
        },
        {
         "lat": [
          40.74311555376486,
          40.73261787
         ],
         "line": {
          "color": "blue",
          "width": 1
         },
         "lon": [
          -73.98215353488922,
          -73.99158043
         ],
         "mode": "lines",
         "showlegend": false,
         "type": "scattermapbox"
        },
        {
         "lat": [
          40.74395411,
          40.75149263
         ],
         "line": {
          "color": "blue",
          "width": 1
         },
         "lon": [
          -73.99144871,
          -73.97798848
         ],
         "mode": "lines",
         "showlegend": false,
         "type": "scattermapbox"
        },
        {
         "lat": [
          40.73649403,
          40.76350532
         ],
         "line": {
          "color": "blue",
          "width": 1
         },
         "lon": [
          -73.99704374,
          -73.97109243
         ],
         "mode": "lines",
         "showlegend": false,
         "type": "scattermapbox"
        },
        {
         "lat": [
          40.76269882,
          40.74734825
         ],
         "line": {
          "color": "blue",
          "width": 1
         },
         "lon": [
          -73.99301222,
          -73.99723551
         ],
         "mode": "lines",
         "showlegend": false,
         "type": "scattermapbox"
        },
        {
         "lat": [
          40.7361967,
          40.74206539
         ],
         "line": {
          "color": "blue",
          "width": 1
         },
         "lon": [
          -74.00859207,
          -74.00443172
         ],
         "mode": "lines",
         "showlegend": false,
         "type": "scattermapbox"
        },
        {
         "lat": [
          40.73704984,
          40.72953837
         ],
         "line": {
          "color": "blue",
          "width": 1
         },
         "lon": [
          -73.99009296,
          -73.98426726
         ],
         "mode": "lines",
         "showlegend": false,
         "type": "scattermapbox"
        },
        {
         "lat": [
          40.74487634,
          40.78720869
         ],
         "line": {
          "color": "blue",
          "width": 1
         },
         "lon": [
          -73.99529885,
          -73.98128127
         ],
         "mode": "lines",
         "showlegend": false,
         "type": "scattermapbox"
        },
        {
         "lat": [
          40.72456089,
          40.72082834
         ],
         "line": {
          "color": "blue",
          "width": 1
         },
         "lon": [
          -73.99565293,
          -73.97793172
         ],
         "mode": "lines",
         "showlegend": false,
         "type": "scattermapbox"
        },
        {
         "lat": [
          40.70122128,
          40.71911552
         ],
         "line": {
          "color": "blue",
          "width": 1
         },
         "lon": [
          -74.01234218,
          -74.00666661
         ],
         "mode": "lines",
         "showlegend": false,
         "type": "scattermapbox"
        },
        {
         "lat": [
          40.73261787,
          40.73226398
         ],
         "line": {
          "color": "blue",
          "width": 1
         },
         "lon": [
          -73.99158043,
          -73.99852205
         ],
         "mode": "lines",
         "showlegend": false,
         "type": "scattermapbox"
        },
        {
         "lat": [
          40.73971301,
          40.73047747
         ],
         "line": {
          "color": "blue",
          "width": 1
         },
         "lon": [
          -73.99456405,
          -73.99906065
         ],
         "mode": "lines",
         "showlegend": false,
         "type": "scattermapbox"
        },
        {
         "lat": [
          40.73535398,
          40.74475148
         ],
         "line": {
          "color": "blue",
          "width": 1
         },
         "lon": [
          -74.00483091,
          -73.99915362
         ],
         "mode": "lines",
         "showlegend": false,
         "type": "scattermapbox"
        },
        {
         "lat": [
          40.74475148,
          40.74238787
         ],
         "line": {
          "color": "blue",
          "width": 1
         },
         "lon": [
          -73.99915362,
          -73.99726235
         ],
         "mode": "lines",
         "showlegend": false,
         "type": "scattermapbox"
        },
        {
         "lat": [
          40.71782143,
          40.71413089
         ],
         "line": {
          "color": "blue",
          "width": 1
         },
         "lon": [
          -73.97628939,
          -73.9970468
         ],
         "mode": "lines",
         "showlegend": false,
         "type": "scattermapbox"
        },
        {
         "lat": [
          40.74444921,
          40.73912601
         ],
         "line": {
          "color": "blue",
          "width": 1
         },
         "lon": [
          -73.98303529,
          -73.97973776
         ],
         "mode": "lines",
         "showlegend": false,
         "type": "scattermapbox"
        },
        {
         "lat": [
          40.72066442,
          40.71625008
         ],
         "line": {
          "color": "blue",
          "width": 1
         },
         "lon": [
          -73.98517977,
          -74.0091059
         ],
         "mode": "lines",
         "showlegend": false,
         "type": "scattermapbox"
        },
        {
         "lat": [
          40.714215,
          40.71605866
         ],
         "line": {
          "color": "blue",
          "width": 1
         },
         "lon": [
          -73.981346,
          -73.99190759
         ],
         "mode": "lines",
         "showlegend": false,
         "type": "scattermapbox"
        },
        {
         "lat": [
          40.74173969,
          40.72903917
         ],
         "line": {
          "color": "blue",
          "width": 1
         },
         "lon": [
          -73.99415556,
          -73.99404649
         ],
         "mode": "lines",
         "showlegend": false,
         "type": "scattermapbox"
        },
        {
         "lat": [
          40.75898481399634,
          40.70862144
         ],
         "line": {
          "color": "blue",
          "width": 1
         },
         "lon": [
          -73.99379968643188,
          -74.00722156
         ],
         "mode": "lines",
         "showlegend": false,
         "type": "scattermapbox"
        },
        {
         "lat": [
          40.7711528,
          40.7701477
         ],
         "line": {
          "color": "blue",
          "width": 1
         },
         "lon": [
          -73.9170074,
          -73.9120938
         ],
         "mode": "lines",
         "showlegend": false,
         "type": "scattermapbox"
        },
        {
         "lat": [
          40.73543934,
          40.73261787
         ],
         "line": {
          "color": "blue",
          "width": 1
         },
         "lon": [
          -73.99453948,
          -73.99158043
         ],
         "mode": "lines",
         "showlegend": false,
         "type": "scattermapbox"
        },
        {
         "lat": [
          40.73704984,
          40.7451677
         ],
         "line": {
          "color": "blue",
          "width": 1
         },
         "lon": [
          -73.99009296,
          -73.98683077
         ],
         "mode": "lines",
         "showlegend": false,
         "type": "scattermapbox"
        },
        {
         "lat": [
          40.75645824,
          40.75594159
         ],
         "line": {
          "color": "blue",
          "width": 1
         },
         "lon": [
          -73.99372222,
          -74.0021163
         ],
         "mode": "lines",
         "showlegend": false,
         "type": "scattermapbox"
        },
        {
         "lat": [
          40.74487634,
          40.73401143
         ],
         "line": {
          "color": "blue",
          "width": 1
         },
         "lon": [
          -73.99529885,
          -74.00293877
         ],
         "mode": "lines",
         "showlegend": false,
         "type": "scattermapbox"
        },
        {
         "lat": [
          40.71413089,
          40.714851505262516
         ],
         "line": {
          "color": "blue",
          "width": 1
         },
         "lon": [
          -73.9970468,
          -74.01122331619263
         ],
         "mode": "lines",
         "showlegend": false,
         "type": "scattermapbox"
        },
        {
         "lat": [
          40.76132983124814,
          40.76584941
         ],
         "line": {
          "color": "blue",
          "width": 1
         },
         "lon": [
          -73.97982001304626,
          -73.98690506
         ],
         "mode": "lines",
         "showlegend": false,
         "type": "scattermapbox"
        },
        {
         "lat": [
          40.73314259,
          40.72923649910006
         ],
         "line": {
          "color": "blue",
          "width": 1
         },
         "lon": [
          -73.97573881,
          -73.99086803197861
         ],
         "mode": "lines",
         "showlegend": false,
         "type": "scattermapbox"
        },
        {
         "lat": [
          40.77163851,
          40.77536905
         ],
         "line": {
          "color": "blue",
          "width": 1
         },
         "lon": [
          -73.98261428,
          -73.94803392
         ],
         "mode": "lines",
         "showlegend": false,
         "type": "scattermapbox"
        },
        {
         "lat": [
          40.74334935,
          40.7454973
         ],
         "line": {
          "color": "blue",
          "width": 1
         },
         "lon": [
          -74.00681753,
          -74.00197139
         ],
         "mode": "lines",
         "showlegend": false,
         "type": "scattermapbox"
        },
        {
         "lat": [
          40.7839636,
          40.75797322
         ],
         "line": {
          "color": "blue",
          "width": 1
         },
         "lon": [
          -73.9471673,
          -73.96603308
         ],
         "mode": "lines",
         "showlegend": false,
         "type": "scattermapbox"
        },
        {
         "lat": [
          40.73261787,
          40.73781509
         ],
         "line": {
          "color": "blue",
          "width": 1
         },
         "lon": [
          -73.99158043,
          -73.99994661
         ],
         "mode": "lines",
         "showlegend": false,
         "type": "scattermapbox"
        },
        {
         "lat": [
          40.7284186,
          40.74025878
         ],
         "line": {
          "color": "blue",
          "width": 1
         },
         "lon": [
          -73.98713956,
          -73.98409214
         ],
         "mode": "lines",
         "showlegend": false,
         "type": "scattermapbox"
        },
        {
         "lat": [
          40.72490985,
          40.76590936
         ],
         "line": {
          "color": "blue",
          "width": 1
         },
         "lon": [
          -74.00154702,
          -73.97634151
         ],
         "mode": "lines",
         "showlegend": false,
         "type": "scattermapbox"
        },
        {
         "lat": [
          40.68981035,
          40.68940747
         ],
         "line": {
          "color": "blue",
          "width": 1
         },
         "lon": [
          -73.97493121,
          -73.96885458
         ],
         "mode": "lines",
         "showlegend": false,
         "type": "scattermapbox"
        },
        {
         "lat": [
          40.7172274,
          40.736502
         ],
         "line": {
          "color": "blue",
          "width": 1
         },
         "lon": [
          -73.98802084,
          -73.97809472
         ],
         "mode": "lines",
         "showlegend": false,
         "type": "scattermapbox"
        },
        {
         "lat": [
          40.751873,
          40.71602118
         ],
         "line": {
          "color": "blue",
          "width": 1
         },
         "lon": [
          -73.977706,
          -73.99974372
         ],
         "mode": "lines",
         "showlegend": false,
         "type": "scattermapbox"
        },
        {
         "lat": [
          40.74780373,
          40.75038009
         ],
         "line": {
          "color": "blue",
          "width": 1
         },
         "lon": [
          -73.9734419,
          -73.98338988
         ],
         "mode": "lines",
         "showlegend": false,
         "type": "scattermapbox"
        },
        {
         "lat": [
          40.72405549,
          40.72043411
         ],
         "line": {
          "color": "blue",
          "width": 1
         },
         "lon": [
          -74.00965965,
          -74.01020609
         ],
         "mode": "lines",
         "showlegend": false,
         "type": "scattermapbox"
        },
        {
         "lat": [
          40.75992262,
          40.756014
         ],
         "line": {
          "color": "blue",
          "width": 1
         },
         "lon": [
          -73.97648516,
          -73.967416
         ],
         "mode": "lines",
         "showlegend": false,
         "type": "scattermapbox"
        },
        {
         "lat": [
          40.73221853,
          40.74025878
         ],
         "line": {
          "color": "blue",
          "width": 1
         },
         "lon": [
          -73.98165557,
          -73.98409214
         ],
         "mode": "lines",
         "showlegend": false,
         "type": "scattermapbox"
        },
        {
         "lat": [
          40.7390169121,
          40.73535398
         ],
         "line": {
          "color": "blue",
          "width": 1
         },
         "lon": [
          -74.0026376103,
          -74.00483091
         ],
         "mode": "lines",
         "showlegend": false,
         "type": "scattermapbox"
        },
        {
         "lat": [
          40.75724567911726,
          40.7451677
         ],
         "line": {
          "color": "blue",
          "width": 1
         },
         "lon": [
          -73.97805914282799,
          -73.98683077
         ],
         "mode": "lines",
         "showlegend": false,
         "type": "scattermapbox"
        },
        {
         "lat": [
          40.75797322,
          40.761628
         ],
         "line": {
          "color": "blue",
          "width": 1
         },
         "lon": [
          -73.96603308,
          -73.972924
         ],
         "mode": "lines",
         "showlegend": false,
         "type": "scattermapbox"
        },
        {
         "lat": [
          40.71542197,
          40.71494807
         ],
         "line": {
          "color": "blue",
          "width": 1
         },
         "lon": [
          -74.01121978,
          -74.00234482
         ],
         "mode": "lines",
         "showlegend": false,
         "type": "scattermapbox"
        },
        {
         "lat": [
          40.71625008,
          40.72243797
         ],
         "line": {
          "color": "blue",
          "width": 1
         },
         "lon": [
          -74.0091059,
          -74.00566443
         ],
         "mode": "lines",
         "showlegend": false,
         "type": "scattermapbox"
        },
        {
         "lat": [
          40.71625008,
          40.72185379
         ],
         "line": {
          "color": "blue",
          "width": 1
         },
         "lon": [
          -74.0091059,
          -74.00771779
         ],
         "mode": "lines",
         "showlegend": false,
         "type": "scattermapbox"
        },
        {
         "lat": [
          40.73454567,
          40.72580614
         ],
         "line": {
          "color": "blue",
          "width": 1
         },
         "lon": [
          -73.99074142,
          -73.97422494
         ],
         "mode": "lines",
         "showlegend": false,
         "type": "scattermapbox"
        },
        {
         "lat": [
          40.73454567,
          40.72903917
         ],
         "line": {
          "color": "blue",
          "width": 1
         },
         "lon": [
          -73.99074142,
          -73.99404649
         ],
         "mode": "lines",
         "showlegend": false,
         "type": "scattermapbox"
        },
        {
         "lat": [
          40.74025878,
          40.734232
         ],
         "line": {
          "color": "blue",
          "width": 1
         },
         "lon": [
          -73.98409214,
          -73.986923
         ],
         "mode": "lines",
         "showlegend": false,
         "type": "scattermapbox"
        },
        {
         "lat": [
          40.72903917,
          40.73223272
         ],
         "line": {
          "color": "blue",
          "width": 1
         },
         "lon": [
          -73.99404649,
          -73.98889957
         ],
         "mode": "lines",
         "showlegend": false,
         "type": "scattermapbox"
        },
        {
         "lat": [
          40.770513,
          40.76019252
         ],
         "line": {
          "color": "blue",
          "width": 1
         },
         "lon": [
          -73.988038,
          -73.9912551
         ],
         "mode": "lines",
         "showlegend": false,
         "type": "scattermapbox"
        },
        {
         "lat": [
          40.77492513,
          40.78499979
         ],
         "line": {
          "color": "blue",
          "width": 1
         },
         "lon": [
          -73.98266566,
          -73.97283406
         ],
         "mode": "lines",
         "showlegend": false,
         "type": "scattermapbox"
        },
        {
         "lat": [
          40.717571,
          40.717571
         ],
         "line": {
          "color": "blue",
          "width": 1
         },
         "lon": [
          -74.005549,
          -74.005549
         ],
         "mode": "lines",
         "showlegend": false,
         "type": "scattermapbox"
        },
        {
         "lat": [
          40.73401143,
          40.72917025
         ],
         "line": {
          "color": "blue",
          "width": 1
         },
         "lon": [
          -74.00293877,
          -73.99810231
         ],
         "mode": "lines",
         "showlegend": false,
         "type": "scattermapbox"
        },
        {
         "lat": [
          40.7770575,
          40.77896784
         ],
         "line": {
          "color": "blue",
          "width": 1
         },
         "lon": [
          -73.97898475,
          -73.97374737
         ],
         "mode": "lines",
         "showlegend": false,
         "type": "scattermapbox"
        },
        {
         "lat": [
          40.7457121,
          40.73912601
         ],
         "line": {
          "color": "blue",
          "width": 1
         },
         "lon": [
          -73.98194829,
          -73.97973776
         ],
         "mode": "lines",
         "showlegend": false,
         "type": "scattermapbox"
        },
        {
         "lat": [
          40.68981035,
          40.689888
         ],
         "line": {
          "color": "blue",
          "width": 1
         },
         "lon": [
          -73.97493121,
          -73.981013
         ],
         "mode": "lines",
         "showlegend": false,
         "type": "scattermapbox"
        },
        {
         "lat": [
          40.7643971,
          40.76695317
         ],
         "line": {
          "color": "blue",
          "width": 1
         },
         "lon": [
          -73.97371465,
          -73.98169333
         ],
         "mode": "lines",
         "showlegend": false,
         "type": "scattermapbox"
        },
        {
         "lat": [
          40.7037992,
          40.71605866
         ],
         "line": {
          "color": "blue",
          "width": 1
         },
         "lon": [
          -74.00838676,
          -73.99190759
         ],
         "mode": "lines",
         "showlegend": false,
         "type": "scattermapbox"
        },
        {
         "lat": [
          40.77677702,
          40.73726186
         ],
         "line": {
          "color": "blue",
          "width": 1
         },
         "lon": [
          -73.9590097,
          -73.99238967
         ],
         "mode": "lines",
         "showlegend": false,
         "type": "scattermapbox"
        },
        {
         "lat": [
          40.73624527,
          40.73047309
         ],
         "line": {
          "color": "blue",
          "width": 1
         },
         "lon": [
          -73.98473765,
          -73.98672378
         ],
         "mode": "lines",
         "showlegend": false,
         "type": "scattermapbox"
        },
        {
         "lat": [
          40.713126,
          40.71413089
         ],
         "line": {
          "color": "blue",
          "width": 1
         },
         "lon": [
          -73.984844,
          -73.9970468
         ],
         "mode": "lines",
         "showlegend": false,
         "type": "scattermapbox"
        },
        {
         "lat": [
          40.7643971,
          40.74444921
         ],
         "line": {
          "color": "blue",
          "width": 1
         },
         "lon": [
          -73.97371465,
          -73.98303529
         ],
         "mode": "lines",
         "showlegend": false,
         "type": "scattermapbox"
        },
        {
         "lat": [
          40.71273266,
          40.74734825
         ],
         "line": {
          "color": "blue",
          "width": 1
         },
         "lon": [
          -74.0046073,
          -73.99723551
         ],
         "mode": "lines",
         "showlegend": false,
         "type": "scattermapbox"
        },
        {
         "lat": [
          40.73143724085228,
          40.77862688
         ],
         "line": {
          "color": "blue",
          "width": 1
         },
         "lon": [
          -73.99490341544151,
          -73.95772073
         ],
         "mode": "lines",
         "showlegend": false,
         "type": "scattermapbox"
        },
        {
         "lat": [
          40.74444921,
          40.73226398
         ],
         "line": {
          "color": "blue",
          "width": 1
         },
         "lon": [
          -73.98303529,
          -73.99852205
         ],
         "mode": "lines",
         "showlegend": false,
         "type": "scattermapbox"
        },
        {
         "lat": [
          40.77452835,
          40.714851505262516
         ],
         "line": {
          "color": "blue",
          "width": 1
         },
         "lon": [
          -73.98753759,
          -74.01122331619263
         ],
         "mode": "lines",
         "showlegend": false,
         "type": "scattermapbox"
        },
        {
         "lat": [
          40.77579376683666,
          40.73047309
         ],
         "line": {
          "color": "blue",
          "width": 1
         },
         "lon": [
          -73.9762057363987,
          -73.98672378
         ],
         "mode": "lines",
         "showlegend": false,
         "type": "scattermapbox"
        },
        {
         "lat": [
          40.74147286,
          40.7423543
         ],
         "line": {
          "color": "blue",
          "width": 1
         },
         "lon": [
          -73.98320928,
          -73.98915076
         ],
         "mode": "lines",
         "showlegend": false,
         "type": "scattermapbox"
        },
        {
         "lat": [
          40.72679454,
          40.739445
         ],
         "line": {
          "color": "blue",
          "width": 1
         },
         "lon": [
          -73.99695094,
          -73.976806
         ],
         "mode": "lines",
         "showlegend": false,
         "type": "scattermapbox"
        },
        {
         "lat": [
          40.78307,
          40.77632142182271
         ],
         "line": {
          "color": "blue",
          "width": 1
         },
         "lon": [
          -73.95939,
          -73.96427392959595
         ],
         "mode": "lines",
         "showlegend": false,
         "type": "scattermapbox"
        },
        {
         "lat": [
          40.75594159,
          40.70905623
         ],
         "line": {
          "color": "blue",
          "width": 1
         },
         "lon": [
          -74.0021163,
          -74.01043382
         ],
         "mode": "lines",
         "showlegend": false,
         "type": "scattermapbox"
        },
        {
         "lat": [
          40.75968085,
          40.7489006
         ],
         "line": {
          "color": "blue",
          "width": 1
         },
         "lon": [
          -73.97031366,
          -73.97604882
         ],
         "mode": "lines",
         "showlegend": false,
         "type": "scattermapbox"
        },
        {
         "lat": [
          40.71413089,
          40.71939226
         ],
         "line": {
          "color": "blue",
          "width": 1
         },
         "lon": [
          -73.9970468,
          -74.00247214
         ],
         "mode": "lines",
         "showlegend": false,
         "type": "scattermapbox"
        },
        {
         "lat": [
          40.73912601,
          40.73047309
         ],
         "line": {
          "color": "blue",
          "width": 1
         },
         "lon": [
          -73.97973776,
          -73.98672378
         ],
         "mode": "lines",
         "showlegend": false,
         "type": "scattermapbox"
        },
        {
         "lat": [
          40.76663814,
          40.751581
         ],
         "line": {
          "color": "blue",
          "width": 1
         },
         "lon": [
          -73.95348296,
          -73.97791
         ],
         "mode": "lines",
         "showlegend": false,
         "type": "scattermapbox"
        },
        {
         "lat": [
          40.72467721,
          40.7284186
         ],
         "line": {
          "color": "blue",
          "width": 1
         },
         "lon": [
          -73.98783413,
          -73.98713956
         ],
         "mode": "lines",
         "showlegend": false,
         "type": "scattermapbox"
        },
        {
         "lat": [
          40.7457121,
          40.7457121
         ],
         "line": {
          "color": "blue",
          "width": 1
         },
         "lon": [
          -73.98194829,
          -73.98194829
         ],
         "mode": "lines",
         "showlegend": false,
         "type": "scattermapbox"
        },
        {
         "lat": [
          40.76440023,
          40.72082834
         ],
         "line": {
          "color": "blue",
          "width": 1
         },
         "lon": [
          -73.96648977,
          -73.97793172
         ],
         "mode": "lines",
         "showlegend": false,
         "type": "scattermapbox"
        },
        {
         "lat": [
          40.75828065,
          40.76584941
         ],
         "line": {
          "color": "blue",
          "width": 1
         },
         "lon": [
          -73.97069431,
          -73.98690506
         ],
         "mode": "lines",
         "showlegend": false,
         "type": "scattermapbox"
        },
        {
         "lat": [
          40.73524276,
          40.77801203
         ],
         "line": {
          "color": "blue",
          "width": 1
         },
         "lon": [
          -73.98758561,
          -73.95407149
         ],
         "mode": "lines",
         "showlegend": false,
         "type": "scattermapbox"
        },
        {
         "lat": [
          40.677236,
          40.67909799721684
         ],
         "line": {
          "color": "blue",
          "width": 1
         },
         "lon": [
          -74.015665,
          -73.98765474557877
         ],
         "mode": "lines",
         "showlegend": false,
         "type": "scattermapbox"
        },
        {
         "lat": [
          40.711512,
          40.75066386
         ],
         "line": {
          "color": "blue",
          "width": 1
         },
         "lon": [
          -74.015756,
          -74.00176802
         ],
         "mode": "lines",
         "showlegend": false,
         "type": "scattermapbox"
        },
        {
         "lat": [
          40.72955361,
          40.734232
         ],
         "line": {
          "color": "blue",
          "width": 1
         },
         "lon": [
          -73.98057249,
          -73.986923
         ],
         "mode": "lines",
         "showlegend": false,
         "type": "scattermapbox"
        },
        {
         "lat": [
          40.74718234,
          40.743
         ],
         "line": {
          "color": "blue",
          "width": 1
         },
         "lon": [
          -73.9432635,
          -73.93561
         ],
         "mode": "lines",
         "showlegend": false,
         "type": "scattermapbox"
        },
        {
         "lat": [
          40.74901271,
          40.68807003
         ],
         "line": {
          "color": "blue",
          "width": 1
         },
         "lon": [
          -73.98848395,
          -73.98410637
         ],
         "mode": "lines",
         "showlegend": false,
         "type": "scattermapbox"
        },
        {
         "lat": [
          40.7262807,
          40.72362738
         ],
         "line": {
          "color": "blue",
          "width": 1
         },
         "lon": [
          -73.98978041,
          -73.99949601
         ],
         "mode": "lines",
         "showlegend": false,
         "type": "scattermapbox"
        },
        {
         "lat": [
          40.69308257,
          40.69383
         ],
         "line": {
          "color": "blue",
          "width": 1
         },
         "lon": [
          -73.97178913,
          -73.990539
         ],
         "mode": "lines",
         "showlegend": false,
         "type": "scattermapbox"
        },
        {
         "lat": [
          40.76341379,
          40.76341379
         ],
         "line": {
          "color": "blue",
          "width": 1
         },
         "lon": [
          -73.99667444,
          -73.99667444
         ],
         "mode": "lines",
         "showlegend": false,
         "type": "scattermapbox"
        },
        {
         "lat": [
          40.71273266,
          40.71494807
         ],
         "line": {
          "color": "blue",
          "width": 1
         },
         "lon": [
          -74.0046073,
          -74.00234482
         ],
         "mode": "lines",
         "showlegend": false,
         "type": "scattermapbox"
        },
        {
         "lat": [
          40.751551,
          40.771522
         ],
         "line": {
          "color": "blue",
          "width": 1
         },
         "lon": [
          -73.993934,
          -73.990541
         ],
         "mode": "lines",
         "showlegend": false,
         "type": "scattermapbox"
        },
        {
         "lat": [
          40.71427487,
          40.71406667
         ],
         "line": {
          "color": "blue",
          "width": 1
         },
         "lon": [
          -73.98990025,
          -73.99293911
         ],
         "mode": "lines",
         "showlegend": false,
         "type": "scattermapbox"
        },
        {
         "lat": [
          40.75038009,
          40.72923649910006
         ],
         "line": {
          "color": "blue",
          "width": 1
         },
         "lon": [
          -73.98338988,
          -73.99086803197861
         ],
         "mode": "lines",
         "showlegend": false,
         "type": "scattermapbox"
        },
        {
         "lat": [
          40.73971301,
          40.75929124
         ],
         "line": {
          "color": "blue",
          "width": 1
         },
         "lon": [
          -73.99456405,
          -73.98859651
         ],
         "mode": "lines",
         "showlegend": false,
         "type": "scattermapbox"
        },
        {
         "lat": [
          40.70355377,
          40.7037992
         ],
         "line": {
          "color": "blue",
          "width": 1
         },
         "lon": [
          -74.00670227,
          -74.00838676
         ],
         "mode": "lines",
         "showlegend": false,
         "type": "scattermapbox"
        },
        {
         "lat": [
          40.71559509,
          40.71413089
         ],
         "line": {
          "color": "blue",
          "width": 1
         },
         "lon": [
          -73.9870295,
          -73.9970468
         ],
         "mode": "lines",
         "showlegend": false,
         "type": "scattermapbox"
        },
        {
         "lat": [
          40.74734825,
          40.74317449
         ],
         "line": {
          "color": "blue",
          "width": 1
         },
         "lon": [
          -73.99723551,
          -74.00366443
         ],
         "mode": "lines",
         "showlegend": false,
         "type": "scattermapbox"
        },
        {
         "lat": [
          40.75797322,
          40.76440023
         ],
         "line": {
          "color": "blue",
          "width": 1
         },
         "lon": [
          -73.96603308,
          -73.96648977
         ],
         "mode": "lines",
         "showlegend": false,
         "type": "scattermapbox"
        },
        {
         "lat": [
          40.73587678,
          40.7284186
         ],
         "line": {
          "color": "blue",
          "width": 1
         },
         "lon": [
          -73.98205027,
          -73.98713956
         ],
         "mode": "lines",
         "showlegend": false,
         "type": "scattermapbox"
        },
        {
         "lat": [
          40.7770575,
          40.7867947
         ],
         "line": {
          "color": "blue",
          "width": 1
         },
         "lon": [
          -73.97898475,
          -73.977112
         ],
         "mode": "lines",
         "showlegend": false,
         "type": "scattermapbox"
        },
        {
         "lat": [
          40.71911552,
          40.711512
         ],
         "line": {
          "color": "blue",
          "width": 1
         },
         "lon": [
          -74.00666661,
          -74.015756
         ],
         "mode": "lines",
         "showlegend": false,
         "type": "scattermapbox"
        },
        {
         "lat": [
          40.7451677,
          40.73331967
         ],
         "line": {
          "color": "blue",
          "width": 1
         },
         "lon": [
          -73.98683077,
          -73.99510132
         ],
         "mode": "lines",
         "showlegend": false,
         "type": "scattermapbox"
        },
        {
         "lat": [
          40.73454567,
          40.7451677
         ],
         "line": {
          "color": "blue",
          "width": 1
         },
         "lon": [
          -73.99074142,
          -73.98683077
         ],
         "mode": "lines",
         "showlegend": false,
         "type": "scattermapbox"
        },
        {
         "lat": [
          40.76227205,
          40.75513557
         ],
         "line": {
          "color": "blue",
          "width": 1
         },
         "lon": [
          -73.98788205,
          -73.98658032
         ],
         "mode": "lines",
         "showlegend": false,
         "type": "scattermapbox"
        },
        {
         "lat": [
          40.78057799010334,
          40.77163851
         ],
         "line": {
          "color": "blue",
          "width": 1
         },
         "lon": [
          -73.98562431335449,
          -73.98261428
         ],
         "mode": "lines",
         "showlegend": false,
         "type": "scattermapbox"
        },
        {
         "lat": [
          40.72873888,
          40.73224119
         ],
         "line": {
          "color": "blue",
          "width": 1
         },
         "lon": [
          -74.00748842,
          -74.00026394
         ],
         "mode": "lines",
         "showlegend": false,
         "type": "scattermapbox"
        },
        {
         "lat": [
          40.71413089,
          40.71117444
         ],
         "line": {
          "color": "blue",
          "width": 1
         },
         "lon": [
          -73.9970468,
          -73.99682619
         ],
         "mode": "lines",
         "showlegend": false,
         "type": "scattermapbox"
        },
        {
         "lat": [
          40.71910537,
          40.71939226
         ],
         "line": {
          "color": "blue",
          "width": 1
         },
         "lon": [
          -73.99973337,
          -74.00247214
         ],
         "mode": "lines",
         "showlegend": false,
         "type": "scattermapbox"
        },
        {
         "lat": [
          40.744219,
          40.76309387270797
         ],
         "line": {
          "color": "blue",
          "width": 1
         },
         "lon": [
          -73.97121214,
          -73.9783501625061
         ],
         "mode": "lines",
         "showlegend": false,
         "type": "scattermapbox"
        },
        {
         "lat": [
          40.73038599,
          40.71273266
         ],
         "line": {
          "color": "blue",
          "width": 1
         },
         "lon": [
          -74.00214988,
          -74.0046073
         ],
         "mode": "lines",
         "showlegend": false,
         "type": "scattermapbox"
        },
        {
         "lat": [
          40.73331967,
          40.739445
         ],
         "line": {
          "color": "blue",
          "width": 1
         },
         "lon": [
          -73.99510132,
          -73.976806
         ],
         "mode": "lines",
         "showlegend": false,
         "type": "scattermapbox"
        },
        {
         "lat": [
          40.72743423,
          40.73532427
         ],
         "line": {
          "color": "blue",
          "width": 1
         },
         "lon": [
          -73.99379025,
          -73.99800419
         ],
         "mode": "lines",
         "showlegend": false,
         "type": "scattermapbox"
        },
        {
         "lat": [
          40.70955958,
          40.71146364
         ],
         "line": {
          "color": "blue",
          "width": 1
         },
         "lon": [
          -74.00653609,
          -74.00552427
         ],
         "mode": "lines",
         "showlegend": false,
         "type": "scattermapbox"
        },
        {
         "lat": [
          40.76370739,
          40.73935542
         ],
         "line": {
          "color": "blue",
          "width": 1
         },
         "lon": [
          -73.9851615,
          -73.99931783
         ],
         "mode": "lines",
         "showlegend": false,
         "type": "scattermapbox"
        },
        {
         "lat": [
          40.71911552,
          40.73331967
         ],
         "line": {
          "color": "blue",
          "width": 1
         },
         "lon": [
          -74.00666661,
          -73.99510132
         ],
         "mode": "lines",
         "showlegend": false,
         "type": "scattermapbox"
        },
        {
         "lat": [
          40.7381765,
          40.76068327096592
         ],
         "line": {
          "color": "blue",
          "width": 1
         },
         "lon": [
          -73.97738662,
          -73.9845272898674
         ],
         "mode": "lines",
         "showlegend": false,
         "type": "scattermapbox"
        },
        {
         "lat": [
          40.77140426,
          40.76703432309872
         ],
         "line": {
          "color": "blue",
          "width": 1
         },
         "lon": [
          -73.9535166,
          -73.95622730255127
         ],
         "mode": "lines",
         "showlegend": false,
         "type": "scattermapbox"
        },
        {
         "lat": [
          40.770513,
          40.721319
         ],
         "line": {
          "color": "blue",
          "width": 1
         },
         "lon": [
          -73.988038,
          -74.010065
         ],
         "mode": "lines",
         "showlegend": false,
         "type": "scattermapbox"
        },
        {
         "lat": [
          40.72679454,
          40.70834698
         ],
         "line": {
          "color": "blue",
          "width": 1
         },
         "lon": [
          -73.99695094,
          -74.01713445
         ],
         "mode": "lines",
         "showlegend": false,
         "type": "scattermapbox"
        },
        {
         "lat": [
          40.7454973,
          40.72679454
         ],
         "line": {
          "color": "blue",
          "width": 1
         },
         "lon": [
          -74.00197139,
          -73.99695094
         ],
         "mode": "lines",
         "showlegend": false,
         "type": "scattermapbox"
        },
        {
         "lat": [
          40.74144387,
          40.752062307
         ],
         "line": {
          "color": "blue",
          "width": 1
         },
         "lon": [
          -73.97536082,
          -73.9816324043
         ],
         "mode": "lines",
         "showlegend": false,
         "type": "scattermapbox"
        },
        {
         "lat": [
          40.72165481,
          40.73223272
         ],
         "line": {
          "color": "blue",
          "width": 1
         },
         "lon": [
          -74.00234737,
          -73.98889957
         ],
         "mode": "lines",
         "showlegend": false,
         "type": "scattermapbox"
        },
        {
         "lat": [
          40.73454567,
          40.72903917
         ],
         "line": {
          "color": "blue",
          "width": 1
         },
         "lon": [
          -73.99074142,
          -73.99404649
         ],
         "mode": "lines",
         "showlegend": false,
         "type": "scattermapbox"
        },
        {
         "lat": [
          40.73028666,
          40.75929124
         ],
         "line": {
          "color": "blue",
          "width": 1
         },
         "lon": [
          -73.9907647,
          -73.98859651
         ],
         "mode": "lines",
         "showlegend": false,
         "type": "scattermapbox"
        },
        {
         "lat": [
          40.74147286,
          40.71219906
         ],
         "line": {
          "color": "blue",
          "width": 1
         },
         "lon": [
          -73.98320928,
          -73.97948148
         ],
         "mode": "lines",
         "showlegend": false,
         "type": "scattermapbox"
        },
        {
         "lat": [
          40.76269882,
          40.74475148
         ],
         "line": {
          "color": "blue",
          "width": 1
         },
         "lon": [
          -73.99301222,
          -73.99915362
         ],
         "mode": "lines",
         "showlegend": false,
         "type": "scattermapbox"
        },
        {
         "lat": [
          40.76087502,
          40.75929124
         ],
         "line": {
          "color": "blue",
          "width": 1
         },
         "lon": [
          -74.00277668,
          -73.98859651
         ],
         "mode": "lines",
         "showlegend": false,
         "type": "scattermapbox"
        },
        {
         "lat": [
          40.73624527,
          40.734232
         ],
         "line": {
          "color": "blue",
          "width": 1
         },
         "lon": [
          -73.98473765,
          -73.986923
         ],
         "mode": "lines",
         "showlegend": false,
         "type": "scattermapbox"
        },
        {
         "lat": [
          40.7643971,
          40.7770575
         ],
         "line": {
          "color": "blue",
          "width": 1
         },
         "lon": [
          -73.97371465,
          -73.97898475
         ],
         "mode": "lines",
         "showlegend": false,
         "type": "scattermapbox"
        },
        {
         "lat": [
          40.76590936,
          40.7489006
         ],
         "line": {
          "color": "blue",
          "width": 1
         },
         "lon": [
          -73.97634151,
          -73.97604882
         ],
         "mode": "lines",
         "showlegend": false,
         "type": "scattermapbox"
        },
        {
         "lat": [
          40.76669671,
          40.73049393
         ],
         "line": {
          "color": "blue",
          "width": 1
         },
         "lon": [
          -73.99061728,
          -73.9957214
         ],
         "mode": "lines",
         "showlegend": false,
         "type": "scattermapbox"
        },
        {
         "lat": [
          40.711512,
          40.70905623
         ],
         "line": {
          "color": "blue",
          "width": 1
         },
         "lon": [
          -74.015756,
          -74.01043382
         ],
         "mode": "lines",
         "showlegend": false,
         "type": "scattermapbox"
        },
        {
         "lat": [
          40.71336124,
          40.69246277
         ],
         "line": {
          "color": "blue",
          "width": 1
         },
         "lon": [
          -74.00937622,
          -73.98963911
         ],
         "mode": "lines",
         "showlegend": false,
         "type": "scattermapbox"
        },
        {
         "lat": [
          40.72299208,
          40.72217444
         ],
         "line": {
          "color": "blue",
          "width": 1
         },
         "lon": [
          -73.97995466,
          -73.98368779
         ],
         "mode": "lines",
         "showlegend": false,
         "type": "scattermapbox"
        },
        {
         "lat": [
          40.72679454,
          40.7361967
         ],
         "line": {
          "color": "blue",
          "width": 1
         },
         "lon": [
          -73.99695094,
          -74.00859207
         ],
         "mode": "lines",
         "showlegend": false,
         "type": "scattermapbox"
        },
        {
         "lat": [
          40.68528172,
          40.69986937
         ],
         "line": {
          "color": "blue",
          "width": 1
         },
         "lon": [
          -73.97805813,
          -73.98271933
         ],
         "mode": "lines",
         "showlegend": false,
         "type": "scattermapbox"
        },
        {
         "lat": [
          40.72019576,
          40.7381765
         ],
         "line": {
          "color": "blue",
          "width": 1
         },
         "lon": [
          -73.98997825,
          -73.97738662
         ],
         "mode": "lines",
         "showlegend": false,
         "type": "scattermapbox"
        },
        {
         "lat": [
          40.8013434,
          40.78057799010334
         ],
         "line": {
          "color": "blue",
          "width": 1
         },
         "lon": [
          -73.9711457439,
          -73.98562431335449
         ],
         "mode": "lines",
         "showlegend": false,
         "type": "scattermapbox"
        },
        {
         "lat": [
          40.7153379,
          40.70463334
         ],
         "line": {
          "color": "blue",
          "width": 1
         },
         "lon": [
          -74.01658354,
          -74.01361706
         ],
         "mode": "lines",
         "showlegend": false,
         "type": "scattermapbox"
        },
        {
         "lat": [
          40.73827428,
          40.74147286
         ],
         "line": {
          "color": "blue",
          "width": 1
         },
         "lon": [
          -73.98751968,
          -73.98320928
         ],
         "mode": "lines",
         "showlegend": false,
         "type": "scattermapbox"
        },
        {
         "lat": [
          40.74734825,
          40.73652889
         ],
         "line": {
          "color": "blue",
          "width": 1
         },
         "lon": [
          -73.99723551,
          -74.00618026
         ],
         "mode": "lines",
         "showlegend": false,
         "type": "scattermapbox"
        },
        {
         "lat": [
          40.72873888,
          40.71911552
         ],
         "line": {
          "color": "blue",
          "width": 1
         },
         "lon": [
          -74.00748842,
          -74.00666661
         ],
         "mode": "lines",
         "showlegend": false,
         "type": "scattermapbox"
        },
        {
         "lat": [
          40.75929124,
          40.74334935
         ],
         "line": {
          "color": "blue",
          "width": 1
         },
         "lon": [
          -73.98859651,
          -74.00681753
         ],
         "mode": "lines",
         "showlegend": false,
         "type": "scattermapbox"
        },
        {
         "lat": [
          40.721462562298164,
          40.71915571696044
         ],
         "line": {
          "color": "blue",
          "width": 1
         },
         "lon": [
          -73.94800901412964,
          -73.94885390996933
         ],
         "mode": "lines",
         "showlegend": false,
         "type": "scattermapbox"
        },
        {
         "lat": [
          40.73652889,
          40.73624527
         ],
         "line": {
          "color": "blue",
          "width": 1
         },
         "lon": [
          -74.00618026,
          -73.98473765
         ],
         "mode": "lines",
         "showlegend": false,
         "type": "scattermapbox"
        },
        {
         "lat": [
          40.74487634,
          40.74734825
         ],
         "line": {
          "color": "blue",
          "width": 1
         },
         "lon": [
          -73.99529885,
          -73.99723551
         ],
         "mode": "lines",
         "showlegend": false,
         "type": "scattermapbox"
        },
        {
         "lat": [
          40.73971301,
          40.73223272
         ],
         "line": {
          "color": "blue",
          "width": 1
         },
         "lon": [
          -73.99456405,
          -73.98889957
         ],
         "mode": "lines",
         "showlegend": false,
         "type": "scattermapbox"
        },
        {
         "lat": [
          40.72903917,
          40.74901271
         ],
         "line": {
          "color": "blue",
          "width": 1
         },
         "lon": [
          -73.99404649,
          -73.98848395
         ],
         "mode": "lines",
         "showlegend": false,
         "type": "scattermapbox"
        },
        {
         "lat": [
          40.76695317,
          40.76340613
         ],
         "line": {
          "color": "blue",
          "width": 1
         },
         "lon": [
          -73.98169333,
          -73.97722479
         ],
         "mode": "lines",
         "showlegend": false,
         "type": "scattermapbox"
        },
        {
         "lat": [
          40.73454567,
          40.72580614
         ],
         "line": {
          "color": "blue",
          "width": 1
         },
         "lon": [
          -73.99074142,
          -73.97422494
         ],
         "mode": "lines",
         "showlegend": false,
         "type": "scattermapbox"
        },
        {
         "lat": [
          40.7457121,
          40.71602118
         ],
         "line": {
          "color": "blue",
          "width": 1
         },
         "lon": [
          -73.98194829,
          -73.99974372
         ],
         "mode": "lines",
         "showlegend": false,
         "type": "scattermapbox"
        },
        {
         "lat": [
          40.75001986,
          40.72955361
         ],
         "line": {
          "color": "blue",
          "width": 1
         },
         "lon": [
          -73.96905301,
          -73.98057249
         ],
         "mode": "lines",
         "showlegend": false,
         "type": "scattermapbox"
        },
        {
         "lat": [
          40.73028666,
          40.72217444
         ],
         "line": {
          "color": "blue",
          "width": 1
         },
         "lon": [
          -73.9907647,
          -73.98368779
         ],
         "mode": "lines",
         "showlegend": false,
         "type": "scattermapbox"
        },
        {
         "lat": [
          40.749717753,
          40.7454973
         ],
         "line": {
          "color": "blue",
          "width": 1
         },
         "lon": [
          -74.002950346,
          -74.00197139
         ],
         "mode": "lines",
         "showlegend": false,
         "type": "scattermapbox"
        },
        {
         "lat": [
          40.717571,
          40.71625008
         ],
         "line": {
          "color": "blue",
          "width": 1
         },
         "lon": [
          -74.005549,
          -74.0091059
         ],
         "mode": "lines",
         "showlegend": false,
         "type": "scattermapbox"
        },
        {
         "lat": [
          40.7770575,
          40.77118287540658
         ],
         "line": {
          "color": "blue",
          "width": 1
         },
         "lon": [
          -73.97898475,
          -73.96409422159195
         ],
         "mode": "lines",
         "showlegend": false,
         "type": "scattermapbox"
        },
        {
         "lat": [
          40.73827428,
          40.72743423
         ],
         "line": {
          "color": "blue",
          "width": 1
         },
         "lon": [
          -73.98751968,
          -73.99379025
         ],
         "mode": "lines",
         "showlegend": false,
         "type": "scattermapbox"
        },
        {
         "lat": [
          40.73704984,
          40.72467721
         ],
         "line": {
          "color": "blue",
          "width": 1
         },
         "lon": [
          -73.99009296,
          -73.98783413
         ],
         "mode": "lines",
         "showlegend": false,
         "type": "scattermapbox"
        },
        {
         "lat": [
          40.736502,
          40.72903917
         ],
         "line": {
          "color": "blue",
          "width": 1
         },
         "lon": [
          -73.97809472,
          -73.99404649
         ],
         "mode": "lines",
         "showlegend": false,
         "type": "scattermapbox"
        },
        {
         "lat": [
          40.73049393,
          40.72679454
         ],
         "line": {
          "color": "blue",
          "width": 1
         },
         "lon": [
          -73.9957214,
          -73.99695094
         ],
         "mode": "lines",
         "showlegend": false,
         "type": "scattermapbox"
        },
        {
         "lat": [
          40.76312584,
          40.76873687
         ],
         "line": {
          "color": "blue",
          "width": 1
         },
         "lon": [
          -73.96526895,
          -73.96119945
         ],
         "mode": "lines",
         "showlegend": false,
         "type": "scattermapbox"
        },
        {
         "lat": [
          40.73331967,
          40.74487634
         ],
         "line": {
          "color": "blue",
          "width": 1
         },
         "lon": [
          -73.99510132,
          -73.99529885
         ],
         "mode": "lines",
         "showlegend": false,
         "type": "scattermapbox"
        },
        {
         "lat": [
          40.72779126,
          40.73172428
         ],
         "line": {
          "color": "blue",
          "width": 1
         },
         "lon": [
          -73.98564945,
          -74.00674436
         ],
         "mode": "lines",
         "showlegend": false,
         "type": "scattermapbox"
        },
        {
         "lat": [
          40.70905623,
          40.74395411
         ],
         "line": {
          "color": "blue",
          "width": 1
         },
         "lon": [
          -74.01043382,
          -73.99144871
         ],
         "mode": "lines",
         "showlegend": false,
         "type": "scattermapbox"
        },
        {
         "lat": [
          40.76312584,
          40.77579376683666
         ],
         "line": {
          "color": "blue",
          "width": 1
         },
         "lon": [
          -73.96526895,
          -73.9762057363987
         ],
         "mode": "lines",
         "showlegend": false,
         "type": "scattermapbox"
        },
        {
         "lat": [
          40.7047177,
          40.70122128
         ],
         "line": {
          "color": "blue",
          "width": 1
         },
         "lon": [
          -74.00926027,
          -74.01234218
         ],
         "mode": "lines",
         "showlegend": false,
         "type": "scattermapbox"
        },
        {
         "lat": [
          40.7381765,
          40.7457121
         ],
         "line": {
          "color": "blue",
          "width": 1
         },
         "lon": [
          -73.97738662,
          -73.98194829
         ],
         "mode": "lines",
         "showlegend": false,
         "type": "scattermapbox"
        },
        {
         "lat": [
          40.72903917,
          40.72679454
         ],
         "line": {
          "color": "blue",
          "width": 1
         },
         "lon": [
          -73.99404649,
          -73.99695094
         ],
         "mode": "lines",
         "showlegend": false,
         "type": "scattermapbox"
        },
        {
         "lat": [
          40.69597683,
          40.69760127
         ],
         "line": {
          "color": "blue",
          "width": 1
         },
         "lon": [
          -73.99014892,
          -73.99344559
         ],
         "mode": "lines",
         "showlegend": false,
         "type": "scattermapbox"
        },
        {
         "lat": [
          40.71559509,
          40.71427487
         ],
         "line": {
          "color": "blue",
          "width": 1
         },
         "lon": [
          -73.9870295,
          -73.98990025
         ],
         "mode": "lines",
         "showlegend": false,
         "type": "scattermapbox"
        },
        {
         "lat": [
          40.6794268,
          40.68223166
         ],
         "line": {
          "color": "blue",
          "width": 1
         },
         "lon": [
          -73.9298911,
          -73.9614583
         ],
         "mode": "lines",
         "showlegend": false,
         "type": "scattermapbox"
        },
        {
         "lat": [
          40.72903917,
          40.76584941
         ],
         "line": {
          "color": "blue",
          "width": 1
         },
         "lon": [
          -73.99404649,
          -73.98690506
         ],
         "mode": "lines",
         "showlegend": false,
         "type": "scattermapbox"
        },
        {
         "lat": [
          40.75640548,
          40.7652654
         ],
         "line": {
          "color": "blue",
          "width": 1
         },
         "lon": [
          -73.9900262,
          -73.98192338
         ],
         "mode": "lines",
         "showlegend": false,
         "type": "scattermapbox"
        },
        {
         "lat": [
          40.6793307,
          40.6867443
         ],
         "line": {
          "color": "blue",
          "width": 1
         },
         "lon": [
          -73.97519523,
          -73.99063168
         ],
         "mode": "lines",
         "showlegend": false,
         "type": "scattermapbox"
        },
        {
         "lat": [
          40.71117416,
          40.72679454
         ],
         "line": {
          "color": "blue",
          "width": 1
         },
         "lon": [
          -74.00016545,
          -73.99695094
         ],
         "mode": "lines",
         "showlegend": false,
         "type": "scattermapbox"
        },
        {
         "lat": [
          40.73971301,
          40.746647
         ],
         "line": {
          "color": "blue",
          "width": 1
         },
         "lon": [
          -73.99456405,
          -73.993915
         ],
         "mode": "lines",
         "showlegend": false,
         "type": "scattermapbox"
        },
        {
         "lat": [
          40.6704836,
          40.6610633719006
         ],
         "line": {
          "color": "blue",
          "width": 1
         },
         "lon": [
          -73.98208968,
          -73.97945255041122
         ],
         "mode": "lines",
         "showlegend": false,
         "type": "scattermapbox"
        },
        {
         "lat": [
          40.761628,
          40.76020258
         ],
         "line": {
          "color": "blue",
          "width": 1
         },
         "lon": [
          -73.972924,
          -73.96478473
         ],
         "mode": "lines",
         "showlegend": false,
         "type": "scattermapbox"
        },
        {
         "lat": [
          40.695065,
          40.69766564
         ],
         "line": {
          "color": "blue",
          "width": 1
         },
         "lon": [
          -73.987167,
          -73.98476437
         ],
         "mode": "lines",
         "showlegend": false,
         "type": "scattermapbox"
        },
        {
         "lat": [
          40.71625008,
          40.72917025
         ],
         "line": {
          "color": "blue",
          "width": 1
         },
         "lon": [
          -74.0091059,
          -73.99810231
         ],
         "mode": "lines",
         "showlegend": false,
         "type": "scattermapbox"
        },
        {
         "lat": [
          40.76064679,
          40.7451677
         ],
         "line": {
          "color": "blue",
          "width": 1
         },
         "lon": [
          -73.98442659,
          -73.98683077
         ],
         "mode": "lines",
         "showlegend": false,
         "type": "scattermapbox"
        },
        {
         "lat": [
          40.72938685,
          40.72490985
         ],
         "line": {
          "color": "blue",
          "width": 1
         },
         "lon": [
          -73.97772429,
          -74.00154702
         ],
         "mode": "lines",
         "showlegend": false,
         "type": "scattermapbox"
        },
        {
         "lat": [
          40.70255088,
          40.728846
         ],
         "line": {
          "color": "blue",
          "width": 1
         },
         "lon": [
          -73.98940236,
          -74.008591
         ],
         "mode": "lines",
         "showlegend": false,
         "type": "scattermapbox"
        },
        {
         "lat": [
          40.71893904,
          40.7652654
         ],
         "line": {
          "color": "blue",
          "width": 1
         },
         "lon": [
          -73.99266288,
          -73.98192338
         ],
         "mode": "lines",
         "showlegend": false,
         "type": "scattermapbox"
        },
        {
         "lat": [
          40.69239502,
          40.700469
         ],
         "line": {
          "color": "blue",
          "width": 1
         },
         "lon": [
          -73.99337909,
          -73.991454
         ],
         "mode": "lines",
         "showlegend": false,
         "type": "scattermapbox"
        },
        {
         "lat": [
          40.69246277,
          40.69089272
         ],
         "line": {
          "color": "blue",
          "width": 1
         },
         "lon": [
          -73.98963911,
          -73.99612349
         ],
         "mode": "lines",
         "showlegend": false,
         "type": "scattermapbox"
        },
        {
         "lat": [
          40.73492695,
          40.73172428
         ],
         "line": {
          "color": "blue",
          "width": 1
         },
         "lon": [
          -73.99200509,
          -74.00674436
         ],
         "mode": "lines",
         "showlegend": false,
         "type": "scattermapbox"
        },
        {
         "lat": [
          40.76009437,
          40.76341379
         ],
         "line": {
          "color": "blue",
          "width": 1
         },
         "lon": [
          -73.99461843,
          -73.99667444
         ],
         "mode": "lines",
         "showlegend": false,
         "type": "scattermapbox"
        },
        {
         "lat": [
          40.76009437,
          40.756014
         ],
         "line": {
          "color": "blue",
          "width": 1
         },
         "lon": [
          -73.99461843,
          -73.967416
         ],
         "mode": "lines",
         "showlegend": false,
         "type": "scattermapbox"
        },
        {
         "lat": [
          40.73261787,
          40.746647
         ],
         "line": {
          "color": "blue",
          "width": 1
         },
         "lon": [
          -73.99158043,
          -73.993915
         ],
         "mode": "lines",
         "showlegend": false,
         "type": "scattermapbox"
        },
        {
         "lat": [
          40.77579376683666,
          40.76590936
         ],
         "line": {
          "color": "blue",
          "width": 1
         },
         "lon": [
          -73.9762057363987,
          -73.97634151
         ],
         "mode": "lines",
         "showlegend": false,
         "type": "scattermapbox"
        },
        {
         "lat": [
          40.76370739,
          40.75724567911726
         ],
         "line": {
          "color": "blue",
          "width": 1
         },
         "lon": [
          -73.9851615,
          -73.97805914282799
         ],
         "mode": "lines",
         "showlegend": false,
         "type": "scattermapbox"
        },
        {
         "lat": [
          40.69474881,
          40.68851534
         ],
         "line": {
          "color": "blue",
          "width": 1
         },
         "lon": [
          -73.98362464,
          -73.9647628
         ],
         "mode": "lines",
         "showlegend": false,
         "type": "scattermapbox"
        },
        {
         "lat": [
          40.771522,
          40.77748046
         ],
         "line": {
          "color": "blue",
          "width": 1
         },
         "lon": [
          -73.990541,
          -73.98288594
         ],
         "mode": "lines",
         "showlegend": false,
         "type": "scattermapbox"
        },
        {
         "lat": [
          40.734232,
          40.74394314
         ],
         "line": {
          "color": "blue",
          "width": 1
         },
         "lon": [
          -73.986923,
          -73.97966069
         ],
         "mode": "lines",
         "showlegend": false,
         "type": "scattermapbox"
        },
        {
         "lat": [
          40.7489006,
          40.714215
         ],
         "line": {
          "color": "blue",
          "width": 1
         },
         "lon": [
          -73.97604882,
          -73.981346
         ],
         "mode": "lines",
         "showlegend": false,
         "type": "scattermapbox"
        },
        {
         "lat": [
          40.72019576,
          40.71117416
         ],
         "line": {
          "color": "blue",
          "width": 1
         },
         "lon": [
          -73.98997825,
          -74.00016545
         ],
         "mode": "lines",
         "showlegend": false,
         "type": "scattermapbox"
        },
        {
         "lat": [
          40.73020660529954,
          40.72740794
         ],
         "line": {
          "color": "blue",
          "width": 1
         },
         "lon": [
          -73.99102628231049,
          -73.98142006
         ],
         "mode": "lines",
         "showlegend": false,
         "type": "scattermapbox"
        },
        {
         "lat": [
          40.71739973,
          40.71219906
         ],
         "line": {
          "color": "blue",
          "width": 1
         },
         "lon": [
          -73.98016555,
          -73.97948148
         ],
         "mode": "lines",
         "showlegend": false,
         "type": "scattermapbox"
        },
        {
         "lat": [
          40.77632142182271,
          40.75992262
         ],
         "line": {
          "color": "blue",
          "width": 1
         },
         "lon": [
          -73.96427392959595,
          -73.97648516
         ],
         "mode": "lines",
         "showlegend": false,
         "type": "scattermapbox"
        },
        {
         "lat": [
          40.74238787,
          40.72706363348306
         ],
         "line": {
          "color": "blue",
          "width": 1
         },
         "lon": [
          -73.99726235,
          -73.99662137031554
         ],
         "mode": "lines",
         "showlegend": false,
         "type": "scattermapbox"
        },
        {
         "lat": [
          40.71406667,
          40.73314259
         ],
         "line": {
          "color": "blue",
          "width": 1
         },
         "lon": [
          -73.99293911,
          -73.97573881
         ],
         "mode": "lines",
         "showlegend": false,
         "type": "scattermapbox"
        },
        {
         "lat": [
          40.75097711,
          40.72951496224949
         ],
         "line": {
          "color": "blue",
          "width": 1
         },
         "lon": [
          -73.98765428,
          -73.99075269699097
         ],
         "mode": "lines",
         "showlegend": false,
         "type": "scattermapbox"
        },
        {
         "lat": [
          40.751873,
          40.73997354103409
         ],
         "line": {
          "color": "blue",
          "width": 1
         },
         "lon": [
          -73.977706,
          -74.00513872504234
         ],
         "mode": "lines",
         "showlegend": false,
         "type": "scattermapbox"
        },
        {
         "lat": [
          40.7361967,
          40.7361967
         ],
         "line": {
          "color": "blue",
          "width": 1
         },
         "lon": [
          -74.00859207,
          -74.00859207
         ],
         "mode": "lines",
         "showlegend": false,
         "type": "scattermapbox"
        },
        {
         "lat": [
          40.72019576,
          40.72185379
         ],
         "line": {
          "color": "blue",
          "width": 1
         },
         "lon": [
          -73.98997825,
          -74.00771779
         ],
         "mode": "lines",
         "showlegend": false,
         "type": "scattermapbox"
        },
        {
         "lat": [
          40.72490985,
          40.75513557
         ],
         "line": {
          "color": "blue",
          "width": 1
         },
         "lon": [
          -74.00154702,
          -73.98658032
         ],
         "mode": "lines",
         "showlegend": false,
         "type": "scattermapbox"
        },
        {
         "lat": [
          40.73454567,
          40.74317449
         ],
         "line": {
          "color": "blue",
          "width": 1
         },
         "lon": [
          -73.99074142,
          -74.00366443
         ],
         "mode": "lines",
         "showlegend": false,
         "type": "scattermapbox"
        },
        {
         "lat": [
          40.717590818059804,
          40.7208736
         ],
         "line": {
          "color": "blue",
          "width": 1
         },
         "lon": [
          -73.99622440338135,
          -73.98085795
         ],
         "mode": "lines",
         "showlegend": false,
         "type": "scattermapbox"
        },
        {
         "lat": [
          40.74177603,
          40.714215
         ],
         "line": {
          "color": "blue",
          "width": 1
         },
         "lon": [
          -74.00149746,
          -73.981346
         ],
         "mode": "lines",
         "showlegend": false,
         "type": "scattermapbox"
        },
        {
         "lat": [
          40.714215,
          40.72710258
         ],
         "line": {
          "color": "blue",
          "width": 1
         },
         "lon": [
          -73.981346,
          -74.00297088
         ],
         "mode": "lines",
         "showlegend": false,
         "type": "scattermapbox"
        },
        {
         "lat": [
          40.768254,
          40.75500254
         ],
         "line": {
          "color": "blue",
          "width": 1
         },
         "lon": [
          -73.988639,
          -73.98014437
         ],
         "mode": "lines",
         "showlegend": false,
         "type": "scattermapbox"
        },
        {
         "lat": [
          40.71602118,
          40.751581
         ],
         "line": {
          "color": "blue",
          "width": 1
         },
         "lon": [
          -73.99974372,
          -73.97791
         ],
         "mode": "lines",
         "showlegend": false,
         "type": "scattermapbox"
        },
        {
         "lat": [
          40.77391390238118,
          40.75898481399634
         ],
         "line": {
          "color": "blue",
          "width": 1
         },
         "lon": [
          -73.9543953537941,
          -73.99379968643188
         ],
         "mode": "lines",
         "showlegend": false,
         "type": "scattermapbox"
        },
        {
         "lat": [
          40.7403432,
          40.74290902
         ],
         "line": {
          "color": "blue",
          "width": 1
         },
         "lon": [
          -73.98955109,
          -73.97706058
         ],
         "mode": "lines",
         "showlegend": false,
         "type": "scattermapbox"
        },
        {
         "lat": [
          40.70463334,
          40.7941654
         ],
         "line": {
          "color": "blue",
          "width": 1
         },
         "lon": [
          -74.01361706,
          -73.974124
         ],
         "mode": "lines",
         "showlegend": false,
         "type": "scattermapbox"
        },
        {
         "lat": [
          40.74238787,
          40.73827428
         ],
         "line": {
          "color": "blue",
          "width": 1
         },
         "lon": [
          -73.99726235,
          -73.98751968
         ],
         "mode": "lines",
         "showlegend": false,
         "type": "scattermapbox"
        },
        {
         "lat": [
          40.75968085,
          40.75724567911726
         ],
         "line": {
          "color": "blue",
          "width": 1
         },
         "lon": [
          -73.97031366,
          -73.97805914282799
         ],
         "mode": "lines",
         "showlegend": false,
         "type": "scattermapbox"
        },
        {
         "lat": [
          40.74025878,
          40.71729
         ],
         "line": {
          "color": "blue",
          "width": 1
         },
         "lon": [
          -73.98409214,
          -73.996375
         ],
         "mode": "lines",
         "showlegend": false,
         "type": "scattermapbox"
        },
        {
         "lat": [
          40.751551,
          40.7457121
         ],
         "line": {
          "color": "blue",
          "width": 1
         },
         "lon": [
          -73.993934,
          -73.98194829
         ],
         "mode": "lines",
         "showlegend": false,
         "type": "scattermapbox"
        },
        {
         "lat": [
          40.72066442,
          40.72430527250332
         ],
         "line": {
          "color": "blue",
          "width": 1
         },
         "lon": [
          -73.98517977,
          -73.99600982666016
         ],
         "mode": "lines",
         "showlegend": false,
         "type": "scattermapbox"
        },
        {
         "lat": [
          40.75828065,
          40.75323098
         ],
         "line": {
          "color": "blue",
          "width": 1
         },
         "lon": [
          -73.97069431,
          -73.97032517
         ],
         "mode": "lines",
         "showlegend": false,
         "type": "scattermapbox"
        },
        {
         "lat": [
          40.73020660529954,
          40.734232
         ],
         "line": {
          "color": "blue",
          "width": 1
         },
         "lon": [
          -73.99102628231049,
          -73.986923
         ],
         "mode": "lines",
         "showlegend": false,
         "type": "scattermapbox"
        },
        {
         "lat": [
          40.72185379,
          40.71625008
         ],
         "line": {
          "color": "blue",
          "width": 1
         },
         "lon": [
          -74.00771779,
          -74.0091059
         ],
         "mode": "lines",
         "showlegend": false,
         "type": "scattermapbox"
        },
        {
         "lat": [
          40.7989445,
          40.809725
         ],
         "line": {
          "color": "blue",
          "width": 1
         },
         "lon": [
          -73.944846,
          -73.953149
         ],
         "mode": "lines",
         "showlegend": false,
         "type": "scattermapbox"
        },
        {
         "lat": [
          40.73038599,
          40.73172428
         ],
         "line": {
          "color": "blue",
          "width": 1
         },
         "lon": [
          -74.00214988,
          -74.00674436
         ],
         "mode": "lines",
         "showlegend": false,
         "type": "scattermapbox"
        },
        {
         "lat": [
          40.73535398,
          40.73172428
         ],
         "line": {
          "color": "blue",
          "width": 1
         },
         "lon": [
          -74.00483091,
          -74.00674436
         ],
         "mode": "lines",
         "showlegend": false,
         "type": "scattermapbox"
        },
        {
         "lat": [
          40.74487634,
          40.74395411
         ],
         "line": {
          "color": "blue",
          "width": 1
         },
         "lon": [
          -73.99529885,
          -73.99144871
         ],
         "mode": "lines",
         "showlegend": false,
         "type": "scattermapbox"
        },
        {
         "lat": [
          40.75640548,
          40.739445
         ],
         "line": {
          "color": "blue",
          "width": 1
         },
         "lon": [
          -73.9900262,
          -73.976806
         ],
         "mode": "lines",
         "showlegend": false,
         "type": "scattermapbox"
        },
        {
         "lat": [
          40.74487634,
          40.7454973
         ],
         "line": {
          "color": "blue",
          "width": 1
         },
         "lon": [
          -73.99529885,
          -74.00197139
         ],
         "mode": "lines",
         "showlegend": false,
         "type": "scattermapbox"
        },
        {
         "lat": [
          40.73291553,
          40.749717753
         ],
         "line": {
          "color": "blue",
          "width": 1
         },
         "lon": [
          -74.00711384,
          -74.002950346
         ],
         "mode": "lines",
         "showlegend": false,
         "type": "scattermapbox"
        },
        {
         "lat": [
          40.76695317,
          40.74395411
         ],
         "line": {
          "color": "blue",
          "width": 1
         },
         "lon": [
          -73.98169333,
          -73.99144871
         ],
         "mode": "lines",
         "showlegend": false,
         "type": "scattermapbox"
        },
        {
         "lat": [
          40.72740794,
          40.72430527250332
         ],
         "line": {
          "color": "blue",
          "width": 1
         },
         "lon": [
          -73.98142006,
          -73.99600982666016
         ],
         "mode": "lines",
         "showlegend": false,
         "type": "scattermapbox"
        },
        {
         "lat": [
          40.73935542,
          40.74487634
         ],
         "line": {
          "color": "blue",
          "width": 1
         },
         "lon": [
          -73.99931783,
          -73.99529885
         ],
         "mode": "lines",
         "showlegend": false,
         "type": "scattermapbox"
        },
        {
         "lat": [
          40.72903917,
          40.73221853
         ],
         "line": {
          "color": "blue",
          "width": 1
         },
         "lon": [
          -73.99404649,
          -73.98165557
         ],
         "mode": "lines",
         "showlegend": false,
         "type": "scattermapbox"
        },
        {
         "lat": [
          40.74444921,
          40.74394314
         ],
         "line": {
          "color": "blue",
          "width": 1
         },
         "lon": [
          -73.98303529,
          -73.97966069
         ],
         "mode": "lines",
         "showlegend": false,
         "type": "scattermapbox"
        },
        {
         "lat": [
          40.71473993,
          40.70463334
         ],
         "line": {
          "color": "blue",
          "width": 1
         },
         "lon": [
          -74.00910627,
          -74.01361706
         ],
         "mode": "lines",
         "showlegend": false,
         "type": "scattermapbox"
        },
        {
         "lat": [
          40.76064679,
          40.75320159
         ],
         "line": {
          "color": "blue",
          "width": 1
         },
         "lon": [
          -73.98442659,
          -73.9779874
         ],
         "mode": "lines",
         "showlegend": false,
         "type": "scattermapbox"
        },
        {
         "lat": [
          40.7489006,
          40.7546011026
         ],
         "line": {
          "color": "blue",
          "width": 1
         },
         "lon": [
          -73.97604882,
          -73.971878855
         ],
         "mode": "lines",
         "showlegend": false,
         "type": "scattermapbox"
        },
        {
         "lat": [
          40.74765947,
          40.75992262
         ],
         "line": {
          "color": "blue",
          "width": 1
         },
         "lon": [
          -73.98490707,
          -73.97648516
         ],
         "mode": "lines",
         "showlegend": false,
         "type": "scattermapbox"
        },
        {
         "lat": [
          40.77163851,
          40.76227205
         ],
         "line": {
          "color": "blue",
          "width": 1
         },
         "lon": [
          -73.98261428,
          -73.98788205
         ],
         "mode": "lines",
         "showlegend": false,
         "type": "scattermapbox"
        },
        {
         "lat": [
          40.71748752,
          40.72938685
         ],
         "line": {
          "color": "blue",
          "width": 1
         },
         "lon": [
          -74.0104554,
          -73.97772429
         ],
         "mode": "lines",
         "showlegend": false,
         "type": "scattermapbox"
        },
        {
         "lat": [
          40.7381765,
          40.7728384
         ],
         "line": {
          "color": "blue",
          "width": 1
         },
         "lon": [
          -73.97738662,
          -73.94989233
         ],
         "mode": "lines",
         "showlegend": false,
         "type": "scattermapbox"
        },
        {
         "lat": [
          40.717571,
          40.7149787
         ],
         "line": {
          "color": "blue",
          "width": 1
         },
         "lon": [
          -74.005549,
          -74.013012
         ],
         "mode": "lines",
         "showlegend": false,
         "type": "scattermapbox"
        },
        {
         "lat": [
          40.7643971,
          40.76590936
         ],
         "line": {
          "color": "blue",
          "width": 1
         },
         "lon": [
          -73.97371465,
          -73.97634151
         ],
         "mode": "lines",
         "showlegend": false,
         "type": "scattermapbox"
        },
        {
         "lat": [
          40.73492695,
          40.73331967
         ],
         "line": {
          "color": "blue",
          "width": 1
         },
         "lon": [
          -73.99200509,
          -73.99510132
         ],
         "mode": "lines",
         "showlegend": false,
         "type": "scattermapbox"
        },
        {
         "lat": [
          40.7381765,
          40.74311555376486
         ],
         "line": {
          "color": "blue",
          "width": 1
         },
         "lon": [
          -73.97738662,
          -73.98215353488922
         ],
         "mode": "lines",
         "showlegend": false,
         "type": "scattermapbox"
        },
        {
         "lat": [
          40.7941654,
          40.79025417330419
         ],
         "line": {
          "color": "blue",
          "width": 1
         },
         "lon": [
          -73.974124,
          -73.97718340158461
         ],
         "mode": "lines",
         "showlegend": false,
         "type": "scattermapbox"
        },
        {
         "lat": [
          40.7921,
          40.7937704
         ],
         "line": {
          "color": "blue",
          "width": 1
         },
         "lon": [
          -73.9739,
          -73.971888
         ],
         "mode": "lines",
         "showlegend": false,
         "type": "scattermapbox"
        },
        {
         "lat": [
          40.70823502,
          40.71605866
         ],
         "line": {
          "color": "blue",
          "width": 1
         },
         "lon": [
          -74.00530063,
          -73.99190759
         ],
         "mode": "lines",
         "showlegend": false,
         "type": "scattermapbox"
        },
        {
         "lat": [
          40.78472675,
          40.75513557
         ],
         "line": {
          "color": "blue",
          "width": 1
         },
         "lon": [
          -73.96961715,
          -73.98658032
         ],
         "mode": "lines",
         "showlegend": false,
         "type": "scattermapbox"
        },
        {
         "lat": [
          40.711512,
          40.71911552
         ],
         "line": {
          "color": "blue",
          "width": 1
         },
         "lon": [
          -74.015756,
          -74.00666661
         ],
         "mode": "lines",
         "showlegend": false,
         "type": "scattermapbox"
        },
        {
         "lat": [
          40.73704984,
          40.73827428
         ],
         "line": {
          "color": "blue",
          "width": 1
         },
         "lon": [
          -73.99009296,
          -73.98751968
         ],
         "mode": "lines",
         "showlegend": false,
         "type": "scattermapbox"
        },
        {
         "lat": [
          40.76227205,
          40.75645824
         ],
         "line": {
          "color": "blue",
          "width": 1
         },
         "lon": [
          -73.98788205,
          -73.99372222
         ],
         "mode": "lines",
         "showlegend": false,
         "type": "scattermapbox"
        },
        {
         "lat": [
          40.76703432309872,
          40.78112229934166
         ],
         "line": {
          "color": "blue",
          "width": 1
         },
         "lon": [
          -73.95622730255127,
          -73.94965589046478
         ],
         "mode": "lines",
         "showlegend": false,
         "type": "scattermapbox"
        },
        {
         "lat": [
          40.72953837,
          40.722055
         ],
         "line": {
          "color": "blue",
          "width": 1
         },
         "lon": [
          -73.98426726,
          -73.989111
         ],
         "mode": "lines",
         "showlegend": false,
         "type": "scattermapbox"
        },
        {
         "lat": [
          40.7973721,
          40.76009437
         ],
         "line": {
          "color": "blue",
          "width": 1
         },
         "lon": [
          -73.97041192,
          -73.99461843
         ],
         "mode": "lines",
         "showlegend": false,
         "type": "scattermapbox"
        },
        {
         "lat": [
          40.71406667,
          40.71739973
         ],
         "line": {
          "color": "blue",
          "width": 1
         },
         "lon": [
          -73.99293911,
          -73.98016555
         ],
         "mode": "lines",
         "showlegend": false,
         "type": "scattermapbox"
        },
        {
         "lat": [
          40.76344058,
          40.75992262
         ],
         "line": {
          "color": "blue",
          "width": 1
         },
         "lon": [
          -73.98268129,
          -73.97648516
         ],
         "mode": "lines",
         "showlegend": false,
         "type": "scattermapbox"
        },
        {
         "lat": [
          40.74487634,
          40.73049393
         ],
         "line": {
          "color": "blue",
          "width": 1
         },
         "lon": [
          -73.99529885,
          -73.9957214
         ],
         "mode": "lines",
         "showlegend": false,
         "type": "scattermapbox"
        },
        {
         "lat": [
          40.73049393,
          40.71939226
         ],
         "line": {
          "color": "blue",
          "width": 1
         },
         "lon": [
          -73.9957214,
          -74.00247214
         ],
         "mode": "lines",
         "showlegend": false,
         "type": "scattermapbox"
        },
        {
         "lat": [
          40.72453734,
          40.74147286
         ],
         "line": {
          "color": "blue",
          "width": 1
         },
         "lon": [
          -73.98185424,
          -73.98320928
         ],
         "mode": "lines",
         "showlegend": false,
         "type": "scattermapbox"
        },
        {
         "lat": [
          40.73492695,
          40.73047747
         ],
         "line": {
          "color": "blue",
          "width": 1
         },
         "lon": [
          -73.99200509,
          -73.99906065
         ],
         "mode": "lines",
         "showlegend": false,
         "type": "scattermapbox"
        },
        {
         "lat": [
          40.79025417330419,
          40.77452835
         ],
         "line": {
          "color": "blue",
          "width": 1
         },
         "lon": [
          -73.97718340158461,
          -73.98753759
         ],
         "mode": "lines",
         "showlegend": false,
         "type": "scattermapbox"
        },
        {
         "lat": [
          40.74173969,
          40.72405549
         ],
         "line": {
          "color": "blue",
          "width": 1
         },
         "lon": [
          -73.99415556,
          -74.00965965
         ],
         "mode": "lines",
         "showlegend": false,
         "type": "scattermapbox"
        },
        {
         "lat": [
          40.686371,
          40.6902375
         ],
         "line": {
          "color": "blue",
          "width": 1
         },
         "lon": [
          -73.99383324,
          -73.99203074
         ],
         "mode": "lines",
         "showlegend": false,
         "type": "scattermapbox"
        },
        {
         "lat": [
          40.73261787,
          40.72467721
         ],
         "line": {
          "color": "blue",
          "width": 1
         },
         "lon": [
          -73.99158043,
          -73.98783413
         ],
         "mode": "lines",
         "showlegend": false,
         "type": "scattermapbox"
        },
        {
         "lat": [
          40.73543934,
          40.7462009
         ],
         "line": {
          "color": "blue",
          "width": 1
         },
         "lon": [
          -73.99453948,
          -73.98855723
         ],
         "mode": "lines",
         "showlegend": false,
         "type": "scattermapbox"
        },
        {
         "lat": [
          40.722055,
          40.73047309
         ],
         "line": {
          "color": "blue",
          "width": 1
         },
         "lon": [
          -73.989111,
          -73.98672378
         ],
         "mode": "lines",
         "showlegend": false,
         "type": "scattermapbox"
        },
        {
         "lat": [
          40.74317449,
          40.746647
         ],
         "line": {
          "color": "blue",
          "width": 1
         },
         "lon": [
          -74.00366443,
          -73.993915
         ],
         "mode": "lines",
         "showlegend": false,
         "type": "scattermapbox"
        },
        {
         "lat": [
          40.73971301,
          40.73331967
         ],
         "line": {
          "color": "blue",
          "width": 1
         },
         "lon": [
          -73.99456405,
          -73.99510132
         ],
         "mode": "lines",
         "showlegend": false,
         "type": "scattermapbox"
        },
        {
         "lat": [
          40.69221589,
          40.68683208
         ],
         "line": {
          "color": "blue",
          "width": 1
         },
         "lon": [
          -73.9842844,
          -73.9796772
         ],
         "mode": "lines",
         "showlegend": false,
         "type": "scattermapbox"
        },
        {
         "lat": [
          40.711512,
          40.70706456
         ],
         "line": {
          "color": "blue",
          "width": 1
         },
         "lon": [
          -74.015756,
          -74.00731853
         ],
         "mode": "lines",
         "showlegend": false,
         "type": "scattermapbox"
        },
        {
         "lat": [
          40.71939226,
          40.71450451
         ],
         "line": {
          "color": "blue",
          "width": 1
         },
         "lon": [
          -74.00247214,
          -74.00562789
         ],
         "mode": "lines",
         "showlegend": false,
         "type": "scattermapbox"
        },
        {
         "lat": [
          40.711512,
          40.70277159
         ],
         "line": {
          "color": "blue",
          "width": 1
         },
         "lon": [
          -74.015756,
          -73.99383605
         ],
         "mode": "lines",
         "showlegend": false,
         "type": "scattermapbox"
        },
        {
         "lat": [
          40.72938685,
          40.73143724085228
         ],
         "line": {
          "color": "blue",
          "width": 1
         },
         "lon": [
          -73.97772429,
          -73.99490341544151
         ],
         "mode": "lines",
         "showlegend": false,
         "type": "scattermapbox"
        },
        {
         "lat": [
          40.73543934,
          40.74395411
         ],
         "line": {
          "color": "blue",
          "width": 1
         },
         "lon": [
          -73.99453948,
          -73.99144871
         ],
         "mode": "lines",
         "showlegend": false,
         "type": "scattermapbox"
        },
        {
         "lat": [
          40.74173969,
          40.72362738
         ],
         "line": {
          "color": "blue",
          "width": 1
         },
         "lon": [
          -73.99415556,
          -73.99949601
         ],
         "mode": "lines",
         "showlegend": false,
         "type": "scattermapbox"
        },
        {
         "lat": [
          40.76695317,
          40.76370739
         ],
         "line": {
          "color": "blue",
          "width": 1
         },
         "lon": [
          -73.98169333,
          -73.9851615
         ],
         "mode": "lines",
         "showlegend": false,
         "type": "scattermapbox"
        },
        {
         "lat": [
          40.793393,
          40.7857851
         ],
         "line": {
          "color": "blue",
          "width": 1
         },
         "lon": [
          -73.9635556,
          -73.957481
         ],
         "mode": "lines",
         "showlegend": false,
         "type": "scattermapbox"
        },
        {
         "lat": [
          40.72430527250332,
          40.71413089
         ],
         "line": {
          "color": "blue",
          "width": 1
         },
         "lon": [
          -73.99600982666016,
          -73.9970468
         ],
         "mode": "lines",
         "showlegend": false,
         "type": "scattermapbox"
        },
        {
         "lat": [
          40.69573398,
          40.70955958
         ],
         "line": {
          "color": "blue",
          "width": 1
         },
         "lon": [
          -73.97129668,
          -74.00653609
         ],
         "mode": "lines",
         "showlegend": false,
         "type": "scattermapbox"
        },
        {
         "lat": [
          40.718822,
          40.71939226
         ],
         "line": {
          "color": "blue",
          "width": 1
         },
         "lon": [
          -73.99596,
          -74.00247214
         ],
         "mode": "lines",
         "showlegend": false,
         "type": "scattermapbox"
        },
        {
         "lat": [
          40.70823502,
          40.70530954
         ],
         "line": {
          "color": "blue",
          "width": 1
         },
         "lon": [
          -74.00530063,
          -74.00612572
         ],
         "mode": "lines",
         "showlegend": false,
         "type": "scattermapbox"
        },
        {
         "lat": [
          40.771522,
          40.76309387270797
         ],
         "line": {
          "color": "blue",
          "width": 1
         },
         "lon": [
          -73.990541,
          -73.9783501625061
         ],
         "mode": "lines",
         "showlegend": false,
         "type": "scattermapbox"
        },
        {
         "lat": [
          40.752416,
          40.71494807
         ],
         "line": {
          "color": "blue",
          "width": 1
         },
         "lon": [
          -73.97837,
          -74.00234482
         ],
         "mode": "lines",
         "showlegend": false,
         "type": "scattermapbox"
        },
        {
         "lat": [
          40.74173969,
          40.76727216
         ],
         "line": {
          "color": "blue",
          "width": 1
         },
         "lon": [
          -73.99415556,
          -73.99392888
         ],
         "mode": "lines",
         "showlegend": false,
         "type": "scattermapbox"
        },
        {
         "lat": [
          40.72082834,
          40.72679454
         ],
         "line": {
          "color": "blue",
          "width": 1
         },
         "lon": [
          -73.97793172,
          -73.99695094
         ],
         "mode": "lines",
         "showlegend": false,
         "type": "scattermapbox"
        },
        {
         "lat": [
          40.78112229934166,
          40.77966809007312
         ],
         "line": {
          "color": "blue",
          "width": 1
         },
         "lon": [
          -73.94965589046478,
          -73.98093044757842
         ],
         "mode": "lines",
         "showlegend": false,
         "type": "scattermapbox"
        },
        {
         "lat": [
          40.73291553,
          40.71911552
         ],
         "line": {
          "color": "blue",
          "width": 1
         },
         "lon": [
          -74.00711384,
          -74.00666661
         ],
         "mode": "lines",
         "showlegend": false,
         "type": "scattermapbox"
        },
        {
         "lat": [
          40.72317958,
          40.7454973
         ],
         "line": {
          "color": "blue",
          "width": 1
         },
         "lon": [
          -73.99480012,
          -74.00197139
         ],
         "mode": "lines",
         "showlegend": false,
         "type": "scattermapbox"
        },
        {
         "lat": [
          40.75001986,
          40.7949879
         ],
         "line": {
          "color": "blue",
          "width": 1
         },
         "lon": [
          -73.96905301,
          -73.9333349
         ],
         "mode": "lines",
         "showlegend": false,
         "type": "scattermapbox"
        },
        {
         "lat": [
          40.787801,
          40.76590936
         ],
         "line": {
          "color": "blue",
          "width": 1
         },
         "lon": [
          -73.953559,
          -73.97634151
         ],
         "mode": "lines",
         "showlegend": false,
         "type": "scattermapbox"
        },
        {
         "lat": [
          40.744023,
          40.744023
         ],
         "line": {
          "color": "blue",
          "width": 1
         },
         "lon": [
          -73.976056,
          -73.976056
         ],
         "mode": "lines",
         "showlegend": false,
         "type": "scattermapbox"
        },
        {
         "lat": [
          40.73401143,
          40.72743423
         ],
         "line": {
          "color": "blue",
          "width": 1
         },
         "lon": [
          -74.00293877,
          -73.99379025
         ],
         "mode": "lines",
         "showlegend": false,
         "type": "scattermapbox"
        },
        {
         "lat": [
          40.72903917,
          40.71494807
         ],
         "line": {
          "color": "blue",
          "width": 1
         },
         "lon": [
          -73.99404649,
          -74.00234482
         ],
         "mode": "lines",
         "showlegend": false,
         "type": "scattermapbox"
        },
        {
         "lat": [
          40.76087502,
          40.78720869
         ],
         "line": {
          "color": "blue",
          "width": 1
         },
         "lon": [
          -74.00277668,
          -73.98128127
         ],
         "mode": "lines",
         "showlegend": false,
         "type": "scattermapbox"
        },
        {
         "lat": [
          40.71739973,
          40.71739973
         ],
         "line": {
          "color": "blue",
          "width": 1
         },
         "lon": [
          -73.98016555,
          -73.98016555
         ],
         "mode": "lines",
         "showlegend": false,
         "type": "scattermapbox"
        },
        {
         "lat": [
          40.74286877312112,
          40.74487634
         ],
         "line": {
          "color": "blue",
          "width": 1
         },
         "lon": [
          -73.98918628692627,
          -73.99529885
         ],
         "mode": "lines",
         "showlegend": false,
         "type": "scattermapbox"
        },
        {
         "lat": [
          40.734232,
          40.72229346
         ],
         "line": {
          "color": "blue",
          "width": 1
         },
         "lon": [
          -73.986923,
          -73.99147535
         ],
         "mode": "lines",
         "showlegend": false,
         "type": "scattermapbox"
        },
        {
         "lat": [
          40.746745,
          40.72165481
         ],
         "line": {
          "color": "blue",
          "width": 1
         },
         "lon": [
          -74.007756,
          -74.00234737
         ],
         "mode": "lines",
         "showlegend": false,
         "type": "scattermapbox"
        },
        {
         "lat": [
          40.72110063,
          40.746647
         ],
         "line": {
          "color": "blue",
          "width": 1
         },
         "lon": [
          -73.9919254,
          -73.993915
         ],
         "mode": "lines",
         "showlegend": false,
         "type": "scattermapbox"
        },
        {
         "lat": [
          40.7149787,
          40.72405549
         ],
         "line": {
          "color": "blue",
          "width": 1
         },
         "lon": [
          -74.013012,
          -74.00965965
         ],
         "mode": "lines",
         "showlegend": false,
         "type": "scattermapbox"
        },
        {
         "lat": [
          40.73020660529954,
          40.72467721
         ],
         "line": {
          "color": "blue",
          "width": 1
         },
         "lon": [
          -73.99102628231049,
          -73.98783413
         ],
         "mode": "lines",
         "showlegend": false,
         "type": "scattermapbox"
        },
        {
         "lat": [
          40.71534825,
          40.7172274
         ],
         "line": {
          "color": "blue",
          "width": 1
         },
         "lon": [
          -73.96024116,
          -73.98802084
         ],
         "mode": "lines",
         "showlegend": false,
         "type": "scattermapbox"
        },
        {
         "lat": [
          40.75019995,
          40.734232
         ],
         "line": {
          "color": "blue",
          "width": 1
         },
         "lon": [
          -73.99093085,
          -73.986923
         ],
         "mode": "lines",
         "showlegend": false,
         "type": "scattermapbox"
        },
        {
         "lat": [
          40.73314259,
          40.7454973
         ],
         "line": {
          "color": "blue",
          "width": 1
         },
         "lon": [
          -73.97573881,
          -74.00197139
         ],
         "mode": "lines",
         "showlegend": false,
         "type": "scattermapbox"
        },
        {
         "lat": [
          40.804213,
          40.7770575
         ],
         "line": {
          "color": "blue",
          "width": 1
         },
         "lon": [
          -73.96699104,
          -73.97898475
         ],
         "mode": "lines",
         "showlegend": false,
         "type": "scattermapbox"
        },
        {
         "lat": [
          40.7575699,
          40.76030096
         ],
         "line": {
          "color": "blue",
          "width": 1
         },
         "lon": [
          -73.99098507,
          -73.99884222
         ],
         "mode": "lines",
         "showlegend": false,
         "type": "scattermapbox"
        },
        {
         "lat": [
          40.74395411,
          40.74286877312112
         ],
         "line": {
          "color": "blue",
          "width": 1
         },
         "lon": [
          -73.99144871,
          -73.98918628692627
         ],
         "mode": "lines",
         "showlegend": false,
         "type": "scattermapbox"
        },
        {
         "lat": [
          40.71754834,
          40.75299641
         ],
         "line": {
          "color": "blue",
          "width": 1
         },
         "lon": [
          -74.01322069,
          -73.98721619
         ],
         "mode": "lines",
         "showlegend": false,
         "type": "scattermapbox"
        },
        {
         "lat": [
          40.74487634,
          40.73401143
         ],
         "line": {
          "color": "blue",
          "width": 1
         },
         "lon": [
          -73.99529885,
          -74.00293877
         ],
         "mode": "lines",
         "showlegend": false,
         "type": "scattermapbox"
        },
        {
         "lat": [
          40.73401143,
          40.72362738
         ],
         "line": {
          "color": "blue",
          "width": 1
         },
         "lon": [
          -74.00293877,
          -73.99949601
         ],
         "mode": "lines",
         "showlegend": false,
         "type": "scattermapbox"
        },
        {
         "lat": [
          40.72740794,
          40.72953837
         ],
         "line": {
          "color": "blue",
          "width": 1
         },
         "lon": [
          -73.98142006,
          -73.98426726
         ],
         "mode": "lines",
         "showlegend": false,
         "type": "scattermapbox"
        },
        {
         "lat": [
          40.73935542,
          40.73997354103409
         ],
         "line": {
          "color": "blue",
          "width": 1
         },
         "lon": [
          -73.99931783,
          -74.00513872504234
         ],
         "mode": "lines",
         "showlegend": false,
         "type": "scattermapbox"
        },
        {
         "lat": [
          40.751551,
          40.72580614
         ],
         "line": {
          "color": "blue",
          "width": 1
         },
         "lon": [
          -73.993934,
          -73.97422494
         ],
         "mode": "lines",
         "showlegend": false,
         "type": "scattermapbox"
        },
        {
         "lat": [
          40.72953837,
          40.72467721
         ],
         "line": {
          "color": "blue",
          "width": 1
         },
         "lon": [
          -73.98426726,
          -73.98783413
         ],
         "mode": "lines",
         "showlegend": false,
         "type": "scattermapbox"
        },
        {
         "lat": [
          40.7829391,
          40.7829391
         ],
         "line": {
          "color": "blue",
          "width": 1
         },
         "lon": [
          -73.9786517,
          -73.9786517
         ],
         "mode": "lines",
         "showlegend": false,
         "type": "scattermapbox"
        },
        {
         "lat": [
          40.70955958,
          40.71117444
         ],
         "line": {
          "color": "blue",
          "width": 1
         },
         "lon": [
          -74.00653609,
          -73.99682619
         ],
         "mode": "lines",
         "showlegend": false,
         "type": "scattermapbox"
        },
        {
         "lat": [
          40.714215,
          40.71173107
         ],
         "line": {
          "color": "blue",
          "width": 1
         },
         "lon": [
          -73.981346,
          -73.99193043
         ],
         "mode": "lines",
         "showlegend": false,
         "type": "scattermapbox"
        },
        {
         "lat": [
          40.75455731,
          40.73912601
         ],
         "line": {
          "color": "blue",
          "width": 1
         },
         "lon": [
          -73.96592976,
          -73.97973776
         ],
         "mode": "lines",
         "showlegend": false,
         "type": "scattermapbox"
        },
        {
         "lat": [
          40.7158155,
          40.73047747
         ],
         "line": {
          "color": "blue",
          "width": 1
         },
         "lon": [
          -73.99422366,
          -73.99906065
         ],
         "mode": "lines",
         "showlegend": false,
         "type": "scattermapbox"
        },
        {
         "lat": [
          40.735238,
          40.72873888
         ],
         "line": {
          "color": "blue",
          "width": 1
         },
         "lon": [
          -74.000271,
          -74.00748842
         ],
         "mode": "lines",
         "showlegend": false,
         "type": "scattermapbox"
        },
        {
         "lat": [
          40.7500727,
          40.735238
         ],
         "line": {
          "color": "blue",
          "width": 1
         },
         "lon": [
          -73.99839279,
          -74.000271
         ],
         "mode": "lines",
         "showlegend": false,
         "type": "scattermapbox"
        },
        {
         "lat": [
          40.73492695,
          40.7381765
         ],
         "line": {
          "color": "blue",
          "width": 1
         },
         "lon": [
          -73.99200509,
          -73.97738662
         ],
         "mode": "lines",
         "showlegend": false,
         "type": "scattermapbox"
        },
        {
         "lat": [
          40.74144387,
          40.744023
         ],
         "line": {
          "color": "blue",
          "width": 1
         },
         "lon": [
          -73.97536082,
          -73.976056
         ],
         "mode": "lines",
         "showlegend": false,
         "type": "scattermapbox"
        },
        {
         "lat": [
          40.75018156325683,
          40.74317449
         ],
         "line": {
          "color": "blue",
          "width": 1
         },
         "lon": [
          -74.00218427181244,
          -74.00366443
         ],
         "mode": "lines",
         "showlegend": false,
         "type": "scattermapbox"
        },
        {
         "lat": [
          40.76269882,
          40.768254
         ],
         "line": {
          "color": "blue",
          "width": 1
         },
         "lon": [
          -73.99301222,
          -73.988639
         ],
         "mode": "lines",
         "showlegend": false,
         "type": "scattermapbox"
        },
        {
         "lat": [
          40.72740794,
          40.72317958
         ],
         "line": {
          "color": "blue",
          "width": 1
         },
         "lon": [
          -73.98142006,
          -73.99480012
         ],
         "mode": "lines",
         "showlegend": false,
         "type": "scattermapbox"
        },
        {
         "lat": [
          40.72679454,
          40.735238
         ],
         "line": {
          "color": "blue",
          "width": 1
         },
         "lon": [
          -73.99695094,
          -74.000271
         ],
         "mode": "lines",
         "showlegend": false,
         "type": "scattermapbox"
        },
        {
         "lat": [
          40.68506807308177,
          40.69327018
         ],
         "line": {
          "color": "blue",
          "width": 1
         },
         "lon": [
          -73.97790759801863,
          -73.97703874
         ],
         "mode": "lines",
         "showlegend": false,
         "type": "scattermapbox"
        },
        {
         "lat": [
          40.72938685,
          40.72299208
         ],
         "line": {
          "color": "blue",
          "width": 1
         },
         "lon": [
          -73.97772429,
          -73.97995466
         ],
         "mode": "lines",
         "showlegend": false,
         "type": "scattermapbox"
        },
        {
         "lat": [
          40.73028666,
          40.734232
         ],
         "line": {
          "color": "blue",
          "width": 1
         },
         "lon": [
          -73.9907647,
          -73.986923
         ],
         "mode": "lines",
         "showlegend": false,
         "type": "scattermapbox"
        },
        {
         "lat": [
          40.73038599,
          40.72710258
         ],
         "line": {
          "color": "blue",
          "width": 1
         },
         "lon": [
          -74.00214988,
          -74.00297088
         ],
         "mode": "lines",
         "showlegend": false,
         "type": "scattermapbox"
        },
        {
         "lat": [
          40.6610633719006,
          40.69383
         ],
         "line": {
          "color": "blue",
          "width": 1
         },
         "lon": [
          -73.97945255041122,
          -73.990539
         ],
         "mode": "lines",
         "showlegend": false,
         "type": "scattermapbox"
        },
        {
         "lat": [
          40.734232,
          40.74780373
         ],
         "line": {
          "color": "blue",
          "width": 1
         },
         "lon": [
          -73.986923,
          -73.9734419
         ],
         "mode": "lines",
         "showlegend": false,
         "type": "scattermapbox"
        },
        {
         "lat": [
          40.77862688,
          40.7973721
         ],
         "line": {
          "color": "blue",
          "width": 1
         },
         "lon": [
          -73.95772073,
          -73.97041192
         ],
         "mode": "lines",
         "showlegend": false,
         "type": "scattermapbox"
        },
        {
         "lat": [
          40.73543934,
          40.73226398
         ],
         "line": {
          "color": "blue",
          "width": 1
         },
         "lon": [
          -73.99453948,
          -73.99852205
         ],
         "mode": "lines",
         "showlegend": false,
         "type": "scattermapbox"
        },
        {
         "lat": [
          40.74290902,
          40.73912601
         ],
         "line": {
          "color": "blue",
          "width": 1
         },
         "lon": [
          -73.97706058,
          -73.97973776
         ],
         "mode": "lines",
         "showlegend": false,
         "type": "scattermapbox"
        },
        {
         "lat": [
          40.72743423,
          40.7423543
         ],
         "line": {
          "color": "blue",
          "width": 1
         },
         "lon": [
          -73.99379025,
          -73.98915076
         ],
         "mode": "lines",
         "showlegend": false,
         "type": "scattermapbox"
        },
        {
         "lat": [
          40.71748752,
          40.72362738
         ],
         "line": {
          "color": "blue",
          "width": 1
         },
         "lon": [
          -74.0104554,
          -73.99949601
         ],
         "mode": "lines",
         "showlegend": false,
         "type": "scattermapbox"
        },
        {
         "lat": [
          40.72502876,
          40.72953837
         ],
         "line": {
          "color": "blue",
          "width": 1
         },
         "lon": [
          -73.99069656,
          -73.98426726
         ],
         "mode": "lines",
         "showlegend": false,
         "type": "scattermapbox"
        },
        {
         "lat": [
          40.71739973,
          40.72938685
         ],
         "line": {
          "color": "blue",
          "width": 1
         },
         "lon": [
          -73.98016555,
          -73.97772429
         ],
         "mode": "lines",
         "showlegend": false,
         "type": "scattermapbox"
        },
        {
         "lat": [
          40.73291553,
          40.73935542
         ],
         "line": {
          "color": "blue",
          "width": 1
         },
         "lon": [
          -74.00711384,
          -73.99931783
         ],
         "mode": "lines",
         "showlegend": false,
         "type": "scattermapbox"
        },
        {
         "lat": [
          40.746647,
          40.749717753
         ],
         "line": {
          "color": "blue",
          "width": 1
         },
         "lon": [
          -73.993915,
          -74.002950346
         ],
         "mode": "lines",
         "showlegend": false,
         "type": "scattermapbox"
        },
        {
         "lat": [
          40.7454973,
          40.74238787
         ],
         "line": {
          "color": "blue",
          "width": 1
         },
         "lon": [
          -74.00197139,
          -73.99726235
         ],
         "mode": "lines",
         "showlegend": false,
         "type": "scattermapbox"
        },
        {
         "lat": [
          40.752062307,
          40.751581
         ],
         "line": {
          "color": "blue",
          "width": 1
         },
         "lon": [
          -73.9816324043,
          -73.97791
         ],
         "mode": "lines",
         "showlegend": false,
         "type": "scattermapbox"
        },
        {
         "lat": [
          40.75992262,
          40.77966809007312
         ],
         "line": {
          "color": "blue",
          "width": 1
         },
         "lon": [
          -73.97648516,
          -73.98093044757842
         ],
         "mode": "lines",
         "showlegend": false,
         "type": "scattermapbox"
        },
        {
         "lat": [
          40.8008363,
          40.80295
         ],
         "line": {
          "color": "blue",
          "width": 1
         },
         "lon": [
          -73.9664492472,
          -73.942954
         ],
         "mode": "lines",
         "showlegend": false,
         "type": "scattermapbox"
        },
        {
         "lat": [
          40.756014,
          40.72229346
         ],
         "line": {
          "color": "blue",
          "width": 1
         },
         "lon": [
          -73.967416,
          -73.99147535
         ],
         "mode": "lines",
         "showlegend": false,
         "type": "scattermapbox"
        },
        {
         "lat": [
          40.75019995,
          40.714215
         ],
         "line": {
          "color": "blue",
          "width": 1
         },
         "lon": [
          -73.99093085,
          -73.981346
         ],
         "mode": "lines",
         "showlegend": false,
         "type": "scattermapbox"
        },
        {
         "lat": [
          40.74475148,
          40.74487634
         ],
         "line": {
          "color": "blue",
          "width": 1
         },
         "lon": [
          -73.99915362,
          -73.99529885
         ],
         "mode": "lines",
         "showlegend": false,
         "type": "scattermapbox"
        },
        {
         "lat": [
          40.73226398,
          40.73223272
         ],
         "line": {
          "color": "blue",
          "width": 1
         },
         "lon": [
          -73.99852205,
          -73.98889957
         ],
         "mode": "lines",
         "showlegend": false,
         "type": "scattermapbox"
        },
        {
         "lat": [
          40.76590936,
          40.77896784
         ],
         "line": {
          "color": "blue",
          "width": 1
         },
         "lon": [
          -73.97634151,
          -73.97374737
         ],
         "mode": "lines",
         "showlegend": false,
         "type": "scattermapbox"
        },
        {
         "lat": [
          40.73291553,
          40.73221853
         ],
         "line": {
          "color": "blue",
          "width": 1
         },
         "lon": [
          -74.00711384,
          -73.98165557
         ],
         "mode": "lines",
         "showlegend": false,
         "type": "scattermapbox"
        },
        {
         "lat": [
          40.7014851,
          40.72953837
         ],
         "line": {
          "color": "blue",
          "width": 1
         },
         "lon": [
          -73.98656928,
          -73.98426726
         ],
         "mode": "lines",
         "showlegend": false,
         "type": "scattermapbox"
        },
        {
         "lat": [
          40.73726186,
          40.72679454
         ],
         "line": {
          "color": "blue",
          "width": 1
         },
         "lon": [
          -73.99238967,
          -73.99695094
         ],
         "mode": "lines",
         "showlegend": false,
         "type": "scattermapbox"
        },
        {
         "lat": [
          40.7829391,
          40.74025878
         ],
         "line": {
          "color": "blue",
          "width": 1
         },
         "lon": [
          -73.9786517,
          -73.98409214
         ],
         "mode": "lines",
         "showlegend": false,
         "type": "scattermapbox"
        },
        {
         "lat": [
          40.71494807,
          40.71291224
         ],
         "line": {
          "color": "blue",
          "width": 1
         },
         "lon": [
          -74.00234482,
          -74.01020234
         ],
         "mode": "lines",
         "showlegend": false,
         "type": "scattermapbox"
        },
        {
         "lat": [
          40.75018156325683,
          40.714215
         ],
         "line": {
          "color": "blue",
          "width": 1
         },
         "lon": [
          -74.00218427181244,
          -73.981346
         ],
         "mode": "lines",
         "showlegend": false,
         "type": "scattermapbox"
        },
        {
         "lat": [
          40.7284186,
          40.73221853
         ],
         "line": {
          "color": "blue",
          "width": 1
         },
         "lon": [
          -73.98713956,
          -73.98165557
         ],
         "mode": "lines",
         "showlegend": false,
         "type": "scattermapbox"
        },
        {
         "lat": [
          40.7457121,
          40.736502
         ],
         "line": {
          "color": "blue",
          "width": 1
         },
         "lon": [
          -73.98194829,
          -73.97809472
         ],
         "mode": "lines",
         "showlegend": false,
         "type": "scattermapbox"
        },
        {
         "lat": [
          40.71406667,
          40.72580614
         ],
         "line": {
          "color": "blue",
          "width": 1
         },
         "lon": [
          -73.99293911,
          -73.97422494
         ],
         "mode": "lines",
         "showlegend": false,
         "type": "scattermapbox"
        },
        {
         "lat": [
          40.73028666,
          40.72938685
         ],
         "line": {
          "color": "blue",
          "width": 1
         },
         "lon": [
          -73.9907647,
          -73.97772429
         ],
         "mode": "lines",
         "showlegend": false,
         "type": "scattermapbox"
        },
        {
         "lat": [
          40.74345335,
          40.746647
         ],
         "line": {
          "color": "blue",
          "width": 1
         },
         "lon": [
          -74.00004031,
          -73.993915
         ],
         "mode": "lines",
         "showlegend": false,
         "type": "scattermapbox"
        },
        {
         "lat": [
          40.71729,
          40.71739973
         ],
         "line": {
          "color": "blue",
          "width": 1
         },
         "lon": [
          -73.996375,
          -73.98016555
         ],
         "mode": "lines",
         "showlegend": false,
         "type": "scattermapbox"
        },
        {
         "lat": [
          40.7451677,
          40.75992262
         ],
         "line": {
          "color": "blue",
          "width": 1
         },
         "lon": [
          -73.98683077,
          -73.97648516
         ],
         "mode": "lines",
         "showlegend": false,
         "type": "scattermapbox"
        },
        {
         "lat": [
          40.74096374,
          40.73524276
         ],
         "line": {
          "color": "blue",
          "width": 1
         },
         "lon": [
          -73.98602213,
          -73.98758561
         ],
         "mode": "lines",
         "showlegend": false,
         "type": "scattermapbox"
        },
        {
         "lat": [
          40.73649403,
          40.74691959
         ],
         "line": {
          "color": "blue",
          "width": 1
         },
         "lon": [
          -73.99704374,
          -74.00451887
         ],
         "mode": "lines",
         "showlegend": false,
         "type": "scattermapbox"
        },
        {
         "lat": [
          40.7454973,
          40.74475148
         ],
         "line": {
          "color": "blue",
          "width": 1
         },
         "lon": [
          -74.00197139,
          -73.99915362
         ],
         "mode": "lines",
         "showlegend": false,
         "type": "scattermapbox"
        },
        {
         "lat": [
          40.72710258,
          40.73331967
         ],
         "line": {
          "color": "blue",
          "width": 1
         },
         "lon": [
          -74.00297088,
          -73.99510132
         ],
         "mode": "lines",
         "showlegend": false,
         "type": "scattermapbox"
        },
        {
         "lat": [
          40.76009437,
          40.75097711
         ],
         "line": {
          "color": "blue",
          "width": 1
         },
         "lon": [
          -73.99461843,
          -73.98765428
         ],
         "mode": "lines",
         "showlegend": false,
         "type": "scattermapbox"
        },
        {
         "lat": [
          40.71939226,
          40.72679454
         ],
         "line": {
          "color": "blue",
          "width": 1
         },
         "lon": [
          -74.00247214,
          -73.99695094
         ],
         "mode": "lines",
         "showlegend": false,
         "type": "scattermapbox"
        },
        {
         "lat": [
          40.75320159,
          40.768254
         ],
         "line": {
          "color": "blue",
          "width": 1
         },
         "lon": [
          -73.9779874,
          -73.988639
         ],
         "mode": "lines",
         "showlegend": false,
         "type": "scattermapbox"
        },
        {
         "lat": [
          40.717571,
          40.74487634
         ],
         "line": {
          "color": "blue",
          "width": 1
         },
         "lon": [
          -74.005549,
          -73.99529885
         ],
         "mode": "lines",
         "showlegend": false,
         "type": "scattermapbox"
        },
        {
         "lat": [
          40.799484,
          40.795
         ],
         "line": {
          "color": "blue",
          "width": 1
         },
         "lon": [
          -73.955613,
          -73.9645
         ],
         "mode": "lines",
         "showlegend": false,
         "type": "scattermapbox"
        },
        {
         "lat": [
          40.72938685,
          40.73221853
         ],
         "line": {
          "color": "blue",
          "width": 1
         },
         "lon": [
          -73.97772429,
          -73.98165557
         ],
         "mode": "lines",
         "showlegend": false,
         "type": "scattermapbox"
        },
        {
         "lat": [
          40.71748752,
          40.73535398
         ],
         "line": {
          "color": "blue",
          "width": 1
         },
         "lon": [
          -74.0104554,
          -74.00483091
         ],
         "mode": "lines",
         "showlegend": false,
         "type": "scattermapbox"
        },
        {
         "lat": [
          40.73971301,
          40.76019252
         ],
         "line": {
          "color": "blue",
          "width": 1
         },
         "lon": [
          -73.99456405,
          -73.9912551
         ],
         "mode": "lines",
         "showlegend": false,
         "type": "scattermapbox"
        },
        {
         "lat": [
          40.696192,
          40.718822
         ],
         "line": {
          "color": "blue",
          "width": 1
         },
         "lon": [
          -73.991218,
          -73.99596
         ],
         "mode": "lines",
         "showlegend": false,
         "type": "scattermapbox"
        },
        {
         "lat": [
          40.72362738,
          40.74475148
         ],
         "line": {
          "color": "blue",
          "width": 1
         },
         "lon": [
          -73.99949601,
          -73.99915362
         ],
         "mode": "lines",
         "showlegend": false,
         "type": "scattermapbox"
        },
        {
         "lat": [
          40.76915505,
          40.76019252
         ],
         "line": {
          "color": "blue",
          "width": 1
         },
         "lon": [
          -73.98191841,
          -73.9912551
         ],
         "mode": "lines",
         "showlegend": false,
         "type": "scattermapbox"
        },
        {
         "lat": [
          40.7801839724239,
          40.795
         ],
         "line": {
          "color": "blue",
          "width": 1
         },
         "lon": [
          -73.97728532552719,
          -73.9645
         ],
         "mode": "lines",
         "showlegend": false,
         "type": "scattermapbox"
        },
        {
         "lat": [
          40.75019995,
          40.75513557
         ],
         "line": {
          "color": "blue",
          "width": 1
         },
         "lon": [
          -73.99093085,
          -73.98658032
         ],
         "mode": "lines",
         "showlegend": false,
         "type": "scattermapbox"
        },
        {
         "lat": [
          40.72938685,
          40.72317958
         ],
         "line": {
          "color": "blue",
          "width": 1
         },
         "lon": [
          -73.97772429,
          -73.99480012
         ],
         "mode": "lines",
         "showlegend": false,
         "type": "scattermapbox"
        },
        {
         "lat": [
          40.72019576,
          40.71782143
         ],
         "line": {
          "color": "blue",
          "width": 1
         },
         "lon": [
          -73.98997825,
          -73.97628939
         ],
         "mode": "lines",
         "showlegend": false,
         "type": "scattermapbox"
        },
        {
         "lat": [
          40.75019995,
          40.75992262
         ],
         "line": {
          "color": "blue",
          "width": 1
         },
         "lon": [
          -73.99093085,
          -73.97648516
         ],
         "mode": "lines",
         "showlegend": false,
         "type": "scattermapbox"
        },
        {
         "lat": [
          40.72710258,
          40.72430527250332
         ],
         "line": {
          "color": "blue",
          "width": 1
         },
         "lon": [
          -74.00297088,
          -73.99600982666016
         ],
         "mode": "lines",
         "showlegend": false,
         "type": "scattermapbox"
        },
        {
         "lat": [
          40.73047309,
          40.71413089
         ],
         "line": {
          "color": "blue",
          "width": 1
         },
         "lon": [
          -73.98672378,
          -73.9970468
         ],
         "mode": "lines",
         "showlegend": false,
         "type": "scattermapbox"
        },
        {
         "lat": [
          40.734232,
          40.74144387
         ],
         "line": {
          "color": "blue",
          "width": 1
         },
         "lon": [
          -73.986923,
          -73.97536082
         ],
         "mode": "lines",
         "showlegend": false,
         "type": "scattermapbox"
        },
        {
         "lat": [
          40.74206539,
          40.748238
         ],
         "line": {
          "color": "blue",
          "width": 1
         },
         "lon": [
          -74.00443172,
          -73.978311
         ],
         "mode": "lines",
         "showlegend": false,
         "type": "scattermapbox"
        },
        {
         "lat": [
          40.689888,
          40.6917823
         ],
         "line": {
          "color": "blue",
          "width": 1
         },
         "lon": [
          -73.981013,
          -73.9737299
         ],
         "mode": "lines",
         "showlegend": false,
         "type": "scattermapbox"
        },
        {
         "lat": [
          40.758996559605116,
          40.73221853
         ],
         "line": {
          "color": "blue",
          "width": 1
         },
         "lon": [
          -73.96865397691727,
          -73.98165557
         ],
         "mode": "lines",
         "showlegend": false,
         "type": "scattermapbox"
        },
        {
         "lat": [
          40.72217444,
          40.73314259
         ],
         "line": {
          "color": "blue",
          "width": 1
         },
         "lon": [
          -73.98368779,
          -73.97573881
         ],
         "mode": "lines",
         "showlegend": false,
         "type": "scattermapbox"
        },
        {
         "lat": [
          40.739323,
          40.73649403
         ],
         "line": {
          "color": "blue",
          "width": 1
         },
         "lon": [
          -74.008119,
          -73.99704374
         ],
         "mode": "lines",
         "showlegend": false,
         "type": "scattermapbox"
        },
        {
         "lat": [
          40.722103786686034,
          40.70862144
         ],
         "line": {
          "color": "blue",
          "width": 1
         },
         "lon": [
          -73.99724900722504,
          -74.00722156
         ],
         "mode": "lines",
         "showlegend": false,
         "type": "scattermapbox"
        },
        {
         "lat": [
          40.70691254,
          40.69237074
         ],
         "line": {
          "color": "blue",
          "width": 1
         },
         "lon": [
          -73.95441667,
          -73.93705428
         ],
         "mode": "lines",
         "showlegend": false,
         "type": "scattermapbox"
        },
        {
         "lat": [
          40.724399,
          40.746647
         ],
         "line": {
          "color": "blue",
          "width": 1
         },
         "lon": [
          -74.004704,
          -73.993915
         ],
         "mode": "lines",
         "showlegend": false,
         "type": "scattermapbox"
        },
        {
         "lat": [
          40.739323,
          40.72917025
         ],
         "line": {
          "color": "blue",
          "width": 1
         },
         "lon": [
          -74.008119,
          -73.99810231
         ],
         "mode": "lines",
         "showlegend": false,
         "type": "scattermapbox"
        },
        {
         "lat": [
          40.72217444,
          40.72082834
         ],
         "line": {
          "color": "blue",
          "width": 1
         },
         "lon": [
          -73.98368779,
          -73.97793172
         ],
         "mode": "lines",
         "showlegend": false,
         "type": "scattermapbox"
        },
        {
         "lat": [
          40.72110063,
          40.71850211
         ],
         "line": {
          "color": "blue",
          "width": 1
         },
         "lon": [
          -73.9919254,
          -73.98329859
         ],
         "mode": "lines",
         "showlegend": false,
         "type": "scattermapbox"
        },
        {
         "lat": [
          40.75898481399634,
          40.75510267
         ],
         "line": {
          "color": "blue",
          "width": 1
         },
         "lon": [
          -73.99379968643188,
          -73.97498696
         ],
         "mode": "lines",
         "showlegend": false,
         "type": "scattermapbox"
        },
        {
         "lat": [
          40.75510267,
          40.75455731
         ],
         "line": {
          "color": "blue",
          "width": 1
         },
         "lon": [
          -73.97498696,
          -73.96592976
         ],
         "mode": "lines",
         "showlegend": false,
         "type": "scattermapbox"
        },
        {
         "lat": [
          40.718822,
          40.73314259
         ],
         "line": {
          "color": "blue",
          "width": 1
         },
         "lon": [
          -73.99596,
          -73.97573881
         ],
         "mode": "lines",
         "showlegend": false,
         "type": "scattermapbox"
        },
        {
         "lat": [
          40.76064679,
          40.7284186
         ],
         "line": {
          "color": "blue",
          "width": 1
         },
         "lon": [
          -73.98442659,
          -73.98713956
         ],
         "mode": "lines",
         "showlegend": false,
         "type": "scattermapbox"
        },
        {
         "lat": [
          40.76461837,
          40.7568001
         ],
         "line": {
          "color": "blue",
          "width": 1
         },
         "lon": [
          -73.98789473,
          -73.98291153
         ],
         "mode": "lines",
         "showlegend": false,
         "type": "scattermapbox"
        },
        {
         "lat": [
          40.76344058,
          40.76584941
         ],
         "line": {
          "color": "blue",
          "width": 1
         },
         "lon": [
          -73.98268129,
          -73.98690506
         ],
         "mode": "lines",
         "showlegend": false,
         "type": "scattermapbox"
        },
        {
         "lat": [
          40.752062307,
          40.75714758
         ],
         "line": {
          "color": "blue",
          "width": 1
         },
         "lon": [
          -73.9816324043,
          -73.97207836
         ],
         "mode": "lines",
         "showlegend": false,
         "type": "scattermapbox"
        },
        {
         "lat": [
          40.73454567,
          40.728048571362606
         ],
         "line": {
          "color": "blue",
          "width": 1
         },
         "lon": [
          -73.99074142,
          -73.97881150245667
         ],
         "mode": "lines",
         "showlegend": false,
         "type": "scattermapbox"
        },
        {
         "lat": [
          40.739445,
          40.72362738
         ],
         "line": {
          "color": "blue",
          "width": 1
         },
         "lon": [
          -73.976806,
          -73.99949601
         ],
         "mode": "lines",
         "showlegend": false,
         "type": "scattermapbox"
        },
        {
         "lat": [
          40.75038009,
          40.74394314
         ],
         "line": {
          "color": "blue",
          "width": 1
         },
         "lon": [
          -73.98338988,
          -73.97966069
         ],
         "mode": "lines",
         "showlegend": false,
         "type": "scattermapbox"
        },
        {
         "lat": [
          40.73492695,
          40.71926081
         ],
         "line": {
          "color": "blue",
          "width": 1
         },
         "lon": [
          -73.99200509,
          -73.98178024
         ],
         "mode": "lines",
         "showlegend": false,
         "type": "scattermapbox"
        },
        {
         "lat": [
          40.749156,
          40.73401143
         ],
         "line": {
          "color": "blue",
          "width": 1
         },
         "lon": [
          -73.9916,
          -74.00293877
         ],
         "mode": "lines",
         "showlegend": false,
         "type": "scattermapbox"
        },
        {
         "lat": [
          40.73047309,
          40.70955958
         ],
         "line": {
          "color": "blue",
          "width": 1
         },
         "lon": [
          -73.98672378,
          -74.00653609
         ],
         "mode": "lines",
         "showlegend": false,
         "type": "scattermapbox"
        },
        {
         "lat": [
          40.74286877312112,
          40.7612274
         ],
         "line": {
          "color": "blue",
          "width": 1
         },
         "lon": [
          -73.98918628692627,
          -73.96094022
         ],
         "mode": "lines",
         "showlegend": false,
         "type": "scattermapbox"
        },
        {
         "lat": [
          40.76095756,
          40.76500525
         ],
         "line": {
          "color": "blue",
          "width": 1
         },
         "lon": [
          -73.96724467,
          -73.95818491
         ],
         "mode": "lines",
         "showlegend": false,
         "type": "scattermapbox"
        },
        {
         "lat": [
          40.73704984,
          40.72066442
         ],
         "line": {
          "color": "blue",
          "width": 1
         },
         "lon": [
          -73.99009296,
          -73.98517977
         ],
         "mode": "lines",
         "showlegend": false,
         "type": "scattermapbox"
        },
        {
         "lat": [
          40.69512845,
          40.69760127
         ],
         "line": {
          "color": "blue",
          "width": 1
         },
         "lon": [
          -73.99595065,
          -73.99344559
         ],
         "mode": "lines",
         "showlegend": false,
         "type": "scattermapbox"
        },
        {
         "lat": [
          40.73704984,
          40.77573034
         ],
         "line": {
          "color": "blue",
          "width": 1
         },
         "lon": [
          -73.99009296,
          -73.9567526
         ],
         "mode": "lines",
         "showlegend": false,
         "type": "scattermapbox"
        },
        {
         "lat": [
          40.72743423,
          40.76370739
         ],
         "line": {
          "color": "blue",
          "width": 1
         },
         "lon": [
          -73.99379025,
          -73.9851615
         ],
         "mode": "lines",
         "showlegend": false,
         "type": "scattermapbox"
        },
        {
         "lat": [
          40.74734825,
          40.73652889
         ],
         "line": {
          "color": "blue",
          "width": 1
         },
         "lon": [
          -73.99723551,
          -74.00618026
         ],
         "mode": "lines",
         "showlegend": false,
         "type": "scattermapbox"
        },
        {
         "lat": [
          40.77862688,
          40.72243797
         ],
         "line": {
          "color": "blue",
          "width": 1
         },
         "lon": [
          -73.95772073,
          -74.00566443
         ],
         "mode": "lines",
         "showlegend": false,
         "type": "scattermapbox"
        },
        {
         "lat": [
          40.76712840349542,
          40.77391390238118
         ],
         "line": {
          "color": "blue",
          "width": 1
         },
         "lon": [
          -73.96224617958069,
          -73.9543953537941
         ],
         "mode": "lines",
         "showlegend": false,
         "type": "scattermapbox"
        },
        {
         "lat": [
          40.7937704,
          40.8021174
         ],
         "line": {
          "color": "blue",
          "width": 1
         },
         "lon": [
          -73.971888,
          -73.9681805305
         ],
         "mode": "lines",
         "showlegend": false,
         "type": "scattermapbox"
        },
        {
         "lat": [
          40.76461837,
          40.76030096
         ],
         "line": {
          "color": "blue",
          "width": 1
         },
         "lon": [
          -73.98789473,
          -73.99884222
         ],
         "mode": "lines",
         "showlegend": false,
         "type": "scattermapbox"
        },
        {
         "lat": [
          40.70862144,
          40.70823502
         ],
         "line": {
          "color": "blue",
          "width": 1
         },
         "lon": [
          -74.00722156,
          -74.00530063
         ],
         "mode": "lines",
         "showlegend": false,
         "type": "scattermapbox"
        },
        {
         "lat": [
          40.73454567,
          40.7262807
         ],
         "line": {
          "color": "blue",
          "width": 1
         },
         "lon": [
          -73.99074142,
          -73.98978041
         ],
         "mode": "lines",
         "showlegend": false,
         "type": "scattermapbox"
        },
        {
         "lat": [
          40.7047177,
          40.73047747
         ],
         "line": {
          "color": "blue",
          "width": 1
         },
         "lon": [
          -74.00926027,
          -73.99906065
         ],
         "mode": "lines",
         "showlegend": false,
         "type": "scattermapbox"
        },
        {
         "lat": [
          40.75510267,
          40.75898481399634
         ],
         "line": {
          "color": "blue",
          "width": 1
         },
         "lon": [
          -73.97498696,
          -73.99379968643188
         ],
         "mode": "lines",
         "showlegend": false,
         "type": "scattermapbox"
        },
        {
         "lat": [
          40.73624527,
          40.72740794
         ],
         "line": {
          "color": "blue",
          "width": 1
         },
         "lon": [
          -73.98473765,
          -73.98142006
         ],
         "mode": "lines",
         "showlegend": false,
         "type": "scattermapbox"
        },
        {
         "lat": [
          40.7284186,
          40.73221853
         ],
         "line": {
          "color": "blue",
          "width": 1
         },
         "lon": [
          -73.98713956,
          -73.98165557
         ],
         "mode": "lines",
         "showlegend": false,
         "type": "scattermapbox"
        },
        {
         "lat": [
          40.72490985,
          40.73331967
         ],
         "line": {
          "color": "blue",
          "width": 1
         },
         "lon": [
          -74.00154702,
          -73.99510132
         ],
         "mode": "lines",
         "showlegend": false,
         "type": "scattermapbox"
        },
        {
         "lat": [
          40.728846,
          40.73649403
         ],
         "line": {
          "color": "blue",
          "width": 1
         },
         "lon": [
          -74.008591,
          -73.99704374
         ],
         "mode": "lines",
         "showlegend": false,
         "type": "scattermapbox"
        },
        {
         "lat": [
          40.7568001,
          40.75968085
         ],
         "line": {
          "color": "blue",
          "width": 1
         },
         "lon": [
          -73.98291153,
          -73.97031366
         ],
         "mode": "lines",
         "showlegend": false,
         "type": "scattermapbox"
        },
        {
         "lat": [
          40.71729,
          40.72368361
         ],
         "line": {
          "color": "blue",
          "width": 1
         },
         "lon": [
          -73.996375,
          -73.97574813
         ],
         "mode": "lines",
         "showlegend": false,
         "type": "scattermapbox"
        },
        {
         "lat": [
          40.69165183,
          40.6814598
         ],
         "line": {
          "color": "blue",
          "width": 1
         },
         "lon": [
          -73.9999786,
          -73.934903
         ],
         "mode": "lines",
         "showlegend": false,
         "type": "scattermapbox"
        },
        {
         "lat": [
          40.7462009,
          40.75828065
         ],
         "line": {
          "color": "blue",
          "width": 1
         },
         "lon": [
          -73.98855723,
          -73.97069431
         ],
         "mode": "lines",
         "showlegend": false,
         "type": "scattermapbox"
        },
        {
         "lat": [
          40.7047177,
          40.70463334
         ],
         "line": {
          "color": "blue",
          "width": 1
         },
         "lon": [
          -74.00926027,
          -74.01361706
         ],
         "mode": "lines",
         "showlegend": false,
         "type": "scattermapbox"
        },
        {
         "lat": [
          40.75044999,
          40.74444921
         ],
         "line": {
          "color": "blue",
          "width": 1
         },
         "lon": [
          -73.99481051,
          -73.98303529
         ],
         "mode": "lines",
         "showlegend": false,
         "type": "scattermapbox"
        },
        {
         "lat": [
          40.72779126,
          40.74025878
         ],
         "line": {
          "color": "blue",
          "width": 1
         },
         "lon": [
          -73.98564945,
          -73.98409214
         ],
         "mode": "lines",
         "showlegend": false,
         "type": "scattermapbox"
        },
        {
         "lat": [
          40.71939226,
          40.72456089
         ],
         "line": {
          "color": "blue",
          "width": 1
         },
         "lon": [
          -74.00247214,
          -73.99565293
         ],
         "mode": "lines",
         "showlegend": false,
         "type": "scattermapbox"
        },
        {
         "lat": [
          40.73912601,
          40.75513557
         ],
         "line": {
          "color": "blue",
          "width": 1
         },
         "lon": [
          -73.97973776,
          -73.98658032
         ],
         "mode": "lines",
         "showlegend": false,
         "type": "scattermapbox"
        },
        {
         "lat": [
          40.75255434,
          40.7208736
         ],
         "line": {
          "color": "blue",
          "width": 1
         },
         "lon": [
          -73.97282625,
          -73.98085795
         ],
         "mode": "lines",
         "showlegend": false,
         "type": "scattermapbox"
        },
        {
         "lat": [
          40.77862688,
          40.7937704
         ],
         "line": {
          "color": "blue",
          "width": 1
         },
         "lon": [
          -73.95772073,
          -73.971888
         ],
         "mode": "lines",
         "showlegend": false,
         "type": "scattermapbox"
        },
        {
         "lat": [
          40.72953837,
          40.72110063
         ],
         "line": {
          "color": "blue",
          "width": 1
         },
         "lon": [
          -73.98426726,
          -73.9919254
         ],
         "mode": "lines",
         "showlegend": false,
         "type": "scattermapbox"
        },
        {
         "lat": [
          40.793393,
          40.76780080148132
         ],
         "line": {
          "color": "blue",
          "width": 1
         },
         "lon": [
          -73.9635556,
          -73.96592080593109
         ],
         "mode": "lines",
         "showlegend": false,
         "type": "scattermapbox"
        },
        {
         "lat": [
          40.75724567911726,
          40.739445
         ],
         "line": {
          "color": "blue",
          "width": 1
         },
         "lon": [
          -73.97805914282799,
          -73.976806
         ],
         "mode": "lines",
         "showlegend": false,
         "type": "scattermapbox"
        },
        {
         "lat": [
          40.7652654,
          40.76695317
         ],
         "line": {
          "color": "blue",
          "width": 1
         },
         "lon": [
          -73.98192338,
          -73.98169333
         ],
         "mode": "lines",
         "showlegend": false,
         "type": "scattermapbox"
        },
        {
         "lat": [
          40.73226398,
          40.7277140777778
         ],
         "line": {
          "color": "blue",
          "width": 1
         },
         "lon": [
          -73.99852205,
          -74.01129573583603
         ],
         "mode": "lines",
         "showlegend": false,
         "type": "scattermapbox"
        },
        {
         "lat": [
          40.71542197,
          40.7612274
         ],
         "line": {
          "color": "blue",
          "width": 1
         },
         "lon": [
          -74.01121978,
          -73.96094022
         ],
         "mode": "lines",
         "showlegend": false,
         "type": "scattermapbox"
        },
        {
         "lat": [
          40.714215,
          40.7172274
         ],
         "line": {
          "color": "blue",
          "width": 1
         },
         "lon": [
          -73.981346,
          -73.98802084
         ],
         "mode": "lines",
         "showlegend": false,
         "type": "scattermapbox"
        },
        {
         "lat": [
          40.74144387,
          40.73726186
         ],
         "line": {
          "color": "blue",
          "width": 1
         },
         "lon": [
          -73.97536082,
          -73.99238967
         ],
         "mode": "lines",
         "showlegend": false,
         "type": "scattermapbox"
        },
        {
         "lat": [
          40.7172274,
          40.71729
         ],
         "line": {
          "color": "blue",
          "width": 1
         },
         "lon": [
          -73.98802084,
          -73.996375
         ],
         "mode": "lines",
         "showlegend": false,
         "type": "scattermapbox"
        },
        {
         "lat": [
          40.734232,
          40.722055
         ],
         "line": {
          "color": "blue",
          "width": 1
         },
         "lon": [
          -73.986923,
          -73.989111
         ],
         "mode": "lines",
         "showlegend": false,
         "type": "scattermapbox"
        },
        {
         "lat": [
          40.72467721,
          40.72951496224949
         ],
         "line": {
          "color": "blue",
          "width": 1
         },
         "lon": [
          -73.98783413,
          -73.99075269699097
         ],
         "mode": "lines",
         "showlegend": false,
         "type": "scattermapbox"
        },
        {
         "lat": [
          40.74734825,
          40.73223272
         ],
         "line": {
          "color": "blue",
          "width": 1
         },
         "lon": [
          -73.99723551,
          -73.98889957
         ],
         "mode": "lines",
         "showlegend": false,
         "type": "scattermapbox"
        },
        {
         "lat": [
          40.74173969,
          40.73226398
         ],
         "line": {
          "color": "blue",
          "width": 1
         },
         "lon": [
          -73.99415556,
          -73.99852205
         ],
         "mode": "lines",
         "showlegend": false,
         "type": "scattermapbox"
        },
        {
         "lat": [
          40.73704984,
          40.72405549
         ],
         "line": {
          "color": "blue",
          "width": 1
         },
         "lon": [
          -73.99009296,
          -74.00965965
         ],
         "mode": "lines",
         "showlegend": false,
         "type": "scattermapbox"
        },
        {
         "lat": [
          40.75992262,
          40.74487634
         ],
         "line": {
          "color": "blue",
          "width": 1
         },
         "lon": [
          -73.97648516,
          -73.99529885
         ],
         "mode": "lines",
         "showlegend": false,
         "type": "scattermapbox"
        },
        {
         "lat": [
          40.72456089,
          40.7284186
         ],
         "line": {
          "color": "blue",
          "width": 1
         },
         "lon": [
          -73.99565293,
          -73.98713956
         ],
         "mode": "lines",
         "showlegend": false,
         "type": "scattermapbox"
        },
        {
         "lat": [
          40.73047309,
          40.72502876
         ],
         "line": {
          "color": "blue",
          "width": 1
         },
         "lon": [
          -73.98672378,
          -73.99069656
         ],
         "mode": "lines",
         "showlegend": false,
         "type": "scattermapbox"
        },
        {
         "lat": [
          40.72430527250332,
          40.73223272
         ],
         "line": {
          "color": "blue",
          "width": 1
         },
         "lon": [
          -73.99600982666016,
          -73.98889957
         ],
         "mode": "lines",
         "showlegend": false,
         "type": "scattermapbox"
        },
        {
         "lat": [
          40.73649403,
          40.739323
         ],
         "line": {
          "color": "blue",
          "width": 1
         },
         "lon": [
          -73.99704374,
          -74.008119
         ],
         "mode": "lines",
         "showlegend": false,
         "type": "scattermapbox"
        },
        {
         "lat": [
          40.72953837,
          40.73143724085228
         ],
         "line": {
          "color": "blue",
          "width": 1
         },
         "lon": [
          -73.98426726,
          -73.99490341544151
         ],
         "mode": "lines",
         "showlegend": false,
         "type": "scattermapbox"
        },
        {
         "lat": [
          40.76703432309872,
          40.73624527
         ],
         "line": {
          "color": "blue",
          "width": 1
         },
         "lon": [
          -73.95622730255127,
          -73.98473765
         ],
         "mode": "lines",
         "showlegend": false,
         "type": "scattermapbox"
        },
        {
         "lat": [
          40.75640548,
          40.74901271
         ],
         "line": {
          "color": "blue",
          "width": 1
         },
         "lon": [
          -73.9900262,
          -73.98848395
         ],
         "mode": "lines",
         "showlegend": false,
         "type": "scattermapbox"
        },
        {
         "lat": [
          40.71939226,
          40.71602118
         ],
         "line": {
          "color": "blue",
          "width": 1
         },
         "lon": [
          -74.00247214,
          -73.99974372
         ],
         "mode": "lines",
         "showlegend": false,
         "type": "scattermapbox"
        },
        {
         "lat": [
          40.71559509,
          40.72521311
         ],
         "line": {
          "color": "blue",
          "width": 1
         },
         "lon": [
          -73.9870295,
          -73.97768752
         ],
         "mode": "lines",
         "showlegend": false,
         "type": "scattermapbox"
        },
        {
         "lat": [
          40.7867947,
          40.77163851
         ],
         "line": {
          "color": "blue",
          "width": 1
         },
         "lon": [
          -73.977112,
          -73.98261428
         ],
         "mode": "lines",
         "showlegend": false,
         "type": "scattermapbox"
        },
        {
         "lat": [
          40.7919557,
          40.7643971
         ],
         "line": {
          "color": "blue",
          "width": 1
         },
         "lon": [
          -73.968087,
          -73.97371465
         ],
         "mode": "lines",
         "showlegend": false,
         "type": "scattermapbox"
        },
        {
         "lat": [
          40.71850211,
          40.71219906
         ],
         "line": {
          "color": "blue",
          "width": 1
         },
         "lon": [
          -73.98329859,
          -73.97948148
         ],
         "mode": "lines",
         "showlegend": false,
         "type": "scattermapbox"
        },
        {
         "lat": [
          40.72917025,
          40.70823502
         ],
         "line": {
          "color": "blue",
          "width": 1
         },
         "lon": [
          -73.99810231,
          -74.00530063
         ],
         "mode": "lines",
         "showlegend": false,
         "type": "scattermapbox"
        },
        {
         "lat": [
          40.71910537,
          40.72743423
         ],
         "line": {
          "color": "blue",
          "width": 1
         },
         "lon": [
          -73.99973337,
          -73.99379025
         ],
         "mode": "lines",
         "showlegend": false,
         "type": "scattermapbox"
        },
        {
         "lat": [
          40.76915505,
          40.72951496224949
         ],
         "line": {
          "color": "blue",
          "width": 1
         },
         "lon": [
          -73.98191841,
          -73.99075269699097
         ],
         "mode": "lines",
         "showlegend": false,
         "type": "scattermapbox"
        },
        {
         "lat": [
          40.72710258,
          40.72043411
         ],
         "line": {
          "color": "blue",
          "width": 1
         },
         "lon": [
          -74.00297088,
          -74.01020609
         ],
         "mode": "lines",
         "showlegend": false,
         "type": "scattermapbox"
        },
        {
         "lat": [
          40.7919557,
          40.7857851
         ],
         "line": {
          "color": "blue",
          "width": 1
         },
         "lon": [
          -73.968087,
          -73.957481
         ],
         "mode": "lines",
         "showlegend": false,
         "type": "scattermapbox"
        },
        {
         "lat": [
          40.73047309,
          40.72903917
         ],
         "line": {
          "color": "blue",
          "width": 1
         },
         "lon": [
          -73.98672378,
          -73.99404649
         ],
         "mode": "lines",
         "showlegend": false,
         "type": "scattermapbox"
        },
        {
         "lat": [
          40.74147286,
          40.75510267
         ],
         "line": {
          "color": "blue",
          "width": 1
         },
         "lon": [
          -73.98320928,
          -73.97498696
         ],
         "mode": "lines",
         "showlegend": false,
         "type": "scattermapbox"
        },
        {
         "lat": [
          40.67434,
          40.6746957
         ],
         "line": {
          "color": "blue",
          "width": 1
         },
         "lon": [
          -74.00194698,
          -73.99785768
         ],
         "mode": "lines",
         "showlegend": false,
         "type": "scattermapbox"
        },
        {
         "lat": [
          40.75096735,
          40.7597108
         ],
         "line": {
          "color": "blue",
          "width": 1
         },
         "lon": [
          -73.99444208,
          -73.97402311
         ],
         "mode": "lines",
         "showlegend": false,
         "type": "scattermapbox"
        },
        {
         "lat": [
          40.73543934,
          40.73143724085228
         ],
         "line": {
          "color": "blue",
          "width": 1
         },
         "lon": [
          -73.99453948,
          -73.99490341544151
         ],
         "mode": "lines",
         "showlegend": false,
         "type": "scattermapbox"
        },
        {
         "lat": [
          40.73535398,
          40.73649403
         ],
         "line": {
          "color": "blue",
          "width": 1
         },
         "lon": [
          -74.00483091,
          -73.99704374
         ],
         "mode": "lines",
         "showlegend": false,
         "type": "scattermapbox"
        },
        {
         "lat": [
          40.746647,
          40.72082834
         ],
         "line": {
          "color": "blue",
          "width": 1
         },
         "lon": [
          -73.993915,
          -73.97793172
         ],
         "mode": "lines",
         "showlegend": false,
         "type": "scattermapbox"
        },
        {
         "lat": [
          40.7806284,
          40.76712840349542
         ],
         "line": {
          "color": "blue",
          "width": 1
         },
         "lon": [
          -73.9521667,
          -73.96224617958069
         ],
         "mode": "lines",
         "showlegend": false,
         "type": "scattermapbox"
        },
        {
         "lat": [
          40.72490985,
          40.70905623
         ],
         "line": {
          "color": "blue",
          "width": 1
         },
         "lon": [
          -74.00154702,
          -74.01043382
         ],
         "mode": "lines",
         "showlegend": false,
         "type": "scattermapbox"
        },
        {
         "lat": [
          40.75172632,
          40.71473993
         ],
         "line": {
          "color": "blue",
          "width": 1
         },
         "lon": [
          -73.98753523,
          -74.00910627
         ],
         "mode": "lines",
         "showlegend": false,
         "type": "scattermapbox"
        },
        {
         "lat": [
          40.75323098,
          40.74025878
         ],
         "line": {
          "color": "blue",
          "width": 1
         },
         "lon": [
          -73.97032517,
          -73.98409214
         ],
         "mode": "lines",
         "showlegend": false,
         "type": "scattermapbox"
        },
        {
         "lat": [
          40.74854862,
          40.739445
         ],
         "line": {
          "color": "blue",
          "width": 1
         },
         "lon": [
          -73.98808416,
          -73.976806
         ],
         "mode": "lines",
         "showlegend": false,
         "type": "scattermapbox"
        },
        {
         "lat": [
          40.74854862,
          40.72043411
         ],
         "line": {
          "color": "blue",
          "width": 1
         },
         "lon": [
          -73.98808416,
          -74.01020609
         ],
         "mode": "lines",
         "showlegend": false,
         "type": "scattermapbox"
        },
        {
         "lat": [
          40.7727966,
          40.76703432309872
         ],
         "line": {
          "color": "blue",
          "width": 1
         },
         "lon": [
          -73.95577801,
          -73.95622730255127
         ],
         "mode": "lines",
         "showlegend": false,
         "type": "scattermapbox"
        },
        {
         "lat": [
          40.7937704,
          40.7575699
         ],
         "line": {
          "color": "blue",
          "width": 1
         },
         "lon": [
          -73.971888,
          -73.99098507
         ],
         "mode": "lines",
         "showlegend": false,
         "type": "scattermapbox"
        },
        {
         "lat": [
          40.75323098,
          40.73047309
         ],
         "line": {
          "color": "blue",
          "width": 1
         },
         "lon": [
          -73.97032517,
          -73.98672378
         ],
         "mode": "lines",
         "showlegend": false,
         "type": "scattermapbox"
        },
        {
         "lat": [
          40.73226398,
          40.72917025
         ],
         "line": {
          "color": "blue",
          "width": 1
         },
         "lon": [
          -73.99852205,
          -73.99810231
         ],
         "mode": "lines",
         "showlegend": false,
         "type": "scattermapbox"
        },
        {
         "lat": [
          40.72368361,
          40.71910537
         ],
         "line": {
          "color": "blue",
          "width": 1
         },
         "lon": [
          -73.97574813,
          -73.99973337
         ],
         "mode": "lines",
         "showlegend": false,
         "type": "scattermapbox"
        },
        {
         "lat": [
          40.696192,
          40.68926942
         ],
         "line": {
          "color": "blue",
          "width": 1
         },
         "lon": [
          -73.991218,
          -73.98912867
         ],
         "mode": "lines",
         "showlegend": false,
         "type": "scattermapbox"
        },
        {
         "lat": [
          40.70834698,
          40.70569254
         ],
         "line": {
          "color": "blue",
          "width": 1
         },
         "lon": [
          -74.01713445,
          -74.01677685
         ],
         "mode": "lines",
         "showlegend": false,
         "type": "scattermapbox"
        },
        {
         "lat": [
          40.749717753,
          40.714215
         ],
         "line": {
          "color": "blue",
          "width": 1
         },
         "lon": [
          -74.002950346,
          -73.981346
         ],
         "mode": "lines",
         "showlegend": false,
         "type": "scattermapbox"
        },
        {
         "lat": {
          "bdata": "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",
          "dtype": "f8"
         },
         "lon": {
          "bdata": "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",
          "dtype": "f8"
         },
         "marker": {
          "color": "green",
          "size": 5
         },
         "mode": "markers",
         "name": "Start Stations",
         "type": "scattermapbox"
        },
        {
         "lat": {
          "bdata": "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",
          "dtype": "f8"
         },
         "lon": {
          "bdata": "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",
          "dtype": "f8"
         },
         "marker": {
          "color": "red",
          "size": 5
         },
         "mode": "markers",
         "name": "End Stations",
         "type": "scattermapbox"
        },
        {
         "lat": {
          "bdata": "wgivlwVeREAp9oaxO15EQAa7QM25XURAMBGa5W1cREAwEZrlbVxEQMZlgRvOW0RA4iAhyhdYREA7FGgkgF1EQD2kc9lDZ0RAsSrKvg5gREDMLlfA9l9EQIhULhuYXkRAwOJ4VyBfREAYOTT6C1xEQAiL7WLYYERAo1a5zMBeREDxV0E3+FpEQHXf1oKDX0RABgWt2a1cREDC5KFKKGNEQFHex9EcWURAVyO70jJgREDt+IrJdmFEQPhY8l+9YkRAVVt/hStiRECBfhlrg1tEQC4mkdjJXERA07NqIZJhREACqSQdq1pEQL+S9eWWWURABrtAzbldREDaW2fPp1tEQKZhW7NTYERAMHtdr/5bREA2epD5219EQNGmNKxzYkRAPCphGkRcREDZs4QIel1EQBgweequXkRABvA3VrldREArCA79TWFEQLnfoSjQW0RAahg+IqZeREB9ciK8JV1EQEaP4pNDYERA3L7k0jpbREAUzQNY5F9EQBgweequXkRAlb/WAABiREB8hBbpMGBEQLmoFhHFYERATka2b0VeREAWpu81BFtEQCipwIeaWERAmdCo6chYREDRpjSsc2JEQEhQ/BhzZ0RA/Fh/U/FeRECd1m1Q+11EQMwFkblwXkRAB8XBa7hhREBjY15HHF5EQPS+VOAiXkRAPCphGkRcREDTc+Ld12FEQA9PyDEGXERAAy24eilfREAW6wpshFtEQFHex9EcWURAVVt/hStiREAhmUhIqGBEQJJ4u1YpW0RAvURKvJ9dREBy6OOQw15EQO/FF+1xZERA2fXPaxBdRECgurDzRmBEQL+tJhWuW0RAVTmNpXNYRED2KFyPwmVEQGcqYfk1YkRAtlPqmSRlREAG8DdWuV1EQBgweequXkRAebGsC6pjRECGPIIbqV9EQDgpL6ZXXkRAm4LKMqNeREDyRO/YeFxEQJWWFbNzXERAay8etfRcREAFqKlla1tEQOW4MixvWERAuXmZFxZaREAV2Iyh1ltEQFvBgG/kZERADht+mgddRECiFloIuF9EQDsUaCSAXURAFWT0cadaREDfAZZDKF1EQL35Ty9fXERAsvZ3tkdbREAevPqh515EQPxtcJ7BWURAYGT6DMViREAV2Iyh1ltEQKTrmZAcXURA/l915EhVREBq46ApoVhEQG8LOzGQW0RA7hRAa91dREC69gX0wltEQPf3hLIRXURAFFtB0xJbREBK6iVC+lpEQIcsh9WqYURAV0lcrpteREC+jg/l0WBEQKNWuczAXkRAzRqCBEFaREAGBa3ZrVxEQGHz0o7tXURAtAHYgAhcRECojH+fcVlEQNDNYWv0WURAfxZLkXxeREAW0xJMMVhEQAYFrdmtXERAKfaGsTteREAwLOLoaGBEQKZhW7NTYERA/VpNjQZgREBICY9wOVtEQAAy+CRFYURAcvMRsjBdREDYySq2k2NEQIqZt8msYERA8kTv2HhcREA2epD5219EQNnoQeZvYURAwkU4dwVfREBGNoMR3WNEQFVbf4UrYkRAxmWBG85bRECVlhWzc1xEQOGkvJheXkRAauOgKaFYREDYivhod11EQJ3X2CWqV0RAet/42jNdREDZiWBWB2BEQDYoPy4TYERAaK3LndddREAwLH++LWBEQGWjOdOAXURAvrDrzV5lRECd7p8bWF9EQBgweequXkRAohZaCLhfREDWZoykF19EQJuCyjKjXkRABaipZWtbREDDcn25nVREQGQqFiJUWkRA/l915EhVREDWEjzP6VVEQM5gnXRsX0RAo1a5zMBeREC9+U8vX1xEQAYFrdmtXERAndZtUPtdRECcRDE351xEQBXYjKHWW0RAOxRoJIBdREAHxcFruGFEQFDnSDZwXERAv60mFa5bREB5sawLqmNEQOGkvJheXkRA/VpNjQZgRECC3gKm319EQEbOwp52Y0RAS5MQtBtdRECyDiZJgF1EQGNjXkccXkRAZJ4qGd9bREB139aCg19EQKT8pNqnX0RACCAQ8wVgREBMCn/I01xEQI6cO7DSVURAMHtdr/5bREB7isu3H2NEQJdXIZ9XXURAe9A/A2JdREAYMHnqrl5EQAYFrdmtXERAxBF707pdRECvzL6f2FtEQFcju9IyYERAOCkvpldeREBy8xGyMF1EQNn1z2sQXURAMs58WgdiREDXLvFw0F9EQD1zYlEJYkRA0aY0rHNiREDhEts4PWFEQIFLtnAPZERABY5f095gREC9REq8n11EQF1BR2m+XERARJVQsLVkREDYuP5dn2NEQLEfOQRUX0RA2EDCSX1dREDkq5EbTVlEQDgpL6ZXXkRACj72SD1eREAV2Iyh1ltEQI137Az4YERADht+mgddREDGCBMMiFhEQH316V8vXERAFZ4CJpFcRECyDiZJgF1EQGrf3F89YERAdd/WgoNfRED9Wk2NBmBEQBgweequXkRA3L7k0jpbREAjp6alyFpEQJVT0CdRXURAr8y+n9hbREAJVP8gkl9EQHrf+NozXURAAvqWnIdXREC74espwWFEQDsUaCSAXURAOCkvpldeREAkuJGyRV5EQCk/qfbpZERAfXIivCVdREDYySq2k2NEQAbwN1a5XURAbws7MZBbREBf1IstRltEQPFmDL9gXURAXUFHab5cRECVU9AnUV1EQPE09KopV0RAwgivlwVeREDKSAc1jWVEQEwKf8jTXERAdpAyPbxkREAJVP8gkl9EQG8LOzGQW0RAohZaCLhfRED8WH9T8V5EQDwgv21cVkRAJWhhiWZbREBLkxC0G11EQLEfOQRUX0RA5nRZTGxcREBwaKHPDVlEQNmzhAh6XURAxepNFLpdREAH7KwOZ2FEQIvGmMMHW0RASGiyHHRcREDZ9c9rEF1EQGSeKhnfW0RAvURKvJ9dRECR8/4/TlhEQO4UQGvdXURAlZYVs3NcREAMR0a9llVEQE8Cm3PwZkRAzmCddGxfREAUzQNY5F9EQPf3hLIRXURA1MPdB4dgREAuJpHYyVxEQLnfoSjQW0RA2mJMNKdgRECNxLqnYV9EQIhULhuYXkRAHHXlhyNVREA12Vjso2BEQEuTELQbXURAdKIT+PlYREBYAimx62FEQChmGNI8XURABrtAzbldREArT0IuLmJEQDLOfFoHYkRA2Ir4aHddREB8y6Sf02BEQKTrmZAcXURAxggTDIhYRECnTPopzGNEQLEfOQRUX0RAMs58WgdiREADJSYkqV1EQMfup2uSZkRAGtHqonBXREA2KD8uE2BEQJ3unxtYX0RAB+ysDmdhREBIldUyIWJEQFcju9IyYERATAp/yNNcREDqB3WRQl9EQBgweequXkRA0aY0rHNiREBodXKG4mBEQJRtfeSYYERAJLiRskVeREBy6OOQw15EQCafR1pkYURAlVPQJ1FdREBfFmbjOV9EQME6jh8qZ0RAlVPQJ1FdREBafuAqT2BEQDxbUZSVVURAPc57dktXRECs7T+VR1pEQC5BHcHTW0RApmFbs1NgRECLy23Sn1xEQBXYjKHWW0RA9HBdjFxdRECxHzkEVF9EQDAs4uhoYERA1maMpBdfREAFqKlla1tEQL35Ty9fXERAUOdINnBcREBVW3+FK2JEQJVDD6ULXERAat/cXz1gREAIIBDzBWBEQAfsrA5nYURA8qv/lKZbRED82p8wzWdEQCVoYYlmW0RAipm3yaxgREClGxfE9lxEQAL6lpyHV0RADht+mgddRED9Wk2NBmBEQKTrmZAcXURAvo4P5dFgRECVU9AnUV1EQDG0fFWVYERAO3bMUEddRED394SyEV1EQKt7ZHNVXURATAp/yNNcRECIVC4bmF5EQFPhdDf0YURAWn7gKk9gREA99cRKt2FEQE5Gtm9FXkRAfMukn9NgREAprmwXgVpEQNn1z2sQXURAqEwOQYBbREC1/nXykltEQJjc5pUEX0RAUd7H0RxZREDH7qdrkmZEQAa7QM25XURAsg4mSYBdRECVU9AnUV1EQL9eJxb0XURAlVPQJ1FdREDCCK+XBV5EQMzBInXxZ0RAfxZLkXxeREA12Vjso2BEQMIIr5cFXkRAKCfaVUhlREAwEZrlbVxEQFJ832wxWkRAxmWBG85bREAVngImkVxEQBDM0eP3WERAGDB56q5eRECuikcUIF5EQJFpZamSYURAbkzTkAZfRECOQBdo0lVEQKHdfH5zX0RAOCkvpldeREDNfIMGTVxEQEhsKW3tYERAD2lMbxxeREAIIBDzBWBEQL4OIGzGXURAukZwyKtmREBqGSW/MGNEQI137Az4YERAdd/WgoNfRECVU9AnUV1EQGrf3F89YERAiFQuG5heREADJSYkqV1EQBam7zUEW0RAXxZm4zlfREB6mRcWEl5EQMZlgRvOW0RACIvtYthgREAFjl/T3mBEQH8WS5F8XkRA6X3ja89YRECmYVuzU2BEQAJww1rCWkRAo1a5zMBeRECre2RzVV1EQLb4FADjWURAsqU/4nRbREBq46ApoVhEQDgpL6ZXXkRAR4/f2/RfREDtVCvZ0lpEQG8LOzGQW0RAw2SqYFRiREBPv5cEIGBEQI137Az4YERAKGYY0jxdREBK6iVC+lpEQB68+qHnXkRAigruauZWREAqSSqV6F5EQJLM6h1uV0RAhExsHaBhREBIldUyIWJEQEc9RKM7ZERARnggVw9hREAUW0HTEltEQFSl8wLoV0RAVyO70jJgREBkPEolPF9EQESVULC1ZERAJLiRskVeREDMLlfA9l9EQHSiE/j5WERAU+F0N/RhREDZ06tUklhEQPxYf1PxXkRAfxZLkXxeREDvxRftcWREQAYFrdmtXERAOaVRuz5cRED6biUBi1xEQJ3unxtYX0RAMCzi6GhgREAprmwXgVpEQKUbF8T2XERAqLdxUU5hRECJqxRMRlVEQEiV1TIhYkRASzDF6klaREArCA79TWFEQHqZFxYSXkRAvo4P5dFgREDRpjSsc2JEQPKr/5SmW0RAlVPQJ1FdRED1zB6qoVxEQAAy+CRFYURA1UgUaR5fREBy6OOQw15EQAJuDr7NXERARmb1ytleRED1R71MOWNEQKEot4pRYURAqIx/n3FZREAwLH++LWBEQAiL7WLYYERAUpDIDA5aREDhpLyYXl5EQLvh6ynBYURAD2lMbxxeRECy9ne2R1tEQA9PyDEGXERAMs58WgdiRECVU9AnUV1EQJVT0CdRXURAO/iRdDBhREC9REq8n11EQJS5no0BWkRAPCphGkRcREDOYJ10bF9EQPS+VOAiXkRA1UgUaR5fREBfFmbjOV9EQIRMbB2gYURAKfaGsTteREA4KS+mV15EQJ3unxtYX0RAXUFHab5cREC+DiBsxl1EQBgweequXkRAropHFCBeRECxHzkEVF9EQOYbl5LhW0RA1D2ZHEpfREA5pVG7PlxEQAWoqWVrW0RA/Fh/U/FeREAxIxVqJmFEQAMcjCK1YkRA9L5U4CJeREA4KS+mV15EQHzLpJ/TYERAne6fG1hfRECDzhikaFtEQAlXg0FzYURAaK3LndddREBe4E0SJl9EQJGgU+tYZERAvg4gbMZdREAoZhjSPF1EQC4mkdjJXERAntietEtYREDGZYEbzltEQGrf3F89YERAohZaCLhfREAGBa3ZrVxEQAbwN1a5XURAiFQuG5heREBIbClt7WBEQGiSN0QFYURAtf518pJbREC/rSYVrltEQL+tJhWuW0RAwgivlwVeREDCCK+XBV5EQKNWuczAXkRAlVPQJ1FdREBJEoQroGJEQGoZJb8wY0RAbcfUXdlbREC/XicW9F1EQEbOwp52Y0RAod18fnNfRECe2J60S1hEQCDUoMPXYURAuXmZFxZaRECYl+xtbWNEQAo+9kg9XkRAsvZ3tkdbREAg1KDD12FEQNy+5NI6W0RAvURKvJ9dREDUPZkcSl9EQJSJtr4jY0RAhoDMNU1jREAqSSqV6F5EQA4bfpoHXURARz1EoztkREA9XquxwmBEQOES2zg9YURAg84YpGhbREBXSVyum15EQEiV1TIhYkRAo40KOcJcRECh3Xx+c19EQNNz4t3XYURARnggVw9hREAPaUxvHF5EQEHWU6uvVkRAFFtB0xJbREB70D8DYl1EQHE5waujX0RAgt4Cpt9fREClGxfE9lxEQPDJ/e22WERAxq4Gi7dhREDcvuTSOltEQFcju9IyYERAmIDjW21bREBND210DGBEQBgweequXkRAUpDIDA5aREA1XbKemFtEQIY8ghupX0RAaJI3RAVhREAu/tc1MV5EQEbOwp52Y0RAGDk0+gtcRECNxLqnYV9EQMIIr5cFXkRA07NqIZJhREBSvMX66WNEQDt2zFBHXURAg84YpGhbRECVQw+lC1xEQOoHdZFCX0RA2EDCSX1dREDtVCvZ0lpEQLvh6ynBYURAfxZLkXxeRED4WPJfvWJEQEkShCugYkRADht+mgddREDOYJ10bF9EQB68+qHnXkRAvflPL19cREDCCK+XBV5EQNmzhAh6XURAKkkqleheRECETGwdoGFEQCafR1pkYURACj72SD1eREAg1KDD12FEQD1zYlEJYkRATbMnHiNiREAUW0HTEltEQFoEzmtPW0RA+m4lAYtcREAOG36aB11EQCv5t0+3V0RAffXpXy9cREDH7qdrkmZEQG8LOzGQW0RA+gmIxX9eRECGPIIbqV9EQDt2zFBHXURAO/iRdDBhREDzLZ/iWFxEQPqNI5RGXkRAne6fG1hfREAYMHnqrl5EQJVT0CdRXURAVVt/hStiREDCCK+XBV5EQKHdfH5zX0RAdwaZpgBgREDZs4QIel1EQMwuV8D2X0RARs7CnnZjRED6CYjFf15EQDgpL6ZXXkRAJLiRskVeREBloznTgF1EQCrEhhuuYURA7hRAa91dREDfAZZDKF1EQAJww1rCWkRAyDSJMDRaREB/FkuRfF5EQJVT0CdRXURA18/NxBVZREA1XbKemFtEQFIDF3X3VkRAlVPQJ1FdREC+jg/l0WBEQJvV8U70VkRAGDB56q5eRECOQBdo0lVEQOTbuwZ9YURAEMzR4/dYREC/rSYVrltEQL9tv99cYURA9HBdjFxdREAhsO4v7VlEQA9PyDEGXERAGWhnZqBYREB9bLueolhEQHqZFxYSXkRACYO2xUphREAJg7bFSmFEQL4OIGzGXURAhoDMNU1jREC74espwWFEQEXxbIftWERAfxKfO8FiRECd1m1Q+11EQDZ6kPnbX0RAffXpXy9cREDYivhod11EQC5BHcHTW0RA1fQWgF5jREBuTNOQBl9EQCVoYYlmW0RAT7+XBCBgREBq39xfPWBEQCn2hrE7XkRAffXpXy9cREAuJpHYyVxEQMIIr5cFXkRABr0TBNpbREBC51aE8l5EQAWoqWVrW0RAtoKmJVZiREDyq/+UpltEQM5SWpwPY0RAcujjkMNeREBSfN9sMVpEQG5M05AGX0RA4RLbOD1hRECjVrnMwF5EQFcju9IyYERAOaVRuz5cREBGeCBXD2FEQNiK+Gh3XURAlkV6tGVcREDXaDnQQ2ZEQNhAwkl9XURAropHFCBeRECd7p8bWF9EQL6OD+XRYERAne6fG1hfREBOChQt0F1EQFVbf4UrYkRAS5MQtBtdRECbgsoyo15EQJVT0CdRXURA1D2ZHEpfREBnPxiZfFtEQL9tv99cYURANnqQ+dtfREDsGDZOs19EQGBk+gzFYkRAFdiModZbREB/FkuRfF5EQG3H1F3ZW0RAepkXFhJeREB/FkuRfF5EQK+UZYhjZURAFWT0cadaREDvxRftcWREQBRbQdMSW0RAOCkvpldeREDTs2ohkmFEQCtPQi4uYkRA4Clog2FdREAVH/pJEGZEQCVoYYlmW0RAB8XBa7hhRECd7p8bWF9EQGWjOdOAXURA8gO6o71cREB6mRcWEl5EQPxYf1PxXkRAH/ZCAdtXREC+DiBsxl1EQPS+VOAiXkRA5nRZTGxcREDA4nhXIF9EQBgweequXkRAKKnAh5pYREAUW0HTEltEQAfZqgsVXERAFFtB0xJbRED0cF2MXF1EQPS+VOAiXkRA/Fh/U/FeREBVW3+FK2JEQAvw3eaNZURAb9wACbZcREBwaKHPDVlEQJrS+lsCXERAFWT0cadaREB/Ep87wWJEQFp+4CpPYERA/Fh/U/FeREA8KmEaRFxEQKTsxND7Y0RATgoULdBdREAVngImkVxEQHcGmaYAYERAyGDFqdZkREBkPEolPF9EQL9eJxb0XURAlVPQJ1FdREAmn0daZGFEQC7j7lIWX0RAndZtUPtdREDLuRRXlV9EQM18gwZNXERAFusKbIRbREDYivhod11EQBuADYiQW0RA/VpNjQZgREBorcud111EQE8Cm3PwZkRAjXfsDPhgREBfFmbjOV9EQK/Mvp/YW0RAne6fG1hfREC/XicW9F1EQEuTELQbXURAm4LKMqNeREBXI7vSMmBEQOApaINhXURAPaEyWTdkREDtVCvZ0lpEQAWoqWVrW0RAJTyh159bREBjY15HHF5EQKsP2mECYERAepkXFhJeREAevPqh515EQAggEPMFYERAhExsHaBhREBLkxC0G11EQA4bfpoHXURAwbWET7BXRED0cF2MXF1EQNmzhAh6XURAw3J9uZ1URECd1m1Q+11EQHmxrAuqY0RA1maMpBdfRECk65mQHF1EQBXYjKHWW0RAAm4Ovs1cREAuQR3B01tEQE4KFC3QXURACVT/IJJfREDOYJ10bF9EQEaP4pNDYERAADL4JEVhRECO+crNgWZEQLmoFhHFYERA/VpNjQZgRECxHzkEVF9EQMQRe9O6XURAPXNiUQliREBOChQt0F1EQM6QhUPKWURA4aS8mF5eREA9oTJZN2REQIF+GWuDW0RACCAQ8wVgREAoZhjSPF1EQKHdfH5zX0RAJWhhiWZbREDZs4QIel1EQAMtuHopX0RAud+hKNBbRECNxLqnYV9EQDJpW+bXXkRATka2b0VeREDOYJ10bF9EQAmDtsVKYURAB9mqCxVcREAwLOLoaGBEQG3H1F3ZW0RAb9bgfVVmRED0cF2MXF1EQBXYjKHWW0RAGDB56q5eREBR3sfRHFlEQIvLbdKfXERA0aY0rHNiRED9Wk2NBmBEQPRwXYxcXURAffXpXy9cRED9Wk2NBmBEQPf3hLIRXURAOxRoJIBdRECd1m1Q+11EQJHz/j9OWERA56OczCZhREBQ50g2cFxEQB4X1SKiXkRAVTcwHHxaRECnID8buVxEQB4X1SKiXkRAUOdINnBcREDNfIMGTVxEQDEjFWomYURA2mJMNKdgRECa0vpbAlxEQL9tv99cYURAEYnGA99hREAHxcFruGFEQEaP4pNDYERAwgivlwVeREBqGD4ipl5EQE0PbXQMYERAepkXFhJeREAUzQNY5F9EQDsUaCSAXURALuPuUhZfREAH7KwOZ2FEQDgpL6ZXXkRAdKIT+PlYREA4KS+mV15EQKTrmZAcXURAhjyCG6lfREA6bHZDMWJEQDREukSaZURAEYnGA99hRECwBXsbtFpEQMg0iTA0WkRA2mJMNKdgREAKPvZIPV5EQChmGNI8XURALiaR2MlcREAD6WLTSl1EQAWOX9PeYERAud+hKNBbREDGCBMMiFhEQHXf1oKDX0RAyDSJMDRaRECxKsq+DmBEQN8BlkMoXURAB9mqCxVcRECmYVuzU2BEQHmxrAuqY0RA4Clog2FdREAL8N3mjWVEQFPhdDf0YURAxBF707pdREC1/nXykltEQAWoqWVrW0RAHrz6oedeREDGZYEbzltEQJ3WbVD7XURAo40KOcJcRECGPIIbqV9EQPxYf1PxXkRAOCkvpldeREAAMvgkRWFEQF1BR2m+XERAOxRoJIBdREBORrZvRV5EQOApaINhXURAK09CLi5iREC+jg/l0WBEQAfZqgsVXERANV2ynphbREBElVCwtWREQL6w681eZURATEeM4PdbRECre2RzVV1EQJVDD6ULXERA0aY0rHNiREC+sOvNXmVEQDsUaCSAXURAKkkqleheRECRTriyH2BEQPS+VOAiXkRACVT/IJJfREAWKqSh62NEQC4mkdjJXERAovhrkThgRECOt2zfaWBEQNcu8XDQX0RA1y7xcNBfREDhur3/6mJEQDREukSaZURAjrds32lgREDEEXvTul1EQPXMHqqhXERAAqkkHataREDMLlfA9l9EQA==",
          "dtype": "f8"
         },
         "lon": {
          "bdata": "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",
          "dtype": "f8"
         },
         "mode": "text",
         "name": "Bike IDs",
         "showlegend": false,
         "text": [
          "17768",
          "23830",
          "19463",
          "18666",
          "29011",
          "18912",
          "23746",
          "20240",
          "31199",
          "17055",
          "21023",
          "16513",
          "31444",
          "32184",
          "16967",
          "16394",
          "20970",
          "20046",
          "23136",
          "26672",
          "15138",
          "27525",
          "25579",
          "29867",
          "20988",
          "16652",
          "20210",
          "15615",
          "17347",
          "28885",
          "15958",
          "17786",
          "19301",
          "18615",
          "22178",
          "19247",
          "18610",
          "20145",
          "15912",
          "30151",
          "29702",
          "15145",
          "32554",
          "15324",
          "18644",
          "15530",
          "16734",
          "20600",
          "32542",
          "14774",
          "20131",
          "26765",
          "24824",
          "21070",
          "15275",
          "18949",
          "18388",
          "25982",
          "29795",
          "21048",
          "15334",
          "30662",
          "24073",
          "22097",
          "15978",
          "20185",
          "24172",
          "19717",
          "16933",
          "22222",
          "15541",
          "29917",
          "20314",
          "31432",
          "28713",
          "21297",
          "30521",
          "17196",
          "15903",
          "18780",
          "25339",
          "28311",
          "19332",
          "20847",
          "30342",
          "21301",
          "16409",
          "20256",
          "17269",
          "28257",
          "26043",
          "19761",
          "26563",
          "16262",
          "17609",
          "18164",
          "14992",
          "20902",
          "18841",
          "21970",
          "24866",
          "23913",
          "14531",
          "23566",
          "21653",
          "21975",
          "23736",
          "24964",
          "31029",
          "30255",
          "22509",
          "32101",
          "26133",
          "26989",
          "27764",
          "19322",
          "28198",
          "27279",
          "17515",
          "17842",
          "19765",
          "33450",
          "19770",
          "23191",
          "28159",
          "19369",
          "29168",
          "26920",
          "15232",
          "15898",
          "20806",
          "17739",
          "31372",
          "15759",
          "28697",
          "32328",
          "25379",
          "25302",
          "25565",
          "28656",
          "23747",
          "20364",
          "24763",
          "14839",
          "30954",
          "22841",
          "22903",
          "19933",
          "31294",
          "27509",
          "16782",
          "21004",
          "16636",
          "17252",
          "26375",
          "15955",
          "17175",
          "26919",
          "32771",
          "21219",
          "31182",
          "20030",
          "22415",
          "19575",
          "20374",
          "16455",
          "27085",
          "20966",
          "19757",
          "17996",
          "14869",
          "28053",
          "22909",
          "21281",
          "30785",
          "25123",
          "18540",
          "24021",
          "20912",
          "21285",
          "29947",
          "22703",
          "27037",
          "19567",
          "17619",
          "17630",
          "23308",
          "18428",
          "18811",
          "17545",
          "17177",
          "31062",
          "16937",
          "22640",
          "18485",
          "26448",
          "19450",
          "17401",
          "20905",
          "20184",
          "19855",
          "19526",
          "18766",
          "25815",
          "20708",
          "28609",
          "28190",
          "25021",
          "19847",
          "16296",
          "18113",
          "30839",
          "14936",
          "30094",
          "26120",
          "24229",
          "19874",
          "26689",
          "23468",
          "25338",
          "32644",
          "22863",
          "22269",
          "17076",
          "25865",
          "30797",
          "17713",
          "17675",
          "18378",
          "14910",
          "20935",
          "15430",
          "28972",
          "26801",
          "21658",
          "21546",
          "22503",
          "20946",
          "21264",
          "25648",
          "27859",
          "25646",
          "15824",
          "15767",
          "25781",
          "16807",
          "28338",
          "17238",
          "27252",
          "18307",
          "22319",
          "19466",
          "27789",
          "18911",
          "22110",
          "17271",
          "18679",
          "21331",
          "16603",
          "18192",
          "21550",
          "29338",
          "28282",
          "14826",
          "27959",
          "15542",
          "23075",
          "14742",
          "17099",
          "17477",
          "23267",
          "16488",
          "17172",
          "25999",
          "22944",
          "27861",
          "20553",
          "24941",
          "31267",
          "22968",
          "30146",
          "21337",
          "29085",
          "19799",
          "15237",
          "26979",
          "23586",
          "19535",
          "15330",
          "18093",
          "15754",
          "22159",
          "21543",
          "17883",
          "24992",
          "31540",
          "25305",
          "29187",
          "17738",
          "17855",
          "16800",
          "15709",
          "32320",
          "20640",
          "23646",
          "18929",
          "30374",
          "28179",
          "18872",
          "16246",
          "32952",
          "18386",
          "18516",
          "25807",
          "19438",
          "16900",
          "21426",
          "15424",
          "17266",
          "19632",
          "22712",
          "20643",
          "16391",
          "18879",
          "28644",
          "20739",
          "32807",
          "25775",
          "22594",
          "20879",
          "16194",
          "24920",
          "16115",
          "18641",
          "14835",
          "18618",
          "22453",
          "15171",
          "19270",
          "31025",
          "16015",
          "19909",
          "19335",
          "25929",
          "19596",
          "18887",
          "16964",
          "29765",
          "15526",
          "22651",
          "25457",
          "16671",
          "18459",
          "21369",
          "15757",
          "15353",
          "15524",
          "19249",
          "17701",
          "30362",
          "16640",
          "23703",
          "15949",
          "21049",
          "24289",
          "19955",
          "17381",
          "19372",
          "16435",
          "31239",
          "18704",
          "22092",
          "21590",
          "27191",
          "19358",
          "15459",
          "18691",
          "15208",
          "18276",
          "17772",
          "19831",
          "26891",
          "24973",
          "21632",
          "27293",
          "25837",
          "19016",
          "17200",
          "23699",
          "18281",
          "24075",
          "21486",
          "21343",
          "20761",
          "32212",
          "25455",
          "23216",
          "19452",
          "27439",
          "15447",
          "27542",
          "19802",
          "27843",
          "15639",
          "14802",
          "20790",
          "27176",
          "20064",
          "16877",
          "17839",
          "30477",
          "31470",
          "15891",
          "29190",
          "18462",
          "17973",
          "17944",
          "16539",
          "16989",
          "15929",
          "19033",
          "18129",
          "20218",
          "22609",
          "28264",
          "22145",
          "25029",
          "22167",
          "24319",
          "32418",
          "15196",
          "20083",
          "31497",
          "15003",
          "26416",
          "15224",
          "15941",
          "24129",
          "21458",
          "27705",
          "16272",
          "25076",
          "21419",
          "25623",
          "20959",
          "27218",
          "15872",
          "18924",
          "20138",
          "15042",
          "19019",
          "26954",
          "18481",
          "14976",
          "26076",
          "21338",
          "14706",
          "15070",
          "19572",
          "19148",
          "19271",
          "30830",
          "18900",
          "14675",
          "15636",
          "22466",
          "17075",
          "15492",
          "20659",
          "21345",
          "18051",
          "15683",
          "18678",
          "25864",
          "16863",
          "18489",
          "18475",
          "29721",
          "16978",
          "27455",
          "17817",
          "14741",
          "32786",
          "16124",
          "20766",
          "17678",
          "15306",
          "18476",
          "16600",
          "21644",
          "33216",
          "19873",
          "17598",
          "23932",
          "27374",
          "18105",
          "26008",
          "18159",
          "27038",
          "20325",
          "19248",
          "17685",
          "18705",
          "15248",
          "16809",
          "18968",
          "24219",
          "21538",
          "30966",
          "16610",
          "19371",
          "31439",
          "14906",
          "18306",
          "23551",
          "19434",
          "21992",
          "27855",
          "23199",
          "16122",
          "20092",
          "28286",
          "26376",
          "26915",
          "17424",
          "16614",
          "25482",
          "18605",
          "18673",
          "18707",
          "18524",
          "16769",
          "24257",
          "29152",
          "14718",
          "24912",
          "16779",
          "15279",
          "20246",
          "15144",
          "27580",
          "14647",
          "15890",
          "19236",
          "16344",
          "17557",
          "17986",
          "19014",
          "28631",
          "17203",
          "28579",
          "14761",
          "28916",
          "23353",
          "19150",
          "18375",
          "17979",
          "16938",
          "16451",
          "16888",
          "17395",
          "23978",
          "14692",
          "19319",
          "17409",
          "22312",
          "21168",
          "16436",
          "15638",
          "22144",
          "14922",
          "19063",
          "15108",
          "16612",
          "15812",
          "26327",
          "16457",
          "32355",
          "17969",
          "28660",
          "28759",
          "29890",
          "16404",
          "31264",
          "14581",
          "31378",
          "21229",
          "18473",
          "16201",
          "25199",
          "19942",
          "15137",
          "15215",
          "22213",
          "18364",
          "17516",
          "17809",
          "26522",
          "30336",
          "15180",
          "15504",
          "14595",
          "26390",
          "26932",
          "21468",
          "16565",
          "17359",
          "18325",
          "29183",
          "17475",
          "18589",
          "16332",
          "17417",
          "30042",
          "16426",
          "16236",
          "23650",
          "14983",
          "24908",
          "25213",
          "21602",
          "16546",
          "17526",
          "18536",
          "14566",
          "18559",
          "18907",
          "23292",
          "26744",
          "17295",
          "15322",
          "28166",
          "17154",
          "26545",
          "32893",
          "14950",
          "15612",
          "26975",
          "19571",
          "21088",
          "19506",
          "19376",
          "30740",
          "16613",
          "16870",
          "25315",
          "30764",
          "21657",
          "14693",
          "19193",
          "28756",
          "23914",
          "16658",
          "20112",
          "18359",
          "19813",
          "17505",
          "14723",
          "16153",
          "28270",
          "14791",
          "19947",
          "26424",
          "20121",
          "31068",
          "19097",
          "14631",
          "20013",
          "17365",
          "22679",
          "24924",
          "15456",
          "17110",
          "17845",
          "22649",
          "15061",
          "30507",
          "23286",
          "18816",
          "27254",
          "19961",
          "25412",
          "17957",
          "25009",
          "23721",
          "27240",
          "30633",
          "26001",
          "16168",
          "32734",
          "19086",
          "33034",
          "15605",
          "27159",
          "19135",
          "21479",
          "18793",
          "19449",
          "15589",
          "27674",
          "16217",
          "31524",
          "17549",
          "33270",
          "15487",
          "23469",
          "18269",
          "17682",
          "33041",
          "18539",
          "17868",
          "25391",
          "28169",
          "16199",
          "19489",
          "16803",
          "14949",
          "22411",
          "19306",
          "15745",
          "27400",
          "31988",
          "20825",
          "21123",
          "19523",
          "19330",
          "18220",
          "19832",
          "18860",
          "20506",
          "18585",
          "14653",
          "17091",
          "17869",
          "19825",
          "25975",
          "19731",
          "24027",
          "28074",
          "19496",
          "25633",
          "25129",
          "25349",
          "25637",
          "18439",
          "15152",
          "23093",
          "19675",
          "30455",
          "18781",
          "20582",
          "19568",
          "25715",
          "17230",
          "15481",
          "18794",
          "19521",
          "18288",
          "26150",
          "28873",
          "21051",
          "19297",
          "25909",
          "17684",
          "15195",
          "25435",
          "24798",
          "20082",
          "18557",
          "29568",
          "18858",
          "26020",
          "14683",
          "27192",
          "18443",
          "33232",
          "30132",
          "19962",
          "19006",
          "17208",
          "31270",
          "20559",
          "31283",
          "29815",
          "18411",
          "17523",
          "17882",
          "17580",
          "31638",
          "26420",
          "16143",
          "29052",
          "30738",
          "32593",
          "18510",
          "16396",
          "21661",
          "30461",
          "20954",
          "25144",
          "23256",
          "19584",
          "17525",
          "27087",
          "22150",
          "15624",
          "16917",
          "20780",
          "16056",
          "15512",
          "17171",
          "28333",
          "19207",
          "27958",
          "25490",
          "23832",
          "18336",
          "17292",
          "30939",
          "19895",
          "19417",
          "19741",
          "17420",
          "20652",
          "14685",
          "16810",
          "14582",
          "25145",
          "18809",
          "31611",
          "20292",
          "14542",
          "19318",
          "24232",
          "31257",
          "16889",
          "21008",
          "14923",
          "28711",
          "22498",
          "25681",
          "27952",
          "18440",
          "20057",
          "18827",
          "16137",
          "21116",
          "15361",
          "17452",
          "17496",
          "18757",
          "17413",
          "20268",
          "21415",
          "17608",
          "30815",
          "23808",
          "18517",
          "22440",
          "28431",
          "19206",
          "18534",
          "23999",
          "21311",
          "31477",
          "18748",
          "20001",
          "23076",
          "20356",
          "28461",
          "18107",
          "18153",
          "14708",
          "16068",
          "15529",
          "16078",
          "18369",
          "29371",
          "20713",
          "21087",
          "19235",
          "14896",
          "24062",
          "21599",
          "19569",
          "32940",
          "18328",
          "29858",
          "24166",
          "16018",
          "19402",
          "16509",
          "15423",
          "17353",
          "18716",
          "17199",
          "25919",
          "28131",
          "33142",
          "20539",
          "18069",
          "15994",
          "30766",
          "30811",
          "30304",
          "18000",
          "19087",
          "17700",
          "17823",
          "18480",
          "26754",
          "20697",
          "27065",
          "21283",
          "31052",
          "15466",
          "25844",
          "21531",
          "18965",
          "29699",
          "32460",
          "29088",
          "21026",
          "17438",
          "18004",
          "14544",
          "16940",
          "25054",
          "17135",
          "18241",
          "17511",
          "16206",
          "22960",
          "31812",
          "24333",
          "30997",
          "26564",
          "19021",
          "22644",
          "16376",
          "28877",
          "29852",
          "25772",
          "18339",
          "18371",
          "32796",
          "26135",
          "31281",
          "18100",
          "15843",
          "32747",
          "20277",
          "32365",
          "17963",
          "15197",
          "15983",
          "18903",
          "16364",
          "21549",
          "17550",
          "18393",
          "16234",
          "16949",
          "27511",
          "21073"
         ],
         "textposition": "top right",
         "type": "scattermapbox"
        }
       ],
       "layout": {
        "height": 700,
        "mapbox": {
         "center": {
          "lat": 40.736985698196314,
          "lon": -73.98768337306578
         },
         "style": "open-street-map",
         "zoom": 12
        },
        "showlegend": true,
        "template": {
         "data": {
          "bar": [
           {
            "error_x": {
             "color": "#2a3f5f"
            },
            "error_y": {
             "color": "#2a3f5f"
            },
            "marker": {
             "line": {
              "color": "#E5ECF6",
              "width": 0.5
             },
             "pattern": {
              "fillmode": "overlay",
              "size": 10,
              "solidity": 0.2
             }
            },
            "type": "bar"
           }
          ],
          "barpolar": [
           {
            "marker": {
             "line": {
              "color": "#E5ECF6",
              "width": 0.5
             },
             "pattern": {
              "fillmode": "overlay",
              "size": 10,
              "solidity": 0.2
             }
            },
            "type": "barpolar"
           }
          ],
          "carpet": [
           {
            "aaxis": {
             "endlinecolor": "#2a3f5f",
             "gridcolor": "white",
             "linecolor": "white",
             "minorgridcolor": "white",
             "startlinecolor": "#2a3f5f"
            },
            "baxis": {
             "endlinecolor": "#2a3f5f",
             "gridcolor": "white",
             "linecolor": "white",
             "minorgridcolor": "white",
             "startlinecolor": "#2a3f5f"
            },
            "type": "carpet"
           }
          ],
          "choropleth": [
           {
            "colorbar": {
             "outlinewidth": 0,
             "ticks": ""
            },
            "type": "choropleth"
           }
          ],
          "contour": [
           {
            "colorbar": {
             "outlinewidth": 0,
             "ticks": ""
            },
            "colorscale": [
             [
              0,
              "#0d0887"
             ],
             [
              0.1111111111111111,
              "#46039f"
             ],
             [
              0.2222222222222222,
              "#7201a8"
             ],
             [
              0.3333333333333333,
              "#9c179e"
             ],
             [
              0.4444444444444444,
              "#bd3786"
             ],
             [
              0.5555555555555556,
              "#d8576b"
             ],
             [
              0.6666666666666666,
              "#ed7953"
             ],
             [
              0.7777777777777778,
              "#fb9f3a"
             ],
             [
              0.8888888888888888,
              "#fdca26"
             ],
             [
              1,
              "#f0f921"
             ]
            ],
            "type": "contour"
           }
          ],
          "contourcarpet": [
           {
            "colorbar": {
             "outlinewidth": 0,
             "ticks": ""
            },
            "type": "contourcarpet"
           }
          ],
          "heatmap": [
           {
            "colorbar": {
             "outlinewidth": 0,
             "ticks": ""
            },
            "colorscale": [
             [
              0,
              "#0d0887"
             ],
             [
              0.1111111111111111,
              "#46039f"
             ],
             [
              0.2222222222222222,
              "#7201a8"
             ],
             [
              0.3333333333333333,
              "#9c179e"
             ],
             [
              0.4444444444444444,
              "#bd3786"
             ],
             [
              0.5555555555555556,
              "#d8576b"
             ],
             [
              0.6666666666666666,
              "#ed7953"
             ],
             [
              0.7777777777777778,
              "#fb9f3a"
             ],
             [
              0.8888888888888888,
              "#fdca26"
             ],
             [
              1,
              "#f0f921"
             ]
            ],
            "type": "heatmap"
           }
          ],
          "histogram": [
           {
            "marker": {
             "pattern": {
              "fillmode": "overlay",
              "size": 10,
              "solidity": 0.2
             }
            },
            "type": "histogram"
           }
          ],
          "histogram2d": [
           {
            "colorbar": {
             "outlinewidth": 0,
             "ticks": ""
            },
            "colorscale": [
             [
              0,
              "#0d0887"
             ],
             [
              0.1111111111111111,
              "#46039f"
             ],
             [
              0.2222222222222222,
              "#7201a8"
             ],
             [
              0.3333333333333333,
              "#9c179e"
             ],
             [
              0.4444444444444444,
              "#bd3786"
             ],
             [
              0.5555555555555556,
              "#d8576b"
             ],
             [
              0.6666666666666666,
              "#ed7953"
             ],
             [
              0.7777777777777778,
              "#fb9f3a"
             ],
             [
              0.8888888888888888,
              "#fdca26"
             ],
             [
              1,
              "#f0f921"
             ]
            ],
            "type": "histogram2d"
           }
          ],
          "histogram2dcontour": [
           {
            "colorbar": {
             "outlinewidth": 0,
             "ticks": ""
            },
            "colorscale": [
             [
              0,
              "#0d0887"
             ],
             [
              0.1111111111111111,
              "#46039f"
             ],
             [
              0.2222222222222222,
              "#7201a8"
             ],
             [
              0.3333333333333333,
              "#9c179e"
             ],
             [
              0.4444444444444444,
              "#bd3786"
             ],
             [
              0.5555555555555556,
              "#d8576b"
             ],
             [
              0.6666666666666666,
              "#ed7953"
             ],
             [
              0.7777777777777778,
              "#fb9f3a"
             ],
             [
              0.8888888888888888,
              "#fdca26"
             ],
             [
              1,
              "#f0f921"
             ]
            ],
            "type": "histogram2dcontour"
           }
          ],
          "mesh3d": [
           {
            "colorbar": {
             "outlinewidth": 0,
             "ticks": ""
            },
            "type": "mesh3d"
           }
          ],
          "parcoords": [
           {
            "line": {
             "colorbar": {
              "outlinewidth": 0,
              "ticks": ""
             }
            },
            "type": "parcoords"
           }
          ],
          "pie": [
           {
            "automargin": true,
            "type": "pie"
           }
          ],
          "scatter": [
           {
            "fillpattern": {
             "fillmode": "overlay",
             "size": 10,
             "solidity": 0.2
            },
            "type": "scatter"
           }
          ],
          "scatter3d": [
           {
            "line": {
             "colorbar": {
              "outlinewidth": 0,
              "ticks": ""
             }
            },
            "marker": {
             "colorbar": {
              "outlinewidth": 0,
              "ticks": ""
             }
            },
            "type": "scatter3d"
           }
          ],
          "scattercarpet": [
           {
            "marker": {
             "colorbar": {
              "outlinewidth": 0,
              "ticks": ""
             }
            },
            "type": "scattercarpet"
           }
          ],
          "scattergeo": [
           {
            "marker": {
             "colorbar": {
              "outlinewidth": 0,
              "ticks": ""
             }
            },
            "type": "scattergeo"
           }
          ],
          "scattergl": [
           {
            "marker": {
             "colorbar": {
              "outlinewidth": 0,
              "ticks": ""
             }
            },
            "type": "scattergl"
           }
          ],
          "scattermap": [
           {
            "marker": {
             "colorbar": {
              "outlinewidth": 0,
              "ticks": ""
             }
            },
            "type": "scattermap"
           }
          ],
          "scattermapbox": [
           {
            "marker": {
             "colorbar": {
              "outlinewidth": 0,
              "ticks": ""
             }
            },
            "type": "scattermapbox"
           }
          ],
          "scatterpolar": [
           {
            "marker": {
             "colorbar": {
              "outlinewidth": 0,
              "ticks": ""
             }
            },
            "type": "scatterpolar"
           }
          ],
          "scatterpolargl": [
           {
            "marker": {
             "colorbar": {
              "outlinewidth": 0,
              "ticks": ""
             }
            },
            "type": "scatterpolargl"
           }
          ],
          "scatterternary": [
           {
            "marker": {
             "colorbar": {
              "outlinewidth": 0,
              "ticks": ""
             }
            },
            "type": "scatterternary"
           }
          ],
          "surface": [
           {
            "colorbar": {
             "outlinewidth": 0,
             "ticks": ""
            },
            "colorscale": [
             [
              0,
              "#0d0887"
             ],
             [
              0.1111111111111111,
              "#46039f"
             ],
             [
              0.2222222222222222,
              "#7201a8"
             ],
             [
              0.3333333333333333,
              "#9c179e"
             ],
             [
              0.4444444444444444,
              "#bd3786"
             ],
             [
              0.5555555555555556,
              "#d8576b"
             ],
             [
              0.6666666666666666,
              "#ed7953"
             ],
             [
              0.7777777777777778,
              "#fb9f3a"
             ],
             [
              0.8888888888888888,
              "#fdca26"
             ],
             [
              1,
              "#f0f921"
             ]
            ],
            "type": "surface"
           }
          ],
          "table": [
           {
            "cells": {
             "fill": {
              "color": "#EBF0F8"
             },
             "line": {
              "color": "white"
             }
            },
            "header": {
             "fill": {
              "color": "#C8D4E3"
             },
             "line": {
              "color": "white"
             }
            },
            "type": "table"
           }
          ]
         },
         "layout": {
          "annotationdefaults": {
           "arrowcolor": "#2a3f5f",
           "arrowhead": 0,
           "arrowwidth": 1
          },
          "autotypenumbers": "strict",
          "coloraxis": {
           "colorbar": {
            "outlinewidth": 0,
            "ticks": ""
           }
          },
          "colorscale": {
           "diverging": [
            [
             0,
             "#8e0152"
            ],
            [
             0.1,
             "#c51b7d"
            ],
            [
             0.2,
             "#de77ae"
            ],
            [
             0.3,
             "#f1b6da"
            ],
            [
             0.4,
             "#fde0ef"
            ],
            [
             0.5,
             "#f7f7f7"
            ],
            [
             0.6,
             "#e6f5d0"
            ],
            [
             0.7,
             "#b8e186"
            ],
            [
             0.8,
             "#7fbc41"
            ],
            [
             0.9,
             "#4d9221"
            ],
            [
             1,
             "#276419"
            ]
           ],
           "sequential": [
            [
             0,
             "#0d0887"
            ],
            [
             0.1111111111111111,
             "#46039f"
            ],
            [
             0.2222222222222222,
             "#7201a8"
            ],
            [
             0.3333333333333333,
             "#9c179e"
            ],
            [
             0.4444444444444444,
             "#bd3786"
            ],
            [
             0.5555555555555556,
             "#d8576b"
            ],
            [
             0.6666666666666666,
             "#ed7953"
            ],
            [
             0.7777777777777778,
             "#fb9f3a"
            ],
            [
             0.8888888888888888,
             "#fdca26"
            ],
            [
             1,
             "#f0f921"
            ]
           ],
           "sequentialminus": [
            [
             0,
             "#0d0887"
            ],
            [
             0.1111111111111111,
             "#46039f"
            ],
            [
             0.2222222222222222,
             "#7201a8"
            ],
            [
             0.3333333333333333,
             "#9c179e"
            ],
            [
             0.4444444444444444,
             "#bd3786"
            ],
            [
             0.5555555555555556,
             "#d8576b"
            ],
            [
             0.6666666666666666,
             "#ed7953"
            ],
            [
             0.7777777777777778,
             "#fb9f3a"
            ],
            [
             0.8888888888888888,
             "#fdca26"
            ],
            [
             1,
             "#f0f921"
            ]
           ]
          },
          "colorway": [
           "#636efa",
           "#EF553B",
           "#00cc96",
           "#ab63fa",
           "#FFA15A",
           "#19d3f3",
           "#FF6692",
           "#B6E880",
           "#FF97FF",
           "#FECB52"
          ],
          "font": {
           "color": "#2a3f5f"
          },
          "geo": {
           "bgcolor": "white",
           "lakecolor": "white",
           "landcolor": "#E5ECF6",
           "showlakes": true,
           "showland": true,
           "subunitcolor": "white"
          },
          "hoverlabel": {
           "align": "left"
          },
          "hovermode": "closest",
          "mapbox": {
           "style": "light"
          },
          "paper_bgcolor": "white",
          "plot_bgcolor": "#E5ECF6",
          "polar": {
           "angularaxis": {
            "gridcolor": "white",
            "linecolor": "white",
            "ticks": ""
           },
           "bgcolor": "#E5ECF6",
           "radialaxis": {
            "gridcolor": "white",
            "linecolor": "white",
            "ticks": ""
           }
          },
          "scene": {
           "xaxis": {
            "backgroundcolor": "#E5ECF6",
            "gridcolor": "white",
            "gridwidth": 2,
            "linecolor": "white",
            "showbackground": true,
            "ticks": "",
            "zerolinecolor": "white"
           },
           "yaxis": {
            "backgroundcolor": "#E5ECF6",
            "gridcolor": "white",
            "gridwidth": 2,
            "linecolor": "white",
            "showbackground": true,
            "ticks": "",
            "zerolinecolor": "white"
           },
           "zaxis": {
            "backgroundcolor": "#E5ECF6",
            "gridcolor": "white",
            "gridwidth": 2,
            "linecolor": "white",
            "showbackground": true,
            "ticks": "",
            "zerolinecolor": "white"
           }
          },
          "shapedefaults": {
           "line": {
            "color": "#2a3f5f"
           }
          },
          "ternary": {
           "aaxis": {
            "gridcolor": "white",
            "linecolor": "white",
            "ticks": ""
           },
           "baxis": {
            "gridcolor": "white",
            "linecolor": "white",
            "ticks": ""
           },
           "bgcolor": "#E5ECF6",
           "caxis": {
            "gridcolor": "white",
            "linecolor": "white",
            "ticks": ""
           }
          },
          "title": {
           "x": 0.05
          },
          "xaxis": {
           "automargin": true,
           "gridcolor": "white",
           "linecolor": "white",
           "ticks": "",
           "title": {
            "standoff": 15
           },
           "zerolinecolor": "white",
           "zerolinewidth": 2
          },
          "yaxis": {
           "automargin": true,
           "gridcolor": "white",
           "linecolor": "white",
           "ticks": "",
           "title": {
            "standoff": 15
           },
           "zerolinecolor": "white",
           "zerolinewidth": 2
          }
         }
        }
       }
      }
     },
     "metadata": {},
     "output_type": "display_data"
    }
   ],
   "source": [
    "import plotly.graph_objects as go\n",
    "\n",
    "# Line traces\n",
    "lines = []\n",
    "for _, row in df.iterrows():\n",
    "    lines.append(\n",
    "        go.Scattermapbox(\n",
    "            mode=\"lines\",\n",
    "            lon=[row['start_station_longitude'], row['end_station_longitude']],\n",
    "            lat=[row['start_station_latitude'], row['end_station_latitude']],\n",
    "            line=dict(width=1, color='blue'),\n",
    "            showlegend=False\n",
    "        )\n",
    "    )\n",
    "\n",
    "# Show bike IDs directly on the map at start station\n",
    "bikeid_labels = go.Scattermapbox(\n",
    "    mode=\"text\",\n",
    "    lon=df_new['start_station_longitude'],\n",
    "    lat=df_new['start_station_latitude'],\n",
    "    text=df_new['bikeid'].astype(str),  # Make sure it's a string\n",
    "    textposition=\"top right\",\n",
    "    name=\"Bike IDs\",\n",
    "    showlegend=False\n",
    ")\n",
    "\n",
    "# Optional: start and end markers\n",
    "start_points = go.Scattermapbox(\n",
    "    mode=\"markers\",\n",
    "    lon=df_new['start_station_longitude'],\n",
    "    lat=df_new['start_station_latitude'],\n",
    "    marker=dict(size=5, color='green'),\n",
    "    name='Start Stations'\n",
    ")\n",
    "\n",
    "end_points = go.Scattermapbox(\n",
    "    mode=\"markers\",\n",
    "    lon=df_new['end_station_longitude'],\n",
    "    lat=df_new['end_station_latitude'],\n",
    "    marker=dict(size=5, color='red'),\n",
    "    name='End Stations'\n",
    ")\n",
    "\n",
    "# Final figure\n",
    "fig = go.Figure(data=lines + [start_points, end_points, bikeid_labels])\n",
    "fig.update_layout(\n",
    "    mapbox_style=\"open-street-map\",\n",
    "    mapbox_zoom=12,\n",
    "    mapbox_center={\n",
    "        \"lat\": df_new['start_station_latitude'].mean(),\n",
    "        \"lon\": df_new['start_station_longitude'].mean()\n",
    "    },\n",
    "    height=700,\n",
    "    showlegend=True\n",
    ")\n",
    "\n",
    "fig.show()\n"
   ]
  },
  {
   "cell_type": "code",
   "execution_count": 12,
   "id": "29a97054",
   "metadata": {},
   "outputs": [
    {
     "name": "stderr",
     "output_type": "stream",
     "text": [
      "C:\\Users\\tanju\\AppData\\Local\\Temp\\ipykernel_21636\\338554674.py:1: SettingWithCopyWarning: \n",
      "A value is trying to be set on a copy of a slice from a DataFrame.\n",
      "Try using .loc[row_indexer,col_indexer] = value instead\n",
      "\n",
      "See the caveats in the documentation: https://pandas.pydata.org/pandas-docs/stable/user_guide/indexing.html#returning-a-view-versus-a-copy\n",
      "  df_new['tripduration_minutes'] = df['tripduration']/60\n"
     ]
    }
   ],
   "source": [
    "df_new['tripduration_minutes'] = df['tripduration']/60"
   ]
  },
  {
   "cell_type": "code",
   "execution_count": 43,
   "id": "244ff0b4",
   "metadata": {},
   "outputs": [
    {
     "data": {
      "text/plain": [
       "Timestamp('2013-07-01 07:52:10')"
      ]
     },
     "execution_count": 43,
     "metadata": {},
     "output_type": "execute_result"
    }
   ],
   "source": [
    "df_new['starttime'].min()"
   ]
  },
  {
   "cell_type": "code",
   "execution_count": 44,
   "id": "e65ccc06",
   "metadata": {},
   "outputs": [
    {
     "data": {
      "text/plain": [
       "Timestamp('2018-05-31 23:46:52.086000')"
      ]
     },
     "execution_count": 44,
     "metadata": {},
     "output_type": "execute_result"
    }
   ],
   "source": [
    "df_new['starttime'].max()"
   ]
  },
  {
   "cell_type": "code",
   "execution_count": 45,
   "id": "2e4eacfb",
   "metadata": {},
   "outputs": [
    {
     "data": {
      "text/plain": [
       "1885"
      ]
     },
     "execution_count": 45,
     "metadata": {},
     "output_type": "execute_result"
    }
   ],
   "source": [
    "df_new['birth_year'].min()"
   ]
  },
  {
   "cell_type": "code",
   "execution_count": 46,
   "id": "61f8161a",
   "metadata": {},
   "outputs": [
    {
     "data": {
      "text/plain": [
       "0"
      ]
     },
     "execution_count": 46,
     "metadata": {},
     "output_type": "execute_result"
    }
   ],
   "source": [
    "df_new['birth_year'].isnull().sum()"
   ]
  },
  {
   "cell_type": "code",
   "execution_count": 47,
   "id": "0afdc623",
   "metadata": {},
   "outputs": [
    {
     "data": {
      "text/plain": [
       "array([1991, 1956, 1967, 1993, 1990, 1985, 1992, 1988, 1984, 1972, 1969,\n",
       "       1963, 1974, 1981, 1979, 1996, 1959, 1965, 1976, 1975, 1957, 1952,\n",
       "       1960, 1966, 1968, 1971, 1973, 1983, 1986, 1987, 1982, 1994, 1962,\n",
       "       1970, 1995, 1989, 1980, 1954, 1958, 1953, 1961, 1964, 1978, 1998,\n",
       "       1949, 1951, 1955, 1942, 1945, 1977, 1946, 1947, 1948, 1999, 1950,\n",
       "       1885, 1997, 1940, 1941, 1938, 1944, 1920, 2000, 1943, 1935, 1939,\n",
       "       1933], dtype=int64)"
      ]
     },
     "execution_count": 47,
     "metadata": {},
     "output_type": "execute_result"
    }
   ],
   "source": [
    "df_new['birth_year'].unique()"
   ]
  },
  {
   "cell_type": "code",
   "execution_count": 48,
   "id": "2175ef64",
   "metadata": {},
   "outputs": [
    {
     "data": {
      "text/html": [
       "<div>\n",
       "<style scoped>\n",
       "    .dataframe tbody tr th:only-of-type {\n",
       "        vertical-align: middle;\n",
       "    }\n",
       "\n",
       "    .dataframe tbody tr th {\n",
       "        vertical-align: top;\n",
       "    }\n",
       "\n",
       "    .dataframe thead th {\n",
       "        text-align: right;\n",
       "    }\n",
       "</style>\n",
       "<table border=\"1\" class=\"dataframe\">\n",
       "  <thead>\n",
       "    <tr style=\"text-align: right;\">\n",
       "      <th></th>\n",
       "      <th>tripduration</th>\n",
       "      <th>starttime</th>\n",
       "      <th>stoptime</th>\n",
       "      <th>start_station_id</th>\n",
       "      <th>start_station_name</th>\n",
       "      <th>start_station_latitude</th>\n",
       "      <th>start_station_longitude</th>\n",
       "      <th>end_station_id</th>\n",
       "      <th>end_station_name</th>\n",
       "      <th>end_station_latitude</th>\n",
       "      <th>end_station_longitude</th>\n",
       "      <th>bikeid</th>\n",
       "      <th>usertype</th>\n",
       "      <th>birth_year</th>\n",
       "      <th>gender</th>\n",
       "      <th>customer_plan</th>\n",
       "      <th>trip_duration_minutes</th>\n",
       "      <th>trip_duration_minutes_exact</th>\n",
       "    </tr>\n",
       "  </thead>\n",
       "  <tbody>\n",
       "    <tr>\n",
       "      <th>842</th>\n",
       "      <td>639</td>\n",
       "      <td>2016-04-24 10:03:09</td>\n",
       "      <td>2016-04-24 10:13:49</td>\n",
       "      <td>305</td>\n",
       "      <td>E 58 St &amp; 3 Ave</td>\n",
       "      <td>40.760958</td>\n",
       "      <td>-73.967245</td>\n",
       "      <td>520</td>\n",
       "      <td>W 52 St &amp; 5 Ave</td>\n",
       "      <td>40.759923</td>\n",
       "      <td>-73.976485</td>\n",
       "      <td>21992</td>\n",
       "      <td>Subscriber</td>\n",
       "      <td>1885</td>\n",
       "      <td>unknown</td>\n",
       "      <td></td>\n",
       "      <td>10</td>\n",
       "      <td>10.6500</td>\n",
       "    </tr>\n",
       "    <tr>\n",
       "      <th>1390</th>\n",
       "      <td>753</td>\n",
       "      <td>2015-07-12 10:38:27</td>\n",
       "      <td>2015-07-12 10:51:01</td>\n",
       "      <td>455</td>\n",
       "      <td>1 Ave &amp; E 44 St</td>\n",
       "      <td>40.750020</td>\n",
       "      <td>-73.969053</td>\n",
       "      <td>520</td>\n",
       "      <td>W 52 St &amp; 5 Ave</td>\n",
       "      <td>40.759923</td>\n",
       "      <td>-73.976485</td>\n",
       "      <td>22107</td>\n",
       "      <td>Subscriber</td>\n",
       "      <td>1885</td>\n",
       "      <td>unknown</td>\n",
       "      <td></td>\n",
       "      <td>13</td>\n",
       "      <td>12.5500</td>\n",
       "    </tr>\n",
       "    <tr>\n",
       "      <th>1391</th>\n",
       "      <td>637</td>\n",
       "      <td>2016-08-22 08:39:08</td>\n",
       "      <td>2016-08-22 08:49:45</td>\n",
       "      <td>455</td>\n",
       "      <td>1 Ave &amp; E 44 St</td>\n",
       "      <td>40.750020</td>\n",
       "      <td>-73.969053</td>\n",
       "      <td>520</td>\n",
       "      <td>W 52 St &amp; 5 Ave</td>\n",
       "      <td>40.759923</td>\n",
       "      <td>-73.976485</td>\n",
       "      <td>22358</td>\n",
       "      <td>Subscriber</td>\n",
       "      <td>1885</td>\n",
       "      <td>unknown</td>\n",
       "      <td></td>\n",
       "      <td>10</td>\n",
       "      <td>10.6167</td>\n",
       "    </tr>\n",
       "    <tr>\n",
       "      <th>1396</th>\n",
       "      <td>669</td>\n",
       "      <td>2016-08-14 09:27:23</td>\n",
       "      <td>2016-08-14 09:38:33</td>\n",
       "      <td>455</td>\n",
       "      <td>1 Ave &amp; E 44 St</td>\n",
       "      <td>40.750020</td>\n",
       "      <td>-73.969053</td>\n",
       "      <td>520</td>\n",
       "      <td>W 52 St &amp; 5 Ave</td>\n",
       "      <td>40.759923</td>\n",
       "      <td>-73.976485</td>\n",
       "      <td>25045</td>\n",
       "      <td>Subscriber</td>\n",
       "      <td>1885</td>\n",
       "      <td>unknown</td>\n",
       "      <td></td>\n",
       "      <td>11</td>\n",
       "      <td>11.1500</td>\n",
       "    </tr>\n",
       "  </tbody>\n",
       "</table>\n",
       "</div>"
      ],
      "text/plain": [
       "      tripduration           starttime            stoptime  start_station_id  \\\n",
       "842            639 2016-04-24 10:03:09 2016-04-24 10:13:49               305   \n",
       "1390           753 2015-07-12 10:38:27 2015-07-12 10:51:01               455   \n",
       "1391           637 2016-08-22 08:39:08 2016-08-22 08:49:45               455   \n",
       "1396           669 2016-08-14 09:27:23 2016-08-14 09:38:33               455   \n",
       "\n",
       "     start_station_name  start_station_latitude  start_station_longitude  \\\n",
       "842     E 58 St & 3 Ave               40.760958               -73.967245   \n",
       "1390    1 Ave & E 44 St               40.750020               -73.969053   \n",
       "1391    1 Ave & E 44 St               40.750020               -73.969053   \n",
       "1396    1 Ave & E 44 St               40.750020               -73.969053   \n",
       "\n",
       "      end_station_id end_station_name  end_station_latitude  \\\n",
       "842              520  W 52 St & 5 Ave             40.759923   \n",
       "1390             520  W 52 St & 5 Ave             40.759923   \n",
       "1391             520  W 52 St & 5 Ave             40.759923   \n",
       "1396             520  W 52 St & 5 Ave             40.759923   \n",
       "\n",
       "      end_station_longitude  bikeid    usertype  birth_year   gender  \\\n",
       "842              -73.976485   21992  Subscriber        1885  unknown   \n",
       "1390             -73.976485   22107  Subscriber        1885  unknown   \n",
       "1391             -73.976485   22358  Subscriber        1885  unknown   \n",
       "1396             -73.976485   25045  Subscriber        1885  unknown   \n",
       "\n",
       "     customer_plan  trip_duration_minutes  trip_duration_minutes_exact  \n",
       "842                                    10                      10.6500  \n",
       "1390                                   13                      12.5500  \n",
       "1391                                   10                      10.6167  \n",
       "1396                                   11                      11.1500  "
      ]
     },
     "execution_count": 48,
     "metadata": {},
     "output_type": "execute_result"
    }
   ],
   "source": [
    "df_new[df_new['birth_year'] == 1885]"
   ]
  },
  {
   "cell_type": "code",
   "execution_count": 49,
   "id": "f0aaae4e",
   "metadata": {},
   "outputs": [
    {
     "name": "stderr",
     "output_type": "stream",
     "text": [
      "C:\\Users\\tanju\\AppData\\Local\\Temp\\ipykernel_9784\\2439944409.py:1: SettingWithCopyWarning:\n",
      "\n",
      "\n",
      "A value is trying to be set on a copy of a slice from a DataFrame.\n",
      "Try using .loc[row_indexer,col_indexer] = value instead\n",
      "\n",
      "See the caveats in the documentation: https://pandas.pydata.org/pandas-docs/stable/user_guide/indexing.html#returning-a-view-versus-a-copy\n",
      "\n"
     ]
    }
   ],
   "source": [
    "df_new['year'] = df_new['starttime'].dt.year"
   ]
  },
  {
   "cell_type": "code",
   "execution_count": 50,
   "id": "13302224",
   "metadata": {},
   "outputs": [
    {
     "data": {
      "text/html": [
       "<div>\n",
       "<style scoped>\n",
       "    .dataframe tbody tr th:only-of-type {\n",
       "        vertical-align: middle;\n",
       "    }\n",
       "\n",
       "    .dataframe tbody tr th {\n",
       "        vertical-align: top;\n",
       "    }\n",
       "\n",
       "    .dataframe thead th {\n",
       "        text-align: right;\n",
       "    }\n",
       "</style>\n",
       "<table border=\"1\" class=\"dataframe\">\n",
       "  <thead>\n",
       "    <tr style=\"text-align: right;\">\n",
       "      <th></th>\n",
       "      <th>tripduration</th>\n",
       "      <th>starttime</th>\n",
       "      <th>stoptime</th>\n",
       "      <th>start_station_id</th>\n",
       "      <th>start_station_name</th>\n",
       "      <th>start_station_latitude</th>\n",
       "      <th>start_station_longitude</th>\n",
       "      <th>end_station_id</th>\n",
       "      <th>end_station_name</th>\n",
       "      <th>end_station_latitude</th>\n",
       "      <th>end_station_longitude</th>\n",
       "      <th>bikeid</th>\n",
       "      <th>usertype</th>\n",
       "      <th>birth_year</th>\n",
       "      <th>gender</th>\n",
       "      <th>customer_plan</th>\n",
       "      <th>trip_duration_minutes</th>\n",
       "      <th>trip_duration_minutes_exact</th>\n",
       "      <th>year</th>\n",
       "    </tr>\n",
       "  </thead>\n",
       "  <tbody>\n",
       "    <tr>\n",
       "      <th>0</th>\n",
       "      <td>147</td>\n",
       "      <td>2016-03-21 14:53:40</td>\n",
       "      <td>2016-03-21 14:56:07</td>\n",
       "      <td>529</td>\n",
       "      <td>W 42 St &amp; 8 Ave</td>\n",
       "      <td>40.757570</td>\n",
       "      <td>-73.990985</td>\n",
       "      <td>3240</td>\n",
       "      <td>NYCBS Depot BAL - DYR</td>\n",
       "      <td>0.000000</td>\n",
       "      <td>0.000000</td>\n",
       "      <td>22747</td>\n",
       "      <td>Subscriber</td>\n",
       "      <td>1991</td>\n",
       "      <td>male</td>\n",
       "      <td></td>\n",
       "      <td>3</td>\n",
       "      <td>2.4500</td>\n",
       "      <td>2016</td>\n",
       "    </tr>\n",
       "    <tr>\n",
       "      <th>1</th>\n",
       "      <td>4222</td>\n",
       "      <td>2017-09-16 12:47:44</td>\n",
       "      <td>2017-09-16 13:58:07</td>\n",
       "      <td>514</td>\n",
       "      <td>12 Ave &amp; W 40 St</td>\n",
       "      <td>40.760875</td>\n",
       "      <td>-74.002777</td>\n",
       "      <td>3480</td>\n",
       "      <td>Washington Street (Don't Use)</td>\n",
       "      <td>0.000000</td>\n",
       "      <td>0.000000</td>\n",
       "      <td>25904</td>\n",
       "      <td>Customer</td>\n",
       "      <td>1956</td>\n",
       "      <td>male</td>\n",
       "      <td></td>\n",
       "      <td>71</td>\n",
       "      <td>70.3667</td>\n",
       "      <td>2017</td>\n",
       "    </tr>\n",
       "    <tr>\n",
       "      <th>2</th>\n",
       "      <td>259</td>\n",
       "      <td>2016-03-09 18:47:16</td>\n",
       "      <td>2016-03-09 18:51:36</td>\n",
       "      <td>447</td>\n",
       "      <td>8 Ave &amp; W 52 St</td>\n",
       "      <td>40.763707</td>\n",
       "      <td>-73.985162</td>\n",
       "      <td>3240</td>\n",
       "      <td>NYCBS Depot BAL - DYR</td>\n",
       "      <td>0.000000</td>\n",
       "      <td>0.000000</td>\n",
       "      <td>19261</td>\n",
       "      <td>Subscriber</td>\n",
       "      <td>1967</td>\n",
       "      <td>male</td>\n",
       "      <td></td>\n",
       "      <td>4</td>\n",
       "      <td>4.3167</td>\n",
       "      <td>2016</td>\n",
       "    </tr>\n",
       "    <tr>\n",
       "      <th>3</th>\n",
       "      <td>151</td>\n",
       "      <td>2015-11-05 10:06:12</td>\n",
       "      <td>2015-11-05 10:08:43</td>\n",
       "      <td>311</td>\n",
       "      <td>Norfolk St &amp; Broome St</td>\n",
       "      <td>40.717227</td>\n",
       "      <td>-73.988021</td>\n",
       "      <td>3019</td>\n",
       "      <td>NYCBS Depot - DEL</td>\n",
       "      <td>40.716633</td>\n",
       "      <td>-73.981933</td>\n",
       "      <td>15091</td>\n",
       "      <td>Subscriber</td>\n",
       "      <td>1993</td>\n",
       "      <td>female</td>\n",
       "      <td></td>\n",
       "      <td>2</td>\n",
       "      <td>2.5167</td>\n",
       "      <td>2015</td>\n",
       "    </tr>\n",
       "    <tr>\n",
       "      <th>4</th>\n",
       "      <td>271442</td>\n",
       "      <td>2015-12-18 18:46:06</td>\n",
       "      <td>2015-12-21 22:10:08</td>\n",
       "      <td>519</td>\n",
       "      <td>Pershing Square North</td>\n",
       "      <td>40.751873</td>\n",
       "      <td>-73.977706</td>\n",
       "      <td>3019</td>\n",
       "      <td>NYCBS Depot - DEL</td>\n",
       "      <td>40.716633</td>\n",
       "      <td>-73.981933</td>\n",
       "      <td>20773</td>\n",
       "      <td>Subscriber</td>\n",
       "      <td>1990</td>\n",
       "      <td>male</td>\n",
       "      <td></td>\n",
       "      <td>4524</td>\n",
       "      <td>4524.0333</td>\n",
       "      <td>2015</td>\n",
       "    </tr>\n",
       "  </tbody>\n",
       "</table>\n",
       "</div>"
      ],
      "text/plain": [
       "   tripduration           starttime            stoptime  start_station_id  \\\n",
       "0           147 2016-03-21 14:53:40 2016-03-21 14:56:07               529   \n",
       "1          4222 2017-09-16 12:47:44 2017-09-16 13:58:07               514   \n",
       "2           259 2016-03-09 18:47:16 2016-03-09 18:51:36               447   \n",
       "3           151 2015-11-05 10:06:12 2015-11-05 10:08:43               311   \n",
       "4        271442 2015-12-18 18:46:06 2015-12-21 22:10:08               519   \n",
       "\n",
       "       start_station_name  start_station_latitude  start_station_longitude  \\\n",
       "0         W 42 St & 8 Ave               40.757570               -73.990985   \n",
       "1        12 Ave & W 40 St               40.760875               -74.002777   \n",
       "2         8 Ave & W 52 St               40.763707               -73.985162   \n",
       "3  Norfolk St & Broome St               40.717227               -73.988021   \n",
       "4   Pershing Square North               40.751873               -73.977706   \n",
       "\n",
       "   end_station_id               end_station_name  end_station_latitude  \\\n",
       "0            3240          NYCBS Depot BAL - DYR              0.000000   \n",
       "1            3480  Washington Street (Don't Use)              0.000000   \n",
       "2            3240          NYCBS Depot BAL - DYR              0.000000   \n",
       "3            3019              NYCBS Depot - DEL             40.716633   \n",
       "4            3019              NYCBS Depot - DEL             40.716633   \n",
       "\n",
       "   end_station_longitude  bikeid    usertype  birth_year  gender  \\\n",
       "0               0.000000   22747  Subscriber        1991    male   \n",
       "1               0.000000   25904    Customer        1956    male   \n",
       "2               0.000000   19261  Subscriber        1967    male   \n",
       "3             -73.981933   15091  Subscriber        1993  female   \n",
       "4             -73.981933   20773  Subscriber        1990    male   \n",
       "\n",
       "  customer_plan  trip_duration_minutes  trip_duration_minutes_exact  year  \n",
       "0                                    3                       2.4500  2016  \n",
       "1                                   71                      70.3667  2017  \n",
       "2                                    4                       4.3167  2016  \n",
       "3                                    2                       2.5167  2015  \n",
       "4                                 4524                    4524.0333  2015  "
      ]
     },
     "execution_count": 50,
     "metadata": {},
     "output_type": "execute_result"
    }
   ],
   "source": [
    "df_new.head()"
   ]
  },
  {
   "cell_type": "code",
   "execution_count": 51,
   "id": "02230892",
   "metadata": {},
   "outputs": [
    {
     "data": {
      "text/html": [
       "<div>\n",
       "<style scoped>\n",
       "    .dataframe tbody tr th:only-of-type {\n",
       "        vertical-align: middle;\n",
       "    }\n",
       "\n",
       "    .dataframe tbody tr th {\n",
       "        vertical-align: top;\n",
       "    }\n",
       "\n",
       "    .dataframe thead th {\n",
       "        text-align: right;\n",
       "    }\n",
       "</style>\n",
       "<table border=\"1\" class=\"dataframe\">\n",
       "  <thead>\n",
       "    <tr style=\"text-align: right;\">\n",
       "      <th></th>\n",
       "      <th>year</th>\n",
       "      <th>trip_duration_minutes_exact</th>\n",
       "    </tr>\n",
       "  </thead>\n",
       "  <tbody>\n",
       "    <tr>\n",
       "      <th>0</th>\n",
       "      <td>2013</td>\n",
       "      <td>9524.3848</td>\n",
       "    </tr>\n",
       "    <tr>\n",
       "      <th>1</th>\n",
       "      <td>2014</td>\n",
       "      <td>13417.2001</td>\n",
       "    </tr>\n",
       "    <tr>\n",
       "      <th>2</th>\n",
       "      <td>2015</td>\n",
       "      <td>20220.0000</td>\n",
       "    </tr>\n",
       "    <tr>\n",
       "      <th>3</th>\n",
       "      <td>2016</td>\n",
       "      <td>17145.3150</td>\n",
       "    </tr>\n",
       "    <tr>\n",
       "      <th>4</th>\n",
       "      <td>2017</td>\n",
       "      <td>29175.7836</td>\n",
       "    </tr>\n",
       "    <tr>\n",
       "      <th>5</th>\n",
       "      <td>2018</td>\n",
       "      <td>14978.0001</td>\n",
       "    </tr>\n",
       "  </tbody>\n",
       "</table>\n",
       "</div>"
      ],
      "text/plain": [
       "   year  trip_duration_minutes_exact\n",
       "0  2013                    9524.3848\n",
       "1  2014                   13417.2001\n",
       "2  2015                   20220.0000\n",
       "3  2016                   17145.3150\n",
       "4  2017                   29175.7836\n",
       "5  2018                   14978.0001"
      ]
     },
     "execution_count": 51,
     "metadata": {},
     "output_type": "execute_result"
    }
   ],
   "source": [
    "df_agg = df_new.groupby('year')['trip_duration_minutes_exact'].sum().reset_index()\n",
    "df_agg"
   ]
  },
  {
   "cell_type": "code",
   "execution_count": 52,
   "id": "87fe8eba",
   "metadata": {},
   "outputs": [
    {
     "data": {
      "application/vnd.plotly.v1+json": {
       "config": {
        "plotlyServerURL": "https://plot.ly"
       },
       "data": [
        {
         "hovertemplate": "year=%{x}<br>trip_duration_minutes_exact=%{y}<extra></extra>",
         "legendgroup": "",
         "marker": {
          "color": "#636efa",
          "pattern": {
           "shape": ""
          }
         },
         "name": "",
         "orientation": "v",
         "showlegend": false,
         "textposition": "auto",
         "type": "bar",
         "x": {
          "bdata": "3QcAAN4HAADfBwAA4AcAAOEHAADiBwAA",
          "dtype": "i4"
         },
         "xaxis": "x",
         "y": {
          "bdata": "wFsgQTGawkD3deCcmTTKQAAAAAAAv9NAj8L1KFS+0EBJnYAm8n3cQF3cRgMAQc1A",
          "dtype": "f8"
         },
         "yaxis": "y"
        }
       ],
       "layout": {
        "barmode": "relative",
        "height": 500,
        "legend": {
         "tracegroupgap": 0
        },
        "template": {
         "data": {
          "bar": [
           {
            "error_x": {
             "color": "#2a3f5f"
            },
            "error_y": {
             "color": "#2a3f5f"
            },
            "marker": {
             "line": {
              "color": "#E5ECF6",
              "width": 0.5
             },
             "pattern": {
              "fillmode": "overlay",
              "size": 10,
              "solidity": 0.2
             }
            },
            "type": "bar"
           }
          ],
          "barpolar": [
           {
            "marker": {
             "line": {
              "color": "#E5ECF6",
              "width": 0.5
             },
             "pattern": {
              "fillmode": "overlay",
              "size": 10,
              "solidity": 0.2
             }
            },
            "type": "barpolar"
           }
          ],
          "carpet": [
           {
            "aaxis": {
             "endlinecolor": "#2a3f5f",
             "gridcolor": "white",
             "linecolor": "white",
             "minorgridcolor": "white",
             "startlinecolor": "#2a3f5f"
            },
            "baxis": {
             "endlinecolor": "#2a3f5f",
             "gridcolor": "white",
             "linecolor": "white",
             "minorgridcolor": "white",
             "startlinecolor": "#2a3f5f"
            },
            "type": "carpet"
           }
          ],
          "choropleth": [
           {
            "colorbar": {
             "outlinewidth": 0,
             "ticks": ""
            },
            "type": "choropleth"
           }
          ],
          "contour": [
           {
            "colorbar": {
             "outlinewidth": 0,
             "ticks": ""
            },
            "colorscale": [
             [
              0,
              "#0d0887"
             ],
             [
              0.1111111111111111,
              "#46039f"
             ],
             [
              0.2222222222222222,
              "#7201a8"
             ],
             [
              0.3333333333333333,
              "#9c179e"
             ],
             [
              0.4444444444444444,
              "#bd3786"
             ],
             [
              0.5555555555555556,
              "#d8576b"
             ],
             [
              0.6666666666666666,
              "#ed7953"
             ],
             [
              0.7777777777777778,
              "#fb9f3a"
             ],
             [
              0.8888888888888888,
              "#fdca26"
             ],
             [
              1,
              "#f0f921"
             ]
            ],
            "type": "contour"
           }
          ],
          "contourcarpet": [
           {
            "colorbar": {
             "outlinewidth": 0,
             "ticks": ""
            },
            "type": "contourcarpet"
           }
          ],
          "heatmap": [
           {
            "colorbar": {
             "outlinewidth": 0,
             "ticks": ""
            },
            "colorscale": [
             [
              0,
              "#0d0887"
             ],
             [
              0.1111111111111111,
              "#46039f"
             ],
             [
              0.2222222222222222,
              "#7201a8"
             ],
             [
              0.3333333333333333,
              "#9c179e"
             ],
             [
              0.4444444444444444,
              "#bd3786"
             ],
             [
              0.5555555555555556,
              "#d8576b"
             ],
             [
              0.6666666666666666,
              "#ed7953"
             ],
             [
              0.7777777777777778,
              "#fb9f3a"
             ],
             [
              0.8888888888888888,
              "#fdca26"
             ],
             [
              1,
              "#f0f921"
             ]
            ],
            "type": "heatmap"
           }
          ],
          "histogram": [
           {
            "marker": {
             "pattern": {
              "fillmode": "overlay",
              "size": 10,
              "solidity": 0.2
             }
            },
            "type": "histogram"
           }
          ],
          "histogram2d": [
           {
            "colorbar": {
             "outlinewidth": 0,
             "ticks": ""
            },
            "colorscale": [
             [
              0,
              "#0d0887"
             ],
             [
              0.1111111111111111,
              "#46039f"
             ],
             [
              0.2222222222222222,
              "#7201a8"
             ],
             [
              0.3333333333333333,
              "#9c179e"
             ],
             [
              0.4444444444444444,
              "#bd3786"
             ],
             [
              0.5555555555555556,
              "#d8576b"
             ],
             [
              0.6666666666666666,
              "#ed7953"
             ],
             [
              0.7777777777777778,
              "#fb9f3a"
             ],
             [
              0.8888888888888888,
              "#fdca26"
             ],
             [
              1,
              "#f0f921"
             ]
            ],
            "type": "histogram2d"
           }
          ],
          "histogram2dcontour": [
           {
            "colorbar": {
             "outlinewidth": 0,
             "ticks": ""
            },
            "colorscale": [
             [
              0,
              "#0d0887"
             ],
             [
              0.1111111111111111,
              "#46039f"
             ],
             [
              0.2222222222222222,
              "#7201a8"
             ],
             [
              0.3333333333333333,
              "#9c179e"
             ],
             [
              0.4444444444444444,
              "#bd3786"
             ],
             [
              0.5555555555555556,
              "#d8576b"
             ],
             [
              0.6666666666666666,
              "#ed7953"
             ],
             [
              0.7777777777777778,
              "#fb9f3a"
             ],
             [
              0.8888888888888888,
              "#fdca26"
             ],
             [
              1,
              "#f0f921"
             ]
            ],
            "type": "histogram2dcontour"
           }
          ],
          "mesh3d": [
           {
            "colorbar": {
             "outlinewidth": 0,
             "ticks": ""
            },
            "type": "mesh3d"
           }
          ],
          "parcoords": [
           {
            "line": {
             "colorbar": {
              "outlinewidth": 0,
              "ticks": ""
             }
            },
            "type": "parcoords"
           }
          ],
          "pie": [
           {
            "automargin": true,
            "type": "pie"
           }
          ],
          "scatter": [
           {
            "fillpattern": {
             "fillmode": "overlay",
             "size": 10,
             "solidity": 0.2
            },
            "type": "scatter"
           }
          ],
          "scatter3d": [
           {
            "line": {
             "colorbar": {
              "outlinewidth": 0,
              "ticks": ""
             }
            },
            "marker": {
             "colorbar": {
              "outlinewidth": 0,
              "ticks": ""
             }
            },
            "type": "scatter3d"
           }
          ],
          "scattercarpet": [
           {
            "marker": {
             "colorbar": {
              "outlinewidth": 0,
              "ticks": ""
             }
            },
            "type": "scattercarpet"
           }
          ],
          "scattergeo": [
           {
            "marker": {
             "colorbar": {
              "outlinewidth": 0,
              "ticks": ""
             }
            },
            "type": "scattergeo"
           }
          ],
          "scattergl": [
           {
            "marker": {
             "colorbar": {
              "outlinewidth": 0,
              "ticks": ""
             }
            },
            "type": "scattergl"
           }
          ],
          "scattermap": [
           {
            "marker": {
             "colorbar": {
              "outlinewidth": 0,
              "ticks": ""
             }
            },
            "type": "scattermap"
           }
          ],
          "scattermapbox": [
           {
            "marker": {
             "colorbar": {
              "outlinewidth": 0,
              "ticks": ""
             }
            },
            "type": "scattermapbox"
           }
          ],
          "scatterpolar": [
           {
            "marker": {
             "colorbar": {
              "outlinewidth": 0,
              "ticks": ""
             }
            },
            "type": "scatterpolar"
           }
          ],
          "scatterpolargl": [
           {
            "marker": {
             "colorbar": {
              "outlinewidth": 0,
              "ticks": ""
             }
            },
            "type": "scatterpolargl"
           }
          ],
          "scatterternary": [
           {
            "marker": {
             "colorbar": {
              "outlinewidth": 0,
              "ticks": ""
             }
            },
            "type": "scatterternary"
           }
          ],
          "surface": [
           {
            "colorbar": {
             "outlinewidth": 0,
             "ticks": ""
            },
            "colorscale": [
             [
              0,
              "#0d0887"
             ],
             [
              0.1111111111111111,
              "#46039f"
             ],
             [
              0.2222222222222222,
              "#7201a8"
             ],
             [
              0.3333333333333333,
              "#9c179e"
             ],
             [
              0.4444444444444444,
              "#bd3786"
             ],
             [
              0.5555555555555556,
              "#d8576b"
             ],
             [
              0.6666666666666666,
              "#ed7953"
             ],
             [
              0.7777777777777778,
              "#fb9f3a"
             ],
             [
              0.8888888888888888,
              "#fdca26"
             ],
             [
              1,
              "#f0f921"
             ]
            ],
            "type": "surface"
           }
          ],
          "table": [
           {
            "cells": {
             "fill": {
              "color": "#EBF0F8"
             },
             "line": {
              "color": "white"
             }
            },
            "header": {
             "fill": {
              "color": "#C8D4E3"
             },
             "line": {
              "color": "white"
             }
            },
            "type": "table"
           }
          ]
         },
         "layout": {
          "annotationdefaults": {
           "arrowcolor": "#2a3f5f",
           "arrowhead": 0,
           "arrowwidth": 1
          },
          "autotypenumbers": "strict",
          "coloraxis": {
           "colorbar": {
            "outlinewidth": 0,
            "ticks": ""
           }
          },
          "colorscale": {
           "diverging": [
            [
             0,
             "#8e0152"
            ],
            [
             0.1,
             "#c51b7d"
            ],
            [
             0.2,
             "#de77ae"
            ],
            [
             0.3,
             "#f1b6da"
            ],
            [
             0.4,
             "#fde0ef"
            ],
            [
             0.5,
             "#f7f7f7"
            ],
            [
             0.6,
             "#e6f5d0"
            ],
            [
             0.7,
             "#b8e186"
            ],
            [
             0.8,
             "#7fbc41"
            ],
            [
             0.9,
             "#4d9221"
            ],
            [
             1,
             "#276419"
            ]
           ],
           "sequential": [
            [
             0,
             "#0d0887"
            ],
            [
             0.1111111111111111,
             "#46039f"
            ],
            [
             0.2222222222222222,
             "#7201a8"
            ],
            [
             0.3333333333333333,
             "#9c179e"
            ],
            [
             0.4444444444444444,
             "#bd3786"
            ],
            [
             0.5555555555555556,
             "#d8576b"
            ],
            [
             0.6666666666666666,
             "#ed7953"
            ],
            [
             0.7777777777777778,
             "#fb9f3a"
            ],
            [
             0.8888888888888888,
             "#fdca26"
            ],
            [
             1,
             "#f0f921"
            ]
           ],
           "sequentialminus": [
            [
             0,
             "#0d0887"
            ],
            [
             0.1111111111111111,
             "#46039f"
            ],
            [
             0.2222222222222222,
             "#7201a8"
            ],
            [
             0.3333333333333333,
             "#9c179e"
            ],
            [
             0.4444444444444444,
             "#bd3786"
            ],
            [
             0.5555555555555556,
             "#d8576b"
            ],
            [
             0.6666666666666666,
             "#ed7953"
            ],
            [
             0.7777777777777778,
             "#fb9f3a"
            ],
            [
             0.8888888888888888,
             "#fdca26"
            ],
            [
             1,
             "#f0f921"
            ]
           ]
          },
          "colorway": [
           "#636efa",
           "#EF553B",
           "#00cc96",
           "#ab63fa",
           "#FFA15A",
           "#19d3f3",
           "#FF6692",
           "#B6E880",
           "#FF97FF",
           "#FECB52"
          ],
          "font": {
           "color": "#2a3f5f"
          },
          "geo": {
           "bgcolor": "white",
           "lakecolor": "white",
           "landcolor": "#E5ECF6",
           "showlakes": true,
           "showland": true,
           "subunitcolor": "white"
          },
          "hoverlabel": {
           "align": "left"
          },
          "hovermode": "closest",
          "mapbox": {
           "style": "light"
          },
          "paper_bgcolor": "white",
          "plot_bgcolor": "#E5ECF6",
          "polar": {
           "angularaxis": {
            "gridcolor": "white",
            "linecolor": "white",
            "ticks": ""
           },
           "bgcolor": "#E5ECF6",
           "radialaxis": {
            "gridcolor": "white",
            "linecolor": "white",
            "ticks": ""
           }
          },
          "scene": {
           "xaxis": {
            "backgroundcolor": "#E5ECF6",
            "gridcolor": "white",
            "gridwidth": 2,
            "linecolor": "white",
            "showbackground": true,
            "ticks": "",
            "zerolinecolor": "white"
           },
           "yaxis": {
            "backgroundcolor": "#E5ECF6",
            "gridcolor": "white",
            "gridwidth": 2,
            "linecolor": "white",
            "showbackground": true,
            "ticks": "",
            "zerolinecolor": "white"
           },
           "zaxis": {
            "backgroundcolor": "#E5ECF6",
            "gridcolor": "white",
            "gridwidth": 2,
            "linecolor": "white",
            "showbackground": true,
            "ticks": "",
            "zerolinecolor": "white"
           }
          },
          "shapedefaults": {
           "line": {
            "color": "#2a3f5f"
           }
          },
          "ternary": {
           "aaxis": {
            "gridcolor": "white",
            "linecolor": "white",
            "ticks": ""
           },
           "baxis": {
            "gridcolor": "white",
            "linecolor": "white",
            "ticks": ""
           },
           "bgcolor": "#E5ECF6",
           "caxis": {
            "gridcolor": "white",
            "linecolor": "white",
            "ticks": ""
           }
          },
          "title": {
           "x": 0.05
          },
          "xaxis": {
           "automargin": true,
           "gridcolor": "white",
           "linecolor": "white",
           "ticks": "",
           "title": {
            "standoff": 15
           },
           "zerolinecolor": "white",
           "zerolinewidth": 2
          },
          "yaxis": {
           "automargin": true,
           "gridcolor": "white",
           "linecolor": "white",
           "ticks": "",
           "title": {
            "standoff": 15
           },
           "zerolinecolor": "white",
           "zerolinewidth": 2
          }
         }
        },
        "title": {
         "text": "Year vs trip duration"
        },
        "xaxis": {
         "anchor": "y",
         "domain": [
          0,
          1
         ],
         "title": {
          "text": "year"
         }
        },
        "yaxis": {
         "anchor": "x",
         "domain": [
          0,
          1
         ],
         "title": {
          "text": "trip_duration_minutes_exact"
         }
        }
       }
      }
     },
     "metadata": {},
     "output_type": "display_data"
    }
   ],
   "source": [
    "fig = px.bar(data_frame=df_agg\n",
    "              , x='year'\n",
    "              , y='trip_duration_minutes_exact'\n",
    "              , height=500\n",
    "              , title=\"Year vs trip duration\"\n",
    "              #,color='birth_year'\n",
    "              )\n",
    "fig.show()"
   ]
  },
  {
   "cell_type": "code",
   "execution_count": 53,
   "id": "00350ccc",
   "metadata": {},
   "outputs": [
    {
     "data": {
      "text/html": [
       "<div>\n",
       "<style scoped>\n",
       "    .dataframe tbody tr th:only-of-type {\n",
       "        vertical-align: middle;\n",
       "    }\n",
       "\n",
       "    .dataframe tbody tr th {\n",
       "        vertical-align: top;\n",
       "    }\n",
       "\n",
       "    .dataframe thead th {\n",
       "        text-align: right;\n",
       "    }\n",
       "</style>\n",
       "<table border=\"1\" class=\"dataframe\">\n",
       "  <thead>\n",
       "    <tr style=\"text-align: right;\">\n",
       "      <th></th>\n",
       "      <th>birth_year</th>\n",
       "      <th>trip_duration_minutes_exact</th>\n",
       "    </tr>\n",
       "  </thead>\n",
       "  <tbody>\n",
       "    <tr>\n",
       "      <th>0</th>\n",
       "      <td>1885</td>\n",
       "      <td>44.9667</td>\n",
       "    </tr>\n",
       "    <tr>\n",
       "      <th>1</th>\n",
       "      <td>1920</td>\n",
       "      <td>12.4333</td>\n",
       "    </tr>\n",
       "    <tr>\n",
       "      <th>2</th>\n",
       "      <td>1933</td>\n",
       "      <td>31.2500</td>\n",
       "    </tr>\n",
       "    <tr>\n",
       "      <th>3</th>\n",
       "      <td>1935</td>\n",
       "      <td>36.5333</td>\n",
       "    </tr>\n",
       "    <tr>\n",
       "      <th>4</th>\n",
       "      <td>1938</td>\n",
       "      <td>19.2333</td>\n",
       "    </tr>\n",
       "    <tr>\n",
       "      <th>...</th>\n",
       "      <td>...</td>\n",
       "      <td>...</td>\n",
       "    </tr>\n",
       "    <tr>\n",
       "      <th>62</th>\n",
       "      <td>1996</td>\n",
       "      <td>257.9167</td>\n",
       "    </tr>\n",
       "    <tr>\n",
       "      <th>63</th>\n",
       "      <td>1997</td>\n",
       "      <td>184.9335</td>\n",
       "    </tr>\n",
       "    <tr>\n",
       "      <th>64</th>\n",
       "      <td>1998</td>\n",
       "      <td>155.8833</td>\n",
       "    </tr>\n",
       "    <tr>\n",
       "      <th>65</th>\n",
       "      <td>1999</td>\n",
       "      <td>297.9002</td>\n",
       "    </tr>\n",
       "    <tr>\n",
       "      <th>66</th>\n",
       "      <td>2000</td>\n",
       "      <td>30.2167</td>\n",
       "    </tr>\n",
       "  </tbody>\n",
       "</table>\n",
       "<p>67 rows × 2 columns</p>\n",
       "</div>"
      ],
      "text/plain": [
       "    birth_year  trip_duration_minutes_exact\n",
       "0         1885                      44.9667\n",
       "1         1920                      12.4333\n",
       "2         1933                      31.2500\n",
       "3         1935                      36.5333\n",
       "4         1938                      19.2333\n",
       "..         ...                          ...\n",
       "62        1996                     257.9167\n",
       "63        1997                     184.9335\n",
       "64        1998                     155.8833\n",
       "65        1999                     297.9002\n",
       "66        2000                      30.2167\n",
       "\n",
       "[67 rows x 2 columns]"
      ]
     },
     "execution_count": 53,
     "metadata": {},
     "output_type": "execute_result"
    }
   ],
   "source": [
    "df_agg_2 = df_new.groupby('birth_year')['trip_duration_minutes_exact'].sum().reset_index()\n",
    "df_agg_2"
   ]
  },
  {
   "cell_type": "code",
   "execution_count": 54,
   "id": "a5323619",
   "metadata": {},
   "outputs": [
    {
     "data": {
      "application/vnd.plotly.v1+json": {
       "config": {
        "plotlyServerURL": "https://plot.ly"
       },
       "data": [
        {
         "hovertemplate": "birth_year=%{x}<br>trip_duration_minutes_exact=%{y}<extra></extra>",
         "legendgroup": "",
         "marker": {
          "color": "#636efa",
          "pattern": {
           "shape": ""
          }
         },
         "name": "",
         "orientation": "v",
         "showlegend": false,
         "textposition": "auto",
         "type": "bar",
         "x": {
          "bdata": "XQeAB40HjweSB5MHlAeVB5YHlweYB5kHmgebB5wHnQeeB58HoAehB6IHowekB6UHpgenB6gHqQeqB6sHrAetB64HrwewB7EHsgezB7QHtQe2B7cHuAe5B7oHuwe8B70Hvge/B8AHwQfCB8MHxAfFB8YHxwfIB8kHygfLB8wHzQfOB88H0Ac=",
          "dtype": "i2"
         },
         "xaxis": "x",
         "y": {
          "bdata": "iIVa07x7RkCutmJ/2d0oQAAAAAAAQD9AeHqlLENEQkAkKH6MuTszQKyt2F92x1FAmpmZmZn5UUCamZmZmdk3QN/gC5OpOlFA9wZfmExVH0A2PL1SlplGQOOlm8QgKm9AAAAAAABIZUD3deCcETFZQJAPejarClFAF7fRAN5tdUAOT6+UZY5rQGsr9pfd8XtAyAc9m1UdeUA4Z0Rp7+KHQM3MzMzM/5pAYjJVMKq0gkCV1AloIpqKQHDOiNLeAYRANs07ThEHlEAAAAAAAPSUQPCnxkt375BAKjqSy/+2k0BiodY078uXQGZmZmZmtZNAOGdEae9VmEAZ4lgXd7SdQJXUCWgi/ZlA7nw/Nd5rl0Dl0CLbGe+hQFRSJ6AZzLBAxSCwcojCo0Ctad5xqsmiQFYOLbLdPpxAJXUCmog6oEDIBz2bVXimQF66SQyibqRAZmZmZubpoUCoV8oyRLqgQEHxY8zd9aBA6pWyDJHGpUBApN++bnylQM3MzMzMqqxAdnEbDQDSrUCOdXEbTTysQA1xrIs7hK1A+FPjpbsRsUD5oGezKgKoQF66SQwimahA30+Nl27EqkA/V1ux//SpQF66SQzieL5AWvW52qqYqECwA+eMiJ6gQHL5D+l3s5tAvw6cMyKulEAXt9EA3vuFQOSDns2qHnBAHVpkO98dZ0DRkVz+Q3xjQL99HThnnnJADwu1pnk3PkA=",
          "dtype": "f8"
         },
         "yaxis": "y"
        }
       ],
       "layout": {
        "barmode": "relative",
        "height": 500,
        "legend": {
         "tracegroupgap": 0
        },
        "template": {
         "data": {
          "bar": [
           {
            "error_x": {
             "color": "#2a3f5f"
            },
            "error_y": {
             "color": "#2a3f5f"
            },
            "marker": {
             "line": {
              "color": "#E5ECF6",
              "width": 0.5
             },
             "pattern": {
              "fillmode": "overlay",
              "size": 10,
              "solidity": 0.2
             }
            },
            "type": "bar"
           }
          ],
          "barpolar": [
           {
            "marker": {
             "line": {
              "color": "#E5ECF6",
              "width": 0.5
             },
             "pattern": {
              "fillmode": "overlay",
              "size": 10,
              "solidity": 0.2
             }
            },
            "type": "barpolar"
           }
          ],
          "carpet": [
           {
            "aaxis": {
             "endlinecolor": "#2a3f5f",
             "gridcolor": "white",
             "linecolor": "white",
             "minorgridcolor": "white",
             "startlinecolor": "#2a3f5f"
            },
            "baxis": {
             "endlinecolor": "#2a3f5f",
             "gridcolor": "white",
             "linecolor": "white",
             "minorgridcolor": "white",
             "startlinecolor": "#2a3f5f"
            },
            "type": "carpet"
           }
          ],
          "choropleth": [
           {
            "colorbar": {
             "outlinewidth": 0,
             "ticks": ""
            },
            "type": "choropleth"
           }
          ],
          "contour": [
           {
            "colorbar": {
             "outlinewidth": 0,
             "ticks": ""
            },
            "colorscale": [
             [
              0,
              "#0d0887"
             ],
             [
              0.1111111111111111,
              "#46039f"
             ],
             [
              0.2222222222222222,
              "#7201a8"
             ],
             [
              0.3333333333333333,
              "#9c179e"
             ],
             [
              0.4444444444444444,
              "#bd3786"
             ],
             [
              0.5555555555555556,
              "#d8576b"
             ],
             [
              0.6666666666666666,
              "#ed7953"
             ],
             [
              0.7777777777777778,
              "#fb9f3a"
             ],
             [
              0.8888888888888888,
              "#fdca26"
             ],
             [
              1,
              "#f0f921"
             ]
            ],
            "type": "contour"
           }
          ],
          "contourcarpet": [
           {
            "colorbar": {
             "outlinewidth": 0,
             "ticks": ""
            },
            "type": "contourcarpet"
           }
          ],
          "heatmap": [
           {
            "colorbar": {
             "outlinewidth": 0,
             "ticks": ""
            },
            "colorscale": [
             [
              0,
              "#0d0887"
             ],
             [
              0.1111111111111111,
              "#46039f"
             ],
             [
              0.2222222222222222,
              "#7201a8"
             ],
             [
              0.3333333333333333,
              "#9c179e"
             ],
             [
              0.4444444444444444,
              "#bd3786"
             ],
             [
              0.5555555555555556,
              "#d8576b"
             ],
             [
              0.6666666666666666,
              "#ed7953"
             ],
             [
              0.7777777777777778,
              "#fb9f3a"
             ],
             [
              0.8888888888888888,
              "#fdca26"
             ],
             [
              1,
              "#f0f921"
             ]
            ],
            "type": "heatmap"
           }
          ],
          "histogram": [
           {
            "marker": {
             "pattern": {
              "fillmode": "overlay",
              "size": 10,
              "solidity": 0.2
             }
            },
            "type": "histogram"
           }
          ],
          "histogram2d": [
           {
            "colorbar": {
             "outlinewidth": 0,
             "ticks": ""
            },
            "colorscale": [
             [
              0,
              "#0d0887"
             ],
             [
              0.1111111111111111,
              "#46039f"
             ],
             [
              0.2222222222222222,
              "#7201a8"
             ],
             [
              0.3333333333333333,
              "#9c179e"
             ],
             [
              0.4444444444444444,
              "#bd3786"
             ],
             [
              0.5555555555555556,
              "#d8576b"
             ],
             [
              0.6666666666666666,
              "#ed7953"
             ],
             [
              0.7777777777777778,
              "#fb9f3a"
             ],
             [
              0.8888888888888888,
              "#fdca26"
             ],
             [
              1,
              "#f0f921"
             ]
            ],
            "type": "histogram2d"
           }
          ],
          "histogram2dcontour": [
           {
            "colorbar": {
             "outlinewidth": 0,
             "ticks": ""
            },
            "colorscale": [
             [
              0,
              "#0d0887"
             ],
             [
              0.1111111111111111,
              "#46039f"
             ],
             [
              0.2222222222222222,
              "#7201a8"
             ],
             [
              0.3333333333333333,
              "#9c179e"
             ],
             [
              0.4444444444444444,
              "#bd3786"
             ],
             [
              0.5555555555555556,
              "#d8576b"
             ],
             [
              0.6666666666666666,
              "#ed7953"
             ],
             [
              0.7777777777777778,
              "#fb9f3a"
             ],
             [
              0.8888888888888888,
              "#fdca26"
             ],
             [
              1,
              "#f0f921"
             ]
            ],
            "type": "histogram2dcontour"
           }
          ],
          "mesh3d": [
           {
            "colorbar": {
             "outlinewidth": 0,
             "ticks": ""
            },
            "type": "mesh3d"
           }
          ],
          "parcoords": [
           {
            "line": {
             "colorbar": {
              "outlinewidth": 0,
              "ticks": ""
             }
            },
            "type": "parcoords"
           }
          ],
          "pie": [
           {
            "automargin": true,
            "type": "pie"
           }
          ],
          "scatter": [
           {
            "fillpattern": {
             "fillmode": "overlay",
             "size": 10,
             "solidity": 0.2
            },
            "type": "scatter"
           }
          ],
          "scatter3d": [
           {
            "line": {
             "colorbar": {
              "outlinewidth": 0,
              "ticks": ""
             }
            },
            "marker": {
             "colorbar": {
              "outlinewidth": 0,
              "ticks": ""
             }
            },
            "type": "scatter3d"
           }
          ],
          "scattercarpet": [
           {
            "marker": {
             "colorbar": {
              "outlinewidth": 0,
              "ticks": ""
             }
            },
            "type": "scattercarpet"
           }
          ],
          "scattergeo": [
           {
            "marker": {
             "colorbar": {
              "outlinewidth": 0,
              "ticks": ""
             }
            },
            "type": "scattergeo"
           }
          ],
          "scattergl": [
           {
            "marker": {
             "colorbar": {
              "outlinewidth": 0,
              "ticks": ""
             }
            },
            "type": "scattergl"
           }
          ],
          "scattermap": [
           {
            "marker": {
             "colorbar": {
              "outlinewidth": 0,
              "ticks": ""
             }
            },
            "type": "scattermap"
           }
          ],
          "scattermapbox": [
           {
            "marker": {
             "colorbar": {
              "outlinewidth": 0,
              "ticks": ""
             }
            },
            "type": "scattermapbox"
           }
          ],
          "scatterpolar": [
           {
            "marker": {
             "colorbar": {
              "outlinewidth": 0,
              "ticks": ""
             }
            },
            "type": "scatterpolar"
           }
          ],
          "scatterpolargl": [
           {
            "marker": {
             "colorbar": {
              "outlinewidth": 0,
              "ticks": ""
             }
            },
            "type": "scatterpolargl"
           }
          ],
          "scatterternary": [
           {
            "marker": {
             "colorbar": {
              "outlinewidth": 0,
              "ticks": ""
             }
            },
            "type": "scatterternary"
           }
          ],
          "surface": [
           {
            "colorbar": {
             "outlinewidth": 0,
             "ticks": ""
            },
            "colorscale": [
             [
              0,
              "#0d0887"
             ],
             [
              0.1111111111111111,
              "#46039f"
             ],
             [
              0.2222222222222222,
              "#7201a8"
             ],
             [
              0.3333333333333333,
              "#9c179e"
             ],
             [
              0.4444444444444444,
              "#bd3786"
             ],
             [
              0.5555555555555556,
              "#d8576b"
             ],
             [
              0.6666666666666666,
              "#ed7953"
             ],
             [
              0.7777777777777778,
              "#fb9f3a"
             ],
             [
              0.8888888888888888,
              "#fdca26"
             ],
             [
              1,
              "#f0f921"
             ]
            ],
            "type": "surface"
           }
          ],
          "table": [
           {
            "cells": {
             "fill": {
              "color": "#EBF0F8"
             },
             "line": {
              "color": "white"
             }
            },
            "header": {
             "fill": {
              "color": "#C8D4E3"
             },
             "line": {
              "color": "white"
             }
            },
            "type": "table"
           }
          ]
         },
         "layout": {
          "annotationdefaults": {
           "arrowcolor": "#2a3f5f",
           "arrowhead": 0,
           "arrowwidth": 1
          },
          "autotypenumbers": "strict",
          "coloraxis": {
           "colorbar": {
            "outlinewidth": 0,
            "ticks": ""
           }
          },
          "colorscale": {
           "diverging": [
            [
             0,
             "#8e0152"
            ],
            [
             0.1,
             "#c51b7d"
            ],
            [
             0.2,
             "#de77ae"
            ],
            [
             0.3,
             "#f1b6da"
            ],
            [
             0.4,
             "#fde0ef"
            ],
            [
             0.5,
             "#f7f7f7"
            ],
            [
             0.6,
             "#e6f5d0"
            ],
            [
             0.7,
             "#b8e186"
            ],
            [
             0.8,
             "#7fbc41"
            ],
            [
             0.9,
             "#4d9221"
            ],
            [
             1,
             "#276419"
            ]
           ],
           "sequential": [
            [
             0,
             "#0d0887"
            ],
            [
             0.1111111111111111,
             "#46039f"
            ],
            [
             0.2222222222222222,
             "#7201a8"
            ],
            [
             0.3333333333333333,
             "#9c179e"
            ],
            [
             0.4444444444444444,
             "#bd3786"
            ],
            [
             0.5555555555555556,
             "#d8576b"
            ],
            [
             0.6666666666666666,
             "#ed7953"
            ],
            [
             0.7777777777777778,
             "#fb9f3a"
            ],
            [
             0.8888888888888888,
             "#fdca26"
            ],
            [
             1,
             "#f0f921"
            ]
           ],
           "sequentialminus": [
            [
             0,
             "#0d0887"
            ],
            [
             0.1111111111111111,
             "#46039f"
            ],
            [
             0.2222222222222222,
             "#7201a8"
            ],
            [
             0.3333333333333333,
             "#9c179e"
            ],
            [
             0.4444444444444444,
             "#bd3786"
            ],
            [
             0.5555555555555556,
             "#d8576b"
            ],
            [
             0.6666666666666666,
             "#ed7953"
            ],
            [
             0.7777777777777778,
             "#fb9f3a"
            ],
            [
             0.8888888888888888,
             "#fdca26"
            ],
            [
             1,
             "#f0f921"
            ]
           ]
          },
          "colorway": [
           "#636efa",
           "#EF553B",
           "#00cc96",
           "#ab63fa",
           "#FFA15A",
           "#19d3f3",
           "#FF6692",
           "#B6E880",
           "#FF97FF",
           "#FECB52"
          ],
          "font": {
           "color": "#2a3f5f"
          },
          "geo": {
           "bgcolor": "white",
           "lakecolor": "white",
           "landcolor": "#E5ECF6",
           "showlakes": true,
           "showland": true,
           "subunitcolor": "white"
          },
          "hoverlabel": {
           "align": "left"
          },
          "hovermode": "closest",
          "mapbox": {
           "style": "light"
          },
          "paper_bgcolor": "white",
          "plot_bgcolor": "#E5ECF6",
          "polar": {
           "angularaxis": {
            "gridcolor": "white",
            "linecolor": "white",
            "ticks": ""
           },
           "bgcolor": "#E5ECF6",
           "radialaxis": {
            "gridcolor": "white",
            "linecolor": "white",
            "ticks": ""
           }
          },
          "scene": {
           "xaxis": {
            "backgroundcolor": "#E5ECF6",
            "gridcolor": "white",
            "gridwidth": 2,
            "linecolor": "white",
            "showbackground": true,
            "ticks": "",
            "zerolinecolor": "white"
           },
           "yaxis": {
            "backgroundcolor": "#E5ECF6",
            "gridcolor": "white",
            "gridwidth": 2,
            "linecolor": "white",
            "showbackground": true,
            "ticks": "",
            "zerolinecolor": "white"
           },
           "zaxis": {
            "backgroundcolor": "#E5ECF6",
            "gridcolor": "white",
            "gridwidth": 2,
            "linecolor": "white",
            "showbackground": true,
            "ticks": "",
            "zerolinecolor": "white"
           }
          },
          "shapedefaults": {
           "line": {
            "color": "#2a3f5f"
           }
          },
          "ternary": {
           "aaxis": {
            "gridcolor": "white",
            "linecolor": "white",
            "ticks": ""
           },
           "baxis": {
            "gridcolor": "white",
            "linecolor": "white",
            "ticks": ""
           },
           "bgcolor": "#E5ECF6",
           "caxis": {
            "gridcolor": "white",
            "linecolor": "white",
            "ticks": ""
           }
          },
          "title": {
           "x": 0.05
          },
          "xaxis": {
           "automargin": true,
           "gridcolor": "white",
           "linecolor": "white",
           "ticks": "",
           "title": {
            "standoff": 15
           },
           "zerolinecolor": "white",
           "zerolinewidth": 2
          },
          "yaxis": {
           "automargin": true,
           "gridcolor": "white",
           "linecolor": "white",
           "ticks": "",
           "title": {
            "standoff": 15
           },
           "zerolinecolor": "white",
           "zerolinewidth": 2
          }
         }
        },
        "title": {
         "text": "Birth year vs trip duration"
        },
        "xaxis": {
         "anchor": "y",
         "domain": [
          0,
          1
         ],
         "title": {
          "text": "birth_year"
         }
        },
        "yaxis": {
         "anchor": "x",
         "domain": [
          0,
          1
         ],
         "title": {
          "text": "trip_duration_minutes_exact"
         }
        }
       }
      }
     },
     "metadata": {},
     "output_type": "display_data"
    }
   ],
   "source": [
    "fig = px.bar(data_frame=df_agg_2\n",
    "              , x='birth_year'\n",
    "              , y='trip_duration_minutes_exact'\n",
    "              , height=500\n",
    "              , title=\"Birth year vs trip duration\"\n",
    "              #,color='birth_year'\n",
    "              )\n",
    "fig.show()"
   ]
  },
  {
   "cell_type": "code",
   "execution_count": 55,
   "id": "e145aab1",
   "metadata": {},
   "outputs": [
    {
     "data": {
      "text/html": [
       "<div>\n",
       "<style scoped>\n",
       "    .dataframe tbody tr th:only-of-type {\n",
       "        vertical-align: middle;\n",
       "    }\n",
       "\n",
       "    .dataframe tbody tr th {\n",
       "        vertical-align: top;\n",
       "    }\n",
       "\n",
       "    .dataframe thead th {\n",
       "        text-align: right;\n",
       "    }\n",
       "</style>\n",
       "<table border=\"1\" class=\"dataframe\">\n",
       "  <thead>\n",
       "    <tr style=\"text-align: right;\">\n",
       "      <th></th>\n",
       "      <th>vendor_id</th>\n",
       "      <th>pickup_datetime</th>\n",
       "      <th>dropoff_datetime</th>\n",
       "      <th>passenger_count</th>\n",
       "      <th>trip_distance</th>\n",
       "      <th>rate_code</th>\n",
       "      <th>store_and_fwd_flag</th>\n",
       "      <th>payment_type</th>\n",
       "      <th>fare_amount</th>\n",
       "      <th>extra</th>\n",
       "      <th>...</th>\n",
       "      <th>tolls_amount</th>\n",
       "      <th>imp_surcharge</th>\n",
       "      <th>airport_fee</th>\n",
       "      <th>total_amount</th>\n",
       "      <th>pickup_location_id</th>\n",
       "      <th>dropoff_location_id</th>\n",
       "      <th>data_file_year</th>\n",
       "      <th>data_file_month</th>\n",
       "      <th>trip_duration_seconds</th>\n",
       "      <th>trip_duration_minutes_exact</th>\n",
       "    </tr>\n",
       "  </thead>\n",
       "  <tbody>\n",
       "    <tr>\n",
       "      <th>0</th>\n",
       "      <td>2</td>\n",
       "      <td>2022-03-18 13:00:31+00:00</td>\n",
       "      <td>2022-03-18 13:00:39+00:00</td>\n",
       "      <td>1.0</td>\n",
       "      <td>0.0</td>\n",
       "      <td>1.0</td>\n",
       "      <td>N</td>\n",
       "      <td>1</td>\n",
       "      <td>0.0</td>\n",
       "      <td>0.0</td>\n",
       "      <td>...</td>\n",
       "      <td>0.0</td>\n",
       "      <td>0.0</td>\n",
       "      <td>0.0</td>\n",
       "      <td>0.0</td>\n",
       "      <td>193</td>\n",
       "      <td>264</td>\n",
       "      <td>2022</td>\n",
       "      <td>3</td>\n",
       "      <td>8</td>\n",
       "      <td>0.1333</td>\n",
       "    </tr>\n",
       "    <tr>\n",
       "      <th>1</th>\n",
       "      <td>2</td>\n",
       "      <td>2022-03-31 16:23:23+00:00</td>\n",
       "      <td>2022-03-31 16:23:34+00:00</td>\n",
       "      <td>1.0</td>\n",
       "      <td>0.0</td>\n",
       "      <td>1.0</td>\n",
       "      <td>N</td>\n",
       "      <td>1</td>\n",
       "      <td>0.0</td>\n",
       "      <td>0.0</td>\n",
       "      <td>...</td>\n",
       "      <td>0.0</td>\n",
       "      <td>0.0</td>\n",
       "      <td>0.0</td>\n",
       "      <td>0.0</td>\n",
       "      <td>193</td>\n",
       "      <td>193</td>\n",
       "      <td>2022</td>\n",
       "      <td>3</td>\n",
       "      <td>11</td>\n",
       "      <td>0.1833</td>\n",
       "    </tr>\n",
       "    <tr>\n",
       "      <th>2</th>\n",
       "      <td>2</td>\n",
       "      <td>2022-03-08 17:49:53+00:00</td>\n",
       "      <td>2022-03-08 17:50:29+00:00</td>\n",
       "      <td>1.0</td>\n",
       "      <td>0.0</td>\n",
       "      <td>1.0</td>\n",
       "      <td>N</td>\n",
       "      <td>1</td>\n",
       "      <td>0.0</td>\n",
       "      <td>0.0</td>\n",
       "      <td>...</td>\n",
       "      <td>0.0</td>\n",
       "      <td>0.0</td>\n",
       "      <td>0.0</td>\n",
       "      <td>0.0</td>\n",
       "      <td>193</td>\n",
       "      <td>193</td>\n",
       "      <td>2022</td>\n",
       "      <td>3</td>\n",
       "      <td>36</td>\n",
       "      <td>0.6000</td>\n",
       "    </tr>\n",
       "    <tr>\n",
       "      <th>3</th>\n",
       "      <td>2</td>\n",
       "      <td>2022-03-15 19:58:13+00:00</td>\n",
       "      <td>2022-03-15 19:58:31+00:00</td>\n",
       "      <td>1.0</td>\n",
       "      <td>0.0</td>\n",
       "      <td>1.0</td>\n",
       "      <td>N</td>\n",
       "      <td>2</td>\n",
       "      <td>0.0</td>\n",
       "      <td>0.0</td>\n",
       "      <td>...</td>\n",
       "      <td>0.0</td>\n",
       "      <td>0.0</td>\n",
       "      <td>0.0</td>\n",
       "      <td>0.0</td>\n",
       "      <td>193</td>\n",
       "      <td>193</td>\n",
       "      <td>2022</td>\n",
       "      <td>3</td>\n",
       "      <td>18</td>\n",
       "      <td>0.3000</td>\n",
       "    </tr>\n",
       "    <tr>\n",
       "      <th>4</th>\n",
       "      <td>2</td>\n",
       "      <td>2022-03-02 20:47:44+00:00</td>\n",
       "      <td>2022-03-02 20:48:52+00:00</td>\n",
       "      <td>1.0</td>\n",
       "      <td>0.0</td>\n",
       "      <td>1.0</td>\n",
       "      <td>N</td>\n",
       "      <td>1</td>\n",
       "      <td>0.0</td>\n",
       "      <td>0.0</td>\n",
       "      <td>...</td>\n",
       "      <td>0.0</td>\n",
       "      <td>0.0</td>\n",
       "      <td>0.0</td>\n",
       "      <td>0.0</td>\n",
       "      <td>193</td>\n",
       "      <td>193</td>\n",
       "      <td>2022</td>\n",
       "      <td>3</td>\n",
       "      <td>68</td>\n",
       "      <td>1.1333</td>\n",
       "    </tr>\n",
       "  </tbody>\n",
       "</table>\n",
       "<p>5 rows × 22 columns</p>\n",
       "</div>"
      ],
      "text/plain": [
       "  vendor_id           pickup_datetime          dropoff_datetime  \\\n",
       "0         2 2022-03-18 13:00:31+00:00 2022-03-18 13:00:39+00:00   \n",
       "1         2 2022-03-31 16:23:23+00:00 2022-03-31 16:23:34+00:00   \n",
       "2         2 2022-03-08 17:49:53+00:00 2022-03-08 17:50:29+00:00   \n",
       "3         2 2022-03-15 19:58:13+00:00 2022-03-15 19:58:31+00:00   \n",
       "4         2 2022-03-02 20:47:44+00:00 2022-03-02 20:48:52+00:00   \n",
       "\n",
       "   passenger_count  trip_distance rate_code store_and_fwd_flag payment_type  \\\n",
       "0              1.0            0.0       1.0                  N            1   \n",
       "1              1.0            0.0       1.0                  N            1   \n",
       "2              1.0            0.0       1.0                  N            1   \n",
       "3              1.0            0.0       1.0                  N            2   \n",
       "4              1.0            0.0       1.0                  N            1   \n",
       "\n",
       "   fare_amount  extra  ...  tolls_amount  imp_surcharge  airport_fee  \\\n",
       "0          0.0    0.0  ...           0.0            0.0          0.0   \n",
       "1          0.0    0.0  ...           0.0            0.0          0.0   \n",
       "2          0.0    0.0  ...           0.0            0.0          0.0   \n",
       "3          0.0    0.0  ...           0.0            0.0          0.0   \n",
       "4          0.0    0.0  ...           0.0            0.0          0.0   \n",
       "\n",
       "   total_amount  pickup_location_id  dropoff_location_id data_file_year  \\\n",
       "0           0.0                 193                  264           2022   \n",
       "1           0.0                 193                  193           2022   \n",
       "2           0.0                 193                  193           2022   \n",
       "3           0.0                 193                  193           2022   \n",
       "4           0.0                 193                  193           2022   \n",
       "\n",
       "  data_file_month  trip_duration_seconds  trip_duration_minutes_exact  \n",
       "0               3                      8                       0.1333  \n",
       "1               3                     11                       0.1833  \n",
       "2               3                     36                       0.6000  \n",
       "3               3                     18                       0.3000  \n",
       "4               3                     68                       1.1333  \n",
       "\n",
       "[5 rows x 22 columns]"
      ]
     },
     "execution_count": 55,
     "metadata": {},
     "output_type": "execute_result"
    }
   ],
   "source": [
    "df_2.head()"
   ]
  },
  {
   "cell_type": "code",
   "execution_count": 56,
   "id": "f00c1c1f",
   "metadata": {},
   "outputs": [
    {
     "name": "stdout",
     "output_type": "stream",
     "text": [
      "<class 'pandas.core.frame.DataFrame'>\n",
      "RangeIndex: 10000 entries, 0 to 9999\n",
      "Data columns (total 22 columns):\n",
      " #   Column                       Non-Null Count  Dtype              \n",
      "---  ------                       --------------  -----              \n",
      " 0   vendor_id                    10000 non-null  object             \n",
      " 1   pickup_datetime              10000 non-null  datetime64[ns, UTC]\n",
      " 2   dropoff_datetime             10000 non-null  datetime64[ns, UTC]\n",
      " 3   passenger_count              9721 non-null   float64            \n",
      " 4   trip_distance                10000 non-null  float64            \n",
      " 5   rate_code                    9721 non-null   object             \n",
      " 6   store_and_fwd_flag           9721 non-null   object             \n",
      " 7   payment_type                 10000 non-null  object             \n",
      " 8   fare_amount                  10000 non-null  float64            \n",
      " 9   extra                        10000 non-null  float64            \n",
      " 10  mta_tax                      10000 non-null  float64            \n",
      " 11  tip_amount                   10000 non-null  float64            \n",
      " 12  tolls_amount                 10000 non-null  float64            \n",
      " 13  imp_surcharge                10000 non-null  float64            \n",
      " 14  airport_fee                  9721 non-null   float64            \n",
      " 15  total_amount                 10000 non-null  float64            \n",
      " 16  pickup_location_id           10000 non-null  object             \n",
      " 17  dropoff_location_id          10000 non-null  object             \n",
      " 18  data_file_year               10000 non-null  int64              \n",
      " 19  data_file_month              10000 non-null  int64              \n",
      " 20  trip_duration_seconds        10000 non-null  int64              \n",
      " 21  trip_duration_minutes_exact  10000 non-null  float64            \n",
      "dtypes: datetime64[ns, UTC](2), float64(11), int64(3), object(6)\n",
      "memory usage: 1.7+ MB\n"
     ]
    }
   ],
   "source": [
    "df_2.info()"
   ]
  },
  {
   "cell_type": "code",
   "execution_count": 91,
   "id": "a1832901",
   "metadata": {},
   "outputs": [
    {
     "data": {
      "image/png": "[encoded data removed]",
      "text/plain": [
       "<Figure size 640x480 with 1 Axes>"
      ]
     },
     "metadata": {},
     "output_type": "display_data"
    }
   ],
   "source": [
    "df_4 = df_new[df_new['trip_duration_minutes_exact'] < 80]\n",
    "sns.distplot(df_4['trip_duration_minutes_exact'])\n",
    "plt.title('Bike trip duration distribution');"
   ]
  },
  {
   "cell_type": "code",
   "execution_count": 92,
   "id": "ffbc302c",
   "metadata": {},
   "outputs": [
    {
     "data": {
      "image/png": "[encoded data removed]",
      "text/plain": [
       "<Figure size 640x480 with 1 Axes>"
      ]
     },
     "metadata": {},
     "output_type": "display_data"
    }
   ],
   "source": [
    "df_3 = df_2[df_2['trip_duration_minutes_exact'] < 100]\n",
    "sns.distplot(df_3['trip_duration_minutes_exact'])\n",
    "plt.title('Taxi trip duration distribution');"
   ]
  },
  {
   "cell_type": "code",
   "execution_count": 117,
   "id": "8edec8a3",
   "metadata": {},
   "outputs": [
    {
     "data": {
      "image/png": "[encoded data removed]",
      "text/plain": [
       "<Figure size 640x480 with 1 Axes>"
      ]
     },
     "metadata": {},
     "output_type": "display_data"
    }
   ],
   "source": [
    "sns.kdeplot(df_4['trip_duration_minutes_exact'], fill=True)\n",
    "plt.title('Bike Trip Duration Distribution (Probability Density)')\n",
    "plt.xlabel('Trip Duration (minutes)')\n",
    "plt.ylabel('Density');\n"
   ]
  },
  {
   "cell_type": "code",
   "execution_count": 118,
   "id": "154263bf",
   "metadata": {},
   "outputs": [
    {
     "data": {
      "image/png": "[encoded data removed]",
      "text/plain": [
       "<Figure size 640x480 with 1 Axes>"
      ]
     },
     "metadata": {},
     "output_type": "display_data"
    }
   ],
   "source": [
    "df_3 = df_2[(df_2['trip_duration_minutes_exact'] < 100) & (df_2['trip_duration_minutes_exact'] > 0)]\n",
    "sns.kdeplot(df_3['trip_duration_minutes_exact'] , fill=True)\n",
    "plt.title('Taxi trip duration distribution');"
   ]
  },
  {
   "cell_type": "code",
   "execution_count": 119,
   "id": "6765784c",
   "metadata": {},
   "outputs": [
    {
     "data": {
      "image/png": "[encoded data removed]",
      "text/plain": [
       "<Figure size 640x480 with 1 Axes>"
      ]
     },
     "metadata": {},
     "output_type": "display_data"
    }
   ],
   "source": [
    "sns.kdeplot(df_4['trip_duration_minutes_exact'], fill=True, label='Bike', alpha=0.5)\n",
    "sns.kdeplot(df_3['trip_duration_minutes_exact'], fill=True, label='Taxi', alpha=0.5)\n",
    "\n",
    "plt.title('Trip Duration Comparison New York: Bike vs Taxi')\n",
    "plt.xlabel('Trip Duration (minutes)')\n",
    "plt.ylabel('Density')\n",
    "plt.legend()\n",
    "plt.show()"
   ]
  },
  {
   "cell_type": "code",
   "execution_count": null,
   "id": "12e7b300",
   "metadata": {},
   "outputs": [],
   "source": []
  }
 ],
 "metadata": {
  "kernelspec": {
   "display_name": "base",
   "language": "python",
   "name": "python3"
  },
  "language_info": {
   "codemirror_mode": {
    "name": "ipython",
    "version": 3
   },
   "file_extension": ".py",
   "mimetype": "text/x-python",
   "name": "python",
   "nbconvert_exporter": "python",
   "pygments_lexer": "ipython3",
   "version": "3.12.3"
  }
 },
 "nbformat": 4,
 "nbformat_minor": 5
}
