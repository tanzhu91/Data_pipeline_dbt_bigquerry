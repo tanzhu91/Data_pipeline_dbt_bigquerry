{
 "cells": [
  {
   "cell_type": "code",
   "execution_count": 2,
   "id": "f03bc91f",
   "metadata": {},
   "outputs": [],
   "source": [
    "from sqlalchemy import create_engine\n",
    "import pandas as pd\n",
    "\n",
    "from google.oauth2 import service_account\n",
    "import plotly.express as px"
   ]
  },
  {
   "cell_type": "code",
   "execution_count": 3,
   "id": "5e83ed2c",
   "metadata": {},
   "outputs": [
    {
     "name": "stderr",
     "output_type": "stream",
     "text": [
      "C:\\Users\\tanju\\AppData\\Local\\Temp\\ipykernel_21636\\2347986552.py:7: SADeprecationWarning: The dbapi() classmethod on dialect classes has been renamed to import_dbapi().  Implement an import_dbapi() classmethod directly on class <class 'pybigquery.sqlalchemy_bigquery.BigQueryDialect'> to remove this warning; the old .dbapi() classmethod may be maintained for backwards compatibility.\n",
      "  engine = create_engine(\n"
     ]
    }
   ],
   "source": [
    "# Path to your service account JSON file\n",
    "credentials = service_account.Credentials.from_service_account_file(\n",
    "    \"C:/Users/tanju/Desktop/possible-helix-452922-d1-820af3c2c7c5.json\"\n",
    ")\n",
    "\n",
    "project_id = \"possible-helix-452922-d1\"\n",
    "engine = create_engine(\n",
    "    f\"bigquery://{project_id}\",\n",
    "    credentials_path=\"C:/Users/tanju/Desktop/possible-helix-452922-d1-820af3c2c7c5.json\"\n",
    ")\n",
    "\n",
    "# Name of your dbt-generated view\n",
    "query = \"\"\"\n",
    "SELECT *\n",
    "FROM `possible-helix-452922-d1.dbt_tdereli.stg_citibike_trips`\n",
    "LIMIT 1000\n",
    "\"\"\"\n",
    "\n",
    "df = pd.read_sql(query, engine)\n"
   ]
  },
  {
   "cell_type": "code",
   "execution_count": 4,
   "id": "c40ad00d",
   "metadata": {},
   "outputs": [
    {
     "data": {
      "text/html": [
       "<div>\n",
       "<style scoped>\n",
       "    .dataframe tbody tr th:only-of-type {\n",
       "        vertical-align: middle;\n",
       "    }\n",
       "\n",
       "    .dataframe tbody tr th {\n",
       "        vertical-align: top;\n",
       "    }\n",
       "\n",
       "    .dataframe thead th {\n",
       "        text-align: right;\n",
       "    }\n",
       "</style>\n",
       "<table border=\"1\" class=\"dataframe\">\n",
       "  <thead>\n",
       "    <tr style=\"text-align: right;\">\n",
       "      <th></th>\n",
       "      <th>tripduration</th>\n",
       "      <th>starttime</th>\n",
       "      <th>stoptime</th>\n",
       "      <th>start_station_id</th>\n",
       "      <th>start_station_name</th>\n",
       "      <th>start_station_latitude</th>\n",
       "      <th>start_station_longitude</th>\n",
       "      <th>end_station_id</th>\n",
       "      <th>end_station_name</th>\n",
       "      <th>end_station_latitude</th>\n",
       "      <th>end_station_longitude</th>\n",
       "      <th>bikeid</th>\n",
       "      <th>usertype</th>\n",
       "      <th>birth_year</th>\n",
       "      <th>gender</th>\n",
       "      <th>customer_plan</th>\n",
       "    </tr>\n",
       "  </thead>\n",
       "  <tbody>\n",
       "    <tr>\n",
       "      <th>0</th>\n",
       "      <td>996</td>\n",
       "      <td>2014-03-26 22:01:16</td>\n",
       "      <td>2014-03-26 22:17:52</td>\n",
       "      <td>536</td>\n",
       "      <td>1 Ave &amp; E 30 St</td>\n",
       "      <td>40.741444</td>\n",
       "      <td>-73.975361</td>\n",
       "      <td>502</td>\n",
       "      <td>Henry St &amp; Grand St</td>\n",
       "      <td>40.714215</td>\n",
       "      <td>-73.981346</td>\n",
       "      <td>16671</td>\n",
       "      <td>Subscriber</td>\n",
       "      <td>1996</td>\n",
       "      <td>male</td>\n",
       "      <td></td>\n",
       "    </tr>\n",
       "    <tr>\n",
       "      <th>1</th>\n",
       "      <td>1497</td>\n",
       "      <td>2017-10-20 12:17:07</td>\n",
       "      <td>2017-10-20 12:42:05</td>\n",
       "      <td>433</td>\n",
       "      <td>E 13 St &amp; Avenue A</td>\n",
       "      <td>40.729554</td>\n",
       "      <td>-73.980572</td>\n",
       "      <td>315</td>\n",
       "      <td>South St &amp; Gouverneur Ln</td>\n",
       "      <td>40.703554</td>\n",
       "      <td>-74.006702</td>\n",
       "      <td>31012</td>\n",
       "      <td>Subscriber</td>\n",
       "      <td>1952</td>\n",
       "      <td>male</td>\n",
       "      <td></td>\n",
       "    </tr>\n",
       "    <tr>\n",
       "      <th>2</th>\n",
       "      <td>726</td>\n",
       "      <td>2017-05-30 23:32:44</td>\n",
       "      <td>2017-05-30 23:44:51</td>\n",
       "      <td>377</td>\n",
       "      <td>6 Ave &amp; Canal St</td>\n",
       "      <td>40.722438</td>\n",
       "      <td>-74.005664</td>\n",
       "      <td>295</td>\n",
       "      <td>Pike St &amp; E Broadway</td>\n",
       "      <td>40.714067</td>\n",
       "      <td>-73.992939</td>\n",
       "      <td>19690</td>\n",
       "      <td>Subscriber</td>\n",
       "      <td>1945</td>\n",
       "      <td>male</td>\n",
       "      <td></td>\n",
       "    </tr>\n",
       "    <tr>\n",
       "      <th>3</th>\n",
       "      <td>358</td>\n",
       "      <td>2017-04-02 11:25:28</td>\n",
       "      <td>2017-04-02 11:31:26</td>\n",
       "      <td>470</td>\n",
       "      <td>W 20 St &amp; 8 Ave</td>\n",
       "      <td>40.743453</td>\n",
       "      <td>-74.000040</td>\n",
       "      <td>253</td>\n",
       "      <td>W 13 St &amp; 5 Ave</td>\n",
       "      <td>40.735439</td>\n",
       "      <td>-73.994539</td>\n",
       "      <td>27041</td>\n",
       "      <td>Subscriber</td>\n",
       "      <td>1996</td>\n",
       "      <td>male</td>\n",
       "      <td></td>\n",
       "    </tr>\n",
       "    <tr>\n",
       "      <th>4</th>\n",
       "      <td>203</td>\n",
       "      <td>2014-12-26 13:55:50</td>\n",
       "      <td>2014-12-26 13:59:13</td>\n",
       "      <td>245</td>\n",
       "      <td>Myrtle Ave &amp; St Edwards St</td>\n",
       "      <td>40.693270</td>\n",
       "      <td>-73.977039</td>\n",
       "      <td>390</td>\n",
       "      <td>Duffield St &amp; Willoughby St</td>\n",
       "      <td>40.692216</td>\n",
       "      <td>-73.984284</td>\n",
       "      <td>17625</td>\n",
       "      <td>Subscriber</td>\n",
       "      <td>1949</td>\n",
       "      <td>male</td>\n",
       "      <td></td>\n",
       "    </tr>\n",
       "  </tbody>\n",
       "</table>\n",
       "</div>"
      ],
      "text/plain": [
       "   tripduration           starttime            stoptime  start_station_id  \\\n",
       "0           996 2014-03-26 22:01:16 2014-03-26 22:17:52               536   \n",
       "1          1497 2017-10-20 12:17:07 2017-10-20 12:42:05               433   \n",
       "2           726 2017-05-30 23:32:44 2017-05-30 23:44:51               377   \n",
       "3           358 2017-04-02 11:25:28 2017-04-02 11:31:26               470   \n",
       "4           203 2014-12-26 13:55:50 2014-12-26 13:59:13               245   \n",
       "\n",
       "           start_station_name  start_station_latitude  \\\n",
       "0             1 Ave & E 30 St               40.741444   \n",
       "1          E 13 St & Avenue A               40.729554   \n",
       "2            6 Ave & Canal St               40.722438   \n",
       "3             W 20 St & 8 Ave               40.743453   \n",
       "4  Myrtle Ave & St Edwards St               40.693270   \n",
       "\n",
       "   start_station_longitude  end_station_id             end_station_name  \\\n",
       "0               -73.975361             502          Henry St & Grand St   \n",
       "1               -73.980572             315     South St & Gouverneur Ln   \n",
       "2               -74.005664             295         Pike St & E Broadway   \n",
       "3               -74.000040             253              W 13 St & 5 Ave   \n",
       "4               -73.977039             390  Duffield St & Willoughby St   \n",
       "\n",
       "   end_station_latitude  end_station_longitude  bikeid    usertype  \\\n",
       "0             40.714215             -73.981346   16671  Subscriber   \n",
       "1             40.703554             -74.006702   31012  Subscriber   \n",
       "2             40.714067             -73.992939   19690  Subscriber   \n",
       "3             40.735439             -73.994539   27041  Subscriber   \n",
       "4             40.692216             -73.984284   17625  Subscriber   \n",
       "\n",
       "   birth_year gender customer_plan  \n",
       "0        1996   male                \n",
       "1        1952   male                \n",
       "2        1945   male                \n",
       "3        1996   male                \n",
       "4        1949   male                "
      ]
     },
     "execution_count": 4,
     "metadata": {},
     "output_type": "execute_result"
    }
   ],
   "source": [
    "df.head()"
   ]
  },
  {
   "cell_type": "code",
   "execution_count": 5,
   "id": "379a0281",
   "metadata": {},
   "outputs": [
    {
     "name": "stdout",
     "output_type": "stream",
     "text": [
      "<class 'pandas.core.frame.DataFrame'>\n",
      "RangeIndex: 1000 entries, 0 to 999\n",
      "Data columns (total 16 columns):\n",
      " #   Column                   Non-Null Count  Dtype         \n",
      "---  ------                   --------------  -----         \n",
      " 0   tripduration             1000 non-null   int64         \n",
      " 1   starttime                1000 non-null   datetime64[ns]\n",
      " 2   stoptime                 1000 non-null   datetime64[ns]\n",
      " 3   start_station_id         1000 non-null   int64         \n",
      " 4   start_station_name       1000 non-null   object        \n",
      " 5   start_station_latitude   1000 non-null   float64       \n",
      " 6   start_station_longitude  1000 non-null   float64       \n",
      " 7   end_station_id           1000 non-null   int64         \n",
      " 8   end_station_name         1000 non-null   object        \n",
      " 9   end_station_latitude     1000 non-null   float64       \n",
      " 10  end_station_longitude    1000 non-null   float64       \n",
      " 11  bikeid                   1000 non-null   int64         \n",
      " 12  usertype                 1000 non-null   object        \n",
      " 13  birth_year               1000 non-null   int64         \n",
      " 14  gender                   1000 non-null   object        \n",
      " 15  customer_plan            1000 non-null   object        \n",
      "dtypes: datetime64[ns](2), float64(4), int64(5), object(5)\n",
      "memory usage: 125.1+ KB\n"
     ]
    }
   ],
   "source": [
    "df.info()"
   ]
  },
  {
   "cell_type": "code",
   "execution_count": 6,
   "id": "5eed305b",
   "metadata": {},
   "outputs": [
    {
     "data": {
      "text/plain": [
       "bikeid\n",
       "False    960\n",
       "True      40\n",
       "Name: count, dtype: int64"
      ]
     },
     "execution_count": 6,
     "metadata": {},
     "output_type": "execute_result"
    }
   ],
   "source": [
    "df['bikeid'].duplicated().value_counts()"
   ]
  },
  {
   "cell_type": "code",
   "execution_count": 7,
   "id": "527c70c0",
   "metadata": {},
   "outputs": [],
   "source": [
    "df_new = df.drop_duplicates(subset='bikeid')"
   ]
  },
  {
   "cell_type": "code",
   "execution_count": 8,
   "id": "a2802a9d",
   "metadata": {},
   "outputs": [
    {
     "name": "stdout",
     "output_type": "stream",
     "text": [
      "<class 'pandas.core.frame.DataFrame'>\n",
      "Index: 960 entries, 0 to 999\n",
      "Data columns (total 16 columns):\n",
      " #   Column                   Non-Null Count  Dtype         \n",
      "---  ------                   --------------  -----         \n",
      " 0   tripduration             960 non-null    int64         \n",
      " 1   starttime                960 non-null    datetime64[ns]\n",
      " 2   stoptime                 960 non-null    datetime64[ns]\n",
      " 3   start_station_id         960 non-null    int64         \n",
      " 4   start_station_name       960 non-null    object        \n",
      " 5   start_station_latitude   960 non-null    float64       \n",
      " 6   start_station_longitude  960 non-null    float64       \n",
      " 7   end_station_id           960 non-null    int64         \n",
      " 8   end_station_name         960 non-null    object        \n",
      " 9   end_station_latitude     960 non-null    float64       \n",
      " 10  end_station_longitude    960 non-null    float64       \n",
      " 11  bikeid                   960 non-null    int64         \n",
      " 12  usertype                 960 non-null    object        \n",
      " 13  birth_year               960 non-null    int64         \n",
      " 14  gender                   960 non-null    object        \n",
      " 15  customer_plan            960 non-null    object        \n",
      "dtypes: datetime64[ns](2), float64(4), int64(5), object(5)\n",
      "memory usage: 127.5+ KB\n"
     ]
    }
   ],
   "source": [
    "df_new.info()"
   ]
  },
  {
   "cell_type": "code",
   "execution_count": 9,
   "id": "0d4e4d10",
   "metadata": {},
   "outputs": [
    {
     "data": {
      "text/html": [
       "<div>\n",
       "<style scoped>\n",
       "    .dataframe tbody tr th:only-of-type {\n",
       "        vertical-align: middle;\n",
       "    }\n",
       "\n",
       "    .dataframe tbody tr th {\n",
       "        vertical-align: top;\n",
       "    }\n",
       "\n",
       "    .dataframe thead th {\n",
       "        text-align: right;\n",
       "    }\n",
       "</style>\n",
       "<table border=\"1\" class=\"dataframe\">\n",
       "  <thead>\n",
       "    <tr style=\"text-align: right;\">\n",
       "      <th></th>\n",
       "      <th>tripduration</th>\n",
       "      <th>starttime</th>\n",
       "      <th>stoptime</th>\n",
       "      <th>start_station_id</th>\n",
       "      <th>start_station_latitude</th>\n",
       "      <th>start_station_longitude</th>\n",
       "      <th>end_station_id</th>\n",
       "      <th>end_station_latitude</th>\n",
       "      <th>end_station_longitude</th>\n",
       "      <th>bikeid</th>\n",
       "      <th>birth_year</th>\n",
       "    </tr>\n",
       "  </thead>\n",
       "  <tbody>\n",
       "    <tr>\n",
       "      <th>count</th>\n",
       "      <td>960.000000</td>\n",
       "      <td>960</td>\n",
       "      <td>960</td>\n",
       "      <td>960.000000</td>\n",
       "      <td>960.000000</td>\n",
       "      <td>960.000000</td>\n",
       "      <td>960.000000</td>\n",
       "      <td>960.000000</td>\n",
       "      <td>960.000000</td>\n",
       "      <td>960.000000</td>\n",
       "      <td>960.000000</td>\n",
       "    </tr>\n",
       "    <tr>\n",
       "      <th>mean</th>\n",
       "      <td>1276.907292</td>\n",
       "      <td>2016-05-22 09:05:24.413568768</td>\n",
       "      <td>2016-05-22 09:26:41.553505280</td>\n",
       "      <td>909.870833</td>\n",
       "      <td>40.734506</td>\n",
       "      <td>-73.987984</td>\n",
       "      <td>950.091667</td>\n",
       "      <td>40.734195</td>\n",
       "      <td>-73.988283</td>\n",
       "      <td>21682.126042</td>\n",
       "      <td>1964.733333</td>\n",
       "    </tr>\n",
       "    <tr>\n",
       "      <th>min</th>\n",
       "      <td>64.000000</td>\n",
       "      <td>2013-07-05 06:33:25</td>\n",
       "      <td>2013-07-05 06:41:17</td>\n",
       "      <td>72.000000</td>\n",
       "      <td>40.661063</td>\n",
       "      <td>-74.017134</td>\n",
       "      <td>72.000000</td>\n",
       "      <td>40.661063</td>\n",
       "      <td>-74.017134</td>\n",
       "      <td>14541.000000</td>\n",
       "      <td>1886.000000</td>\n",
       "    </tr>\n",
       "    <tr>\n",
       "      <th>25%</th>\n",
       "      <td>354.000000</td>\n",
       "      <td>2015-05-10 16:11:28.249999872</td>\n",
       "      <td>2015-05-10 16:29:15</td>\n",
       "      <td>318.000000</td>\n",
       "      <td>40.718710</td>\n",
       "      <td>-73.997236</td>\n",
       "      <td>310.750000</td>\n",
       "      <td>40.717571</td>\n",
       "      <td>-73.999058</td>\n",
       "      <td>17388.500000</td>\n",
       "      <td>1948.000000</td>\n",
       "    </tr>\n",
       "    <tr>\n",
       "      <th>50%</th>\n",
       "      <td>573.500000</td>\n",
       "      <td>2016-07-05 23:27:00.500000</td>\n",
       "      <td>2016-07-05 23:33:47</td>\n",
       "      <td>432.000000</td>\n",
       "      <td>40.732264</td>\n",
       "      <td>-73.988886</td>\n",
       "      <td>433.000000</td>\n",
       "      <td>40.732233</td>\n",
       "      <td>-73.988900</td>\n",
       "      <td>20203.500000</td>\n",
       "      <td>1951.000000</td>\n",
       "    </tr>\n",
       "    <tr>\n",
       "      <th>75%</th>\n",
       "      <td>993.500000</td>\n",
       "      <td>2017-09-19 18:50:18.500000</td>\n",
       "      <td>2017-09-19 19:01:05</td>\n",
       "      <td>525.250000</td>\n",
       "      <td>40.751581</td>\n",
       "      <td>-73.979283</td>\n",
       "      <td>530.000000</td>\n",
       "      <td>40.750398</td>\n",
       "      <td>-73.979955</td>\n",
       "      <td>25648.750000</td>\n",
       "      <td>1996.000000</td>\n",
       "    </tr>\n",
       "    <tr>\n",
       "      <th>max</th>\n",
       "      <td>447635.000000</td>\n",
       "      <td>2018-05-30 15:35:08.183000</td>\n",
       "      <td>2018-05-30 15:39:30.498000</td>\n",
       "      <td>3660.000000</td>\n",
       "      <td>40.812551</td>\n",
       "      <td>-73.934903</td>\n",
       "      <td>3663.000000</td>\n",
       "      <td>40.812056</td>\n",
       "      <td>-73.929891</td>\n",
       "      <td>33637.000000</td>\n",
       "      <td>2001.000000</td>\n",
       "    </tr>\n",
       "    <tr>\n",
       "      <th>std</th>\n",
       "      <td>14481.282439</td>\n",
       "      <td>NaN</td>\n",
       "      <td>NaN</td>\n",
       "      <td>1086.478781</td>\n",
       "      <td>0.023691</td>\n",
       "      <td>0.014318</td>\n",
       "      <td>1135.910002</td>\n",
       "      <td>0.024071</td>\n",
       "      <td>0.014668</td>\n",
       "      <td>5193.875590</td>\n",
       "      <td>24.729395</td>\n",
       "    </tr>\n",
       "  </tbody>\n",
       "</table>\n",
       "</div>"
      ],
      "text/plain": [
       "        tripduration                      starttime  \\\n",
       "count     960.000000                            960   \n",
       "mean     1276.907292  2016-05-22 09:05:24.413568768   \n",
       "min        64.000000            2013-07-05 06:33:25   \n",
       "25%       354.000000  2015-05-10 16:11:28.249999872   \n",
       "50%       573.500000     2016-07-05 23:27:00.500000   \n",
       "75%       993.500000     2017-09-19 18:50:18.500000   \n",
       "max    447635.000000     2018-05-30 15:35:08.183000   \n",
       "std     14481.282439                            NaN   \n",
       "\n",
       "                            stoptime  start_station_id  \\\n",
       "count                            960        960.000000   \n",
       "mean   2016-05-22 09:26:41.553505280        909.870833   \n",
       "min              2013-07-05 06:41:17         72.000000   \n",
       "25%              2015-05-10 16:29:15        318.000000   \n",
       "50%              2016-07-05 23:33:47        432.000000   \n",
       "75%              2017-09-19 19:01:05        525.250000   \n",
       "max       2018-05-30 15:39:30.498000       3660.000000   \n",
       "std                              NaN       1086.478781   \n",
       "\n",
       "       start_station_latitude  start_station_longitude  end_station_id  \\\n",
       "count              960.000000               960.000000      960.000000   \n",
       "mean                40.734506               -73.987984      950.091667   \n",
       "min                 40.661063               -74.017134       72.000000   \n",
       "25%                 40.718710               -73.997236      310.750000   \n",
       "50%                 40.732264               -73.988886      433.000000   \n",
       "75%                 40.751581               -73.979283      530.000000   \n",
       "max                 40.812551               -73.934903     3663.000000   \n",
       "std                  0.023691                 0.014318     1135.910002   \n",
       "\n",
       "       end_station_latitude  end_station_longitude        bikeid   birth_year  \n",
       "count            960.000000             960.000000    960.000000   960.000000  \n",
       "mean              40.734195             -73.988283  21682.126042  1964.733333  \n",
       "min               40.661063             -74.017134  14541.000000  1886.000000  \n",
       "25%               40.717571             -73.999058  17388.500000  1948.000000  \n",
       "50%               40.732233             -73.988900  20203.500000  1951.000000  \n",
       "75%               40.750398             -73.979955  25648.750000  1996.000000  \n",
       "max               40.812056             -73.929891  33637.000000  2001.000000  \n",
       "std                0.024071               0.014668   5193.875590    24.729395  "
      ]
     },
     "execution_count": 9,
     "metadata": {},
     "output_type": "execute_result"
    }
   ],
   "source": [
    "df_new.describe()"
   ]
  },
  {
   "cell_type": "code",
   "execution_count": 10,
   "id": "28ae4b58",
   "metadata": {},
   "outputs": [
    {
     "data": {
      "text/html": [
       "<div>\n",
       "<style scoped>\n",
       "    .dataframe tbody tr th:only-of-type {\n",
       "        vertical-align: middle;\n",
       "    }\n",
       "\n",
       "    .dataframe tbody tr th {\n",
       "        vertical-align: top;\n",
       "    }\n",
       "\n",
       "    .dataframe thead th {\n",
       "        text-align: right;\n",
       "    }\n",
       "</style>\n",
       "<table border=\"1\" class=\"dataframe\">\n",
       "  <thead>\n",
       "    <tr style=\"text-align: right;\">\n",
       "      <th></th>\n",
       "      <th>tripduration</th>\n",
       "      <th>starttime</th>\n",
       "      <th>stoptime</th>\n",
       "      <th>start_station_id</th>\n",
       "      <th>start_station_name</th>\n",
       "      <th>start_station_latitude</th>\n",
       "      <th>start_station_longitude</th>\n",
       "      <th>end_station_id</th>\n",
       "      <th>end_station_name</th>\n",
       "      <th>end_station_latitude</th>\n",
       "      <th>end_station_longitude</th>\n",
       "      <th>bikeid</th>\n",
       "      <th>usertype</th>\n",
       "      <th>birth_year</th>\n",
       "      <th>gender</th>\n",
       "      <th>customer_plan</th>\n",
       "    </tr>\n",
       "  </thead>\n",
       "  <tbody>\n",
       "    <tr>\n",
       "      <th>0</th>\n",
       "      <td>996</td>\n",
       "      <td>2014-03-26 22:01:16</td>\n",
       "      <td>2014-03-26 22:17:52</td>\n",
       "      <td>536</td>\n",
       "      <td>1 Ave &amp; E 30 St</td>\n",
       "      <td>40.741444</td>\n",
       "      <td>-73.975361</td>\n",
       "      <td>502</td>\n",
       "      <td>Henry St &amp; Grand St</td>\n",
       "      <td>40.714215</td>\n",
       "      <td>-73.981346</td>\n",
       "      <td>16671</td>\n",
       "      <td>Subscriber</td>\n",
       "      <td>1996</td>\n",
       "      <td>male</td>\n",
       "      <td></td>\n",
       "    </tr>\n",
       "    <tr>\n",
       "      <th>1</th>\n",
       "      <td>1497</td>\n",
       "      <td>2017-10-20 12:17:07</td>\n",
       "      <td>2017-10-20 12:42:05</td>\n",
       "      <td>433</td>\n",
       "      <td>E 13 St &amp; Avenue A</td>\n",
       "      <td>40.729554</td>\n",
       "      <td>-73.980572</td>\n",
       "      <td>315</td>\n",
       "      <td>South St &amp; Gouverneur Ln</td>\n",
       "      <td>40.703554</td>\n",
       "      <td>-74.006702</td>\n",
       "      <td>31012</td>\n",
       "      <td>Subscriber</td>\n",
       "      <td>1952</td>\n",
       "      <td>male</td>\n",
       "      <td></td>\n",
       "    </tr>\n",
       "    <tr>\n",
       "      <th>2</th>\n",
       "      <td>726</td>\n",
       "      <td>2017-05-30 23:32:44</td>\n",
       "      <td>2017-05-30 23:44:51</td>\n",
       "      <td>377</td>\n",
       "      <td>6 Ave &amp; Canal St</td>\n",
       "      <td>40.722438</td>\n",
       "      <td>-74.005664</td>\n",
       "      <td>295</td>\n",
       "      <td>Pike St &amp; E Broadway</td>\n",
       "      <td>40.714067</td>\n",
       "      <td>-73.992939</td>\n",
       "      <td>19690</td>\n",
       "      <td>Subscriber</td>\n",
       "      <td>1945</td>\n",
       "      <td>male</td>\n",
       "      <td></td>\n",
       "    </tr>\n",
       "    <tr>\n",
       "      <th>3</th>\n",
       "      <td>358</td>\n",
       "      <td>2017-04-02 11:25:28</td>\n",
       "      <td>2017-04-02 11:31:26</td>\n",
       "      <td>470</td>\n",
       "      <td>W 20 St &amp; 8 Ave</td>\n",
       "      <td>40.743453</td>\n",
       "      <td>-74.000040</td>\n",
       "      <td>253</td>\n",
       "      <td>W 13 St &amp; 5 Ave</td>\n",
       "      <td>40.735439</td>\n",
       "      <td>-73.994539</td>\n",
       "      <td>27041</td>\n",
       "      <td>Subscriber</td>\n",
       "      <td>1996</td>\n",
       "      <td>male</td>\n",
       "      <td></td>\n",
       "    </tr>\n",
       "    <tr>\n",
       "      <th>4</th>\n",
       "      <td>203</td>\n",
       "      <td>2014-12-26 13:55:50</td>\n",
       "      <td>2014-12-26 13:59:13</td>\n",
       "      <td>245</td>\n",
       "      <td>Myrtle Ave &amp; St Edwards St</td>\n",
       "      <td>40.693270</td>\n",
       "      <td>-73.977039</td>\n",
       "      <td>390</td>\n",
       "      <td>Duffield St &amp; Willoughby St</td>\n",
       "      <td>40.692216</td>\n",
       "      <td>-73.984284</td>\n",
       "      <td>17625</td>\n",
       "      <td>Subscriber</td>\n",
       "      <td>1949</td>\n",
       "      <td>male</td>\n",
       "      <td></td>\n",
       "    </tr>\n",
       "  </tbody>\n",
       "</table>\n",
       "</div>"
      ],
      "text/plain": [
       "   tripduration           starttime            stoptime  start_station_id  \\\n",
       "0           996 2014-03-26 22:01:16 2014-03-26 22:17:52               536   \n",
       "1          1497 2017-10-20 12:17:07 2017-10-20 12:42:05               433   \n",
       "2           726 2017-05-30 23:32:44 2017-05-30 23:44:51               377   \n",
       "3           358 2017-04-02 11:25:28 2017-04-02 11:31:26               470   \n",
       "4           203 2014-12-26 13:55:50 2014-12-26 13:59:13               245   \n",
       "\n",
       "           start_station_name  start_station_latitude  \\\n",
       "0             1 Ave & E 30 St               40.741444   \n",
       "1          E 13 St & Avenue A               40.729554   \n",
       "2            6 Ave & Canal St               40.722438   \n",
       "3             W 20 St & 8 Ave               40.743453   \n",
       "4  Myrtle Ave & St Edwards St               40.693270   \n",
       "\n",
       "   start_station_longitude  end_station_id             end_station_name  \\\n",
       "0               -73.975361             502          Henry St & Grand St   \n",
       "1               -73.980572             315     South St & Gouverneur Ln   \n",
       "2               -74.005664             295         Pike St & E Broadway   \n",
       "3               -74.000040             253              W 13 St & 5 Ave   \n",
       "4               -73.977039             390  Duffield St & Willoughby St   \n",
       "\n",
       "   end_station_latitude  end_station_longitude  bikeid    usertype  \\\n",
       "0             40.714215             -73.981346   16671  Subscriber   \n",
       "1             40.703554             -74.006702   31012  Subscriber   \n",
       "2             40.714067             -73.992939   19690  Subscriber   \n",
       "3             40.735439             -73.994539   27041  Subscriber   \n",
       "4             40.692216             -73.984284   17625  Subscriber   \n",
       "\n",
       "   birth_year gender customer_plan  \n",
       "0        1996   male                \n",
       "1        1952   male                \n",
       "2        1945   male                \n",
       "3        1996   male                \n",
       "4        1949   male                "
      ]
     },
     "execution_count": 10,
     "metadata": {},
     "output_type": "execute_result"
    }
   ],
   "source": [
    "df_new.head()"
   ]
  },
  {
   "cell_type": "code",
   "execution_count": 11,
   "id": "6590d758",
   "metadata": {},
   "outputs": [
    {
     "data": {
      "text/plain": [
       "Index(['tripduration', 'starttime', 'stoptime', 'start_station_id',\n",
       "       'start_station_name', 'start_station_latitude',\n",
       "       'start_station_longitude', 'end_station_id', 'end_station_name',\n",
       "       'end_station_latitude', 'end_station_longitude', 'bikeid', 'usertype',\n",
       "       'birth_year', 'gender', 'customer_plan'],\n",
       "      dtype='object')"
      ]
     },
     "execution_count": 11,
     "metadata": {},
     "output_type": "execute_result"
    }
   ],
   "source": [
    "df_new.columns"
   ]
  },
  {
   "cell_type": "code",
   "execution_count": 30,
   "id": "b02141cb",
   "metadata": {},
   "outputs": [
    {
     "data": {
      "application/vnd.plotly.v1+json": {
       "config": {
        "plotlyServerURL": "https://plot.ly"
       },
       "data": [
        {
         "lat": [
          40.73454567,
          40.72903917
         ],
         "line": {
          "color": "blue",
          "width": 1
         },
         "lon": [
          -73.99074142,
          -73.99404649
         ],
         "mode": "lines",
         "showlegend": false,
         "type": "scattermapbox"
        },
        {
         "lat": [
          40.7361967,
          40.728846
         ],
         "line": {
          "color": "blue",
          "width": 1
         },
         "lon": [
          -74.00859207,
          -74.008591
         ],
         "mode": "lines",
         "showlegend": false,
         "type": "scattermapbox"
        },
        {
         "lat": [
          40.73223272,
          40.72917025
         ],
         "line": {
          "color": "blue",
          "width": 1
         },
         "lon": [
          -73.98889957,
          -73.99810231
         ],
         "mode": "lines",
         "showlegend": false,
         "type": "scattermapbox"
        },
        {
         "lat": [
          40.722103786686034,
          40.718822
         ],
         "line": {
          "color": "blue",
          "width": 1
         },
         "lon": [
          -73.99724900722504,
          -73.99596
         ],
         "mode": "lines",
         "showlegend": false,
         "type": "scattermapbox"
        },
        {
         "lat": [
          40.722103786686034,
          40.7262807
         ],
         "line": {
          "color": "blue",
          "width": 1
         },
         "lon": [
          -73.99724900722504,
          -73.98978041
         ],
         "mode": "lines",
         "showlegend": false,
         "type": "scattermapbox"
        },
        {
         "lat": [
          40.7172274,
          40.71739973
         ],
         "line": {
          "color": "blue",
          "width": 1
         },
         "lon": [
          -73.98802084,
          -73.98016555
         ],
         "mode": "lines",
         "showlegend": false,
         "type": "scattermapbox"
        },
        {
         "lat": [
          40.688226,
          40.6917823
         ],
         "line": {
          "color": "blue",
          "width": 1
         },
         "lon": [
          -73.979382,
          -73.9737299
         ],
         "mode": "lines",
         "showlegend": false,
         "type": "scattermapbox"
        },
        {
         "lat": [
          40.73047309,
          40.71559509
         ],
         "line": {
          "color": "blue",
          "width": 1
         },
         "lon": [
          -73.98672378,
          -73.9870295
         ],
         "mode": "lines",
         "showlegend": false,
         "type": "scattermapbox"
        },
        {
         "lat": [
          40.8067581,
          40.7997568
         ],
         "line": {
          "color": "blue",
          "width": 1
         },
         "lon": [
          -73.9607082,
          -73.9621128676
         ],
         "mode": "lines",
         "showlegend": false,
         "type": "scattermapbox"
        },
        {
         "lat": [
          40.75044999,
          40.73524276
         ],
         "line": {
          "color": "blue",
          "width": 1
         },
         "lon": [
          -73.99481051,
          -73.98758561
         ],
         "mode": "lines",
         "showlegend": false,
         "type": "scattermapbox"
        },
        {
         "lat": [
          40.749717753,
          40.739323
         ],
         "line": {
          "color": "blue",
          "width": 1
         },
         "lon": [
          -74.002950346,
          -74.008119
         ],
         "mode": "lines",
         "showlegend": false,
         "type": "scattermapbox"
        },
        {
         "lat": [
          40.7390169121,
          40.746647
         ],
         "line": {
          "color": "blue",
          "width": 1
         },
         "lon": [
          -74.0026376103,
          -73.993915
         ],
         "mode": "lines",
         "showlegend": false,
         "type": "scattermapbox"
        },
        {
         "lat": [
          40.74317449,
          40.71602118
         ],
         "line": {
          "color": "blue",
          "width": 1
         },
         "lon": [
          -74.00366443,
          -73.99974372
         ],
         "mode": "lines",
         "showlegend": false,
         "type": "scattermapbox"
        },
        {
         "lat": [
          40.71911552,
          40.71893904
         ],
         "line": {
          "color": "blue",
          "width": 1
         },
         "lon": [
          -74.00666661,
          -73.99266288
         ],
         "mode": "lines",
         "showlegend": false,
         "type": "scattermapbox"
        },
        {
         "lat": [
          40.75660359,
          40.72743423
         ],
         "line": {
          "color": "blue",
          "width": 1
         },
         "lon": [
          -73.9979009,
          -73.99379025
         ],
         "mode": "lines",
         "showlegend": false,
         "type": "scattermapbox"
        },
        {
         "lat": [
          40.74025878,
          40.736502
         ],
         "line": {
          "color": "blue",
          "width": 1
         },
         "lon": [
          -73.98409214,
          -73.97809472
         ],
         "mode": "lines",
         "showlegend": false,
         "type": "scattermapbox"
        },
        {
         "lat": [
          40.71069994631387,
          40.707873
         ],
         "line": {
          "color": "blue",
          "width": 1
         },
         "lon": [
          -74.00354146957397,
          -74.00167
         ],
         "mode": "lines",
         "showlegend": false,
         "type": "scattermapbox"
        },
        {
         "lat": [
          40.7462009,
          40.73143724085228
         ],
         "line": {
          "color": "blue",
          "width": 1
         },
         "lon": [
          -73.98855723,
          -73.99490341544151
         ],
         "mode": "lines",
         "showlegend": false,
         "type": "scattermapbox"
        },
        {
         "lat": [
          40.72405549,
          40.70862144
         ],
         "line": {
          "color": "blue",
          "width": 1
         },
         "lon": [
          -74.00965965,
          -74.00722156
         ],
         "mode": "lines",
         "showlegend": false,
         "type": "scattermapbox"
        },
        {
         "lat": [
          40.7746671,
          40.78839
         ],
         "line": {
          "color": "blue",
          "width": 1
         },
         "lon": [
          -73.98470567,
          -73.9747
         ],
         "mode": "lines",
         "showlegend": false,
         "type": "scattermapbox"
        },
        {
         "lat": [
          40.696192,
          40.69236178
         ],
         "line": {
          "color": "blue",
          "width": 1
         },
         "lon": [
          -73.991218,
          -73.98631746
         ],
         "mode": "lines",
         "showlegend": false,
         "type": "scattermapbox"
        },
        {
         "lat": [
          40.751551,
          40.8008363
         ],
         "line": {
          "color": "blue",
          "width": 1
         },
         "lon": [
          -73.993934,
          -73.9664492472
         ],
         "mode": "lines",
         "showlegend": false,
         "type": "scattermapbox"
        },
        {
         "lat": [
          40.7614376,
          40.75325964
         ],
         "line": {
          "color": "blue",
          "width": 1
         },
         "lon": [
          -73.9411265,
          -73.94335788
         ],
         "mode": "lines",
         "showlegend": false,
         "type": "scattermapbox"
        },
        {
         "lat": [
          40.77140426,
          40.75272201381188
         ],
         "line": {
          "color": "blue",
          "width": 1
         },
         "lon": [
          -73.9535166,
          -73.98123621940613
         ],
         "mode": "lines",
         "showlegend": false,
         "type": "scattermapbox"
        },
        {
         "lat": [
          40.76695317,
          40.7643971
         ],
         "line": {
          "color": "blue",
          "width": 1
         },
         "lon": [
          -73.98169333,
          -73.97371465
         ],
         "mode": "lines",
         "showlegend": false,
         "type": "scattermapbox"
        },
        {
         "lat": [
          40.71494807,
          40.74691959
         ],
         "line": {
          "color": "blue",
          "width": 1
         },
         "lon": [
          -74.00234482,
          -74.00451887
         ],
         "mode": "lines",
         "showlegend": false,
         "type": "scattermapbox"
        },
        {
         "lat": [
          40.72490985,
          40.70834698
         ],
         "line": {
          "color": "blue",
          "width": 1
         },
         "lon": [
          -74.00154702,
          -74.01713445
         ],
         "mode": "lines",
         "showlegend": false,
         "type": "scattermapbox"
        },
        {
         "lat": [
          40.76227205,
          40.7500727
         ],
         "line": {
          "color": "blue",
          "width": 1
         },
         "lon": [
          -73.98788205,
          -73.99839279
         ],
         "mode": "lines",
         "showlegend": false,
         "type": "scattermapbox"
        },
        {
         "lat": [
          40.70834698,
          40.70530954
         ],
         "line": {
          "color": "blue",
          "width": 1
         },
         "lon": [
          -74.01713445,
          -74.00612572
         ],
         "mode": "lines",
         "showlegend": false,
         "type": "scattermapbox"
        },
        {
         "lat": [
          40.69991755,
          40.68962188790333
         ],
         "line": {
          "color": "blue",
          "width": 1
         },
         "lon": [
          -73.98971773,
          -73.98304268717766
         ],
         "mode": "lines",
         "showlegend": false,
         "type": "scattermapbox"
        },
        {
         "lat": [
          40.73223272,
          40.72917025
         ],
         "line": {
          "color": "blue",
          "width": 1
         },
         "lon": [
          -73.98889957,
          -73.99810231
         ],
         "mode": "lines",
         "showlegend": false,
         "type": "scattermapbox"
        },
        {
         "lat": [
          40.71605866,
          40.72229346
         ],
         "line": {
          "color": "blue",
          "width": 1
         },
         "lon": [
          -73.99190759,
          -73.99147535
         ],
         "mode": "lines",
         "showlegend": false,
         "type": "scattermapbox"
        },
        {
         "lat": [
          40.75255434,
          40.75097711
         ],
         "line": {
          "color": "blue",
          "width": 1
         },
         "lon": [
          -73.97282625,
          -73.98765428
         ],
         "mode": "lines",
         "showlegend": false,
         "type": "scattermapbox"
        },
        {
         "lat": [
          40.71870987,
          40.71273266
         ],
         "line": {
          "color": "blue",
          "width": 1
         },
         "lon": [
          -74.0090009,
          -74.0046073
         ],
         "mode": "lines",
         "showlegend": false,
         "type": "scattermapbox"
        },
        {
         "lat": [
          40.7489006,
          40.7381765
         ],
         "line": {
          "color": "blue",
          "width": 1
         },
         "lon": [
          -73.97604882,
          -73.97738662
         ],
         "mode": "lines",
         "showlegend": false,
         "type": "scattermapbox"
        },
        {
         "lat": [
          40.76915505,
          40.7746671
         ],
         "line": {
          "color": "blue",
          "width": 1
         },
         "lon": [
          -73.98191841,
          -73.98470567
         ],
         "mode": "lines",
         "showlegend": false,
         "type": "scattermapbox"
        },
        {
         "lat": [
          40.72082834,
          40.71406667
         ],
         "line": {
          "color": "blue",
          "width": 1
         },
         "lon": [
          -73.97793172,
          -73.99293911
         ],
         "mode": "lines",
         "showlegend": false,
         "type": "scattermapbox"
        },
        {
         "lat": [
          40.73028666,
          40.73049393
         ],
         "line": {
          "color": "blue",
          "width": 1
         },
         "lon": [
          -73.9907647,
          -73.9957214
         ],
         "mode": "lines",
         "showlegend": false,
         "type": "scattermapbox"
        },
        {
         "lat": [
          40.73971301,
          40.74096374
         ],
         "line": {
          "color": "blue",
          "width": 1
         },
         "lon": [
          -73.99456405,
          -73.98602213
         ],
         "mode": "lines",
         "showlegend": false,
         "type": "scattermapbox"
        },
        {
         "lat": [
          40.73221853,
          40.736502
         ],
         "line": {
          "color": "blue",
          "width": 1
         },
         "lon": [
          -73.98165557,
          -73.97809472
         ],
         "mode": "lines",
         "showlegend": false,
         "type": "scattermapbox"
        },
        {
         "lat": [
          40.76019252,
          40.74394314
         ],
         "line": {
          "color": "blue",
          "width": 1
         },
         "lon": [
          -73.9912551,
          -73.97966069
         ],
         "mode": "lines",
         "showlegend": false,
         "type": "scattermapbox"
        },
        {
         "lat": [
          40.71729,
          40.72368361
         ],
         "line": {
          "color": "blue",
          "width": 1
         },
         "lon": [
          -73.996375,
          -73.97574813
         ],
         "mode": "lines",
         "showlegend": false,
         "type": "scattermapbox"
        },
        {
         "lat": [
          40.739445,
          40.73226398
         ],
         "line": {
          "color": "blue",
          "width": 1
         },
         "lon": [
          -73.976806,
          -73.99852205
         ],
         "mode": "lines",
         "showlegend": false,
         "type": "scattermapbox"
        },
        {
         "lat": [
          40.7277140777778,
          40.711512
         ],
         "line": {
          "color": "blue",
          "width": 1
         },
         "lon": [
          -74.01129573583603,
          -74.015756
         ],
         "mode": "lines",
         "showlegend": false,
         "type": "scattermapbox"
        },
        {
         "lat": [
          40.752062307,
          40.74765947
         ],
         "line": {
          "color": "blue",
          "width": 1
         },
         "lon": [
          -73.9816324043,
          -73.98490707
         ],
         "mode": "lines",
         "showlegend": false,
         "type": "scattermapbox"
        },
        {
         "lat": [
          40.71273266,
          40.71291224
         ],
         "line": {
          "color": "blue",
          "width": 1
         },
         "lon": [
          -74.0046073,
          -74.01020234
         ],
         "mode": "lines",
         "showlegend": false,
         "type": "scattermapbox"
        },
        {
         "lat": [
          40.749156,
          40.74765947
         ],
         "line": {
          "color": "blue",
          "width": 1
         },
         "lon": [
          -73.9916,
          -73.98490707
         ],
         "mode": "lines",
         "showlegend": false,
         "type": "scattermapbox"
        },
        {
         "lat": [
          40.73971301,
          40.733812191966315
         ],
         "line": {
          "color": "blue",
          "width": 1
         },
         "lon": [
          -73.99456405,
          -73.98054420948029
         ],
         "mode": "lines",
         "showlegend": false,
         "type": "scattermapbox"
        },
        {
         "lat": [
          40.7656251,
          40.7557327
         ],
         "line": {
          "color": "blue",
          "width": 1
         },
         "lon": [
          -73.9136695,
          -73.9236611
         ],
         "mode": "lines",
         "showlegend": false,
         "type": "scattermapbox"
        },
        {
         "lat": [
          40.75149263,
          40.73935542
         ],
         "line": {
          "color": "blue",
          "width": 1
         },
         "lon": [
          -73.97798848,
          -73.99931783
         ],
         "mode": "lines",
         "showlegend": false,
         "type": "scattermapbox"
        },
        {
         "lat": [
          40.756014,
          40.75038009
         ],
         "line": {
          "color": "blue",
          "width": 1
         },
         "lon": [
          -73.967416,
          -73.98338988
         ],
         "mode": "lines",
         "showlegend": false,
         "type": "scattermapbox"
        },
        {
         "lat": [
          40.73649403,
          40.73587678
         ],
         "line": {
          "color": "blue",
          "width": 1
         },
         "lon": [
          -73.99704374,
          -73.98205027
         ],
         "mode": "lines",
         "showlegend": false,
         "type": "scattermapbox"
        },
        {
         "lat": [
          40.711066,
          40.74290902
         ],
         "line": {
          "color": "blue",
          "width": 1
         },
         "lon": [
          -74.009447,
          -73.97706058
         ],
         "mode": "lines",
         "showlegend": false,
         "type": "scattermapbox"
        },
        {
         "lat": [
          40.69221589,
          40.6917823
         ],
         "line": {
          "color": "blue",
          "width": 1
         },
         "lon": [
          -73.9842844,
          -73.9737299
         ],
         "mode": "lines",
         "showlegend": false,
         "type": "scattermapbox"
        },
        {
         "lat": [
          40.69363137,
          40.68676793
         ],
         "line": {
          "color": "blue",
          "width": 1
         },
         "lon": [
          -73.96223558,
          -73.95928168
         ],
         "mode": "lines",
         "showlegend": false,
         "type": "scattermapbox"
        },
        {
         "lat": [
          40.76915505,
          40.768254
         ],
         "line": {
          "color": "blue",
          "width": 1
         },
         "lon": [
          -73.98191841,
          -73.988639
         ],
         "mode": "lines",
         "showlegend": false,
         "type": "scattermapbox"
        },
        {
         "lat": [
          40.8082,
          40.77140426
         ],
         "line": {
          "color": "blue",
          "width": 1
         },
         "lon": [
          -73.9641,
          -73.9535166
         ],
         "mode": "lines",
         "showlegend": false,
         "type": "scattermapbox"
        },
        {
         "lat": [
          40.74173969,
          40.73587678
         ],
         "line": {
          "color": "blue",
          "width": 1
         },
         "lon": [
          -73.99415556,
          -73.98205027
         ],
         "mode": "lines",
         "showlegend": false,
         "type": "scattermapbox"
        },
        {
         "lat": [
          40.734232,
          40.72299208
         ],
         "line": {
          "color": "blue",
          "width": 1
         },
         "lon": [
          -73.986923,
          -73.97995466
         ],
         "mode": "lines",
         "showlegend": false,
         "type": "scattermapbox"
        },
        {
         "lat": [
          40.73781509,
          40.7208736
         ],
         "line": {
          "color": "blue",
          "width": 1
         },
         "lon": [
          -73.99994661,
          -73.98085795
         ],
         "mode": "lines",
         "showlegend": false,
         "type": "scattermapbox"
        },
        {
         "lat": [
          40.76344058,
          40.75992262
         ],
         "line": {
          "color": "blue",
          "width": 1
         },
         "lon": [
          -73.98268129,
          -73.97648516
         ],
         "mode": "lines",
         "showlegend": false,
         "type": "scattermapbox"
        },
        {
         "lat": [
          40.735238,
          40.70706456
         ],
         "line": {
          "color": "blue",
          "width": 1
         },
         "lon": [
          -74.000271,
          -74.00731853
         ],
         "mode": "lines",
         "showlegend": false,
         "type": "scattermapbox"
        },
        {
         "lat": [
          40.73543934,
          40.70530954
         ],
         "line": {
          "color": "blue",
          "width": 1
         },
         "lon": [
          -73.99453948,
          -74.00612572
         ],
         "mode": "lines",
         "showlegend": false,
         "type": "scattermapbox"
        },
        {
         "lat": [
          40.72082834,
          40.72456089
         ],
         "line": {
          "color": "blue",
          "width": 1
         },
         "lon": [
          -73.97793172,
          -73.99565293
         ],
         "mode": "lines",
         "showlegend": false,
         "type": "scattermapbox"
        },
        {
         "lat": [
          40.76440023,
          40.76500525
         ],
         "line": {
          "color": "blue",
          "width": 1
         },
         "lon": [
          -73.96648977,
          -73.95818491
         ],
         "mode": "lines",
         "showlegend": false,
         "type": "scattermapbox"
        },
        {
         "lat": [
          40.71893904,
          40.72430527250332
         ],
         "line": {
          "color": "blue",
          "width": 1
         },
         "lon": [
          -73.99266288,
          -73.99600982666016
         ],
         "mode": "lines",
         "showlegend": false,
         "type": "scattermapbox"
        },
        {
         "lat": [
          40.74345335,
          40.71911552
         ],
         "line": {
          "color": "blue",
          "width": 1
         },
         "lon": [
          -74.00004031,
          -74.00666661
         ],
         "mode": "lines",
         "showlegend": false,
         "type": "scattermapbox"
        },
        {
         "lat": [
          40.7149787,
          40.71273266
         ],
         "line": {
          "color": "blue",
          "width": 1
         },
         "lon": [
          -74.013012,
          -74.0046073
         ],
         "mode": "lines",
         "showlegend": false,
         "type": "scattermapbox"
        },
        {
         "lat": [
          40.696192,
          40.71273266
         ],
         "line": {
          "color": "blue",
          "width": 1
         },
         "lon": [
          -73.991218,
          -74.0046073
         ],
         "mode": "lines",
         "showlegend": false,
         "type": "scattermapbox"
        },
        {
         "lat": [
          40.76695317,
          40.76340613
         ],
         "line": {
          "color": "blue",
          "width": 1
         },
         "lon": [
          -73.98169333,
          -73.97722479
         ],
         "mode": "lines",
         "showlegend": false,
         "type": "scattermapbox"
        },
        {
         "lat": [
          40.75513557,
          40.75299641
         ],
         "line": {
          "color": "blue",
          "width": 1
         },
         "lon": [
          -73.98658032,
          -73.98721619
         ],
         "mode": "lines",
         "showlegend": false,
         "type": "scattermapbox"
        },
        {
         "lat": [
          40.71219906,
          40.71427487
         ],
         "line": {
          "color": "blue",
          "width": 1
         },
         "lon": [
          -73.97948148,
          -73.98990025
         ],
         "mode": "lines",
         "showlegend": false,
         "type": "scattermapbox"
        },
        {
         "lat": [
          40.73143724085228,
          40.72217444
         ],
         "line": {
          "color": "blue",
          "width": 1
         },
         "lon": [
          -73.99490341544151,
          -73.98368779
         ],
         "mode": "lines",
         "showlegend": false,
         "type": "scattermapbox"
        },
        {
         "lat": [
          40.7403432,
          40.73587678
         ],
         "line": {
          "color": "blue",
          "width": 1
         },
         "lon": [
          -73.98955109,
          -73.98205027
         ],
         "mode": "lines",
         "showlegend": false,
         "type": "scattermapbox"
        },
        {
         "lat": [
          40.78472675,
          40.7643971
         ],
         "line": {
          "color": "blue",
          "width": 1
         },
         "lon": [
          -73.96961715,
          -73.97371465
         ],
         "mode": "lines",
         "showlegend": false,
         "type": "scattermapbox"
        },
        {
         "lat": [
          40.72706363348306,
          40.73143724085228
         ],
         "line": {
          "color": "blue",
          "width": 1
         },
         "lon": [
          -73.99662137031554,
          -73.99490341544151
         ],
         "mode": "lines",
         "showlegend": false,
         "type": "scattermapbox"
        },
        {
         "lat": [
          40.752165280621966,
          40.70862144
         ],
         "line": {
          "color": "blue",
          "width": 1
         },
         "lon": [
          -73.97992193698882,
          -74.00722156
         ],
         "mode": "lines",
         "showlegend": false,
         "type": "scattermapbox"
        },
        {
         "lat": [
          40.71625008,
          40.71911552
         ],
         "line": {
          "color": "blue",
          "width": 1
         },
         "lon": [
          -74.0091059,
          -74.00666661
         ],
         "mode": "lines",
         "showlegend": false,
         "type": "scattermapbox"
        },
        {
         "lat": [
          40.69102925677968,
          40.69102925677968
         ],
         "line": {
          "color": "blue",
          "width": 1
         },
         "lon": [
          -73.99183362722397,
          -73.99183362722397
         ],
         "mode": "lines",
         "showlegend": false,
         "type": "scattermapbox"
        },
        {
         "lat": [
          40.795,
          40.73224119
         ],
         "line": {
          "color": "blue",
          "width": 1
         },
         "lon": [
          -73.9645,
          -74.00026394
         ],
         "mode": "lines",
         "showlegend": false,
         "type": "scattermapbox"
        },
        {
         "lat": [
          40.76727216,
          40.74487634
         ],
         "line": {
          "color": "blue",
          "width": 1
         },
         "lon": [
          -73.99392888,
          -73.99529885
         ],
         "mode": "lines",
         "showlegend": false,
         "type": "scattermapbox"
        },
        {
         "lat": [
          40.79017948095081,
          40.802692
         ],
         "line": {
          "color": "blue",
          "width": 1
         },
         "lon": [
          -73.97288918495178,
          -73.96295
         ],
         "mode": "lines",
         "showlegend": false,
         "type": "scattermapbox"
        },
        {
         "lat": [
          40.73221853,
          40.736502
         ],
         "line": {
          "color": "blue",
          "width": 1
         },
         "lon": [
          -73.98165557,
          -73.97809472
         ],
         "mode": "lines",
         "showlegend": false,
         "type": "scattermapbox"
        },
        {
         "lat": [
          40.73971301,
          40.72502876
         ],
         "line": {
          "color": "blue",
          "width": 1
         },
         "lon": [
          -73.99456405,
          -73.99069656
         ],
         "mode": "lines",
         "showlegend": false,
         "type": "scattermapbox"
        },
        {
         "lat": [
          40.77862688,
          40.78112229934166
         ],
         "line": {
          "color": "blue",
          "width": 1
         },
         "lon": [
          -73.95772073,
          -73.94965589046478
         ],
         "mode": "lines",
         "showlegend": false,
         "type": "scattermapbox"
        },
        {
         "lat": [
          40.74734825,
          40.73524276
         ],
         "line": {
          "color": "blue",
          "width": 1
         },
         "lon": [
          -73.99723551,
          -73.98758561
         ],
         "mode": "lines",
         "showlegend": false,
         "type": "scattermapbox"
        },
        {
         "lat": [
          40.73704984,
          40.7454973
         ],
         "line": {
          "color": "blue",
          "width": 1
         },
         "lon": [
          -73.99009296,
          -74.00197139
         ],
         "mode": "lines",
         "showlegend": false,
         "type": "scattermapbox"
        },
        {
         "lat": [
          40.73935542,
          40.74206539
         ],
         "line": {
          "color": "blue",
          "width": 1
         },
         "lon": [
          -73.99931783,
          -74.00443172
         ],
         "mode": "lines",
         "showlegend": false,
         "type": "scattermapbox"
        },
        {
         "lat": [
          40.72243797,
          40.74195138
         ],
         "line": {
          "color": "blue",
          "width": 1
         },
         "lon": [
          -74.00566443,
          -74.00803013
         ],
         "mode": "lines",
         "showlegend": false,
         "type": "scattermapbox"
        },
        {
         "lat": [
          40.72228087,
          40.72066442
         ],
         "line": {
          "color": "blue",
          "width": 1
         },
         "lon": [
          -73.97668709,
          -73.98517977
         ],
         "mode": "lines",
         "showlegend": false,
         "type": "scattermapbox"
        },
        {
         "lat": [
          40.72621788,
          40.734232
         ],
         "line": {
          "color": "blue",
          "width": 1
         },
         "lon": [
          -73.98379855,
          -73.986923
         ],
         "mode": "lines",
         "showlegend": false,
         "type": "scattermapbox"
        },
        {
         "lat": [
          40.714215,
          40.71173107
         ],
         "line": {
          "color": "blue",
          "width": 1
         },
         "lon": [
          -73.981346,
          -73.99193043
         ],
         "mode": "lines",
         "showlegend": false,
         "type": "scattermapbox"
        },
        {
         "lat": [
          40.69089272,
          40.69512845
         ],
         "line": {
          "color": "blue",
          "width": 1
         },
         "lon": [
          -73.99612349,
          -73.99595065
         ],
         "mode": "lines",
         "showlegend": false,
         "type": "scattermapbox"
        },
        {
         "lat": [
          40.7037992,
          40.71269042
         ],
         "line": {
          "color": "blue",
          "width": 1
         },
         "lon": [
          -74.00838676,
          -73.98776323
         ],
         "mode": "lines",
         "showlegend": false,
         "type": "scattermapbox"
        },
        {
         "lat": [
          40.71748752,
          40.71602118
         ],
         "line": {
          "color": "blue",
          "width": 1
         },
         "lon": [
          -74.0104554,
          -73.99974372
         ],
         "mode": "lines",
         "showlegend": false,
         "type": "scattermapbox"
        },
        {
         "lat": [
          40.7882213,
          40.77163851
         ],
         "line": {
          "color": "blue",
          "width": 1
         },
         "lon": [
          -73.97041561,
          -73.98261428
         ],
         "mode": "lines",
         "showlegend": false,
         "type": "scattermapbox"
        },
        {
         "lat": [
          40.72679454,
          40.74475148
         ],
         "line": {
          "color": "blue",
          "width": 1
         },
         "lon": [
          -73.99695094,
          -73.99915362
         ],
         "mode": "lines",
         "showlegend": false,
         "type": "scattermapbox"
        },
        {
         "lat": [
          40.74780373,
          40.73331967
         ],
         "line": {
          "color": "blue",
          "width": 1
         },
         "lon": [
          -73.9734419,
          -73.99510132
         ],
         "mode": "lines",
         "showlegend": false,
         "type": "scattermapbox"
        },
        {
         "lat": [
          40.73047309,
          40.7423543
         ],
         "line": {
          "color": "blue",
          "width": 1
         },
         "lon": [
          -73.98672378,
          -73.98915076
         ],
         "mode": "lines",
         "showlegend": false,
         "type": "scattermapbox"
        },
        {
         "lat": [
          40.70823502,
          40.71146364
         ],
         "line": {
          "color": "blue",
          "width": 1
         },
         "lon": [
          -74.00530063,
          -74.00552427
         ],
         "mode": "lines",
         "showlegend": false,
         "type": "scattermapbox"
        },
        {
         "lat": [
          40.73454567,
          40.7361967,
          40.73223272,
          40.722103786686034,
          40.722103786686034,
          40.7172274,
          40.688226,
          40.73047309,
          40.8067581,
          40.75044999,
          40.749717753,
          40.7390169121,
          40.74317449,
          40.71911552,
          40.75660359,
          40.74025878,
          40.71069994631387,
          40.7462009,
          40.72405549,
          40.7746671,
          40.696192,
          40.751551,
          40.7614376,
          40.77140426,
          40.76695317,
          40.71494807,
          40.72490985,
          40.76227205,
          40.70834698,
          40.69991755,
          40.73223272,
          40.71605866,
          40.75255434,
          40.71870987,
          40.7489006,
          40.76915505,
          40.72082834,
          40.73028666,
          40.73971301,
          40.73221853,
          40.76019252,
          40.71729,
          40.739445,
          40.7277140777778,
          40.752062307,
          40.71273266,
          40.749156,
          40.73971301,
          40.7656251,
          40.75149263,
          40.756014,
          40.73649403,
          40.711066,
          40.69221589,
          40.69363137,
          40.76915505,
          40.8082,
          40.74173969,
          40.734232,
          40.73781509,
          40.76344058,
          40.735238,
          40.73543934,
          40.72082834,
          40.76440023,
          40.71893904,
          40.74345335,
          40.7149787,
          40.696192,
          40.76695317,
          40.75513557,
          40.71219906,
          40.73143724085228,
          40.7403432,
          40.78472675,
          40.72706363348306,
          40.752165280621966,
          40.71625008,
          40.69102925677968,
          40.795,
          40.76727216,
          40.79017948095081,
          40.73221853,
          40.73971301,
          40.77862688,
          40.74734825,
          40.73704984,
          40.73935542,
          40.72243797,
          40.72228087,
          40.72621788,
          40.714215,
          40.69089272,
          40.7037992,
          40.71748752,
          40.7882213,
          40.72679454,
          40.74780373,
          40.73047309,
          40.70823502
         ],
         "lon": [
          -73.99074142,
          -74.00859207,
          -73.98889957,
          -73.99724900722504,
          -73.99724900722504,
          -73.98802084,
          -73.979382,
          -73.98672378,
          -73.9607082,
          -73.99481051,
          -74.002950346,
          -74.0026376103,
          -74.00366443,
          -74.00666661,
          -73.9979009,
          -73.98409214,
          -74.00354146957397,
          -73.98855723,
          -74.00965965,
          -73.98470567,
          -73.991218,
          -73.993934,
          -73.9411265,
          -73.9535166,
          -73.98169333,
          -74.00234482,
          -74.00154702,
          -73.98788205,
          -74.01713445,
          -73.98971773,
          -73.98889957,
          -73.99190759,
          -73.97282625,
          -74.0090009,
          -73.97604882,
          -73.98191841,
          -73.97793172,
          -73.9907647,
          -73.99456405,
          -73.98165557,
          -73.9912551,
          -73.996375,
          -73.976806,
          -74.01129573583603,
          -73.9816324043,
          -74.0046073,
          -73.9916,
          -73.99456405,
          -73.9136695,
          -73.97798848,
          -73.967416,
          -73.99704374,
          -74.009447,
          -73.9842844,
          -73.96223558,
          -73.98191841,
          -73.9641,
          -73.99415556,
          -73.986923,
          -73.99994661,
          -73.98268129,
          -74.000271,
          -73.99453948,
          -73.97793172,
          -73.96648977,
          -73.99266288,
          -74.00004031,
          -74.013012,
          -73.991218,
          -73.98169333,
          -73.98658032,
          -73.97948148,
          -73.99490341544151,
          -73.98955109,
          -73.96961715,
          -73.99662137031554,
          -73.97992193698882,
          -74.0091059,
          -73.99183362722397,
          -73.9645,
          -73.99392888,
          -73.97288918495178,
          -73.98165557,
          -73.99456405,
          -73.95772073,
          -73.99723551,
          -73.99009296,
          -73.99931783,
          -74.00566443,
          -73.97668709,
          -73.98379855,
          -73.981346,
          -73.99612349,
          -74.00838676,
          -74.0104554,
          -73.97041561,
          -73.99695094,
          -73.9734419,
          -73.98672378,
          -74.00530063
         ],
         "marker": {
          "color": "green",
          "size": 5
         },
         "mode": "markers",
         "name": "Start Stations",
         "type": "scattermapbox"
        },
        {
         "lat": [
          40.72903917,
          40.728846,
          40.72917025,
          40.718822,
          40.7262807,
          40.71739973,
          40.6917823,
          40.71559509,
          40.7997568,
          40.73524276,
          40.739323,
          40.746647,
          40.71602118,
          40.71893904,
          40.72743423,
          40.736502,
          40.707873,
          40.73143724085228,
          40.70862144,
          40.78839,
          40.69236178,
          40.8008363,
          40.75325964,
          40.75272201381188,
          40.7643971,
          40.74691959,
          40.70834698,
          40.7500727,
          40.70530954,
          40.68962188790333,
          40.72917025,
          40.72229346,
          40.75097711,
          40.71273266,
          40.7381765,
          40.7746671,
          40.71406667,
          40.73049393,
          40.74096374,
          40.736502,
          40.74394314,
          40.72368361,
          40.73226398,
          40.711512,
          40.74765947,
          40.71291224,
          40.74765947,
          40.733812191966315,
          40.7557327,
          40.73935542,
          40.75038009,
          40.73587678,
          40.74290902,
          40.6917823,
          40.68676793,
          40.768254,
          40.77140426,
          40.73587678,
          40.72299208,
          40.7208736,
          40.75992262,
          40.70706456,
          40.70530954,
          40.72456089,
          40.76500525,
          40.72430527250332,
          40.71911552,
          40.71273266,
          40.71273266,
          40.76340613,
          40.75299641,
          40.71427487,
          40.72217444,
          40.73587678,
          40.7643971,
          40.73143724085228,
          40.70862144,
          40.71911552,
          40.69102925677968,
          40.73224119,
          40.74487634,
          40.802692,
          40.736502,
          40.72502876,
          40.78112229934166,
          40.73524276,
          40.7454973,
          40.74206539,
          40.74195138,
          40.72066442,
          40.734232,
          40.71173107,
          40.69512845,
          40.71269042,
          40.71602118,
          40.77163851,
          40.74475148,
          40.73331967,
          40.7423543,
          40.71146364
         ],
         "lon": [
          -73.99404649,
          -74.008591,
          -73.99810231,
          -73.99596,
          -73.98978041,
          -73.98016555,
          -73.9737299,
          -73.9870295,
          -73.9621128676,
          -73.98758561,
          -74.008119,
          -73.993915,
          -73.99974372,
          -73.99266288,
          -73.99379025,
          -73.97809472,
          -74.00167,
          -73.99490341544151,
          -74.00722156,
          -73.9747,
          -73.98631746,
          -73.9664492472,
          -73.94335788,
          -73.98123621940613,
          -73.97371465,
          -74.00451887,
          -74.01713445,
          -73.99839279,
          -74.00612572,
          -73.98304268717766,
          -73.99810231,
          -73.99147535,
          -73.98765428,
          -74.0046073,
          -73.97738662,
          -73.98470567,
          -73.99293911,
          -73.9957214,
          -73.98602213,
          -73.97809472,
          -73.97966069,
          -73.97574813,
          -73.99852205,
          -74.015756,
          -73.98490707,
          -74.01020234,
          -73.98490707,
          -73.98054420948029,
          -73.9236611,
          -73.99931783,
          -73.98338988,
          -73.98205027,
          -73.97706058,
          -73.9737299,
          -73.95928168,
          -73.988639,
          -73.9535166,
          -73.98205027,
          -73.97995466,
          -73.98085795,
          -73.97648516,
          -74.00731853,
          -74.00612572,
          -73.99565293,
          -73.95818491,
          -73.99600982666016,
          -74.00666661,
          -74.0046073,
          -74.0046073,
          -73.97722479,
          -73.98721619,
          -73.98990025,
          -73.98368779,
          -73.98205027,
          -73.97371465,
          -73.99490341544151,
          -74.00722156,
          -74.00666661,
          -73.99183362722397,
          -74.00026394,
          -73.99529885,
          -73.96295,
          -73.97809472,
          -73.99069656,
          -73.94965589046478,
          -73.98758561,
          -74.00197139,
          -74.00443172,
          -74.00803013,
          -73.98517977,
          -73.986923,
          -73.99193043,
          -73.99595065,
          -73.98776323,
          -73.99974372,
          -73.98261428,
          -73.99915362,
          -73.99510132,
          -73.98915076,
          -74.00552427
         ],
         "marker": {
          "color": "red",
          "size": 5
         },
         "mode": "markers",
         "name": "End Stations",
         "type": "scattermapbox"
        },
        {
         "lat": [
          40.73454567,
          40.7361967,
          40.73223272,
          40.722103786686034,
          40.722103786686034,
          40.7172274,
          40.688226,
          40.73047309,
          40.8067581,
          40.75044999,
          40.749717753,
          40.7390169121,
          40.74317449,
          40.71911552,
          40.75660359,
          40.74025878,
          40.71069994631387,
          40.7462009,
          40.72405549,
          40.7746671,
          40.696192,
          40.751551,
          40.7614376,
          40.77140426,
          40.76695317,
          40.71494807,
          40.72490985,
          40.76227205,
          40.70834698,
          40.69991755,
          40.73223272,
          40.71605866,
          40.75255434,
          40.71870987,
          40.7489006,
          40.76915505,
          40.72082834,
          40.73028666,
          40.73971301,
          40.73221853,
          40.76019252,
          40.71729,
          40.739445,
          40.7277140777778,
          40.752062307,
          40.71273266,
          40.749156,
          40.73971301,
          40.7656251,
          40.75149263,
          40.756014,
          40.73649403,
          40.711066,
          40.69221589,
          40.69363137,
          40.76915505,
          40.8082,
          40.74173969,
          40.734232,
          40.73781509,
          40.76344058,
          40.735238,
          40.73543934,
          40.72082834,
          40.76440023,
          40.71893904,
          40.74345335,
          40.7149787,
          40.696192,
          40.76695317,
          40.75513557,
          40.71219906,
          40.73143724085228,
          40.7403432,
          40.78472675,
          40.72706363348306,
          40.752165280621966,
          40.71625008,
          40.69102925677968,
          40.795,
          40.76727216,
          40.79017948095081,
          40.73221853,
          40.73971301,
          40.77862688,
          40.74734825,
          40.73704984,
          40.73935542,
          40.72243797,
          40.72228087,
          40.72621788,
          40.714215,
          40.69089272,
          40.7037992,
          40.71748752,
          40.7882213,
          40.72679454,
          40.74780373,
          40.73047309,
          40.70823502
         ],
         "lon": [
          -73.99074142,
          -74.00859207,
          -73.98889957,
          -73.99724900722504,
          -73.99724900722504,
          -73.98802084,
          -73.979382,
          -73.98672378,
          -73.9607082,
          -73.99481051,
          -74.002950346,
          -74.0026376103,
          -74.00366443,
          -74.00666661,
          -73.9979009,
          -73.98409214,
          -74.00354146957397,
          -73.98855723,
          -74.00965965,
          -73.98470567,
          -73.991218,
          -73.993934,
          -73.9411265,
          -73.9535166,
          -73.98169333,
          -74.00234482,
          -74.00154702,
          -73.98788205,
          -74.01713445,
          -73.98971773,
          -73.98889957,
          -73.99190759,
          -73.97282625,
          -74.0090009,
          -73.97604882,
          -73.98191841,
          -73.97793172,
          -73.9907647,
          -73.99456405,
          -73.98165557,
          -73.9912551,
          -73.996375,
          -73.976806,
          -74.01129573583603,
          -73.9816324043,
          -74.0046073,
          -73.9916,
          -73.99456405,
          -73.9136695,
          -73.97798848,
          -73.967416,
          -73.99704374,
          -74.009447,
          -73.9842844,
          -73.96223558,
          -73.98191841,
          -73.9641,
          -73.99415556,
          -73.986923,
          -73.99994661,
          -73.98268129,
          -74.000271,
          -73.99453948,
          -73.97793172,
          -73.96648977,
          -73.99266288,
          -74.00004031,
          -74.013012,
          -73.991218,
          -73.98169333,
          -73.98658032,
          -73.97948148,
          -73.99490341544151,
          -73.98955109,
          -73.96961715,
          -73.99662137031554,
          -73.97992193698882,
          -74.0091059,
          -73.99183362722397,
          -73.9645,
          -73.99392888,
          -73.97288918495178,
          -73.98165557,
          -73.99456405,
          -73.95772073,
          -73.99723551,
          -73.99009296,
          -73.99931783,
          -74.00566443,
          -73.97668709,
          -73.98379855,
          -73.981346,
          -73.99612349,
          -74.00838676,
          -74.0104554,
          -73.97041561,
          -73.99695094,
          -73.9734419,
          -73.98672378,
          -74.00530063
         ],
         "mode": "text",
         "name": "Bike IDs",
         "showlegend": false,
         "text": [
          "17768",
          "23830",
          "19463",
          "18666",
          "29011",
          "18912",
          "23746",
          "20240",
          "31199",
          "17055",
          "21023",
          "16513",
          "31444",
          "32184",
          "16967",
          "16394",
          "20970",
          "20046",
          "23136",
          "26672",
          "15138",
          "27525",
          "25579",
          "29867",
          "20988",
          "16652",
          "20210",
          "15615",
          "17347",
          "28885",
          "15958",
          "17786",
          "19301",
          "18615",
          "22178",
          "19247",
          "18610",
          "20145",
          "15912",
          "30151",
          "29702",
          "15145",
          "32554",
          "15324",
          "18644",
          "15530",
          "16734",
          "20600",
          "32542",
          "14774",
          "20131",
          "26765",
          "24824",
          "21070",
          "15275",
          "18949",
          "18388",
          "25982",
          "29795",
          "21048",
          "15334",
          "30662",
          "24073",
          "22097",
          "15978",
          "20185",
          "24172",
          "19717",
          "16933",
          "22222",
          "15541",
          "29917",
          "20314",
          "31432",
          "28713",
          "21297",
          "30521",
          "17196",
          "15903",
          "18780",
          "25339",
          "28311",
          "19332",
          "20847",
          "30342",
          "21301",
          "16409",
          "20256",
          "17269",
          "28257",
          "26043",
          "19761",
          "26563",
          "16262",
          "17609",
          "18164",
          "14992",
          "20902",
          "18841",
          "21970"
         ],
         "textposition": "top right",
         "type": "scattermapbox"
        }
       ],
       "layout": {
        "height": 700,
        "mapbox": {
         "center": {
          "lat": 40.73754239692252,
          "lon": -73.98835003775382
         },
         "style": "open-street-map",
         "zoom": 12
        },
        "showlegend": true,
        "template": {
         "data": {
          "bar": [
           {
            "error_x": {
             "color": "#2a3f5f"
            },
            "error_y": {
             "color": "#2a3f5f"
            },
            "marker": {
             "line": {
              "color": "#E5ECF6",
              "width": 0.5
             },
             "pattern": {
              "fillmode": "overlay",
              "size": 10,
              "solidity": 0.2
             }
            },
            "type": "bar"
           }
          ],
          "barpolar": [
           {
            "marker": {
             "line": {
              "color": "#E5ECF6",
              "width": 0.5
             },
             "pattern": {
              "fillmode": "overlay",
              "size": 10,
              "solidity": 0.2
             }
            },
            "type": "barpolar"
           }
          ],
          "carpet": [
           {
            "aaxis": {
             "endlinecolor": "#2a3f5f",
             "gridcolor": "white",
             "linecolor": "white",
             "minorgridcolor": "white",
             "startlinecolor": "#2a3f5f"
            },
            "baxis": {
             "endlinecolor": "#2a3f5f",
             "gridcolor": "white",
             "linecolor": "white",
             "minorgridcolor": "white",
             "startlinecolor": "#2a3f5f"
            },
            "type": "carpet"
           }
          ],
          "choropleth": [
           {
            "colorbar": {
             "outlinewidth": 0,
             "ticks": ""
            },
            "type": "choropleth"
           }
          ],
          "contour": [
           {
            "colorbar": {
             "outlinewidth": 0,
             "ticks": ""
            },
            "colorscale": [
             [
              0,
              "#0d0887"
             ],
             [
              0.1111111111111111,
              "#46039f"
             ],
             [
              0.2222222222222222,
              "#7201a8"
             ],
             [
              0.3333333333333333,
              "#9c179e"
             ],
             [
              0.4444444444444444,
              "#bd3786"
             ],
             [
              0.5555555555555556,
              "#d8576b"
             ],
             [
              0.6666666666666666,
              "#ed7953"
             ],
             [
              0.7777777777777778,
              "#fb9f3a"
             ],
             [
              0.8888888888888888,
              "#fdca26"
             ],
             [
              1,
              "#f0f921"
             ]
            ],
            "type": "contour"
           }
          ],
          "contourcarpet": [
           {
            "colorbar": {
             "outlinewidth": 0,
             "ticks": ""
            },
            "type": "contourcarpet"
           }
          ],
          "heatmap": [
           {
            "colorbar": {
             "outlinewidth": 0,
             "ticks": ""
            },
            "colorscale": [
             [
              0,
              "#0d0887"
             ],
             [
              0.1111111111111111,
              "#46039f"
             ],
             [
              0.2222222222222222,
              "#7201a8"
             ],
             [
              0.3333333333333333,
              "#9c179e"
             ],
             [
              0.4444444444444444,
              "#bd3786"
             ],
             [
              0.5555555555555556,
              "#d8576b"
             ],
             [
              0.6666666666666666,
              "#ed7953"
             ],
             [
              0.7777777777777778,
              "#fb9f3a"
             ],
             [
              0.8888888888888888,
              "#fdca26"
             ],
             [
              1,
              "#f0f921"
             ]
            ],
            "type": "heatmap"
           }
          ],
          "heatmapgl": [
           {
            "colorbar": {
             "outlinewidth": 0,
             "ticks": ""
            },
            "colorscale": [
             [
              0,
              "#0d0887"
             ],
             [
              0.1111111111111111,
              "#46039f"
             ],
             [
              0.2222222222222222,
              "#7201a8"
             ],
             [
              0.3333333333333333,
              "#9c179e"
             ],
             [
              0.4444444444444444,
              "#bd3786"
             ],
             [
              0.5555555555555556,
              "#d8576b"
             ],
             [
              0.6666666666666666,
              "#ed7953"
             ],
             [
              0.7777777777777778,
              "#fb9f3a"
             ],
             [
              0.8888888888888888,
              "#fdca26"
             ],
             [
              1,
              "#f0f921"
             ]
            ],
            "type": "heatmapgl"
           }
          ],
          "histogram": [
           {
            "marker": {
             "pattern": {
              "fillmode": "overlay",
              "size": 10,
              "solidity": 0.2
             }
            },
            "type": "histogram"
           }
          ],
          "histogram2d": [
           {
            "colorbar": {
             "outlinewidth": 0,
             "ticks": ""
            },
            "colorscale": [
             [
              0,
              "#0d0887"
             ],
             [
              0.1111111111111111,
              "#46039f"
             ],
             [
              0.2222222222222222,
              "#7201a8"
             ],
             [
              0.3333333333333333,
              "#9c179e"
             ],
             [
              0.4444444444444444,
              "#bd3786"
             ],
             [
              0.5555555555555556,
              "#d8576b"
             ],
             [
              0.6666666666666666,
              "#ed7953"
             ],
             [
              0.7777777777777778,
              "#fb9f3a"
             ],
             [
              0.8888888888888888,
              "#fdca26"
             ],
             [
              1,
              "#f0f921"
             ]
            ],
            "type": "histogram2d"
           }
          ],
          "histogram2dcontour": [
           {
            "colorbar": {
             "outlinewidth": 0,
             "ticks": ""
            },
            "colorscale": [
             [
              0,
              "#0d0887"
             ],
             [
              0.1111111111111111,
              "#46039f"
             ],
             [
              0.2222222222222222,
              "#7201a8"
             ],
             [
              0.3333333333333333,
              "#9c179e"
             ],
             [
              0.4444444444444444,
              "#bd3786"
             ],
             [
              0.5555555555555556,
              "#d8576b"
             ],
             [
              0.6666666666666666,
              "#ed7953"
             ],
             [
              0.7777777777777778,
              "#fb9f3a"
             ],
             [
              0.8888888888888888,
              "#fdca26"
             ],
             [
              1,
              "#f0f921"
             ]
            ],
            "type": "histogram2dcontour"
           }
          ],
          "mesh3d": [
           {
            "colorbar": {
             "outlinewidth": 0,
             "ticks": ""
            },
            "type": "mesh3d"
           }
          ],
          "parcoords": [
           {
            "line": {
             "colorbar": {
              "outlinewidth": 0,
              "ticks": ""
             }
            },
            "type": "parcoords"
           }
          ],
          "pie": [
           {
            "automargin": true,
            "type": "pie"
           }
          ],
          "scatter": [
           {
            "fillpattern": {
             "fillmode": "overlay",
             "size": 10,
             "solidity": 0.2
            },
            "type": "scatter"
           }
          ],
          "scatter3d": [
           {
            "line": {
             "colorbar": {
              "outlinewidth": 0,
              "ticks": ""
             }
            },
            "marker": {
             "colorbar": {
              "outlinewidth": 0,
              "ticks": ""
             }
            },
            "type": "scatter3d"
           }
          ],
          "scattercarpet": [
           {
            "marker": {
             "colorbar": {
              "outlinewidth": 0,
              "ticks": ""
             }
            },
            "type": "scattercarpet"
           }
          ],
          "scattergeo": [
           {
            "marker": {
             "colorbar": {
              "outlinewidth": 0,
              "ticks": ""
             }
            },
            "type": "scattergeo"
           }
          ],
          "scattergl": [
           {
            "marker": {
             "colorbar": {
              "outlinewidth": 0,
              "ticks": ""
             }
            },
            "type": "scattergl"
           }
          ],
          "scattermapbox": [
           {
            "marker": {
             "colorbar": {
              "outlinewidth": 0,
              "ticks": ""
             }
            },
            "type": "scattermapbox"
           }
          ],
          "scatterpolar": [
           {
            "marker": {
             "colorbar": {
              "outlinewidth": 0,
              "ticks": ""
             }
            },
            "type": "scatterpolar"
           }
          ],
          "scatterpolargl": [
           {
            "marker": {
             "colorbar": {
              "outlinewidth": 0,
              "ticks": ""
             }
            },
            "type": "scatterpolargl"
           }
          ],
          "scatterternary": [
           {
            "marker": {
             "colorbar": {
              "outlinewidth": 0,
              "ticks": ""
             }
            },
            "type": "scatterternary"
           }
          ],
          "surface": [
           {
            "colorbar": {
             "outlinewidth": 0,
             "ticks": ""
            },
            "colorscale": [
             [
              0,
              "#0d0887"
             ],
             [
              0.1111111111111111,
              "#46039f"
             ],
             [
              0.2222222222222222,
              "#7201a8"
             ],
             [
              0.3333333333333333,
              "#9c179e"
             ],
             [
              0.4444444444444444,
              "#bd3786"
             ],
             [
              0.5555555555555556,
              "#d8576b"
             ],
             [
              0.6666666666666666,
              "#ed7953"
             ],
             [
              0.7777777777777778,
              "#fb9f3a"
             ],
             [
              0.8888888888888888,
              "#fdca26"
             ],
             [
              1,
              "#f0f921"
             ]
            ],
            "type": "surface"
           }
          ],
          "table": [
           {
            "cells": {
             "fill": {
              "color": "#EBF0F8"
             },
             "line": {
              "color": "white"
             }
            },
            "header": {
             "fill": {
              "color": "#C8D4E3"
             },
             "line": {
              "color": "white"
             }
            },
            "type": "table"
           }
          ]
         },
         "layout": {
          "annotationdefaults": {
           "arrowcolor": "#2a3f5f",
           "arrowhead": 0,
           "arrowwidth": 1
          },
          "autotypenumbers": "strict",
          "coloraxis": {
           "colorbar": {
            "outlinewidth": 0,
            "ticks": ""
           }
          },
          "colorscale": {
           "diverging": [
            [
             0,
             "#8e0152"
            ],
            [
             0.1,
             "#c51b7d"
            ],
            [
             0.2,
             "#de77ae"
            ],
            [
             0.3,
             "#f1b6da"
            ],
            [
             0.4,
             "#fde0ef"
            ],
            [
             0.5,
             "#f7f7f7"
            ],
            [
             0.6,
             "#e6f5d0"
            ],
            [
             0.7,
             "#b8e186"
            ],
            [
             0.8,
             "#7fbc41"
            ],
            [
             0.9,
             "#4d9221"
            ],
            [
             1,
             "#276419"
            ]
           ],
           "sequential": [
            [
             0,
             "#0d0887"
            ],
            [
             0.1111111111111111,
             "#46039f"
            ],
            [
             0.2222222222222222,
             "#7201a8"
            ],
            [
             0.3333333333333333,
             "#9c179e"
            ],
            [
             0.4444444444444444,
             "#bd3786"
            ],
            [
             0.5555555555555556,
             "#d8576b"
            ],
            [
             0.6666666666666666,
             "#ed7953"
            ],
            [
             0.7777777777777778,
             "#fb9f3a"
            ],
            [
             0.8888888888888888,
             "#fdca26"
            ],
            [
             1,
             "#f0f921"
            ]
           ],
           "sequentialminus": [
            [
             0,
             "#0d0887"
            ],
            [
             0.1111111111111111,
             "#46039f"
            ],
            [
             0.2222222222222222,
             "#7201a8"
            ],
            [
             0.3333333333333333,
             "#9c179e"
            ],
            [
             0.4444444444444444,
             "#bd3786"
            ],
            [
             0.5555555555555556,
             "#d8576b"
            ],
            [
             0.6666666666666666,
             "#ed7953"
            ],
            [
             0.7777777777777778,
             "#fb9f3a"
            ],
            [
             0.8888888888888888,
             "#fdca26"
            ],
            [
             1,
             "#f0f921"
            ]
           ]
          },
          "colorway": [
           "#636efa",
           "#EF553B",
           "#00cc96",
           "#ab63fa",
           "#FFA15A",
           "#19d3f3",
           "#FF6692",
           "#B6E880",
           "#FF97FF",
           "#FECB52"
          ],
          "font": {
           "color": "#2a3f5f"
          },
          "geo": {
           "bgcolor": "white",
           "lakecolor": "white",
           "landcolor": "#E5ECF6",
           "showlakes": true,
           "showland": true,
           "subunitcolor": "white"
          },
          "hoverlabel": {
           "align": "left"
          },
          "hovermode": "closest",
          "mapbox": {
           "style": "light"
          },
          "paper_bgcolor": "white",
          "plot_bgcolor": "#E5ECF6",
          "polar": {
           "angularaxis": {
            "gridcolor": "white",
            "linecolor": "white",
            "ticks": ""
           },
           "bgcolor": "#E5ECF6",
           "radialaxis": {
            "gridcolor": "white",
            "linecolor": "white",
            "ticks": ""
           }
          },
          "scene": {
           "xaxis": {
            "backgroundcolor": "#E5ECF6",
            "gridcolor": "white",
            "gridwidth": 2,
            "linecolor": "white",
            "showbackground": true,
            "ticks": "",
            "zerolinecolor": "white"
           },
           "yaxis": {
            "backgroundcolor": "#E5ECF6",
            "gridcolor": "white",
            "gridwidth": 2,
            "linecolor": "white",
            "showbackground": true,
            "ticks": "",
            "zerolinecolor": "white"
           },
           "zaxis": {
            "backgroundcolor": "#E5ECF6",
            "gridcolor": "white",
            "gridwidth": 2,
            "linecolor": "white",
            "showbackground": true,
            "ticks": "",
            "zerolinecolor": "white"
           }
          },
          "shapedefaults": {
           "line": {
            "color": "#2a3f5f"
           }
          },
          "ternary": {
           "aaxis": {
            "gridcolor": "white",
            "linecolor": "white",
            "ticks": ""
           },
           "baxis": {
            "gridcolor": "white",
            "linecolor": "white",
            "ticks": ""
           },
           "bgcolor": "#E5ECF6",
           "caxis": {
            "gridcolor": "white",
            "linecolor": "white",
            "ticks": ""
           }
          },
          "title": {
           "x": 0.05
          },
          "xaxis": {
           "automargin": true,
           "gridcolor": "white",
           "linecolor": "white",
           "ticks": "",
           "title": {
            "standoff": 15
           },
           "zerolinecolor": "white",
           "zerolinewidth": 2
          },
          "yaxis": {
           "automargin": true,
           "gridcolor": "white",
           "linecolor": "white",
           "ticks": "",
           "title": {
            "standoff": 15
           },
           "zerolinecolor": "white",
           "zerolinewidth": 2
          }
         }
        }
       }
      }
     },
     "metadata": {},
     "output_type": "display_data"
    }
   ],
   "source": [
    "import plotly.graph_objects as go\n",
    "\n",
    "# Line traces\n",
    "lines = []\n",
    "for _, row in df.iterrows():\n",
    "    lines.append(\n",
    "        go.Scattermapbox(\n",
    "            mode=\"lines\",\n",
    "            lon=[row['start_station_longitude'], row['end_station_longitude']],\n",
    "            lat=[row['start_station_latitude'], row['end_station_latitude']],\n",
    "            line=dict(width=1, color='blue'),\n",
    "            showlegend=False\n",
    "        )\n",
    "    )\n",
    "\n",
    "# Show bike IDs directly on the map at start station\n",
    "bikeid_labels = go.Scattermapbox(\n",
    "    mode=\"text\",\n",
    "    lon=df['start_station_longitude'],\n",
    "    lat=df['start_station_latitude'],\n",
    "    text=df['bikeid'].astype(str),  # Make sure it's a string\n",
    "    textposition=\"top right\",\n",
    "    name=\"Bike IDs\",\n",
    "    showlegend=False\n",
    ")\n",
    "\n",
    "# Optional: start and end markers\n",
    "start_points = go.Scattermapbox(\n",
    "    mode=\"markers\",\n",
    "    lon=df['start_station_longitude'],\n",
    "    lat=df['start_station_latitude'],\n",
    "    marker=dict(size=5, color='green'),\n",
    "    name='Start Stations'\n",
    ")\n",
    "\n",
    "end_points = go.Scattermapbox(\n",
    "    mode=\"markers\",\n",
    "    lon=df['end_station_longitude'],\n",
    "    lat=df['end_station_latitude'],\n",
    "    marker=dict(size=5, color='red'),\n",
    "    name='End Stations'\n",
    ")\n",
    "\n",
    "# Final figure\n",
    "fig = go.Figure(data=lines + [start_points, end_points, bikeid_labels])\n",
    "fig.update_layout(\n",
    "    mapbox_style=\"open-street-map\",\n",
    "    mapbox_zoom=12,\n",
    "    mapbox_center={\n",
    "        \"lat\": df['start_station_latitude'].mean(),\n",
    "        \"lon\": df['start_station_longitude'].mean()\n",
    "    },\n",
    "    height=700,\n",
    "    showlegend=True\n",
    ")\n",
    "\n",
    "fig.show()\n"
   ]
  },
  {
   "cell_type": "code",
   "execution_count": 12,
   "id": "29a97054",
   "metadata": {},
   "outputs": [
    {
     "name": "stderr",
     "output_type": "stream",
     "text": [
      "C:\\Users\\tanju\\AppData\\Local\\Temp\\ipykernel_21636\\338554674.py:1: SettingWithCopyWarning: \n",
      "A value is trying to be set on a copy of a slice from a DataFrame.\n",
      "Try using .loc[row_indexer,col_indexer] = value instead\n",
      "\n",
      "See the caveats in the documentation: https://pandas.pydata.org/pandas-docs/stable/user_guide/indexing.html#returning-a-view-versus-a-copy\n",
      "  df_new['tripduration_minutes'] = df['tripduration']/60\n"
     ]
    }
   ],
   "source": [
    "df_new['tripduration_minutes'] = df['tripduration']/60"
   ]
  },
  {
   "cell_type": "code",
   "execution_count": 13,
   "id": "88695530",
   "metadata": {},
   "outputs": [
    {
     "data": {
      "text/html": [
       "<div>\n",
       "<style scoped>\n",
       "    .dataframe tbody tr th:only-of-type {\n",
       "        vertical-align: middle;\n",
       "    }\n",
       "\n",
       "    .dataframe tbody tr th {\n",
       "        vertical-align: top;\n",
       "    }\n",
       "\n",
       "    .dataframe thead th {\n",
       "        text-align: right;\n",
       "    }\n",
       "</style>\n",
       "<table border=\"1\" class=\"dataframe\">\n",
       "  <thead>\n",
       "    <tr style=\"text-align: right;\">\n",
       "      <th></th>\n",
       "      <th>tripduration</th>\n",
       "      <th>starttime</th>\n",
       "      <th>stoptime</th>\n",
       "      <th>start_station_id</th>\n",
       "      <th>start_station_name</th>\n",
       "      <th>start_station_latitude</th>\n",
       "      <th>start_station_longitude</th>\n",
       "      <th>end_station_id</th>\n",
       "      <th>end_station_name</th>\n",
       "      <th>end_station_latitude</th>\n",
       "      <th>end_station_longitude</th>\n",
       "      <th>bikeid</th>\n",
       "      <th>usertype</th>\n",
       "      <th>birth_year</th>\n",
       "      <th>gender</th>\n",
       "      <th>customer_plan</th>\n",
       "      <th>tripduration_minutes</th>\n",
       "    </tr>\n",
       "  </thead>\n",
       "  <tbody>\n",
       "    <tr>\n",
       "      <th>0</th>\n",
       "      <td>996</td>\n",
       "      <td>2014-03-26 22:01:16</td>\n",
       "      <td>2014-03-26 22:17:52</td>\n",
       "      <td>536</td>\n",
       "      <td>1 Ave &amp; E 30 St</td>\n",
       "      <td>40.741444</td>\n",
       "      <td>-73.975361</td>\n",
       "      <td>502</td>\n",
       "      <td>Henry St &amp; Grand St</td>\n",
       "      <td>40.714215</td>\n",
       "      <td>-73.981346</td>\n",
       "      <td>16671</td>\n",
       "      <td>Subscriber</td>\n",
       "      <td>1996</td>\n",
       "      <td>male</td>\n",
       "      <td></td>\n",
       "      <td>16.600000</td>\n",
       "    </tr>\n",
       "    <tr>\n",
       "      <th>1</th>\n",
       "      <td>1497</td>\n",
       "      <td>2017-10-20 12:17:07</td>\n",
       "      <td>2017-10-20 12:42:05</td>\n",
       "      <td>433</td>\n",
       "      <td>E 13 St &amp; Avenue A</td>\n",
       "      <td>40.729554</td>\n",
       "      <td>-73.980572</td>\n",
       "      <td>315</td>\n",
       "      <td>South St &amp; Gouverneur Ln</td>\n",
       "      <td>40.703554</td>\n",
       "      <td>-74.006702</td>\n",
       "      <td>31012</td>\n",
       "      <td>Subscriber</td>\n",
       "      <td>1952</td>\n",
       "      <td>male</td>\n",
       "      <td></td>\n",
       "      <td>24.950000</td>\n",
       "    </tr>\n",
       "    <tr>\n",
       "      <th>2</th>\n",
       "      <td>726</td>\n",
       "      <td>2017-05-30 23:32:44</td>\n",
       "      <td>2017-05-30 23:44:51</td>\n",
       "      <td>377</td>\n",
       "      <td>6 Ave &amp; Canal St</td>\n",
       "      <td>40.722438</td>\n",
       "      <td>-74.005664</td>\n",
       "      <td>295</td>\n",
       "      <td>Pike St &amp; E Broadway</td>\n",
       "      <td>40.714067</td>\n",
       "      <td>-73.992939</td>\n",
       "      <td>19690</td>\n",
       "      <td>Subscriber</td>\n",
       "      <td>1945</td>\n",
       "      <td>male</td>\n",
       "      <td></td>\n",
       "      <td>12.100000</td>\n",
       "    </tr>\n",
       "    <tr>\n",
       "      <th>3</th>\n",
       "      <td>358</td>\n",
       "      <td>2017-04-02 11:25:28</td>\n",
       "      <td>2017-04-02 11:31:26</td>\n",
       "      <td>470</td>\n",
       "      <td>W 20 St &amp; 8 Ave</td>\n",
       "      <td>40.743453</td>\n",
       "      <td>-74.000040</td>\n",
       "      <td>253</td>\n",
       "      <td>W 13 St &amp; 5 Ave</td>\n",
       "      <td>40.735439</td>\n",
       "      <td>-73.994539</td>\n",
       "      <td>27041</td>\n",
       "      <td>Subscriber</td>\n",
       "      <td>1996</td>\n",
       "      <td>male</td>\n",
       "      <td></td>\n",
       "      <td>5.966667</td>\n",
       "    </tr>\n",
       "    <tr>\n",
       "      <th>4</th>\n",
       "      <td>203</td>\n",
       "      <td>2014-12-26 13:55:50</td>\n",
       "      <td>2014-12-26 13:59:13</td>\n",
       "      <td>245</td>\n",
       "      <td>Myrtle Ave &amp; St Edwards St</td>\n",
       "      <td>40.693270</td>\n",
       "      <td>-73.977039</td>\n",
       "      <td>390</td>\n",
       "      <td>Duffield St &amp; Willoughby St</td>\n",
       "      <td>40.692216</td>\n",
       "      <td>-73.984284</td>\n",
       "      <td>17625</td>\n",
       "      <td>Subscriber</td>\n",
       "      <td>1949</td>\n",
       "      <td>male</td>\n",
       "      <td></td>\n",
       "      <td>3.383333</td>\n",
       "    </tr>\n",
       "  </tbody>\n",
       "</table>\n",
       "</div>"
      ],
      "text/plain": [
       "   tripduration           starttime            stoptime  start_station_id  \\\n",
       "0           996 2014-03-26 22:01:16 2014-03-26 22:17:52               536   \n",
       "1          1497 2017-10-20 12:17:07 2017-10-20 12:42:05               433   \n",
       "2           726 2017-05-30 23:32:44 2017-05-30 23:44:51               377   \n",
       "3           358 2017-04-02 11:25:28 2017-04-02 11:31:26               470   \n",
       "4           203 2014-12-26 13:55:50 2014-12-26 13:59:13               245   \n",
       "\n",
       "           start_station_name  start_station_latitude  \\\n",
       "0             1 Ave & E 30 St               40.741444   \n",
       "1          E 13 St & Avenue A               40.729554   \n",
       "2            6 Ave & Canal St               40.722438   \n",
       "3             W 20 St & 8 Ave               40.743453   \n",
       "4  Myrtle Ave & St Edwards St               40.693270   \n",
       "\n",
       "   start_station_longitude  end_station_id             end_station_name  \\\n",
       "0               -73.975361             502          Henry St & Grand St   \n",
       "1               -73.980572             315     South St & Gouverneur Ln   \n",
       "2               -74.005664             295         Pike St & E Broadway   \n",
       "3               -74.000040             253              W 13 St & 5 Ave   \n",
       "4               -73.977039             390  Duffield St & Willoughby St   \n",
       "\n",
       "   end_station_latitude  end_station_longitude  bikeid    usertype  \\\n",
       "0             40.714215             -73.981346   16671  Subscriber   \n",
       "1             40.703554             -74.006702   31012  Subscriber   \n",
       "2             40.714067             -73.992939   19690  Subscriber   \n",
       "3             40.735439             -73.994539   27041  Subscriber   \n",
       "4             40.692216             -73.984284   17625  Subscriber   \n",
       "\n",
       "   birth_year gender customer_plan  tripduration_minutes  \n",
       "0        1996   male                           16.600000  \n",
       "1        1952   male                           24.950000  \n",
       "2        1945   male                           12.100000  \n",
       "3        1996   male                            5.966667  \n",
       "4        1949   male                            3.383333  "
      ]
     },
     "execution_count": 13,
     "metadata": {},
     "output_type": "execute_result"
    }
   ],
   "source": [
    "df_new.head()"
   ]
  },
  {
   "cell_type": "code",
   "execution_count": 41,
   "id": "244ff0b4",
   "metadata": {},
   "outputs": [
    {
     "data": {
      "text/plain": [
       "Timestamp('2013-07-05 06:33:25')"
      ]
     },
     "execution_count": 41,
     "metadata": {},
     "output_type": "execute_result"
    }
   ],
   "source": [
    "df_new['starttime'].min()"
   ]
  },
  {
   "cell_type": "code",
   "execution_count": 49,
   "id": "e65ccc06",
   "metadata": {},
   "outputs": [
    {
     "data": {
      "text/plain": [
       "Timestamp('2018-05-30 15:35:08.183000')"
      ]
     },
     "execution_count": 49,
     "metadata": {},
     "output_type": "execute_result"
    }
   ],
   "source": [
    "df_new['starttime'].max()"
   ]
  },
  {
   "cell_type": "code",
   "execution_count": null,
   "id": "2e4eacfb",
   "metadata": {},
   "outputs": [
    {
     "data": {
      "text/plain": [
       "1886"
      ]
     },
     "execution_count": 42,
     "metadata": {},
     "output_type": "execute_result"
    }
   ],
   "source": [
    "df_new['birth_year'].min()"
   ]
  },
  {
   "cell_type": "code",
   "execution_count": 60,
   "id": "61f8161a",
   "metadata": {},
   "outputs": [
    {
     "data": {
      "text/plain": [
       "0"
      ]
     },
     "execution_count": 60,
     "metadata": {},
     "output_type": "execute_result"
    }
   ],
   "source": [
    "df_new['birth_year'].isnull().sum()"
   ]
  },
  {
   "cell_type": "code",
   "execution_count": 59,
   "id": "0afdc623",
   "metadata": {},
   "outputs": [
    {
     "data": {
      "text/plain": [
       "array([1996, 1952, 1945, 1949, 1997, 1940, 1951, 1942, 1998, 1943, 1999,\n",
       "       1917, 1913, 1950, 1948, 1947, 2000, 1946, 1944, 1938, 1941, 1900,\n",
       "       1937, 1899, 1936, 1901, 2001, 1935, 1934, 1939, 1910, 1886],\n",
       "      dtype=int64)"
      ]
     },
     "execution_count": 59,
     "metadata": {},
     "output_type": "execute_result"
    }
   ],
   "source": [
    "df_new['birth_year'].unique()"
   ]
  },
  {
   "cell_type": "code",
   "execution_count": 58,
   "id": "2175ef64",
   "metadata": {},
   "outputs": [
    {
     "data": {
      "text/html": [
       "<div>\n",
       "<style scoped>\n",
       "    .dataframe tbody tr th:only-of-type {\n",
       "        vertical-align: middle;\n",
       "    }\n",
       "\n",
       "    .dataframe tbody tr th {\n",
       "        vertical-align: top;\n",
       "    }\n",
       "\n",
       "    .dataframe thead th {\n",
       "        text-align: right;\n",
       "    }\n",
       "</style>\n",
       "<table border=\"1\" class=\"dataframe\">\n",
       "  <thead>\n",
       "    <tr style=\"text-align: right;\">\n",
       "      <th></th>\n",
       "      <th>tripduration</th>\n",
       "      <th>starttime</th>\n",
       "      <th>stoptime</th>\n",
       "      <th>start_station_id</th>\n",
       "      <th>start_station_name</th>\n",
       "      <th>start_station_latitude</th>\n",
       "      <th>start_station_longitude</th>\n",
       "      <th>end_station_id</th>\n",
       "      <th>end_station_name</th>\n",
       "      <th>end_station_latitude</th>\n",
       "      <th>end_station_longitude</th>\n",
       "      <th>bikeid</th>\n",
       "      <th>usertype</th>\n",
       "      <th>birth_year</th>\n",
       "      <th>gender</th>\n",
       "      <th>customer_plan</th>\n",
       "      <th>tripduration_minutes</th>\n",
       "      <th>year</th>\n",
       "    </tr>\n",
       "  </thead>\n",
       "  <tbody>\n",
       "    <tr>\n",
       "      <th>614</th>\n",
       "      <td>2426</td>\n",
       "      <td>2016-09-25 10:00:48</td>\n",
       "      <td>2016-09-25 10:41:15</td>\n",
       "      <td>3423</td>\n",
       "      <td>West Drive &amp; Prospect Park West</td>\n",
       "      <td>40.661063</td>\n",
       "      <td>-73.979453</td>\n",
       "      <td>217</td>\n",
       "      <td>Old Fulton St</td>\n",
       "      <td>40.702772</td>\n",
       "      <td>-73.993836</td>\n",
       "      <td>23979</td>\n",
       "      <td>Subscriber</td>\n",
       "      <td>1886</td>\n",
       "      <td>male</td>\n",
       "      <td></td>\n",
       "      <td>40.433333</td>\n",
       "      <td>2016</td>\n",
       "    </tr>\n",
       "  </tbody>\n",
       "</table>\n",
       "</div>"
      ],
      "text/plain": [
       "     tripduration           starttime            stoptime  start_station_id  \\\n",
       "614          2426 2016-09-25 10:00:48 2016-09-25 10:41:15              3423   \n",
       "\n",
       "                  start_station_name  start_station_latitude  \\\n",
       "614  West Drive & Prospect Park West               40.661063   \n",
       "\n",
       "     start_station_longitude  end_station_id end_station_name  \\\n",
       "614               -73.979453             217    Old Fulton St   \n",
       "\n",
       "     end_station_latitude  end_station_longitude  bikeid    usertype  \\\n",
       "614             40.702772             -73.993836   23979  Subscriber   \n",
       "\n",
       "     birth_year gender customer_plan  tripduration_minutes  year  \n",
       "614        1886   male                           40.433333  2016  "
      ]
     },
     "execution_count": 58,
     "metadata": {},
     "output_type": "execute_result"
    }
   ],
   "source": [
    "df_new[df_new['birth_year'] == 1886]"
   ]
  },
  {
   "cell_type": "code",
   "execution_count": 29,
   "id": "f0aaae4e",
   "metadata": {},
   "outputs": [
    {
     "name": "stderr",
     "output_type": "stream",
     "text": [
      "C:\\Users\\tanju\\AppData\\Local\\Temp\\ipykernel_21636\\2439944409.py:1: SettingWithCopyWarning:\n",
      "\n",
      "\n",
      "A value is trying to be set on a copy of a slice from a DataFrame.\n",
      "Try using .loc[row_indexer,col_indexer] = value instead\n",
      "\n",
      "See the caveats in the documentation: https://pandas.pydata.org/pandas-docs/stable/user_guide/indexing.html#returning-a-view-versus-a-copy\n",
      "\n"
     ]
    }
   ],
   "source": [
    "df_new['year'] = df_new['starttime'].dt.year"
   ]
  },
  {
   "cell_type": "code",
   "execution_count": 31,
   "id": "13302224",
   "metadata": {},
   "outputs": [
    {
     "data": {
      "text/html": [
       "<div>\n",
       "<style scoped>\n",
       "    .dataframe tbody tr th:only-of-type {\n",
       "        vertical-align: middle;\n",
       "    }\n",
       "\n",
       "    .dataframe tbody tr th {\n",
       "        vertical-align: top;\n",
       "    }\n",
       "\n",
       "    .dataframe thead th {\n",
       "        text-align: right;\n",
       "    }\n",
       "</style>\n",
       "<table border=\"1\" class=\"dataframe\">\n",
       "  <thead>\n",
       "    <tr style=\"text-align: right;\">\n",
       "      <th></th>\n",
       "      <th>tripduration</th>\n",
       "      <th>starttime</th>\n",
       "      <th>stoptime</th>\n",
       "      <th>start_station_id</th>\n",
       "      <th>start_station_name</th>\n",
       "      <th>start_station_latitude</th>\n",
       "      <th>start_station_longitude</th>\n",
       "      <th>end_station_id</th>\n",
       "      <th>end_station_name</th>\n",
       "      <th>end_station_latitude</th>\n",
       "      <th>end_station_longitude</th>\n",
       "      <th>bikeid</th>\n",
       "      <th>usertype</th>\n",
       "      <th>birth_year</th>\n",
       "      <th>gender</th>\n",
       "      <th>customer_plan</th>\n",
       "      <th>tripduration_minutes</th>\n",
       "      <th>year</th>\n",
       "    </tr>\n",
       "  </thead>\n",
       "  <tbody>\n",
       "    <tr>\n",
       "      <th>0</th>\n",
       "      <td>996</td>\n",
       "      <td>2014-03-26 22:01:16</td>\n",
       "      <td>2014-03-26 22:17:52</td>\n",
       "      <td>536</td>\n",
       "      <td>1 Ave &amp; E 30 St</td>\n",
       "      <td>40.741444</td>\n",
       "      <td>-73.975361</td>\n",
       "      <td>502</td>\n",
       "      <td>Henry St &amp; Grand St</td>\n",
       "      <td>40.714215</td>\n",
       "      <td>-73.981346</td>\n",
       "      <td>16671</td>\n",
       "      <td>Subscriber</td>\n",
       "      <td>1996</td>\n",
       "      <td>male</td>\n",
       "      <td></td>\n",
       "      <td>16.600000</td>\n",
       "      <td>2014</td>\n",
       "    </tr>\n",
       "    <tr>\n",
       "      <th>1</th>\n",
       "      <td>1497</td>\n",
       "      <td>2017-10-20 12:17:07</td>\n",
       "      <td>2017-10-20 12:42:05</td>\n",
       "      <td>433</td>\n",
       "      <td>E 13 St &amp; Avenue A</td>\n",
       "      <td>40.729554</td>\n",
       "      <td>-73.980572</td>\n",
       "      <td>315</td>\n",
       "      <td>South St &amp; Gouverneur Ln</td>\n",
       "      <td>40.703554</td>\n",
       "      <td>-74.006702</td>\n",
       "      <td>31012</td>\n",
       "      <td>Subscriber</td>\n",
       "      <td>1952</td>\n",
       "      <td>male</td>\n",
       "      <td></td>\n",
       "      <td>24.950000</td>\n",
       "      <td>2017</td>\n",
       "    </tr>\n",
       "    <tr>\n",
       "      <th>2</th>\n",
       "      <td>726</td>\n",
       "      <td>2017-05-30 23:32:44</td>\n",
       "      <td>2017-05-30 23:44:51</td>\n",
       "      <td>377</td>\n",
       "      <td>6 Ave &amp; Canal St</td>\n",
       "      <td>40.722438</td>\n",
       "      <td>-74.005664</td>\n",
       "      <td>295</td>\n",
       "      <td>Pike St &amp; E Broadway</td>\n",
       "      <td>40.714067</td>\n",
       "      <td>-73.992939</td>\n",
       "      <td>19690</td>\n",
       "      <td>Subscriber</td>\n",
       "      <td>1945</td>\n",
       "      <td>male</td>\n",
       "      <td></td>\n",
       "      <td>12.100000</td>\n",
       "      <td>2017</td>\n",
       "    </tr>\n",
       "    <tr>\n",
       "      <th>3</th>\n",
       "      <td>358</td>\n",
       "      <td>2017-04-02 11:25:28</td>\n",
       "      <td>2017-04-02 11:31:26</td>\n",
       "      <td>470</td>\n",
       "      <td>W 20 St &amp; 8 Ave</td>\n",
       "      <td>40.743453</td>\n",
       "      <td>-74.000040</td>\n",
       "      <td>253</td>\n",
       "      <td>W 13 St &amp; 5 Ave</td>\n",
       "      <td>40.735439</td>\n",
       "      <td>-73.994539</td>\n",
       "      <td>27041</td>\n",
       "      <td>Subscriber</td>\n",
       "      <td>1996</td>\n",
       "      <td>male</td>\n",
       "      <td></td>\n",
       "      <td>5.966667</td>\n",
       "      <td>2017</td>\n",
       "    </tr>\n",
       "    <tr>\n",
       "      <th>4</th>\n",
       "      <td>203</td>\n",
       "      <td>2014-12-26 13:55:50</td>\n",
       "      <td>2014-12-26 13:59:13</td>\n",
       "      <td>245</td>\n",
       "      <td>Myrtle Ave &amp; St Edwards St</td>\n",
       "      <td>40.693270</td>\n",
       "      <td>-73.977039</td>\n",
       "      <td>390</td>\n",
       "      <td>Duffield St &amp; Willoughby St</td>\n",
       "      <td>40.692216</td>\n",
       "      <td>-73.984284</td>\n",
       "      <td>17625</td>\n",
       "      <td>Subscriber</td>\n",
       "      <td>1949</td>\n",
       "      <td>male</td>\n",
       "      <td></td>\n",
       "      <td>3.383333</td>\n",
       "      <td>2014</td>\n",
       "    </tr>\n",
       "  </tbody>\n",
       "</table>\n",
       "</div>"
      ],
      "text/plain": [
       "   tripduration           starttime            stoptime  start_station_id  \\\n",
       "0           996 2014-03-26 22:01:16 2014-03-26 22:17:52               536   \n",
       "1          1497 2017-10-20 12:17:07 2017-10-20 12:42:05               433   \n",
       "2           726 2017-05-30 23:32:44 2017-05-30 23:44:51               377   \n",
       "3           358 2017-04-02 11:25:28 2017-04-02 11:31:26               470   \n",
       "4           203 2014-12-26 13:55:50 2014-12-26 13:59:13               245   \n",
       "\n",
       "           start_station_name  start_station_latitude  \\\n",
       "0             1 Ave & E 30 St               40.741444   \n",
       "1          E 13 St & Avenue A               40.729554   \n",
       "2            6 Ave & Canal St               40.722438   \n",
       "3             W 20 St & 8 Ave               40.743453   \n",
       "4  Myrtle Ave & St Edwards St               40.693270   \n",
       "\n",
       "   start_station_longitude  end_station_id             end_station_name  \\\n",
       "0               -73.975361             502          Henry St & Grand St   \n",
       "1               -73.980572             315     South St & Gouverneur Ln   \n",
       "2               -74.005664             295         Pike St & E Broadway   \n",
       "3               -74.000040             253              W 13 St & 5 Ave   \n",
       "4               -73.977039             390  Duffield St & Willoughby St   \n",
       "\n",
       "   end_station_latitude  end_station_longitude  bikeid    usertype  \\\n",
       "0             40.714215             -73.981346   16671  Subscriber   \n",
       "1             40.703554             -74.006702   31012  Subscriber   \n",
       "2             40.714067             -73.992939   19690  Subscriber   \n",
       "3             40.735439             -73.994539   27041  Subscriber   \n",
       "4             40.692216             -73.984284   17625  Subscriber   \n",
       "\n",
       "   birth_year gender customer_plan  tripduration_minutes  year  \n",
       "0        1996   male                           16.600000  2014  \n",
       "1        1952   male                           24.950000  2017  \n",
       "2        1945   male                           12.100000  2017  \n",
       "3        1996   male                            5.966667  2017  \n",
       "4        1949   male                            3.383333  2014  "
      ]
     },
     "execution_count": 31,
     "metadata": {},
     "output_type": "execute_result"
    }
   ],
   "source": [
    "df_new.head()"
   ]
  },
  {
   "cell_type": "code",
   "execution_count": 32,
   "id": "02230892",
   "metadata": {},
   "outputs": [
    {
     "data": {
      "text/html": [
       "<div>\n",
       "<style scoped>\n",
       "    .dataframe tbody tr th:only-of-type {\n",
       "        vertical-align: middle;\n",
       "    }\n",
       "\n",
       "    .dataframe tbody tr th {\n",
       "        vertical-align: top;\n",
       "    }\n",
       "\n",
       "    .dataframe thead th {\n",
       "        text-align: right;\n",
       "    }\n",
       "</style>\n",
       "<table border=\"1\" class=\"dataframe\">\n",
       "  <thead>\n",
       "    <tr style=\"text-align: right;\">\n",
       "      <th></th>\n",
       "      <th>year</th>\n",
       "      <th>tripduration_minutes</th>\n",
       "    </tr>\n",
       "  </thead>\n",
       "  <tbody>\n",
       "    <tr>\n",
       "      <th>0</th>\n",
       "      <td>2013</td>\n",
       "      <td>1175.550000</td>\n",
       "    </tr>\n",
       "    <tr>\n",
       "      <th>1</th>\n",
       "      <td>2014</td>\n",
       "      <td>1599.766667</td>\n",
       "    </tr>\n",
       "    <tr>\n",
       "      <th>2</th>\n",
       "      <td>2015</td>\n",
       "      <td>2838.983333</td>\n",
       "    </tr>\n",
       "    <tr>\n",
       "      <th>3</th>\n",
       "      <td>2016</td>\n",
       "      <td>1861.300000</td>\n",
       "    </tr>\n",
       "    <tr>\n",
       "      <th>4</th>\n",
       "      <td>2017</td>\n",
       "      <td>11078.216667</td>\n",
       "    </tr>\n",
       "    <tr>\n",
       "      <th>5</th>\n",
       "      <td>2018</td>\n",
       "      <td>1876.700000</td>\n",
       "    </tr>\n",
       "  </tbody>\n",
       "</table>\n",
       "</div>"
      ],
      "text/plain": [
       "   year  tripduration_minutes\n",
       "0  2013           1175.550000\n",
       "1  2014           1599.766667\n",
       "2  2015           2838.983333\n",
       "3  2016           1861.300000\n",
       "4  2017          11078.216667\n",
       "5  2018           1876.700000"
      ]
     },
     "execution_count": 32,
     "metadata": {},
     "output_type": "execute_result"
    }
   ],
   "source": [
    "df_agg = df_new.groupby('year')['tripduration_minutes'].sum().reset_index()\n",
    "df_agg"
   ]
  },
  {
   "cell_type": "code",
   "execution_count": 45,
   "id": "87fe8eba",
   "metadata": {},
   "outputs": [
    {
     "data": {
      "application/vnd.plotly.v1+json": {
       "config": {
        "plotlyServerURL": "https://plot.ly"
       },
       "data": [
        {
         "hovertemplate": "year=%{x}<br>tripduration_minutes=%{y}<extra></extra>",
         "legendgroup": "",
         "marker": {
          "color": "#636efa",
          "pattern": {
           "shape": ""
          }
         },
         "name": "",
         "orientation": "v",
         "showlegend": false,
         "textposition": "auto",
         "type": "bar",
         "x": {
          "bdata": "3QcAAN4HAADfBwAA4AcAAOEHAADiBwAA",
          "dtype": "i4"
         },
         "xaxis": "x",
         "y": {
          "bdata": "MzMzMzNekkAREREREf+YQHh3d3f3LaZAMzMzMzMVnUC7u7u7G6PFQM3MzMzMUp1A",
          "dtype": "f8"
         },
         "yaxis": "y"
        }
       ],
       "layout": {
        "barmode": "relative",
        "height": 500,
        "legend": {
         "tracegroupgap": 0
        },
        "template": {
         "data": {
          "bar": [
           {
            "error_x": {
             "color": "#2a3f5f"
            },
            "error_y": {
             "color": "#2a3f5f"
            },
            "marker": {
             "line": {
              "color": "#E5ECF6",
              "width": 0.5
             },
             "pattern": {
              "fillmode": "overlay",
              "size": 10,
              "solidity": 0.2
             }
            },
            "type": "bar"
           }
          ],
          "barpolar": [
           {
            "marker": {
             "line": {
              "color": "#E5ECF6",
              "width": 0.5
             },
             "pattern": {
              "fillmode": "overlay",
              "size": 10,
              "solidity": 0.2
             }
            },
            "type": "barpolar"
           }
          ],
          "carpet": [
           {
            "aaxis": {
             "endlinecolor": "#2a3f5f",
             "gridcolor": "white",
             "linecolor": "white",
             "minorgridcolor": "white",
             "startlinecolor": "#2a3f5f"
            },
            "baxis": {
             "endlinecolor": "#2a3f5f",
             "gridcolor": "white",
             "linecolor": "white",
             "minorgridcolor": "white",
             "startlinecolor": "#2a3f5f"
            },
            "type": "carpet"
           }
          ],
          "choropleth": [
           {
            "colorbar": {
             "outlinewidth": 0,
             "ticks": ""
            },
            "type": "choropleth"
           }
          ],
          "contour": [
           {
            "colorbar": {
             "outlinewidth": 0,
             "ticks": ""
            },
            "colorscale": [
             [
              0,
              "#0d0887"
             ],
             [
              0.1111111111111111,
              "#46039f"
             ],
             [
              0.2222222222222222,
              "#7201a8"
             ],
             [
              0.3333333333333333,
              "#9c179e"
             ],
             [
              0.4444444444444444,
              "#bd3786"
             ],
             [
              0.5555555555555556,
              "#d8576b"
             ],
             [
              0.6666666666666666,
              "#ed7953"
             ],
             [
              0.7777777777777778,
              "#fb9f3a"
             ],
             [
              0.8888888888888888,
              "#fdca26"
             ],
             [
              1,
              "#f0f921"
             ]
            ],
            "type": "contour"
           }
          ],
          "contourcarpet": [
           {
            "colorbar": {
             "outlinewidth": 0,
             "ticks": ""
            },
            "type": "contourcarpet"
           }
          ],
          "heatmap": [
           {
            "colorbar": {
             "outlinewidth": 0,
             "ticks": ""
            },
            "colorscale": [
             [
              0,
              "#0d0887"
             ],
             [
              0.1111111111111111,
              "#46039f"
             ],
             [
              0.2222222222222222,
              "#7201a8"
             ],
             [
              0.3333333333333333,
              "#9c179e"
             ],
             [
              0.4444444444444444,
              "#bd3786"
             ],
             [
              0.5555555555555556,
              "#d8576b"
             ],
             [
              0.6666666666666666,
              "#ed7953"
             ],
             [
              0.7777777777777778,
              "#fb9f3a"
             ],
             [
              0.8888888888888888,
              "#fdca26"
             ],
             [
              1,
              "#f0f921"
             ]
            ],
            "type": "heatmap"
           }
          ],
          "histogram": [
           {
            "marker": {
             "pattern": {
              "fillmode": "overlay",
              "size": 10,
              "solidity": 0.2
             }
            },
            "type": "histogram"
           }
          ],
          "histogram2d": [
           {
            "colorbar": {
             "outlinewidth": 0,
             "ticks": ""
            },
            "colorscale": [
             [
              0,
              "#0d0887"
             ],
             [
              0.1111111111111111,
              "#46039f"
             ],
             [
              0.2222222222222222,
              "#7201a8"
             ],
             [
              0.3333333333333333,
              "#9c179e"
             ],
             [
              0.4444444444444444,
              "#bd3786"
             ],
             [
              0.5555555555555556,
              "#d8576b"
             ],
             [
              0.6666666666666666,
              "#ed7953"
             ],
             [
              0.7777777777777778,
              "#fb9f3a"
             ],
             [
              0.8888888888888888,
              "#fdca26"
             ],
             [
              1,
              "#f0f921"
             ]
            ],
            "type": "histogram2d"
           }
          ],
          "histogram2dcontour": [
           {
            "colorbar": {
             "outlinewidth": 0,
             "ticks": ""
            },
            "colorscale": [
             [
              0,
              "#0d0887"
             ],
             [
              0.1111111111111111,
              "#46039f"
             ],
             [
              0.2222222222222222,
              "#7201a8"
             ],
             [
              0.3333333333333333,
              "#9c179e"
             ],
             [
              0.4444444444444444,
              "#bd3786"
             ],
             [
              0.5555555555555556,
              "#d8576b"
             ],
             [
              0.6666666666666666,
              "#ed7953"
             ],
             [
              0.7777777777777778,
              "#fb9f3a"
             ],
             [
              0.8888888888888888,
              "#fdca26"
             ],
             [
              1,
              "#f0f921"
             ]
            ],
            "type": "histogram2dcontour"
           }
          ],
          "mesh3d": [
           {
            "colorbar": {
             "outlinewidth": 0,
             "ticks": ""
            },
            "type": "mesh3d"
           }
          ],
          "parcoords": [
           {
            "line": {
             "colorbar": {
              "outlinewidth": 0,
              "ticks": ""
             }
            },
            "type": "parcoords"
           }
          ],
          "pie": [
           {
            "automargin": true,
            "type": "pie"
           }
          ],
          "scatter": [
           {
            "fillpattern": {
             "fillmode": "overlay",
             "size": 10,
             "solidity": 0.2
            },
            "type": "scatter"
           }
          ],
          "scatter3d": [
           {
            "line": {
             "colorbar": {
              "outlinewidth": 0,
              "ticks": ""
             }
            },
            "marker": {
             "colorbar": {
              "outlinewidth": 0,
              "ticks": ""
             }
            },
            "type": "scatter3d"
           }
          ],
          "scattercarpet": [
           {
            "marker": {
             "colorbar": {
              "outlinewidth": 0,
              "ticks": ""
             }
            },
            "type": "scattercarpet"
           }
          ],
          "scattergeo": [
           {
            "marker": {
             "colorbar": {
              "outlinewidth": 0,
              "ticks": ""
             }
            },
            "type": "scattergeo"
           }
          ],
          "scattergl": [
           {
            "marker": {
             "colorbar": {
              "outlinewidth": 0,
              "ticks": ""
             }
            },
            "type": "scattergl"
           }
          ],
          "scattermap": [
           {
            "marker": {
             "colorbar": {
              "outlinewidth": 0,
              "ticks": ""
             }
            },
            "type": "scattermap"
           }
          ],
          "scattermapbox": [
           {
            "marker": {
             "colorbar": {
              "outlinewidth": 0,
              "ticks": ""
             }
            },
            "type": "scattermapbox"
           }
          ],
          "scatterpolar": [
           {
            "marker": {
             "colorbar": {
              "outlinewidth": 0,
              "ticks": ""
             }
            },
            "type": "scatterpolar"
           }
          ],
          "scatterpolargl": [
           {
            "marker": {
             "colorbar": {
              "outlinewidth": 0,
              "ticks": ""
             }
            },
            "type": "scatterpolargl"
           }
          ],
          "scatterternary": [
           {
            "marker": {
             "colorbar": {
              "outlinewidth": 0,
              "ticks": ""
             }
            },
            "type": "scatterternary"
           }
          ],
          "surface": [
           {
            "colorbar": {
             "outlinewidth": 0,
             "ticks": ""
            },
            "colorscale": [
             [
              0,
              "#0d0887"
             ],
             [
              0.1111111111111111,
              "#46039f"
             ],
             [
              0.2222222222222222,
              "#7201a8"
             ],
             [
              0.3333333333333333,
              "#9c179e"
             ],
             [
              0.4444444444444444,
              "#bd3786"
             ],
             [
              0.5555555555555556,
              "#d8576b"
             ],
             [
              0.6666666666666666,
              "#ed7953"
             ],
             [
              0.7777777777777778,
              "#fb9f3a"
             ],
             [
              0.8888888888888888,
              "#fdca26"
             ],
             [
              1,
              "#f0f921"
             ]
            ],
            "type": "surface"
           }
          ],
          "table": [
           {
            "cells": {
             "fill": {
              "color": "#EBF0F8"
             },
             "line": {
              "color": "white"
             }
            },
            "header": {
             "fill": {
              "color": "#C8D4E3"
             },
             "line": {
              "color": "white"
             }
            },
            "type": "table"
           }
          ]
         },
         "layout": {
          "annotationdefaults": {
           "arrowcolor": "#2a3f5f",
           "arrowhead": 0,
           "arrowwidth": 1
          },
          "autotypenumbers": "strict",
          "coloraxis": {
           "colorbar": {
            "outlinewidth": 0,
            "ticks": ""
           }
          },
          "colorscale": {
           "diverging": [
            [
             0,
             "#8e0152"
            ],
            [
             0.1,
             "#c51b7d"
            ],
            [
             0.2,
             "#de77ae"
            ],
            [
             0.3,
             "#f1b6da"
            ],
            [
             0.4,
             "#fde0ef"
            ],
            [
             0.5,
             "#f7f7f7"
            ],
            [
             0.6,
             "#e6f5d0"
            ],
            [
             0.7,
             "#b8e186"
            ],
            [
             0.8,
             "#7fbc41"
            ],
            [
             0.9,
             "#4d9221"
            ],
            [
             1,
             "#276419"
            ]
           ],
           "sequential": [
            [
             0,
             "#0d0887"
            ],
            [
             0.1111111111111111,
             "#46039f"
            ],
            [
             0.2222222222222222,
             "#7201a8"
            ],
            [
             0.3333333333333333,
             "#9c179e"
            ],
            [
             0.4444444444444444,
             "#bd3786"
            ],
            [
             0.5555555555555556,
             "#d8576b"
            ],
            [
             0.6666666666666666,
             "#ed7953"
            ],
            [
             0.7777777777777778,
             "#fb9f3a"
            ],
            [
             0.8888888888888888,
             "#fdca26"
            ],
            [
             1,
             "#f0f921"
            ]
           ],
           "sequentialminus": [
            [
             0,
             "#0d0887"
            ],
            [
             0.1111111111111111,
             "#46039f"
            ],
            [
             0.2222222222222222,
             "#7201a8"
            ],
            [
             0.3333333333333333,
             "#9c179e"
            ],
            [
             0.4444444444444444,
             "#bd3786"
            ],
            [
             0.5555555555555556,
             "#d8576b"
            ],
            [
             0.6666666666666666,
             "#ed7953"
            ],
            [
             0.7777777777777778,
             "#fb9f3a"
            ],
            [
             0.8888888888888888,
             "#fdca26"
            ],
            [
             1,
             "#f0f921"
            ]
           ]
          },
          "colorway": [
           "#636efa",
           "#EF553B",
           "#00cc96",
           "#ab63fa",
           "#FFA15A",
           "#19d3f3",
           "#FF6692",
           "#B6E880",
           "#FF97FF",
           "#FECB52"
          ],
          "font": {
           "color": "#2a3f5f"
          },
          "geo": {
           "bgcolor": "white",
           "lakecolor": "white",
           "landcolor": "#E5ECF6",
           "showlakes": true,
           "showland": true,
           "subunitcolor": "white"
          },
          "hoverlabel": {
           "align": "left"
          },
          "hovermode": "closest",
          "mapbox": {
           "style": "light"
          },
          "paper_bgcolor": "white",
          "plot_bgcolor": "#E5ECF6",
          "polar": {
           "angularaxis": {
            "gridcolor": "white",
            "linecolor": "white",
            "ticks": ""
           },
           "bgcolor": "#E5ECF6",
           "radialaxis": {
            "gridcolor": "white",
            "linecolor": "white",
            "ticks": ""
           }
          },
          "scene": {
           "xaxis": {
            "backgroundcolor": "#E5ECF6",
            "gridcolor": "white",
            "gridwidth": 2,
            "linecolor": "white",
            "showbackground": true,
            "ticks": "",
            "zerolinecolor": "white"
           },
           "yaxis": {
            "backgroundcolor": "#E5ECF6",
            "gridcolor": "white",
            "gridwidth": 2,
            "linecolor": "white",
            "showbackground": true,
            "ticks": "",
            "zerolinecolor": "white"
           },
           "zaxis": {
            "backgroundcolor": "#E5ECF6",
            "gridcolor": "white",
            "gridwidth": 2,
            "linecolor": "white",
            "showbackground": true,
            "ticks": "",
            "zerolinecolor": "white"
           }
          },
          "shapedefaults": {
           "line": {
            "color": "#2a3f5f"
           }
          },
          "ternary": {
           "aaxis": {
            "gridcolor": "white",
            "linecolor": "white",
            "ticks": ""
           },
           "baxis": {
            "gridcolor": "white",
            "linecolor": "white",
            "ticks": ""
           },
           "bgcolor": "#E5ECF6",
           "caxis": {
            "gridcolor": "white",
            "linecolor": "white",
            "ticks": ""
           }
          },
          "title": {
           "x": 0.05
          },
          "xaxis": {
           "automargin": true,
           "gridcolor": "white",
           "linecolor": "white",
           "ticks": "",
           "title": {
            "standoff": 15
           },
           "zerolinecolor": "white",
           "zerolinewidth": 2
          },
          "yaxis": {
           "automargin": true,
           "gridcolor": "white",
           "linecolor": "white",
           "ticks": "",
           "title": {
            "standoff": 15
           },
           "zerolinecolor": "white",
           "zerolinewidth": 2
          }
         }
        },
        "title": {
         "text": "Year vs trip duration"
        },
        "xaxis": {
         "anchor": "y",
         "domain": [
          0,
          1
         ],
         "title": {
          "text": "year"
         }
        },
        "yaxis": {
         "anchor": "x",
         "domain": [
          0,
          1
         ],
         "title": {
          "text": "tripduration_minutes"
         }
        }
       }
      }
     },
     "metadata": {},
     "output_type": "display_data"
    }
   ],
   "source": [
    "fig = px.bar(data_frame=df_agg\n",
    "              , x='year'\n",
    "              , y='tripduration_minutes'\n",
    "              , height=500\n",
    "              , title=\"Year vs trip duration\"\n",
    "              #,color='birth_year'\n",
    "              )\n",
    "fig.show()"
   ]
  },
  {
   "cell_type": "code",
   "execution_count": 63,
   "id": "00350ccc",
   "metadata": {},
   "outputs": [
    {
     "data": {
      "text/html": [
       "<div>\n",
       "<style scoped>\n",
       "    .dataframe tbody tr th:only-of-type {\n",
       "        vertical-align: middle;\n",
       "    }\n",
       "\n",
       "    .dataframe tbody tr th {\n",
       "        vertical-align: top;\n",
       "    }\n",
       "\n",
       "    .dataframe thead th {\n",
       "        text-align: right;\n",
       "    }\n",
       "</style>\n",
       "<table border=\"1\" class=\"dataframe\">\n",
       "  <thead>\n",
       "    <tr style=\"text-align: right;\">\n",
       "      <th></th>\n",
       "      <th>birth_year</th>\n",
       "      <th>tripduration_minutes</th>\n",
       "    </tr>\n",
       "  </thead>\n",
       "  <tbody>\n",
       "    <tr>\n",
       "      <th>0</th>\n",
       "      <td>1886</td>\n",
       "      <td>40.433333</td>\n",
       "    </tr>\n",
       "    <tr>\n",
       "      <th>1</th>\n",
       "      <td>1899</td>\n",
       "      <td>24.716667</td>\n",
       "    </tr>\n",
       "    <tr>\n",
       "      <th>2</th>\n",
       "      <td>1900</td>\n",
       "      <td>36.666667</td>\n",
       "    </tr>\n",
       "    <tr>\n",
       "      <th>3</th>\n",
       "      <td>1901</td>\n",
       "      <td>16.583333</td>\n",
       "    </tr>\n",
       "    <tr>\n",
       "      <th>4</th>\n",
       "      <td>1910</td>\n",
       "      <td>13.450000</td>\n",
       "    </tr>\n",
       "    <tr>\n",
       "      <th>5</th>\n",
       "      <td>1913</td>\n",
       "      <td>21.933333</td>\n",
       "    </tr>\n",
       "    <tr>\n",
       "      <th>6</th>\n",
       "      <td>1917</td>\n",
       "      <td>32.216667</td>\n",
       "    </tr>\n",
       "    <tr>\n",
       "      <th>7</th>\n",
       "      <td>1934</td>\n",
       "      <td>29.116667</td>\n",
       "    </tr>\n",
       "    <tr>\n",
       "      <th>8</th>\n",
       "      <td>1935</td>\n",
       "      <td>23.816667</td>\n",
       "    </tr>\n",
       "    <tr>\n",
       "      <th>9</th>\n",
       "      <td>1936</td>\n",
       "      <td>53.016667</td>\n",
       "    </tr>\n",
       "    <tr>\n",
       "      <th>10</th>\n",
       "      <td>1937</td>\n",
       "      <td>78.416667</td>\n",
       "    </tr>\n",
       "    <tr>\n",
       "      <th>11</th>\n",
       "      <td>1938</td>\n",
       "      <td>86.883333</td>\n",
       "    </tr>\n",
       "    <tr>\n",
       "      <th>12</th>\n",
       "      <td>1939</td>\n",
       "      <td>8.750000</td>\n",
       "    </tr>\n",
       "    <tr>\n",
       "      <th>13</th>\n",
       "      <td>1940</td>\n",
       "      <td>141.600000</td>\n",
       "    </tr>\n",
       "    <tr>\n",
       "      <th>14</th>\n",
       "      <td>1941</td>\n",
       "      <td>234.283333</td>\n",
       "    </tr>\n",
       "    <tr>\n",
       "      <th>15</th>\n",
       "      <td>1942</td>\n",
       "      <td>242.700000</td>\n",
       "    </tr>\n",
       "    <tr>\n",
       "      <th>16</th>\n",
       "      <td>1943</td>\n",
       "      <td>139.666667</td>\n",
       "    </tr>\n",
       "    <tr>\n",
       "      <th>17</th>\n",
       "      <td>1944</td>\n",
       "      <td>263.700000</td>\n",
       "    </tr>\n",
       "    <tr>\n",
       "      <th>18</th>\n",
       "      <td>1945</td>\n",
       "      <td>280.733333</td>\n",
       "    </tr>\n",
       "    <tr>\n",
       "      <th>19</th>\n",
       "      <td>1946</td>\n",
       "      <td>501.683333</td>\n",
       "    </tr>\n",
       "    <tr>\n",
       "      <th>20</th>\n",
       "      <td>1947</td>\n",
       "      <td>732.616667</td>\n",
       "    </tr>\n",
       "    <tr>\n",
       "      <th>21</th>\n",
       "      <td>1948</td>\n",
       "      <td>771.250000</td>\n",
       "    </tr>\n",
       "    <tr>\n",
       "      <th>22</th>\n",
       "      <td>1949</td>\n",
       "      <td>878.516667</td>\n",
       "    </tr>\n",
       "    <tr>\n",
       "      <th>23</th>\n",
       "      <td>1950</td>\n",
       "      <td>887.266667</td>\n",
       "    </tr>\n",
       "    <tr>\n",
       "      <th>24</th>\n",
       "      <td>1951</td>\n",
       "      <td>1393.800000</td>\n",
       "    </tr>\n",
       "    <tr>\n",
       "      <th>25</th>\n",
       "      <td>1952</td>\n",
       "      <td>1478.750000</td>\n",
       "    </tr>\n",
       "    <tr>\n",
       "      <th>26</th>\n",
       "      <td>1996</td>\n",
       "      <td>8964.333333</td>\n",
       "    </tr>\n",
       "    <tr>\n",
       "      <th>27</th>\n",
       "      <td>1997</td>\n",
       "      <td>1430.150000</td>\n",
       "    </tr>\n",
       "    <tr>\n",
       "      <th>28</th>\n",
       "      <td>1998</td>\n",
       "      <td>627.216667</td>\n",
       "    </tr>\n",
       "    <tr>\n",
       "      <th>29</th>\n",
       "      <td>1999</td>\n",
       "      <td>460.766667</td>\n",
       "    </tr>\n",
       "    <tr>\n",
       "      <th>30</th>\n",
       "      <td>2000</td>\n",
       "      <td>495.916667</td>\n",
       "    </tr>\n",
       "    <tr>\n",
       "      <th>31</th>\n",
       "      <td>2001</td>\n",
       "      <td>39.566667</td>\n",
       "    </tr>\n",
       "  </tbody>\n",
       "</table>\n",
       "</div>"
      ],
      "text/plain": [
       "    birth_year  tripduration_minutes\n",
       "0         1886             40.433333\n",
       "1         1899             24.716667\n",
       "2         1900             36.666667\n",
       "3         1901             16.583333\n",
       "4         1910             13.450000\n",
       "5         1913             21.933333\n",
       "6         1917             32.216667\n",
       "7         1934             29.116667\n",
       "8         1935             23.816667\n",
       "9         1936             53.016667\n",
       "10        1937             78.416667\n",
       "11        1938             86.883333\n",
       "12        1939              8.750000\n",
       "13        1940            141.600000\n",
       "14        1941            234.283333\n",
       "15        1942            242.700000\n",
       "16        1943            139.666667\n",
       "17        1944            263.700000\n",
       "18        1945            280.733333\n",
       "19        1946            501.683333\n",
       "20        1947            732.616667\n",
       "21        1948            771.250000\n",
       "22        1949            878.516667\n",
       "23        1950            887.266667\n",
       "24        1951           1393.800000\n",
       "25        1952           1478.750000\n",
       "26        1996           8964.333333\n",
       "27        1997           1430.150000\n",
       "28        1998            627.216667\n",
       "29        1999            460.766667\n",
       "30        2000            495.916667\n",
       "31        2001             39.566667"
      ]
     },
     "execution_count": 63,
     "metadata": {},
     "output_type": "execute_result"
    }
   ],
   "source": [
    "df_agg_2 = df_new.groupby('birth_year')['tripduration_minutes'].sum().reset_index()\n",
    "df_agg_2"
   ]
  },
  {
   "cell_type": "code",
   "execution_count": 64,
   "id": "a5323619",
   "metadata": {},
   "outputs": [
    {
     "data": {
      "application/vnd.plotly.v1+json": {
       "config": {
        "plotlyServerURL": "https://plot.ly"
       },
       "data": [
        {
         "hovertemplate": "birth_year=%{x}<br>tripduration_minutes=%{y}<extra></extra>",
         "legendgroup": "",
         "marker": {
          "color": "#636efa",
          "pattern": {
           "shape": ""
          }
         },
         "name": "",
         "orientation": "v",
         "showlegend": false,
         "textposition": "auto",
         "type": "bar",
         "x": {
          "bdata": "XgdrB2wHbQd2B3kHfQeOB48HkAeRB5IHkweUB5UHlgeXB5gHmQeaB5sHnAedB54HnwegB8wHzQfOB88H0AfRBw==",
          "dtype": "i2"
         },
         "xaxis": "x",
         "y": {
          "bdata": "d3d3d3c3REB4d3d3d7c4QFZVVVVVVUJAVVVVVVWVMEBmZmZmZuYqQO/u7u7u7jVAvLu7u7sbQEDe3d3d3R09QBIRERER0TdAIiIiIiKCSkCrqqqqqppTQIiIiIiIuFVAAAAAAACAIUAzMzMzM7NhQBERERERSW1AZmZmZmZWbkBVVVVVVXVhQDMzMzMze3BAvLu7u7uLcUDv7u7u7lp/QO/u7u7u5IZAAAAAAAAaiEAiIiIiInSLQCIiIiIiuotAMzMzMzPHlUAAAAAAABuXQKuqqqoqgsFAmZmZmZlYlkC8u7u7u5mDQEREREREzHxAq6qqqqr+fkCIiIiIiMhDQA==",
          "dtype": "f8"
         },
         "yaxis": "y"
        }
       ],
       "layout": {
        "barmode": "relative",
        "height": 500,
        "legend": {
         "tracegroupgap": 0
        },
        "template": {
         "data": {
          "bar": [
           {
            "error_x": {
             "color": "#2a3f5f"
            },
            "error_y": {
             "color": "#2a3f5f"
            },
            "marker": {
             "line": {
              "color": "#E5ECF6",
              "width": 0.5
             },
             "pattern": {
              "fillmode": "overlay",
              "size": 10,
              "solidity": 0.2
             }
            },
            "type": "bar"
           }
          ],
          "barpolar": [
           {
            "marker": {
             "line": {
              "color": "#E5ECF6",
              "width": 0.5
             },
             "pattern": {
              "fillmode": "overlay",
              "size": 10,
              "solidity": 0.2
             }
            },
            "type": "barpolar"
           }
          ],
          "carpet": [
           {
            "aaxis": {
             "endlinecolor": "#2a3f5f",
             "gridcolor": "white",
             "linecolor": "white",
             "minorgridcolor": "white",
             "startlinecolor": "#2a3f5f"
            },
            "baxis": {
             "endlinecolor": "#2a3f5f",
             "gridcolor": "white",
             "linecolor": "white",
             "minorgridcolor": "white",
             "startlinecolor": "#2a3f5f"
            },
            "type": "carpet"
           }
          ],
          "choropleth": [
           {
            "colorbar": {
             "outlinewidth": 0,
             "ticks": ""
            },
            "type": "choropleth"
           }
          ],
          "contour": [
           {
            "colorbar": {
             "outlinewidth": 0,
             "ticks": ""
            },
            "colorscale": [
             [
              0,
              "#0d0887"
             ],
             [
              0.1111111111111111,
              "#46039f"
             ],
             [
              0.2222222222222222,
              "#7201a8"
             ],
             [
              0.3333333333333333,
              "#9c179e"
             ],
             [
              0.4444444444444444,
              "#bd3786"
             ],
             [
              0.5555555555555556,
              "#d8576b"
             ],
             [
              0.6666666666666666,
              "#ed7953"
             ],
             [
              0.7777777777777778,
              "#fb9f3a"
             ],
             [
              0.8888888888888888,
              "#fdca26"
             ],
             [
              1,
              "#f0f921"
             ]
            ],
            "type": "contour"
           }
          ],
          "contourcarpet": [
           {
            "colorbar": {
             "outlinewidth": 0,
             "ticks": ""
            },
            "type": "contourcarpet"
           }
          ],
          "heatmap": [
           {
            "colorbar": {
             "outlinewidth": 0,
             "ticks": ""
            },
            "colorscale": [
             [
              0,
              "#0d0887"
             ],
             [
              0.1111111111111111,
              "#46039f"
             ],
             [
              0.2222222222222222,
              "#7201a8"
             ],
             [
              0.3333333333333333,
              "#9c179e"
             ],
             [
              0.4444444444444444,
              "#bd3786"
             ],
             [
              0.5555555555555556,
              "#d8576b"
             ],
             [
              0.6666666666666666,
              "#ed7953"
             ],
             [
              0.7777777777777778,
              "#fb9f3a"
             ],
             [
              0.8888888888888888,
              "#fdca26"
             ],
             [
              1,
              "#f0f921"
             ]
            ],
            "type": "heatmap"
           }
          ],
          "histogram": [
           {
            "marker": {
             "pattern": {
              "fillmode": "overlay",
              "size": 10,
              "solidity": 0.2
             }
            },
            "type": "histogram"
           }
          ],
          "histogram2d": [
           {
            "colorbar": {
             "outlinewidth": 0,
             "ticks": ""
            },
            "colorscale": [
             [
              0,
              "#0d0887"
             ],
             [
              0.1111111111111111,
              "#46039f"
             ],
             [
              0.2222222222222222,
              "#7201a8"
             ],
             [
              0.3333333333333333,
              "#9c179e"
             ],
             [
              0.4444444444444444,
              "#bd3786"
             ],
             [
              0.5555555555555556,
              "#d8576b"
             ],
             [
              0.6666666666666666,
              "#ed7953"
             ],
             [
              0.7777777777777778,
              "#fb9f3a"
             ],
             [
              0.8888888888888888,
              "#fdca26"
             ],
             [
              1,
              "#f0f921"
             ]
            ],
            "type": "histogram2d"
           }
          ],
          "histogram2dcontour": [
           {
            "colorbar": {
             "outlinewidth": 0,
             "ticks": ""
            },
            "colorscale": [
             [
              0,
              "#0d0887"
             ],
             [
              0.1111111111111111,
              "#46039f"
             ],
             [
              0.2222222222222222,
              "#7201a8"
             ],
             [
              0.3333333333333333,
              "#9c179e"
             ],
             [
              0.4444444444444444,
              "#bd3786"
             ],
             [
              0.5555555555555556,
              "#d8576b"
             ],
             [
              0.6666666666666666,
              "#ed7953"
             ],
             [
              0.7777777777777778,
              "#fb9f3a"
             ],
             [
              0.8888888888888888,
              "#fdca26"
             ],
             [
              1,
              "#f0f921"
             ]
            ],
            "type": "histogram2dcontour"
           }
          ],
          "mesh3d": [
           {
            "colorbar": {
             "outlinewidth": 0,
             "ticks": ""
            },
            "type": "mesh3d"
           }
          ],
          "parcoords": [
           {
            "line": {
             "colorbar": {
              "outlinewidth": 0,
              "ticks": ""
             }
            },
            "type": "parcoords"
           }
          ],
          "pie": [
           {
            "automargin": true,
            "type": "pie"
           }
          ],
          "scatter": [
           {
            "fillpattern": {
             "fillmode": "overlay",
             "size": 10,
             "solidity": 0.2
            },
            "type": "scatter"
           }
          ],
          "scatter3d": [
           {
            "line": {
             "colorbar": {
              "outlinewidth": 0,
              "ticks": ""
             }
            },
            "marker": {
             "colorbar": {
              "outlinewidth": 0,
              "ticks": ""
             }
            },
            "type": "scatter3d"
           }
          ],
          "scattercarpet": [
           {
            "marker": {
             "colorbar": {
              "outlinewidth": 0,
              "ticks": ""
             }
            },
            "type": "scattercarpet"
           }
          ],
          "scattergeo": [
           {
            "marker": {
             "colorbar": {
              "outlinewidth": 0,
              "ticks": ""
             }
            },
            "type": "scattergeo"
           }
          ],
          "scattergl": [
           {
            "marker": {
             "colorbar": {
              "outlinewidth": 0,
              "ticks": ""
             }
            },
            "type": "scattergl"
           }
          ],
          "scattermap": [
           {
            "marker": {
             "colorbar": {
              "outlinewidth": 0,
              "ticks": ""
             }
            },
            "type": "scattermap"
           }
          ],
          "scattermapbox": [
           {
            "marker": {
             "colorbar": {
              "outlinewidth": 0,
              "ticks": ""
             }
            },
            "type": "scattermapbox"
           }
          ],
          "scatterpolar": [
           {
            "marker": {
             "colorbar": {
              "outlinewidth": 0,
              "ticks": ""
             }
            },
            "type": "scatterpolar"
           }
          ],
          "scatterpolargl": [
           {
            "marker": {
             "colorbar": {
              "outlinewidth": 0,
              "ticks": ""
             }
            },
            "type": "scatterpolargl"
           }
          ],
          "scatterternary": [
           {
            "marker": {
             "colorbar": {
              "outlinewidth": 0,
              "ticks": ""
             }
            },
            "type": "scatterternary"
           }
          ],
          "surface": [
           {
            "colorbar": {
             "outlinewidth": 0,
             "ticks": ""
            },
            "colorscale": [
             [
              0,
              "#0d0887"
             ],
             [
              0.1111111111111111,
              "#46039f"
             ],
             [
              0.2222222222222222,
              "#7201a8"
             ],
             [
              0.3333333333333333,
              "#9c179e"
             ],
             [
              0.4444444444444444,
              "#bd3786"
             ],
             [
              0.5555555555555556,
              "#d8576b"
             ],
             [
              0.6666666666666666,
              "#ed7953"
             ],
             [
              0.7777777777777778,
              "#fb9f3a"
             ],
             [
              0.8888888888888888,
              "#fdca26"
             ],
             [
              1,
              "#f0f921"
             ]
            ],
            "type": "surface"
           }
          ],
          "table": [
           {
            "cells": {
             "fill": {
              "color": "#EBF0F8"
             },
             "line": {
              "color": "white"
             }
            },
            "header": {
             "fill": {
              "color": "#C8D4E3"
             },
             "line": {
              "color": "white"
             }
            },
            "type": "table"
           }
          ]
         },
         "layout": {
          "annotationdefaults": {
           "arrowcolor": "#2a3f5f",
           "arrowhead": 0,
           "arrowwidth": 1
          },
          "autotypenumbers": "strict",
          "coloraxis": {
           "colorbar": {
            "outlinewidth": 0,
            "ticks": ""
           }
          },
          "colorscale": {
           "diverging": [
            [
             0,
             "#8e0152"
            ],
            [
             0.1,
             "#c51b7d"
            ],
            [
             0.2,
             "#de77ae"
            ],
            [
             0.3,
             "#f1b6da"
            ],
            [
             0.4,
             "#fde0ef"
            ],
            [
             0.5,
             "#f7f7f7"
            ],
            [
             0.6,
             "#e6f5d0"
            ],
            [
             0.7,
             "#b8e186"
            ],
            [
             0.8,
             "#7fbc41"
            ],
            [
             0.9,
             "#4d9221"
            ],
            [
             1,
             "#276419"
            ]
           ],
           "sequential": [
            [
             0,
             "#0d0887"
            ],
            [
             0.1111111111111111,
             "#46039f"
            ],
            [
             0.2222222222222222,
             "#7201a8"
            ],
            [
             0.3333333333333333,
             "#9c179e"
            ],
            [
             0.4444444444444444,
             "#bd3786"
            ],
            [
             0.5555555555555556,
             "#d8576b"
            ],
            [
             0.6666666666666666,
             "#ed7953"
            ],
            [
             0.7777777777777778,
             "#fb9f3a"
            ],
            [
             0.8888888888888888,
             "#fdca26"
            ],
            [
             1,
             "#f0f921"
            ]
           ],
           "sequentialminus": [
            [
             0,
             "#0d0887"
            ],
            [
             0.1111111111111111,
             "#46039f"
            ],
            [
             0.2222222222222222,
             "#7201a8"
            ],
            [
             0.3333333333333333,
             "#9c179e"
            ],
            [
             0.4444444444444444,
             "#bd3786"
            ],
            [
             0.5555555555555556,
             "#d8576b"
            ],
            [
             0.6666666666666666,
             "#ed7953"
            ],
            [
             0.7777777777777778,
             "#fb9f3a"
            ],
            [
             0.8888888888888888,
             "#fdca26"
            ],
            [
             1,
             "#f0f921"
            ]
           ]
          },
          "colorway": [
           "#636efa",
           "#EF553B",
           "#00cc96",
           "#ab63fa",
           "#FFA15A",
           "#19d3f3",
           "#FF6692",
           "#B6E880",
           "#FF97FF",
           "#FECB52"
          ],
          "font": {
           "color": "#2a3f5f"
          },
          "geo": {
           "bgcolor": "white",
           "lakecolor": "white",
           "landcolor": "#E5ECF6",
           "showlakes": true,
           "showland": true,
           "subunitcolor": "white"
          },
          "hoverlabel": {
           "align": "left"
          },
          "hovermode": "closest",
          "mapbox": {
           "style": "light"
          },
          "paper_bgcolor": "white",
          "plot_bgcolor": "#E5ECF6",
          "polar": {
           "angularaxis": {
            "gridcolor": "white",
            "linecolor": "white",
            "ticks": ""
           },
           "bgcolor": "#E5ECF6",
           "radialaxis": {
            "gridcolor": "white",
            "linecolor": "white",
            "ticks": ""
           }
          },
          "scene": {
           "xaxis": {
            "backgroundcolor": "#E5ECF6",
            "gridcolor": "white",
            "gridwidth": 2,
            "linecolor": "white",
            "showbackground": true,
            "ticks": "",
            "zerolinecolor": "white"
           },
           "yaxis": {
            "backgroundcolor": "#E5ECF6",
            "gridcolor": "white",
            "gridwidth": 2,
            "linecolor": "white",
            "showbackground": true,
            "ticks": "",
            "zerolinecolor": "white"
           },
           "zaxis": {
            "backgroundcolor": "#E5ECF6",
            "gridcolor": "white",
            "gridwidth": 2,
            "linecolor": "white",
            "showbackground": true,
            "ticks": "",
            "zerolinecolor": "white"
           }
          },
          "shapedefaults": {
           "line": {
            "color": "#2a3f5f"
           }
          },
          "ternary": {
           "aaxis": {
            "gridcolor": "white",
            "linecolor": "white",
            "ticks": ""
           },
           "baxis": {
            "gridcolor": "white",
            "linecolor": "white",
            "ticks": ""
           },
           "bgcolor": "#E5ECF6",
           "caxis": {
            "gridcolor": "white",
            "linecolor": "white",
            "ticks": ""
           }
          },
          "title": {
           "x": 0.05
          },
          "xaxis": {
           "automargin": true,
           "gridcolor": "white",
           "linecolor": "white",
           "ticks": "",
           "title": {
            "standoff": 15
           },
           "zerolinecolor": "white",
           "zerolinewidth": 2
          },
          "yaxis": {
           "automargin": true,
           "gridcolor": "white",
           "linecolor": "white",
           "ticks": "",
           "title": {
            "standoff": 15
           },
           "zerolinecolor": "white",
           "zerolinewidth": 2
          }
         }
        },
        "title": {
         "text": "Birth year vs trip duration"
        },
        "xaxis": {
         "anchor": "y",
         "domain": [
          0,
          1
         ],
         "title": {
          "text": "birth_year"
         }
        },
        "yaxis": {
         "anchor": "x",
         "domain": [
          0,
          1
         ],
         "title": {
          "text": "tripduration_minutes"
         }
        }
       }
      }
     },
     "metadata": {},
     "output_type": "display_data"
    }
   ],
   "source": [
    "fig = px.bar(data_frame=df_agg_2\n",
    "              , x='birth_year'\n",
    "              , y='tripduration_minutes'\n",
    "              , height=500\n",
    "              , title=\"Birth year vs trip duration\"\n",
    "              #,color='birth_year'\n",
    "              )\n",
    "fig.show()"
   ]
  },
  {
   "cell_type": "code",
   "execution_count": null,
   "id": "e145aab1",
   "metadata": {},
   "outputs": [],
   "source": []
  }
 ],
 "metadata": {
  "kernelspec": {
   "display_name": "base",
   "language": "python",
   "name": "python3"
  },
  "language_info": {
   "codemirror_mode": {
    "name": "ipython",
    "version": 3
   },
   "file_extension": ".py",
   "mimetype": "text/x-python",
   "name": "python",
   "nbconvert_exporter": "python",
   "pygments_lexer": "ipython3",
   "version": "3.12.3"
  }
 },
 "nbformat": 4,
 "nbformat_minor": 5
}
